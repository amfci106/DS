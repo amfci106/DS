{
 "cells": [
  {
   "cell_type": "code",
   "execution_count": 3,
   "metadata": {
    "ExecuteTime": {
     "end_time": "2020-06-14T18:19:19.214900Z",
     "start_time": "2020-06-14T18:19:19.203916Z"
    }
   },
   "outputs": [],
   "source": [
    "import pandas as pd \n",
    "import matplotlib.pyplot as plt \n",
    "import matplotlib.dates as mdt\n",
    "import altair as alt\n",
    "import seaborn as sns\n",
    "import datetime as dt\n",
    "from datetime import date\n",
    "import numpy as np\n",
    "\n",
    "\n",
    "from nbconvert import HTMLExporter\n",
    "import codecs\n",
    "import os\n",
    "import datetime\n",
    "\n",
    "from pandas.plotting import register_matplotlib_converters\n",
    "register_matplotlib_converters()\n",
    "\n",
    "pd.set_option('display.max_rows',100)\n",
    "%matplotlib inline"
   ]
  },
  {
   "cell_type": "code",
   "execution_count": 4,
   "metadata": {
    "ExecuteTime": {
     "end_time": "2020-06-14T18:24:49.681759Z",
     "start_time": "2020-06-14T18:19:43.330710Z"
    }
   },
   "outputs": [
    {
     "name": "stderr",
     "output_type": "stream",
     "text": [
      "C:\\ProgramData\\Anaconda3\\lib\\site-packages\\ipykernel_launcher.py:24: DtypeWarning: Columns (4) have mixed types. Specify dtype option on import or set low_memory=False.\n"
     ]
    },
    {
     "name": "stdout",
     "output_type": "stream",
     "text": [
      "Wall time: 5min 6s\n"
     ]
    }
   ],
   "source": [
    "%%time\n",
    "DF_columns = ['DepDate','ArrDate','CrossingDate','Carrier','Flight','Direction','DepPort','ArrPort','DepCountry','ArrCountry','Gender','BD','Nationality','CrossingLoc','Exp_MVMT_FS','Exp_MVMT_Event','UNK_FS']\n",
    "\n",
    "Months_list = ['../data/TRV_ETL_JAN_2019.csv.gz',\n",
    "               '../data/TRV_ETL_FEB_2019.csv.gz',\n",
    "               '../data/TRV_ETL_MAR_2019.csv.gz',\n",
    "               '../data/TRV_ETL_APR_2019.csv.gz',\n",
    "               '../data/TRV_ETL_MAY_2019.csv.gz',\n",
    "               '../data/TRV_ETL_JUN_2019.csv.gz',\n",
    "               '../data/TRV_ETL_JUL_2019.csv.gz',\n",
    "               '../data/TRV_ETL_AUG_2019.csv.gz',\n",
    "               '../data/TRV_ETL_SEP_2019.csv.gz',\n",
    "               '../data/TRV_ETL_OCT_2019.csv.gz',\n",
    "               '../data/TRV_ETL_NOV_2019.csv.gz',\n",
    "               '../data/TRV_ETL_DEC_2019.csv.gz']\n",
    "\n",
    "dtypes = {'Direction': 'category',\n",
    "#           'Carrier': 'category',\n",
    "#           'DepPort': 'category',\n",
    "#           'ArrPort': 'category',\n",
    "#           'DepCountry': 'category', \n",
    "#           'ArrCountry': 'category',\n",
    "          'Gender': 'category'}\n",
    "\n",
    "pax_2019 = pd.concat((pd.read_csv(file_id,names=DF_columns, dtype = dtypes) for file_id in Months_list ),ignore_index=True  )\n",
    "\n",
    "pax_2019.dropna(subset=['DepDate','ArrDate','BD','CrossingDate'],inplace=True)\n",
    "\n",
    "pax_2019['DepDate'] = pd.to_datetime(pax_2019['DepDate'])\n",
    "pax_2019['ArrDate'] = pd.to_datetime(pax_2019['ArrDate'])\n",
    "pax_2019['BD'] = pd.to_datetime(pax_2019['BD'])\n",
    "\n",
    "# Drop CrossingTime Column as it will not be needed in that verion on the stats\n",
    "pax_2019.drop(columns=['CrossingDate'],inplace=True)"
   ]
  },
  {
   "cell_type": "code",
   "execution_count": 5,
   "metadata": {
    "ExecuteTime": {
     "end_time": "2020-06-14T18:25:47.058284Z",
     "start_time": "2020-06-14T18:25:21.440783Z"
    }
   },
   "outputs": [
    {
     "name": "stdout",
     "output_type": "stream",
     "text": [
      "Wall time: 25.6 s\n"
     ]
    }
   ],
   "source": [
    "# Convert the categorical columns to category data type to reduce the memory usage \n",
    "%%time\n",
    "pax_2019['Carrier'] = pax_2019['Carrier'].astype('category')\n",
    "pax_2019['DepPort'] = pax_2019['DepPort'].astype('category')\n",
    "pax_2019['ArrPort'] = pax_2019['ArrPort'].astype('category')\n",
    "pax_2019['Nationality'] = pax_2019['Nationality'].astype('category')\n",
    "pax_2019['CrossingLoc'] = pax_2019['CrossingLoc'].astype('category')\n",
    "pax_2019['DepCountry'] = pax_2019['DepCountry'].astype('category')\n",
    "pax_2019['ArrCountry'] = pax_2019['ArrCountry'].astype('category')\n",
    "pax_2019['Direction'] = pax_2019['Direction'].astype('category')\n",
    "pax_2019['Gender'] = pax_2019['Gender'].astype('category')"
   ]
  },
  {
   "cell_type": "code",
   "execution_count": 17,
   "metadata": {
    "ExecuteTime": {
     "end_time": "2020-06-14T15:36:30.959223Z",
     "start_time": "2020-06-14T15:36:30.953257Z"
    }
   },
   "outputs": [
    {
     "data": {
      "text/plain": [
       "(47030656, 17)"
      ]
     },
     "execution_count": 17,
     "metadata": {},
     "output_type": "execute_result"
    }
   ],
   "source": [
    "pax_2019.shape"
   ]
  },
  {
   "cell_type": "code",
   "execution_count": 325,
   "metadata": {
    "ExecuteTime": {
     "end_time": "2020-06-19T00:12:58.028487Z",
     "start_time": "2020-06-19T00:12:57.664461Z"
    },
    "scrolled": true
   },
   "outputs": [],
   "source": [
    "# Convert the movement indicator flags to Category data type to save memory \n",
    "pax_2019['UNK_FS'].fillna(value=1,inplace=True)\n",
    "\n",
    "pax_2019['Exp_MVMT_FS'] = pax_2019['Exp_MVMT_FS'].astype('int8')\n",
    "pax_2019['Exp_MVMT_Event'] = pax_2019['Exp_MVMT_Event'].astype('int8')\n",
    "pax_2019['UNK_FS'] = pax_2019['UNK_FS'].astype('int8')"
   ]
  },
  {
   "cell_type": "code",
   "execution_count": 34,
   "metadata": {
    "ExecuteTime": {
     "end_time": "2020-06-14T15:52:09.001876Z",
     "start_time": "2020-06-14T15:51:39.245397Z"
    }
   },
   "outputs": [
    {
     "name": "stdout",
     "output_type": "stream",
     "text": [
      "<class 'pandas.core.frame.DataFrame'>\n",
      "Int64Index: 47030656 entries, 0 to 47282819\n",
      "Data columns (total 17 columns):\n",
      "DepDate           datetime64[ns]\n",
      "ArrDate           datetime64[ns]\n",
      "CrossingDate      datetime64[ns]\n",
      "Carrier           category\n",
      "Flight            object\n",
      "Direction         category\n",
      "DepPort           category\n",
      "ArrPort           category\n",
      "DepCountry        category\n",
      "ArrCountry        category\n",
      "Gender            category\n",
      "BD                datetime64[ns]\n",
      "Nationality       category\n",
      "CrossingLoc       category\n",
      "Exp_MVMT_FS       int32\n",
      "Exp_MVMT_Event    int32\n",
      "UNK_FS            int32\n",
      "dtypes: category(9), datetime64[ns](4), int32(3), object(1)\n",
      "memory usage: 5.5 GB\n"
     ]
    }
   ],
   "source": [
    "# Check the DF size \n",
    "pax_2019.info(memory_usage='deep')"
   ]
  },
  {
   "cell_type": "code",
   "execution_count": 7,
   "metadata": {
    "ExecuteTime": {
     "end_time": "2020-06-14T18:59:10.549261Z",
     "start_time": "2020-06-14T18:59:10.542314Z"
    }
   },
   "outputs": [],
   "source": [
    "\"\"\" To calculate the age based on the Birth Date \"\"\"\n",
    "\n",
    "def calculate_age(born):\n",
    "    today = date.today()\n",
    "    try: \n",
    "        birthday = born.replace(year=today.year)\n",
    "    except ValueError: # raised when birth date is February 29 and the current year is not a leap year\n",
    "        birthday = born.replace(year=today.year, month=born.month+1, day=1)\n",
    "    if birthday > today:\n",
    "        return today.year - born.year - 1\n",
    "    else:\n",
    "        return today.year - born.year"
   ]
  },
  {
   "cell_type": "code",
   "execution_count": 8,
   "metadata": {
    "ExecuteTime": {
     "end_time": "2020-06-14T19:06:24.261603Z",
     "start_time": "2020-06-14T19:00:37.805842Z"
    }
   },
   "outputs": [
    {
     "name": "stdout",
     "output_type": "stream",
     "text": [
      "Wall time: 5min 46s\n"
     ]
    }
   ],
   "source": [
    "# Add a new column for Age based on Birth Date\n",
    "%%time\n",
    "pax_2019['Age'] = pax_2019['BD'].apply(calculate_age).astype('int8')"
   ]
  },
  {
   "cell_type": "code",
   "execution_count": 319,
   "metadata": {
    "ExecuteTime": {
     "end_time": "2020-06-19T00:02:25.450849Z",
     "start_time": "2020-06-19T00:02:05.877196Z"
    }
   },
   "outputs": [],
   "source": [
    "# Delete the data before and after 2019\n",
    "pax_2019 = pax_2019[pax_2019['DepDate'] <= '2020-01-01']\n",
    "pax_2019 = pax_2019[pax_2019['DepDate'] >= '2018-12-31']\n",
    "\n",
    "pax_2019.drop(columns=['BD'],inplace=True)\n",
    "\n",
    "pax_2019['DepDay'] = pax_2019['DepDate'].dt.date.astype('category')"
   ]
  },
  {
   "cell_type": "code",
   "execution_count": null,
   "metadata": {},
   "outputs": [],
   "source": [
    "%%time\n",
    "pax_2019.to_pickle('./pax_trv.pkl',compression={'gzip'})"
   ]
  },
  {
   "cell_type": "code",
   "execution_count": 357,
   "metadata": {
    "ExecuteTime": {
     "end_time": "2020-06-19T00:30:19.084333Z",
     "start_time": "2020-06-19T00:30:19.073344Z"
    }
   },
   "outputs": [],
   "source": [
    "trv_per_day['DepDay'] = trv_per_day['DepDay'].astype(str)\n",
    "\n",
    "trv_per_day['DepDay'] = pd.to_datetime(trv_per_day['DepDay'])"
   ]
  },
  {
   "cell_type": "code",
   "execution_count": 412,
   "metadata": {
    "ExecuteTime": {
     "end_time": "2020-06-19T01:32:58.007587Z",
     "start_time": "2020-06-19T01:32:58.002592Z"
    }
   },
   "outputs": [],
   "source": [
    "trv_per_day.rename({'Nationality':'Count'},axis=1,inplace=True)"
   ]
  },
  {
   "cell_type": "code",
   "execution_count": 413,
   "metadata": {
    "ExecuteTime": {
     "end_time": "2020-06-19T01:33:00.515738Z",
     "start_time": "2020-06-19T01:33:00.498780Z"
    }
   },
   "outputs": [
    {
     "data": {
      "text/html": [
       "<div>\n",
       "<style scoped>\n",
       "    .dataframe tbody tr th:only-of-type {\n",
       "        vertical-align: middle;\n",
       "    }\n",
       "\n",
       "    .dataframe tbody tr th {\n",
       "        vertical-align: top;\n",
       "    }\n",
       "\n",
       "    .dataframe thead th {\n",
       "        text-align: right;\n",
       "    }\n",
       "</style>\n",
       "<table border=\"1\" class=\"dataframe\">\n",
       "  <thead>\n",
       "    <tr style=\"text-align: right;\">\n",
       "      <th></th>\n",
       "      <th>DepDay</th>\n",
       "      <th>Direction</th>\n",
       "      <th>Gender</th>\n",
       "      <th>Count</th>\n",
       "    </tr>\n",
       "  </thead>\n",
       "  <tbody>\n",
       "    <tr>\n",
       "      <td>0</td>\n",
       "      <td>2018-12-30</td>\n",
       "      <td>I</td>\n",
       "      <td>M</td>\n",
       "      <td>1</td>\n",
       "    </tr>\n",
       "    <tr>\n",
       "      <td>1</td>\n",
       "      <td>2018-12-31</td>\n",
       "      <td>I</td>\n",
       "      <td>F</td>\n",
       "      <td>4620</td>\n",
       "    </tr>\n",
       "    <tr>\n",
       "      <td>2</td>\n",
       "      <td>2018-12-31</td>\n",
       "      <td>I</td>\n",
       "      <td>M</td>\n",
       "      <td>6614</td>\n",
       "    </tr>\n",
       "    <tr>\n",
       "      <td>3</td>\n",
       "      <td>2018-12-31</td>\n",
       "      <td>I</td>\n",
       "      <td>U</td>\n",
       "      <td>9</td>\n",
       "    </tr>\n",
       "    <tr>\n",
       "      <td>4</td>\n",
       "      <td>2018-12-31</td>\n",
       "      <td>O</td>\n",
       "      <td>F</td>\n",
       "      <td>113</td>\n",
       "    </tr>\n",
       "    <tr>\n",
       "      <td>...</td>\n",
       "      <td>...</td>\n",
       "      <td>...</td>\n",
       "      <td>...</td>\n",
       "      <td>...</td>\n",
       "    </tr>\n",
       "    <tr>\n",
       "      <td>2191</td>\n",
       "      <td>2019-12-31</td>\n",
       "      <td>I</td>\n",
       "      <td>M</td>\n",
       "      <td>30828</td>\n",
       "    </tr>\n",
       "    <tr>\n",
       "      <td>2192</td>\n",
       "      <td>2019-12-31</td>\n",
       "      <td>I</td>\n",
       "      <td>U</td>\n",
       "      <td>55</td>\n",
       "    </tr>\n",
       "    <tr>\n",
       "      <td>2193</td>\n",
       "      <td>2019-12-31</td>\n",
       "      <td>O</td>\n",
       "      <td>F</td>\n",
       "      <td>39453</td>\n",
       "    </tr>\n",
       "    <tr>\n",
       "      <td>2194</td>\n",
       "      <td>2019-12-31</td>\n",
       "      <td>O</td>\n",
       "      <td>M</td>\n",
       "      <td>51198</td>\n",
       "    </tr>\n",
       "    <tr>\n",
       "      <td>2195</td>\n",
       "      <td>2019-12-31</td>\n",
       "      <td>O</td>\n",
       "      <td>U</td>\n",
       "      <td>21</td>\n",
       "    </tr>\n",
       "  </tbody>\n",
       "</table>\n",
       "<p>2196 rows × 4 columns</p>\n",
       "</div>"
      ],
      "text/plain": [
       "         DepDay Direction Gender  Count\n",
       "0    2018-12-30         I      M      1\n",
       "1    2018-12-31         I      F   4620\n",
       "2    2018-12-31         I      M   6614\n",
       "3    2018-12-31         I      U      9\n",
       "4    2018-12-31         O      F    113\n",
       "...         ...       ...    ...    ...\n",
       "2191 2019-12-31         I      M  30828\n",
       "2192 2019-12-31         I      U     55\n",
       "2193 2019-12-31         O      F  39453\n",
       "2194 2019-12-31         O      M  51198\n",
       "2195 2019-12-31         O      U     21\n",
       "\n",
       "[2196 rows x 4 columns]"
      ]
     },
     "execution_count": 413,
     "metadata": {},
     "output_type": "execute_result"
    }
   ],
   "source": [
    "trv_per_day"
   ]
  },
  {
   "cell_type": "code",
   "execution_count": 414,
   "metadata": {
    "ExecuteTime": {
     "end_time": "2020-06-19T01:33:09.244379Z",
     "start_time": "2020-06-19T01:33:09.174530Z"
    }
   },
   "outputs": [
    {
     "data": {
      "text/html": [
       "\n",
       "<div id=\"altair-viz-d540d92cd7d14f29acd7d3e06ad1624e\"></div>\n",
       "<script type=\"text/javascript\">\n",
       "  (function(spec, embedOpt){\n",
       "    let outputDiv = document.currentScript.previousElementSibling;\n",
       "    if (outputDiv.id !== \"altair-viz-d540d92cd7d14f29acd7d3e06ad1624e\") {\n",
       "      outputDiv = document.getElementById(\"altair-viz-d540d92cd7d14f29acd7d3e06ad1624e\");\n",
       "    }\n",
       "    const paths = {\n",
       "      \"vega\": \"https://cdn.jsdelivr.net/npm//vega@5?noext\",\n",
       "      \"vega-lib\": \"https://cdn.jsdelivr.net/npm//vega-lib?noext\",\n",
       "      \"vega-lite\": \"https://cdn.jsdelivr.net/npm//vega-lite@4.8.1?noext\",\n",
       "      \"vega-embed\": \"https://cdn.jsdelivr.net/npm//vega-embed@6?noext\",\n",
       "    };\n",
       "\n",
       "    function loadScript(lib) {\n",
       "      return new Promise(function(resolve, reject) {\n",
       "        var s = document.createElement('script');\n",
       "        s.src = paths[lib];\n",
       "        s.async = true;\n",
       "        s.onload = () => resolve(paths[lib]);\n",
       "        s.onerror = () => reject(`Error loading script: ${paths[lib]}`);\n",
       "        document.getElementsByTagName(\"head\")[0].appendChild(s);\n",
       "      });\n",
       "    }\n",
       "\n",
       "    function showError(err) {\n",
       "      outputDiv.innerHTML = `<div class=\"error\" style=\"color:red;\">${err}</div>`;\n",
       "      throw err;\n",
       "    }\n",
       "\n",
       "    function displayChart(vegaEmbed) {\n",
       "      vegaEmbed(outputDiv, spec, embedOpt)\n",
       "        .catch(err => showError(`Javascript Error: ${err.message}<br>This usually means there's a typo in your chart specification. See the javascript console for the full traceback.`));\n",
       "    }\n",
       "\n",
       "    if(typeof define === \"function\" && define.amd) {\n",
       "      requirejs.config({paths});\n",
       "      require([\"vega-embed\"], displayChart, err => showError(`Error loading script: ${err.message}`));\n",
       "    } else if (typeof vegaEmbed === \"function\") {\n",
       "      displayChart(vegaEmbed);\n",
       "    } else {\n",
       "      loadScript(\"vega\")\n",
       "        .then(() => loadScript(\"vega-lite\"))\n",
       "        .then(() => loadScript(\"vega-embed\"))\n",
       "        .catch(showError)\n",
       "        .then(() => displayChart(vegaEmbed));\n",
       "    }\n",
       "  })({\"config\": {\"view\": {\"continuousWidth\": 400, \"continuousHeight\": 300}}, \"data\": {\"name\": \"data-23e464d72840190b6120aefe4580c725\"}, \"mark\": \"circle\", \"encoding\": {\"color\": {\"type\": \"nominal\", \"field\": \"Direction\"}, \"size\": {\"type\": \"quantitative\", \"field\": \"Count\", \"legend\": {\"title\": \"Trav Count\"}, \"scale\": {\"range\": [1, 250]}}, \"x\": {\"type\": \"temporal\", \"field\": \"DepDay\"}, \"y\": {\"type\": \"quantitative\", \"field\": \"Count\"}}, \"height\": 450, \"width\": 800, \"$schema\": \"https://vega.github.io/schema/vega-lite/v4.8.1.json\", \"datasets\": {\"data-23e464d72840190b6120aefe4580c725\": [{\"DepDay\": \"2018-12-30T00:00:00\", \"Direction\": \"I\", \"Gender\": \"M\", \"Count\": 1}, {\"DepDay\": \"2018-12-31T00:00:00\", \"Direction\": \"I\", \"Gender\": \"F\", \"Count\": 4620}, {\"DepDay\": \"2018-12-31T00:00:00\", \"Direction\": \"I\", \"Gender\": \"M\", \"Count\": 6614}, {\"DepDay\": \"2018-12-31T00:00:00\", \"Direction\": \"I\", \"Gender\": \"U\", \"Count\": 9}, {\"DepDay\": \"2018-12-31T00:00:00\", \"Direction\": \"O\", \"Gender\": \"F\", \"Count\": 113}, {\"DepDay\": \"2018-12-31T00:00:00\", \"Direction\": \"O\", \"Gender\": \"M\", \"Count\": 196}, {\"DepDay\": \"2019-01-01T00:00:00\", \"Direction\": \"I\", \"Gender\": \"F\", \"Count\": 24118}, {\"DepDay\": \"2019-01-01T00:00:00\", \"Direction\": \"I\", \"Gender\": \"M\", \"Count\": 35821}, {\"DepDay\": \"2019-01-01T00:00:00\", \"Direction\": \"I\", \"Gender\": \"U\", \"Count\": 28}, {\"DepDay\": \"2019-01-01T00:00:00\", \"Direction\": \"O\", \"Gender\": \"F\", \"Count\": 32165}, {\"DepDay\": \"2019-01-01T00:00:00\", \"Direction\": \"O\", \"Gender\": \"M\", \"Count\": 40806}, {\"DepDay\": \"2019-01-01T00:00:00\", \"Direction\": \"O\", \"Gender\": \"U\", \"Count\": 7}, {\"DepDay\": \"2019-01-02T00:00:00\", \"Direction\": \"I\", \"Gender\": \"F\", \"Count\": 27373}, {\"DepDay\": \"2019-01-02T00:00:00\", \"Direction\": \"I\", \"Gender\": \"M\", \"Count\": 38999}, {\"DepDay\": \"2019-01-02T00:00:00\", \"Direction\": \"I\", \"Gender\": \"U\", \"Count\": 47}, {\"DepDay\": \"2019-01-02T00:00:00\", \"Direction\": \"O\", \"Gender\": \"F\", \"Count\": 30867}, {\"DepDay\": \"2019-01-02T00:00:00\", \"Direction\": \"O\", \"Gender\": \"M\", \"Count\": 40807}, {\"DepDay\": \"2019-01-02T00:00:00\", \"Direction\": \"O\", \"Gender\": \"U\", \"Count\": 23}, {\"DepDay\": \"2019-01-03T00:00:00\", \"Direction\": \"I\", \"Gender\": \"F\", \"Count\": 34578}, {\"DepDay\": \"2019-01-03T00:00:00\", \"Direction\": \"I\", \"Gender\": \"M\", \"Count\": 47058}, {\"DepDay\": \"2019-01-03T00:00:00\", \"Direction\": \"I\", \"Gender\": \"U\", \"Count\": 56}, {\"DepDay\": \"2019-01-03T00:00:00\", \"Direction\": \"O\", \"Gender\": \"F\", \"Count\": 32308}, {\"DepDay\": \"2019-01-03T00:00:00\", \"Direction\": \"O\", \"Gender\": \"M\", \"Count\": 48864}, {\"DepDay\": \"2019-01-03T00:00:00\", \"Direction\": \"O\", \"Gender\": \"U\", \"Count\": 9}, {\"DepDay\": \"2019-01-04T00:00:00\", \"Direction\": \"I\", \"Gender\": \"F\", \"Count\": 30455}, {\"DepDay\": \"2019-01-04T00:00:00\", \"Direction\": \"I\", \"Gender\": \"M\", \"Count\": 39948}, {\"DepDay\": \"2019-01-04T00:00:00\", \"Direction\": \"I\", \"Gender\": \"U\", \"Count\": 40}, {\"DepDay\": \"2019-01-04T00:00:00\", \"Direction\": \"O\", \"Gender\": \"F\", \"Count\": 28693}, {\"DepDay\": \"2019-01-04T00:00:00\", \"Direction\": \"O\", \"Gender\": \"M\", \"Count\": 41619}, {\"DepDay\": \"2019-01-04T00:00:00\", \"Direction\": \"O\", \"Gender\": \"U\", \"Count\": 10}, {\"DepDay\": \"2019-01-05T00:00:00\", \"Direction\": \"I\", \"Gender\": \"F\", \"Count\": 34062}, {\"DepDay\": \"2019-01-05T00:00:00\", \"Direction\": \"I\", \"Gender\": \"M\", \"Count\": 48586}, {\"DepDay\": \"2019-01-05T00:00:00\", \"Direction\": \"I\", \"Gender\": \"U\", \"Count\": 40}, {\"DepDay\": \"2019-01-05T00:00:00\", \"Direction\": \"O\", \"Gender\": \"F\", \"Count\": 33507}, {\"DepDay\": \"2019-01-05T00:00:00\", \"Direction\": \"O\", \"Gender\": \"M\", \"Count\": 42910}, {\"DepDay\": \"2019-01-05T00:00:00\", \"Direction\": \"O\", \"Gender\": \"U\", \"Count\": 7}, {\"DepDay\": \"2019-01-06T00:00:00\", \"Direction\": \"I\", \"Gender\": \"F\", \"Count\": 30755}, {\"DepDay\": \"2019-01-06T00:00:00\", \"Direction\": \"I\", \"Gender\": \"M\", \"Count\": 45062}, {\"DepDay\": \"2019-01-06T00:00:00\", \"Direction\": \"I\", \"Gender\": \"U\", \"Count\": 35}, {\"DepDay\": \"2019-01-06T00:00:00\", \"Direction\": \"O\", \"Gender\": \"F\", \"Count\": 29469}, {\"DepDay\": \"2019-01-06T00:00:00\", \"Direction\": \"O\", \"Gender\": \"M\", \"Count\": 41160}, {\"DepDay\": \"2019-01-06T00:00:00\", \"Direction\": \"O\", \"Gender\": \"U\", \"Count\": 7}, {\"DepDay\": \"2019-01-07T00:00:00\", \"Direction\": \"I\", \"Gender\": \"F\", \"Count\": 30656}, {\"DepDay\": \"2019-01-07T00:00:00\", \"Direction\": \"I\", \"Gender\": \"M\", \"Count\": 42911}, {\"DepDay\": \"2019-01-07T00:00:00\", \"Direction\": \"I\", \"Gender\": \"U\", \"Count\": 38}, {\"DepDay\": \"2019-01-07T00:00:00\", \"Direction\": \"O\", \"Gender\": \"F\", \"Count\": 26569}, {\"DepDay\": \"2019-01-07T00:00:00\", \"Direction\": \"O\", \"Gender\": \"M\", \"Count\": 40187}, {\"DepDay\": \"2019-01-07T00:00:00\", \"Direction\": \"O\", \"Gender\": \"U\", \"Count\": 11}, {\"DepDay\": \"2019-01-08T00:00:00\", \"Direction\": \"I\", \"Gender\": \"F\", \"Count\": 29767}, {\"DepDay\": \"2019-01-08T00:00:00\", \"Direction\": \"I\", \"Gender\": \"M\", \"Count\": 43856}, {\"DepDay\": \"2019-01-08T00:00:00\", \"Direction\": \"I\", \"Gender\": \"U\", \"Count\": 28}, {\"DepDay\": \"2019-01-08T00:00:00\", \"Direction\": \"O\", \"Gender\": \"F\", \"Count\": 25915}, {\"DepDay\": \"2019-01-08T00:00:00\", \"Direction\": \"O\", \"Gender\": \"M\", \"Count\": 40718}, {\"DepDay\": \"2019-01-08T00:00:00\", \"Direction\": \"O\", \"Gender\": \"U\", \"Count\": 6}, {\"DepDay\": \"2019-01-09T00:00:00\", \"Direction\": \"I\", \"Gender\": \"F\", \"Count\": 26515}, {\"DepDay\": \"2019-01-09T00:00:00\", \"Direction\": \"I\", \"Gender\": \"M\", \"Count\": 38154}, {\"DepDay\": \"2019-01-09T00:00:00\", \"Direction\": \"I\", \"Gender\": \"U\", \"Count\": 50}, {\"DepDay\": \"2019-01-09T00:00:00\", \"Direction\": \"O\", \"Gender\": \"F\", \"Count\": 22956}, {\"DepDay\": \"2019-01-09T00:00:00\", \"Direction\": \"O\", \"Gender\": \"M\", \"Count\": 37544}, {\"DepDay\": \"2019-01-09T00:00:00\", \"Direction\": \"O\", \"Gender\": \"U\", \"Count\": 12}, {\"DepDay\": \"2019-01-10T00:00:00\", \"Direction\": \"I\", \"Gender\": \"F\", \"Count\": 31139}, {\"DepDay\": \"2019-01-10T00:00:00\", \"Direction\": \"I\", \"Gender\": \"M\", \"Count\": 43486}, {\"DepDay\": \"2019-01-10T00:00:00\", \"Direction\": \"I\", \"Gender\": \"U\", \"Count\": 43}, {\"DepDay\": \"2019-01-10T00:00:00\", \"Direction\": \"O\", \"Gender\": \"F\", \"Count\": 24439}, {\"DepDay\": \"2019-01-10T00:00:00\", \"Direction\": \"O\", \"Gender\": \"M\", \"Count\": 44657}, {\"DepDay\": \"2019-01-10T00:00:00\", \"Direction\": \"O\", \"Gender\": \"U\", \"Count\": 8}, {\"DepDay\": \"2019-01-11T00:00:00\", \"Direction\": \"I\", \"Gender\": \"F\", \"Count\": 26621}, {\"DepDay\": \"2019-01-11T00:00:00\", \"Direction\": \"I\", \"Gender\": \"M\", \"Count\": 37001}, {\"DepDay\": \"2019-01-11T00:00:00\", \"Direction\": \"I\", \"Gender\": \"U\", \"Count\": 31}, {\"DepDay\": \"2019-01-11T00:00:00\", \"Direction\": \"O\", \"Gender\": \"F\", \"Count\": 19514}, {\"DepDay\": \"2019-01-11T00:00:00\", \"Direction\": \"O\", \"Gender\": \"M\", \"Count\": 35898}, {\"DepDay\": \"2019-01-11T00:00:00\", \"Direction\": \"O\", \"Gender\": \"U\", \"Count\": 18}, {\"DepDay\": \"2019-01-12T00:00:00\", \"Direction\": \"I\", \"Gender\": \"F\", \"Count\": 29714}, {\"DepDay\": \"2019-01-12T00:00:00\", \"Direction\": \"I\", \"Gender\": \"M\", \"Count\": 44074}, {\"DepDay\": \"2019-01-12T00:00:00\", \"Direction\": \"I\", \"Gender\": \"U\", \"Count\": 42}, {\"DepDay\": \"2019-01-12T00:00:00\", \"Direction\": \"O\", \"Gender\": \"F\", \"Count\": 23284}, {\"DepDay\": \"2019-01-12T00:00:00\", \"Direction\": \"O\", \"Gender\": \"M\", \"Count\": 35587}, {\"DepDay\": \"2019-01-12T00:00:00\", \"Direction\": \"O\", \"Gender\": \"U\", \"Count\": 5}, {\"DepDay\": \"2019-01-13T00:00:00\", \"Direction\": \"I\", \"Gender\": \"F\", \"Count\": 25813}, {\"DepDay\": \"2019-01-13T00:00:00\", \"Direction\": \"I\", \"Gender\": \"M\", \"Count\": 42068}, {\"DepDay\": \"2019-01-13T00:00:00\", \"Direction\": \"I\", \"Gender\": \"U\", \"Count\": 32}, {\"DepDay\": \"2019-01-13T00:00:00\", \"Direction\": \"O\", \"Gender\": \"F\", \"Count\": 19666}, {\"DepDay\": \"2019-01-13T00:00:00\", \"Direction\": \"O\", \"Gender\": \"M\", \"Count\": 32878}, {\"DepDay\": \"2019-01-13T00:00:00\", \"Direction\": \"O\", \"Gender\": \"U\", \"Count\": 3}, {\"DepDay\": \"2019-01-14T00:00:00\", \"Direction\": \"I\", \"Gender\": \"F\", \"Count\": 26578}, {\"DepDay\": \"2019-01-14T00:00:00\", \"Direction\": \"I\", \"Gender\": \"M\", \"Count\": 40978}, {\"DepDay\": \"2019-01-14T00:00:00\", \"Direction\": \"I\", \"Gender\": \"U\", \"Count\": 43}, {\"DepDay\": \"2019-01-14T00:00:00\", \"Direction\": \"O\", \"Gender\": \"F\", \"Count\": 19505}, {\"DepDay\": \"2019-01-14T00:00:00\", \"Direction\": \"O\", \"Gender\": \"M\", \"Count\": 33255}, {\"DepDay\": \"2019-01-14T00:00:00\", \"Direction\": \"O\", \"Gender\": \"U\", \"Count\": 5}, {\"DepDay\": \"2019-01-15T00:00:00\", \"Direction\": \"I\", \"Gender\": \"F\", \"Count\": 26746}, {\"DepDay\": \"2019-01-15T00:00:00\", \"Direction\": \"I\", \"Gender\": \"M\", \"Count\": 40577}, {\"DepDay\": \"2019-01-15T00:00:00\", \"Direction\": \"I\", \"Gender\": \"U\", \"Count\": 26}, {\"DepDay\": \"2019-01-15T00:00:00\", \"Direction\": \"O\", \"Gender\": \"F\", \"Count\": 20840}, {\"DepDay\": \"2019-01-15T00:00:00\", \"Direction\": \"O\", \"Gender\": \"M\", \"Count\": 36900}, {\"DepDay\": \"2019-01-15T00:00:00\", \"Direction\": \"O\", \"Gender\": \"U\", \"Count\": 2}, {\"DepDay\": \"2019-01-16T00:00:00\", \"Direction\": \"I\", \"Gender\": \"F\", \"Count\": 24891}, {\"DepDay\": \"2019-01-16T00:00:00\", \"Direction\": \"I\", \"Gender\": \"M\", \"Count\": 36351}, {\"DepDay\": \"2019-01-16T00:00:00\", \"Direction\": \"I\", \"Gender\": \"U\", \"Count\": 29}, {\"DepDay\": \"2019-01-16T00:00:00\", \"Direction\": \"O\", \"Gender\": \"F\", \"Count\": 20299}, {\"DepDay\": \"2019-01-16T00:00:00\", \"Direction\": \"O\", \"Gender\": \"M\", \"Count\": 37140}, {\"DepDay\": \"2019-01-16T00:00:00\", \"Direction\": \"O\", \"Gender\": \"U\", \"Count\": 13}, {\"DepDay\": \"2019-01-17T00:00:00\", \"Direction\": \"I\", \"Gender\": \"F\", \"Count\": 30695}, {\"DepDay\": \"2019-01-17T00:00:00\", \"Direction\": \"I\", \"Gender\": \"M\", \"Count\": 43053}, {\"DepDay\": \"2019-01-17T00:00:00\", \"Direction\": \"I\", \"Gender\": \"U\", \"Count\": 55}, {\"DepDay\": \"2019-01-17T00:00:00\", \"Direction\": \"O\", \"Gender\": \"F\", \"Count\": 21533}, {\"DepDay\": \"2019-01-17T00:00:00\", \"Direction\": \"O\", \"Gender\": \"M\", \"Count\": 44003}, {\"DepDay\": \"2019-01-17T00:00:00\", \"Direction\": \"O\", \"Gender\": \"U\", \"Count\": 10}, {\"DepDay\": \"2019-01-18T00:00:00\", \"Direction\": \"I\", \"Gender\": \"F\", \"Count\": 22170}, {\"DepDay\": \"2019-01-18T00:00:00\", \"Direction\": \"I\", \"Gender\": \"M\", \"Count\": 35048}, {\"DepDay\": \"2019-01-18T00:00:00\", \"Direction\": \"I\", \"Gender\": \"U\", \"Count\": 24}, {\"DepDay\": \"2019-01-18T00:00:00\", \"Direction\": \"O\", \"Gender\": \"F\", \"Count\": 18346}, {\"DepDay\": \"2019-01-18T00:00:00\", \"Direction\": \"O\", \"Gender\": \"M\", \"Count\": 33970}, {\"DepDay\": \"2019-01-18T00:00:00\", \"Direction\": \"O\", \"Gender\": \"U\", \"Count\": 5}, {\"DepDay\": \"2019-01-19T00:00:00\", \"Direction\": \"I\", \"Gender\": \"F\", \"Count\": 29840}, {\"DepDay\": \"2019-01-19T00:00:00\", \"Direction\": \"I\", \"Gender\": \"M\", \"Count\": 46032}, {\"DepDay\": \"2019-01-19T00:00:00\", \"Direction\": \"I\", \"Gender\": \"U\", \"Count\": 32}, {\"DepDay\": \"2019-01-19T00:00:00\", \"Direction\": \"O\", \"Gender\": \"F\", \"Count\": 22214}, {\"DepDay\": \"2019-01-19T00:00:00\", \"Direction\": \"O\", \"Gender\": \"M\", \"Count\": 34288}, {\"DepDay\": \"2019-01-19T00:00:00\", \"Direction\": \"O\", \"Gender\": \"U\", \"Count\": 4}, {\"DepDay\": \"2019-01-20T00:00:00\", \"Direction\": \"I\", \"Gender\": \"F\", \"Count\": 23709}, {\"DepDay\": \"2019-01-20T00:00:00\", \"Direction\": \"I\", \"Gender\": \"M\", \"Count\": 40436}, {\"DepDay\": \"2019-01-20T00:00:00\", \"Direction\": \"I\", \"Gender\": \"U\", \"Count\": 22}, {\"DepDay\": \"2019-01-20T00:00:00\", \"Direction\": \"O\", \"Gender\": \"F\", \"Count\": 19228}, {\"DepDay\": \"2019-01-20T00:00:00\", \"Direction\": \"O\", \"Gender\": \"M\", \"Count\": 31800}, {\"DepDay\": \"2019-01-20T00:00:00\", \"Direction\": \"O\", \"Gender\": \"U\", \"Count\": 2}, {\"DepDay\": \"2019-01-21T00:00:00\", \"Direction\": \"I\", \"Gender\": \"F\", \"Count\": 25073}, {\"DepDay\": \"2019-01-21T00:00:00\", \"Direction\": \"I\", \"Gender\": \"M\", \"Count\": 39443}, {\"DepDay\": \"2019-01-21T00:00:00\", \"Direction\": \"I\", \"Gender\": \"U\", \"Count\": 27}, {\"DepDay\": \"2019-01-21T00:00:00\", \"Direction\": \"O\", \"Gender\": \"F\", \"Count\": 19258}, {\"DepDay\": \"2019-01-21T00:00:00\", \"Direction\": \"O\", \"Gender\": \"M\", \"Count\": 32370}, {\"DepDay\": \"2019-01-21T00:00:00\", \"Direction\": \"O\", \"Gender\": \"U\", \"Count\": 5}, {\"DepDay\": \"2019-01-22T00:00:00\", \"Direction\": \"I\", \"Gender\": \"F\", \"Count\": 24773}, {\"DepDay\": \"2019-01-22T00:00:00\", \"Direction\": \"I\", \"Gender\": \"M\", \"Count\": 39130}, {\"DepDay\": \"2019-01-22T00:00:00\", \"Direction\": \"I\", \"Gender\": \"U\", \"Count\": 20}, {\"DepDay\": \"2019-01-22T00:00:00\", \"Direction\": \"O\", \"Gender\": \"F\", \"Count\": 19451}, {\"DepDay\": \"2019-01-22T00:00:00\", \"Direction\": \"O\", \"Gender\": \"M\", \"Count\": 32984}, {\"DepDay\": \"2019-01-22T00:00:00\", \"Direction\": \"O\", \"Gender\": \"U\", \"Count\": 6}, {\"DepDay\": \"2019-01-23T00:00:00\", \"Direction\": \"I\", \"Gender\": \"F\", \"Count\": 25562}, {\"DepDay\": \"2019-01-23T00:00:00\", \"Direction\": \"I\", \"Gender\": \"M\", \"Count\": 36694}, {\"DepDay\": \"2019-01-23T00:00:00\", \"Direction\": \"I\", \"Gender\": \"U\", \"Count\": 21}, {\"DepDay\": \"2019-01-23T00:00:00\", \"Direction\": \"O\", \"Gender\": \"F\", \"Count\": 20431}, {\"DepDay\": \"2019-01-23T00:00:00\", \"Direction\": \"O\", \"Gender\": \"M\", \"Count\": 34269}, {\"DepDay\": \"2019-01-23T00:00:00\", \"Direction\": \"O\", \"Gender\": \"U\", \"Count\": 7}, {\"DepDay\": \"2019-01-24T00:00:00\", \"Direction\": \"I\", \"Gender\": \"F\", \"Count\": 32564}, {\"DepDay\": \"2019-01-24T00:00:00\", \"Direction\": \"I\", \"Gender\": \"M\", \"Count\": 42838}, {\"DepDay\": \"2019-01-24T00:00:00\", \"Direction\": \"I\", \"Gender\": \"U\", \"Count\": 28}, {\"DepDay\": \"2019-01-24T00:00:00\", \"Direction\": \"O\", \"Gender\": \"F\", \"Count\": 21358}, {\"DepDay\": \"2019-01-24T00:00:00\", \"Direction\": \"O\", \"Gender\": \"M\", \"Count\": 42353}, {\"DepDay\": \"2019-01-24T00:00:00\", \"Direction\": \"O\", \"Gender\": \"U\", \"Count\": 7}, {\"DepDay\": \"2019-01-25T00:00:00\", \"Direction\": \"I\", \"Gender\": \"F\", \"Count\": 21867}, {\"DepDay\": \"2019-01-25T00:00:00\", \"Direction\": \"I\", \"Gender\": \"M\", \"Count\": 33648}, {\"DepDay\": \"2019-01-25T00:00:00\", \"Direction\": \"I\", \"Gender\": \"U\", \"Count\": 36}, {\"DepDay\": \"2019-01-25T00:00:00\", \"Direction\": \"O\", \"Gender\": \"F\", \"Count\": 18270}, {\"DepDay\": \"2019-01-25T00:00:00\", \"Direction\": \"O\", \"Gender\": \"M\", \"Count\": 33655}, {\"DepDay\": \"2019-01-25T00:00:00\", \"Direction\": \"O\", \"Gender\": \"U\", \"Count\": 12}, {\"DepDay\": \"2019-01-26T00:00:00\", \"Direction\": \"I\", \"Gender\": \"F\", \"Count\": 28127}, {\"DepDay\": \"2019-01-26T00:00:00\", \"Direction\": \"I\", \"Gender\": \"M\", \"Count\": 45194}, {\"DepDay\": \"2019-01-26T00:00:00\", \"Direction\": \"I\", \"Gender\": \"U\", \"Count\": 22}, {\"DepDay\": \"2019-01-26T00:00:00\", \"Direction\": \"O\", \"Gender\": \"F\", \"Count\": 23511}, {\"DepDay\": \"2019-01-26T00:00:00\", \"Direction\": \"O\", \"Gender\": \"M\", \"Count\": 33232}, {\"DepDay\": \"2019-01-26T00:00:00\", \"Direction\": \"O\", \"Gender\": \"U\", \"Count\": 7}, {\"DepDay\": \"2019-01-27T00:00:00\", \"Direction\": \"I\", \"Gender\": \"F\", \"Count\": 24386}, {\"DepDay\": \"2019-01-27T00:00:00\", \"Direction\": \"I\", \"Gender\": \"M\", \"Count\": 40341}, {\"DepDay\": \"2019-01-27T00:00:00\", \"Direction\": \"I\", \"Gender\": \"U\", \"Count\": 19}, {\"DepDay\": \"2019-01-27T00:00:00\", \"Direction\": \"O\", \"Gender\": \"F\", \"Count\": 20995}, {\"DepDay\": \"2019-01-27T00:00:00\", \"Direction\": \"O\", \"Gender\": \"M\", \"Count\": 32880}, {\"DepDay\": \"2019-01-27T00:00:00\", \"Direction\": \"O\", \"Gender\": \"U\", \"Count\": 3}, {\"DepDay\": \"2019-01-28T00:00:00\", \"Direction\": \"I\", \"Gender\": \"F\", \"Count\": 25779}, {\"DepDay\": \"2019-01-28T00:00:00\", \"Direction\": \"I\", \"Gender\": \"M\", \"Count\": 40348}, {\"DepDay\": \"2019-01-28T00:00:00\", \"Direction\": \"I\", \"Gender\": \"U\", \"Count\": 23}, {\"DepDay\": \"2019-01-28T00:00:00\", \"Direction\": \"O\", \"Gender\": \"F\", \"Count\": 22787}, {\"DepDay\": \"2019-01-28T00:00:00\", \"Direction\": \"O\", \"Gender\": \"M\", \"Count\": 34414}, {\"DepDay\": \"2019-01-28T00:00:00\", \"Direction\": \"O\", \"Gender\": \"U\", \"Count\": 6}, {\"DepDay\": \"2019-01-29T00:00:00\", \"Direction\": \"I\", \"Gender\": \"F\", \"Count\": 24473}, {\"DepDay\": \"2019-01-29T00:00:00\", \"Direction\": \"I\", \"Gender\": \"M\", \"Count\": 38914}, {\"DepDay\": \"2019-01-29T00:00:00\", \"Direction\": \"I\", \"Gender\": \"U\", \"Count\": 17}, {\"DepDay\": \"2019-01-29T00:00:00\", \"Direction\": \"O\", \"Gender\": \"F\", \"Count\": 23716}, {\"DepDay\": \"2019-01-29T00:00:00\", \"Direction\": \"O\", \"Gender\": \"M\", \"Count\": 36340}, {\"DepDay\": \"2019-01-29T00:00:00\", \"Direction\": \"O\", \"Gender\": \"U\", \"Count\": 9}, {\"DepDay\": \"2019-01-30T00:00:00\", \"Direction\": \"I\", \"Gender\": \"F\", \"Count\": 26620}, {\"DepDay\": \"2019-01-30T00:00:00\", \"Direction\": \"I\", \"Gender\": \"M\", \"Count\": 40020}, {\"DepDay\": \"2019-01-30T00:00:00\", \"Direction\": \"I\", \"Gender\": \"U\", \"Count\": 26}, {\"DepDay\": \"2019-01-30T00:00:00\", \"Direction\": \"O\", \"Gender\": \"F\", \"Count\": 23735}, {\"DepDay\": \"2019-01-30T00:00:00\", \"Direction\": \"O\", \"Gender\": \"M\", \"Count\": 37983}, {\"DepDay\": \"2019-01-30T00:00:00\", \"Direction\": \"O\", \"Gender\": \"U\", \"Count\": 7}, {\"DepDay\": \"2019-01-31T00:00:00\", \"Direction\": \"I\", \"Gender\": \"F\", \"Count\": 31042}, {\"DepDay\": \"2019-01-31T00:00:00\", \"Direction\": \"I\", \"Gender\": \"M\", \"Count\": 45488}, {\"DepDay\": \"2019-01-31T00:00:00\", \"Direction\": \"I\", \"Gender\": \"U\", \"Count\": 33}, {\"DepDay\": \"2019-01-31T00:00:00\", \"Direction\": \"O\", \"Gender\": \"F\", \"Count\": 25141}, {\"DepDay\": \"2019-01-31T00:00:00\", \"Direction\": \"O\", \"Gender\": \"M\", \"Count\": 47007}, {\"DepDay\": \"2019-01-31T00:00:00\", \"Direction\": \"O\", \"Gender\": \"U\", \"Count\": 4}, {\"DepDay\": \"2019-02-01T00:00:00\", \"Direction\": \"I\", \"Gender\": \"F\", \"Count\": 22435}, {\"DepDay\": \"2019-02-01T00:00:00\", \"Direction\": \"I\", \"Gender\": \"M\", \"Count\": 36956}, {\"DepDay\": \"2019-02-01T00:00:00\", \"Direction\": \"I\", \"Gender\": \"U\", \"Count\": 33}, {\"DepDay\": \"2019-02-01T00:00:00\", \"Direction\": \"O\", \"Gender\": \"F\", \"Count\": 21538}, {\"DepDay\": \"2019-02-01T00:00:00\", \"Direction\": \"O\", \"Gender\": \"M\", \"Count\": 38359}, {\"DepDay\": \"2019-02-01T00:00:00\", \"Direction\": \"O\", \"Gender\": \"U\", \"Count\": 9}, {\"DepDay\": \"2019-02-02T00:00:00\", \"Direction\": \"I\", \"Gender\": \"F\", \"Count\": 27076}, {\"DepDay\": \"2019-02-02T00:00:00\", \"Direction\": \"I\", \"Gender\": \"M\", \"Count\": 46147}, {\"DepDay\": \"2019-02-02T00:00:00\", \"Direction\": \"I\", \"Gender\": \"U\", \"Count\": 20}, {\"DepDay\": \"2019-02-02T00:00:00\", \"Direction\": \"O\", \"Gender\": \"F\", \"Count\": 28267}, {\"DepDay\": \"2019-02-02T00:00:00\", \"Direction\": \"O\", \"Gender\": \"M\", \"Count\": 39481}, {\"DepDay\": \"2019-02-02T00:00:00\", \"Direction\": \"O\", \"Gender\": \"U\", \"Count\": 6}, {\"DepDay\": \"2019-02-03T00:00:00\", \"Direction\": \"I\", \"Gender\": \"F\", \"Count\": 24333}, {\"DepDay\": \"2019-02-03T00:00:00\", \"Direction\": \"I\", \"Gender\": \"M\", \"Count\": 41409}, {\"DepDay\": \"2019-02-03T00:00:00\", \"Direction\": \"I\", \"Gender\": \"U\", \"Count\": 6}, {\"DepDay\": \"2019-02-03T00:00:00\", \"Direction\": \"O\", \"Gender\": \"F\", \"Count\": 25322}, {\"DepDay\": \"2019-02-03T00:00:00\", \"Direction\": \"O\", \"Gender\": \"M\", \"Count\": 35637}, {\"DepDay\": \"2019-02-03T00:00:00\", \"Direction\": \"O\", \"Gender\": \"U\", \"Count\": 14}, {\"DepDay\": \"2019-02-04T00:00:00\", \"Direction\": \"I\", \"Gender\": \"F\", \"Count\": 25162}, {\"DepDay\": \"2019-02-04T00:00:00\", \"Direction\": \"I\", \"Gender\": \"M\", \"Count\": 39261}, {\"DepDay\": \"2019-02-04T00:00:00\", \"Direction\": \"I\", \"Gender\": \"U\", \"Count\": 28}, {\"DepDay\": \"2019-02-04T00:00:00\", \"Direction\": \"O\", \"Gender\": \"F\", \"Count\": 26164}, {\"DepDay\": \"2019-02-04T00:00:00\", \"Direction\": \"O\", \"Gender\": \"M\", \"Count\": 38579}, {\"DepDay\": \"2019-02-04T00:00:00\", \"Direction\": \"O\", \"Gender\": \"U\", \"Count\": 25}, {\"DepDay\": \"2019-02-05T00:00:00\", \"Direction\": \"I\", \"Gender\": \"F\", \"Count\": 23767}, {\"DepDay\": \"2019-02-05T00:00:00\", \"Direction\": \"I\", \"Gender\": \"M\", \"Count\": 38668}, {\"DepDay\": \"2019-02-05T00:00:00\", \"Direction\": \"I\", \"Gender\": \"U\", \"Count\": 15}, {\"DepDay\": \"2019-02-05T00:00:00\", \"Direction\": \"O\", \"Gender\": \"F\", \"Count\": 25665}, {\"DepDay\": \"2019-02-05T00:00:00\", \"Direction\": \"O\", \"Gender\": \"M\", \"Count\": 40942}, {\"DepDay\": \"2019-02-05T00:00:00\", \"Direction\": \"O\", \"Gender\": \"U\", \"Count\": 8}, {\"DepDay\": \"2019-02-06T00:00:00\", \"Direction\": \"I\", \"Gender\": \"F\", \"Count\": 24964}, {\"DepDay\": \"2019-02-06T00:00:00\", \"Direction\": \"I\", \"Gender\": \"M\", \"Count\": 36915}, {\"DepDay\": \"2019-02-06T00:00:00\", \"Direction\": \"I\", \"Gender\": \"U\", \"Count\": 12}, {\"DepDay\": \"2019-02-06T00:00:00\", \"Direction\": \"O\", \"Gender\": \"F\", \"Count\": 24776}, {\"DepDay\": \"2019-02-06T00:00:00\", \"Direction\": \"O\", \"Gender\": \"M\", \"Count\": 39511}, {\"DepDay\": \"2019-02-06T00:00:00\", \"Direction\": \"O\", \"Gender\": \"U\", \"Count\": 5}, {\"DepDay\": \"2019-02-07T00:00:00\", \"Direction\": \"I\", \"Gender\": \"F\", \"Count\": 29412}, {\"DepDay\": \"2019-02-07T00:00:00\", \"Direction\": \"I\", \"Gender\": \"M\", \"Count\": 42304}, {\"DepDay\": \"2019-02-07T00:00:00\", \"Direction\": \"I\", \"Gender\": \"U\", \"Count\": 14}, {\"DepDay\": \"2019-02-07T00:00:00\", \"Direction\": \"O\", \"Gender\": \"F\", \"Count\": 26776}, {\"DepDay\": \"2019-02-07T00:00:00\", \"Direction\": \"O\", \"Gender\": \"M\", \"Count\": 46026}, {\"DepDay\": \"2019-02-07T00:00:00\", \"Direction\": \"O\", \"Gender\": \"U\", \"Count\": 17}, {\"DepDay\": \"2019-02-08T00:00:00\", \"Direction\": \"I\", \"Gender\": \"F\", \"Count\": 21585}, {\"DepDay\": \"2019-02-08T00:00:00\", \"Direction\": \"I\", \"Gender\": \"M\", \"Count\": 33904}, {\"DepDay\": \"2019-02-08T00:00:00\", \"Direction\": \"I\", \"Gender\": \"U\", \"Count\": 17}, {\"DepDay\": \"2019-02-08T00:00:00\", \"Direction\": \"O\", \"Gender\": \"F\", \"Count\": 23532}, {\"DepDay\": \"2019-02-08T00:00:00\", \"Direction\": \"O\", \"Gender\": \"M\", \"Count\": 36994}, {\"DepDay\": \"2019-02-08T00:00:00\", \"Direction\": \"O\", \"Gender\": \"U\", \"Count\": 17}, {\"DepDay\": \"2019-02-09T00:00:00\", \"Direction\": \"I\", \"Gender\": \"F\", \"Count\": 26731}, {\"DepDay\": \"2019-02-09T00:00:00\", \"Direction\": \"I\", \"Gender\": \"M\", \"Count\": 42949}, {\"DepDay\": \"2019-02-09T00:00:00\", \"Direction\": \"I\", \"Gender\": \"U\", \"Count\": 21}, {\"DepDay\": \"2019-02-09T00:00:00\", \"Direction\": \"O\", \"Gender\": \"F\", \"Count\": 28322}, {\"DepDay\": \"2019-02-09T00:00:00\", \"Direction\": \"O\", \"Gender\": \"M\", \"Count\": 37771}, {\"DepDay\": \"2019-02-09T00:00:00\", \"Direction\": \"O\", \"Gender\": \"U\", \"Count\": 5}, {\"DepDay\": \"2019-02-10T00:00:00\", \"Direction\": \"I\", \"Gender\": \"F\", \"Count\": 22527}, {\"DepDay\": \"2019-02-10T00:00:00\", \"Direction\": \"I\", \"Gender\": \"M\", \"Count\": 39951}, {\"DepDay\": \"2019-02-10T00:00:00\", \"Direction\": \"I\", \"Gender\": \"U\", \"Count\": 8}, {\"DepDay\": \"2019-02-10T00:00:00\", \"Direction\": \"O\", \"Gender\": \"F\", \"Count\": 25299}, {\"DepDay\": \"2019-02-10T00:00:00\", \"Direction\": \"O\", \"Gender\": \"M\", \"Count\": 35906}, {\"DepDay\": \"2019-02-10T00:00:00\", \"Direction\": \"O\", \"Gender\": \"U\", \"Count\": 5}, {\"DepDay\": \"2019-02-11T00:00:00\", \"Direction\": \"I\", \"Gender\": \"F\", \"Count\": 23161}, {\"DepDay\": \"2019-02-11T00:00:00\", \"Direction\": \"I\", \"Gender\": \"M\", \"Count\": 37732}, {\"DepDay\": \"2019-02-11T00:00:00\", \"Direction\": \"I\", \"Gender\": \"U\", \"Count\": 9}, {\"DepDay\": \"2019-02-11T00:00:00\", \"Direction\": \"O\", \"Gender\": \"F\", \"Count\": 25560}, {\"DepDay\": \"2019-02-11T00:00:00\", \"Direction\": \"O\", \"Gender\": \"M\", \"Count\": 37006}, {\"DepDay\": \"2019-02-11T00:00:00\", \"Direction\": \"O\", \"Gender\": \"U\", \"Count\": 6}, {\"DepDay\": \"2019-02-12T00:00:00\", \"Direction\": \"I\", \"Gender\": \"F\", \"Count\": 22658}, {\"DepDay\": \"2019-02-12T00:00:00\", \"Direction\": \"I\", \"Gender\": \"M\", \"Count\": 37241}, {\"DepDay\": \"2019-02-12T00:00:00\", \"Direction\": \"I\", \"Gender\": \"U\", \"Count\": 22}, {\"DepDay\": \"2019-02-12T00:00:00\", \"Direction\": \"O\", \"Gender\": \"F\", \"Count\": 24773}, {\"DepDay\": \"2019-02-12T00:00:00\", \"Direction\": \"O\", \"Gender\": \"M\", \"Count\": 37951}, {\"DepDay\": \"2019-02-12T00:00:00\", \"Direction\": \"O\", \"Gender\": \"U\", \"Count\": 4}, {\"DepDay\": \"2019-02-13T00:00:00\", \"Direction\": \"I\", \"Gender\": \"F\", \"Count\": 25440}, {\"DepDay\": \"2019-02-13T00:00:00\", \"Direction\": \"I\", \"Gender\": \"M\", \"Count\": 36988}, {\"DepDay\": \"2019-02-13T00:00:00\", \"Direction\": \"I\", \"Gender\": \"U\", \"Count\": 22}, {\"DepDay\": \"2019-02-13T00:00:00\", \"Direction\": \"O\", \"Gender\": \"F\", \"Count\": 26103}, {\"DepDay\": \"2019-02-13T00:00:00\", \"Direction\": \"O\", \"Gender\": \"M\", \"Count\": 40327}, {\"DepDay\": \"2019-02-13T00:00:00\", \"Direction\": \"O\", \"Gender\": \"U\", \"Count\": 7}, {\"DepDay\": \"2019-02-14T00:00:00\", \"Direction\": \"I\", \"Gender\": \"F\", \"Count\": 28468}, {\"DepDay\": \"2019-02-14T00:00:00\", \"Direction\": \"I\", \"Gender\": \"M\", \"Count\": 41161}, {\"DepDay\": \"2019-02-14T00:00:00\", \"Direction\": \"I\", \"Gender\": \"U\", \"Count\": 21}, {\"DepDay\": \"2019-02-14T00:00:00\", \"Direction\": \"O\", \"Gender\": \"F\", \"Count\": 27218}, {\"DepDay\": \"2019-02-14T00:00:00\", \"Direction\": \"O\", \"Gender\": \"M\", \"Count\": 45979}, {\"DepDay\": \"2019-02-14T00:00:00\", \"Direction\": \"O\", \"Gender\": \"U\", \"Count\": 17}, {\"DepDay\": \"2019-02-15T00:00:00\", \"Direction\": \"I\", \"Gender\": \"F\", \"Count\": 20246}, {\"DepDay\": \"2019-02-15T00:00:00\", \"Direction\": \"I\", \"Gender\": \"M\", \"Count\": 34164}, {\"DepDay\": \"2019-02-15T00:00:00\", \"Direction\": \"I\", \"Gender\": \"U\", \"Count\": 18}, {\"DepDay\": \"2019-02-15T00:00:00\", \"Direction\": \"O\", \"Gender\": \"F\", \"Count\": 22438}, {\"DepDay\": \"2019-02-15T00:00:00\", \"Direction\": \"O\", \"Gender\": \"M\", \"Count\": 36309}, {\"DepDay\": \"2019-02-15T00:00:00\", \"Direction\": \"O\", \"Gender\": \"U\", \"Count\": 20}, {\"DepDay\": \"2019-02-16T00:00:00\", \"Direction\": \"I\", \"Gender\": \"F\", \"Count\": 27545}, {\"DepDay\": \"2019-02-16T00:00:00\", \"Direction\": \"I\", \"Gender\": \"M\", \"Count\": 44221}, {\"DepDay\": \"2019-02-16T00:00:00\", \"Direction\": \"I\", \"Gender\": \"U\", \"Count\": 12}, {\"DepDay\": \"2019-02-16T00:00:00\", \"Direction\": \"O\", \"Gender\": \"F\", \"Count\": 26464}, {\"DepDay\": \"2019-02-16T00:00:00\", \"Direction\": \"O\", \"Gender\": \"M\", \"Count\": 37296}, {\"DepDay\": \"2019-02-16T00:00:00\", \"Direction\": \"O\", \"Gender\": \"U\", \"Count\": 7}, {\"DepDay\": \"2019-02-17T00:00:00\", \"Direction\": \"I\", \"Gender\": \"F\", \"Count\": 23410}, {\"DepDay\": \"2019-02-17T00:00:00\", \"Direction\": \"I\", \"Gender\": \"M\", \"Count\": 39737}, {\"DepDay\": \"2019-02-17T00:00:00\", \"Direction\": \"I\", \"Gender\": \"U\", \"Count\": 5}, {\"DepDay\": \"2019-02-17T00:00:00\", \"Direction\": \"O\", \"Gender\": \"F\", \"Count\": 22691}, {\"DepDay\": \"2019-02-17T00:00:00\", \"Direction\": \"O\", \"Gender\": \"M\", \"Count\": 34055}, {\"DepDay\": \"2019-02-17T00:00:00\", \"Direction\": \"O\", \"Gender\": \"U\", \"Count\": 3}, {\"DepDay\": \"2019-02-18T00:00:00\", \"Direction\": \"I\", \"Gender\": \"F\", \"Count\": 24058}, {\"DepDay\": \"2019-02-18T00:00:00\", \"Direction\": \"I\", \"Gender\": \"M\", \"Count\": 38374}, {\"DepDay\": \"2019-02-18T00:00:00\", \"Direction\": \"I\", \"Gender\": \"U\", \"Count\": 18}, {\"DepDay\": \"2019-02-18T00:00:00\", \"Direction\": \"O\", \"Gender\": \"F\", \"Count\": 21820}, {\"DepDay\": \"2019-02-18T00:00:00\", \"Direction\": \"O\", \"Gender\": \"M\", \"Count\": 33976}, {\"DepDay\": \"2019-02-18T00:00:00\", \"Direction\": \"O\", \"Gender\": \"U\", \"Count\": 8}, {\"DepDay\": \"2019-02-19T00:00:00\", \"Direction\": \"I\", \"Gender\": \"F\", \"Count\": 22333}, {\"DepDay\": \"2019-02-19T00:00:00\", \"Direction\": \"I\", \"Gender\": \"M\", \"Count\": 37190}, {\"DepDay\": \"2019-02-19T00:00:00\", \"Direction\": \"I\", \"Gender\": \"U\", \"Count\": 22}, {\"DepDay\": \"2019-02-19T00:00:00\", \"Direction\": \"O\", \"Gender\": \"F\", \"Count\": 21921}, {\"DepDay\": \"2019-02-19T00:00:00\", \"Direction\": \"O\", \"Gender\": \"M\", \"Count\": 34509}, {\"DepDay\": \"2019-02-19T00:00:00\", \"Direction\": \"O\", \"Gender\": \"U\", \"Count\": 7}, {\"DepDay\": \"2019-02-20T00:00:00\", \"Direction\": \"I\", \"Gender\": \"F\", \"Count\": 25156}, {\"DepDay\": \"2019-02-20T00:00:00\", \"Direction\": \"I\", \"Gender\": \"M\", \"Count\": 37599}, {\"DepDay\": \"2019-02-20T00:00:00\", \"Direction\": \"I\", \"Gender\": \"U\", \"Count\": 12}, {\"DepDay\": \"2019-02-20T00:00:00\", \"Direction\": \"O\", \"Gender\": \"F\", \"Count\": 23387}, {\"DepDay\": \"2019-02-20T00:00:00\", \"Direction\": \"O\", \"Gender\": \"M\", \"Count\": 37679}, {\"DepDay\": \"2019-02-20T00:00:00\", \"Direction\": \"O\", \"Gender\": \"U\", \"Count\": 4}, {\"DepDay\": \"2019-02-21T00:00:00\", \"Direction\": \"I\", \"Gender\": \"F\", \"Count\": 29960}, {\"DepDay\": \"2019-02-21T00:00:00\", \"Direction\": \"I\", \"Gender\": \"M\", \"Count\": 42503}, {\"DepDay\": \"2019-02-21T00:00:00\", \"Direction\": \"I\", \"Gender\": \"U\", \"Count\": 21}, {\"DepDay\": \"2019-02-21T00:00:00\", \"Direction\": \"O\", \"Gender\": \"F\", \"Count\": 24179}, {\"DepDay\": \"2019-02-21T00:00:00\", \"Direction\": \"O\", \"Gender\": \"M\", \"Count\": 42483}, {\"DepDay\": \"2019-02-21T00:00:00\", \"Direction\": \"O\", \"Gender\": \"U\", \"Count\": 22}, {\"DepDay\": \"2019-02-22T00:00:00\", \"Direction\": \"I\", \"Gender\": \"F\", \"Count\": 20316}, {\"DepDay\": \"2019-02-22T00:00:00\", \"Direction\": \"I\", \"Gender\": \"M\", \"Count\": 33381}, {\"DepDay\": \"2019-02-22T00:00:00\", \"Direction\": \"I\", \"Gender\": \"U\", \"Count\": 16}, {\"DepDay\": \"2019-02-22T00:00:00\", \"Direction\": \"O\", \"Gender\": \"F\", \"Count\": 21769}, {\"DepDay\": \"2019-02-22T00:00:00\", \"Direction\": \"O\", \"Gender\": \"M\", \"Count\": 34699}, {\"DepDay\": \"2019-02-22T00:00:00\", \"Direction\": \"O\", \"Gender\": \"U\", \"Count\": 7}, {\"DepDay\": \"2019-02-23T00:00:00\", \"Direction\": \"I\", \"Gender\": \"F\", \"Count\": 27044}, {\"DepDay\": \"2019-02-23T00:00:00\", \"Direction\": \"I\", \"Gender\": \"M\", \"Count\": 44955}, {\"DepDay\": \"2019-02-23T00:00:00\", \"Direction\": \"I\", \"Gender\": \"U\", \"Count\": 17}, {\"DepDay\": \"2019-02-23T00:00:00\", \"Direction\": \"O\", \"Gender\": \"F\", \"Count\": 26066}, {\"DepDay\": \"2019-02-23T00:00:00\", \"Direction\": \"O\", \"Gender\": \"M\", \"Count\": 34408}, {\"DepDay\": \"2019-02-23T00:00:00\", \"Direction\": \"O\", \"Gender\": \"U\", \"Count\": 2}, {\"DepDay\": \"2019-02-24T00:00:00\", \"Direction\": \"I\", \"Gender\": \"F\", \"Count\": 24138}, {\"DepDay\": \"2019-02-24T00:00:00\", \"Direction\": \"I\", \"Gender\": \"M\", \"Count\": 40899}, {\"DepDay\": \"2019-02-24T00:00:00\", \"Direction\": \"I\", \"Gender\": \"U\", \"Count\": 10}, {\"DepDay\": \"2019-02-24T00:00:00\", \"Direction\": \"O\", \"Gender\": \"F\", \"Count\": 23162}, {\"DepDay\": \"2019-02-24T00:00:00\", \"Direction\": \"O\", \"Gender\": \"M\", \"Count\": 31310}, {\"DepDay\": \"2019-02-24T00:00:00\", \"Direction\": \"O\", \"Gender\": \"U\", \"Count\": 5}, {\"DepDay\": \"2019-02-25T00:00:00\", \"Direction\": \"I\", \"Gender\": \"F\", \"Count\": 25892}, {\"DepDay\": \"2019-02-25T00:00:00\", \"Direction\": \"I\", \"Gender\": \"M\", \"Count\": 40130}, {\"DepDay\": \"2019-02-25T00:00:00\", \"Direction\": \"I\", \"Gender\": \"U\", \"Count\": 12}, {\"DepDay\": \"2019-02-25T00:00:00\", \"Direction\": \"O\", \"Gender\": \"F\", \"Count\": 25964}, {\"DepDay\": \"2019-02-25T00:00:00\", \"Direction\": \"O\", \"Gender\": \"M\", \"Count\": 37130}, {\"DepDay\": \"2019-02-25T00:00:00\", \"Direction\": \"O\", \"Gender\": \"U\", \"Count\": 9}, {\"DepDay\": \"2019-02-26T00:00:00\", \"Direction\": \"I\", \"Gender\": \"F\", \"Count\": 23352}, {\"DepDay\": \"2019-02-26T00:00:00\", \"Direction\": \"I\", \"Gender\": \"M\", \"Count\": 38771}, {\"DepDay\": \"2019-02-26T00:00:00\", \"Direction\": \"I\", \"Gender\": \"U\", \"Count\": 9}, {\"DepDay\": \"2019-02-26T00:00:00\", \"Direction\": \"O\", \"Gender\": \"F\", \"Count\": 24838}, {\"DepDay\": \"2019-02-26T00:00:00\", \"Direction\": \"O\", \"Gender\": \"M\", \"Count\": 36899}, {\"DepDay\": \"2019-02-26T00:00:00\", \"Direction\": \"O\", \"Gender\": \"U\", \"Count\": 12}, {\"DepDay\": \"2019-02-27T00:00:00\", \"Direction\": \"I\", \"Gender\": \"F\", \"Count\": 22943}, {\"DepDay\": \"2019-02-27T00:00:00\", \"Direction\": \"I\", \"Gender\": \"M\", \"Count\": 33662}, {\"DepDay\": \"2019-02-27T00:00:00\", \"Direction\": \"I\", \"Gender\": \"U\", \"Count\": 6}, {\"DepDay\": \"2019-02-27T00:00:00\", \"Direction\": \"O\", \"Gender\": \"F\", \"Count\": 24289}, {\"DepDay\": \"2019-02-27T00:00:00\", \"Direction\": \"O\", \"Gender\": \"M\", \"Count\": 37326}, {\"DepDay\": \"2019-02-27T00:00:00\", \"Direction\": \"O\", \"Gender\": \"U\", \"Count\": 3}, {\"DepDay\": \"2019-02-28T00:00:00\", \"Direction\": \"I\", \"Gender\": \"F\", \"Count\": 25690}, {\"DepDay\": \"2019-02-28T00:00:00\", \"Direction\": \"I\", \"Gender\": \"M\", \"Count\": 36630}, {\"DepDay\": \"2019-02-28T00:00:00\", \"Direction\": \"I\", \"Gender\": \"U\", \"Count\": 5}, {\"DepDay\": \"2019-02-28T00:00:00\", \"Direction\": \"O\", \"Gender\": \"F\", \"Count\": 22661}, {\"DepDay\": \"2019-02-28T00:00:00\", \"Direction\": \"O\", \"Gender\": \"M\", \"Count\": 42847}, {\"DepDay\": \"2019-02-28T00:00:00\", \"Direction\": \"O\", \"Gender\": \"U\", \"Count\": 15}, {\"DepDay\": \"2019-03-01T00:00:00\", \"Direction\": \"I\", \"Gender\": \"F\", \"Count\": 17414}, {\"DepDay\": \"2019-03-01T00:00:00\", \"Direction\": \"I\", \"Gender\": \"M\", \"Count\": 29418}, {\"DepDay\": \"2019-03-01T00:00:00\", \"Direction\": \"I\", \"Gender\": \"U\", \"Count\": 12}, {\"DepDay\": \"2019-03-01T00:00:00\", \"Direction\": \"O\", \"Gender\": \"F\", \"Count\": 19771}, {\"DepDay\": \"2019-03-01T00:00:00\", \"Direction\": \"O\", \"Gender\": \"M\", \"Count\": 34894}, {\"DepDay\": \"2019-03-01T00:00:00\", \"Direction\": \"O\", \"Gender\": \"U\", \"Count\": 9}, {\"DepDay\": \"2019-03-02T00:00:00\", \"Direction\": \"I\", \"Gender\": \"F\", \"Count\": 26972}, {\"DepDay\": \"2019-03-02T00:00:00\", \"Direction\": \"I\", \"Gender\": \"M\", \"Count\": 44610}, {\"DepDay\": \"2019-03-02T00:00:00\", \"Direction\": \"I\", \"Gender\": \"U\", \"Count\": 14}, {\"DepDay\": \"2019-03-02T00:00:00\", \"Direction\": \"O\", \"Gender\": \"F\", \"Count\": 25960}, {\"DepDay\": \"2019-03-02T00:00:00\", \"Direction\": \"O\", \"Gender\": \"M\", \"Count\": 37212}, {\"DepDay\": \"2019-03-02T00:00:00\", \"Direction\": \"O\", \"Gender\": \"U\", \"Count\": 4}, {\"DepDay\": \"2019-03-03T00:00:00\", \"Direction\": \"I\", \"Gender\": \"F\", \"Count\": 22369}, {\"DepDay\": \"2019-03-03T00:00:00\", \"Direction\": \"I\", \"Gender\": \"M\", \"Count\": 39623}, {\"DepDay\": \"2019-03-03T00:00:00\", \"Direction\": \"I\", \"Gender\": \"U\", \"Count\": 12}, {\"DepDay\": \"2019-03-03T00:00:00\", \"Direction\": \"O\", \"Gender\": \"F\", \"Count\": 23255}, {\"DepDay\": \"2019-03-03T00:00:00\", \"Direction\": \"O\", \"Gender\": \"M\", \"Count\": 34670}, {\"DepDay\": \"2019-03-03T00:00:00\", \"Direction\": \"O\", \"Gender\": \"U\", \"Count\": 6}, {\"DepDay\": \"2019-03-04T00:00:00\", \"Direction\": \"I\", \"Gender\": \"F\", \"Count\": 24370}, {\"DepDay\": \"2019-03-04T00:00:00\", \"Direction\": \"I\", \"Gender\": \"M\", \"Count\": 38635}, {\"DepDay\": \"2019-03-04T00:00:00\", \"Direction\": \"I\", \"Gender\": \"U\", \"Count\": 16}, {\"DepDay\": \"2019-03-04T00:00:00\", \"Direction\": \"O\", \"Gender\": \"F\", \"Count\": 23572}, {\"DepDay\": \"2019-03-04T00:00:00\", \"Direction\": \"O\", \"Gender\": \"M\", \"Count\": 37301}, {\"DepDay\": \"2019-03-04T00:00:00\", \"Direction\": \"O\", \"Gender\": \"U\", \"Count\": 12}, {\"DepDay\": \"2019-03-05T00:00:00\", \"Direction\": \"I\", \"Gender\": \"F\", \"Count\": 23982}, {\"DepDay\": \"2019-03-05T00:00:00\", \"Direction\": \"I\", \"Gender\": \"M\", \"Count\": 39260}, {\"DepDay\": \"2019-03-05T00:00:00\", \"Direction\": \"I\", \"Gender\": \"U\", \"Count\": 15}, {\"DepDay\": \"2019-03-05T00:00:00\", \"Direction\": \"O\", \"Gender\": \"F\", \"Count\": 26694}, {\"DepDay\": \"2019-03-05T00:00:00\", \"Direction\": \"O\", \"Gender\": \"M\", \"Count\": 41923}, {\"DepDay\": \"2019-03-05T00:00:00\", \"Direction\": \"O\", \"Gender\": \"U\", \"Count\": 6}, {\"DepDay\": \"2019-03-06T00:00:00\", \"Direction\": \"I\", \"Gender\": \"F\", \"Count\": 25278}, {\"DepDay\": \"2019-03-06T00:00:00\", \"Direction\": \"I\", \"Gender\": \"M\", \"Count\": 36830}, {\"DepDay\": \"2019-03-06T00:00:00\", \"Direction\": \"I\", \"Gender\": \"U\", \"Count\": 22}, {\"DepDay\": \"2019-03-06T00:00:00\", \"Direction\": \"O\", \"Gender\": \"F\", \"Count\": 24340}, {\"DepDay\": \"2019-03-06T00:00:00\", \"Direction\": \"O\", \"Gender\": \"M\", \"Count\": 39313}, {\"DepDay\": \"2019-03-06T00:00:00\", \"Direction\": \"O\", \"Gender\": \"U\", \"Count\": 9}, {\"DepDay\": \"2019-03-07T00:00:00\", \"Direction\": \"I\", \"Gender\": \"F\", \"Count\": 31253}, {\"DepDay\": \"2019-03-07T00:00:00\", \"Direction\": \"I\", \"Gender\": \"M\", \"Count\": 44496}, {\"DepDay\": \"2019-03-07T00:00:00\", \"Direction\": \"I\", \"Gender\": \"U\", \"Count\": 27}, {\"DepDay\": \"2019-03-07T00:00:00\", \"Direction\": \"O\", \"Gender\": \"F\", \"Count\": 27045}, {\"DepDay\": \"2019-03-07T00:00:00\", \"Direction\": \"O\", \"Gender\": \"M\", \"Count\": 48317}, {\"DepDay\": \"2019-03-07T00:00:00\", \"Direction\": \"O\", \"Gender\": \"U\", \"Count\": 15}, {\"DepDay\": \"2019-03-08T00:00:00\", \"Direction\": \"I\", \"Gender\": \"F\", \"Count\": 20183}, {\"DepDay\": \"2019-03-08T00:00:00\", \"Direction\": \"I\", \"Gender\": \"M\", \"Count\": 34387}, {\"DepDay\": \"2019-03-08T00:00:00\", \"Direction\": \"I\", \"Gender\": \"U\", \"Count\": 23}, {\"DepDay\": \"2019-03-08T00:00:00\", \"Direction\": \"O\", \"Gender\": \"F\", \"Count\": 22688}, {\"DepDay\": \"2019-03-08T00:00:00\", \"Direction\": \"O\", \"Gender\": \"M\", \"Count\": 38987}, {\"DepDay\": \"2019-03-08T00:00:00\", \"Direction\": \"O\", \"Gender\": \"U\", \"Count\": 11}, {\"DepDay\": \"2019-03-09T00:00:00\", \"Direction\": \"I\", \"Gender\": \"F\", \"Count\": 28028}, {\"DepDay\": \"2019-03-09T00:00:00\", \"Direction\": \"I\", \"Gender\": \"M\", \"Count\": 44180}, {\"DepDay\": \"2019-03-09T00:00:00\", \"Direction\": \"I\", \"Gender\": \"U\", \"Count\": 11}, {\"DepDay\": \"2019-03-09T00:00:00\", \"Direction\": \"O\", \"Gender\": \"F\", \"Count\": 26072}, {\"DepDay\": \"2019-03-09T00:00:00\", \"Direction\": \"O\", \"Gender\": \"M\", \"Count\": 36653}, {\"DepDay\": \"2019-03-09T00:00:00\", \"Direction\": \"O\", \"Gender\": \"U\", \"Count\": 10}, {\"DepDay\": \"2019-03-10T00:00:00\", \"Direction\": \"I\", \"Gender\": \"F\", \"Count\": 25634}, {\"DepDay\": \"2019-03-10T00:00:00\", \"Direction\": \"I\", \"Gender\": \"M\", \"Count\": 42820}, {\"DepDay\": \"2019-03-10T00:00:00\", \"Direction\": \"I\", \"Gender\": \"U\", \"Count\": 11}, {\"DepDay\": \"2019-03-10T00:00:00\", \"Direction\": \"O\", \"Gender\": \"F\", \"Count\": 24409}, {\"DepDay\": \"2019-03-10T00:00:00\", \"Direction\": \"O\", \"Gender\": \"M\", \"Count\": 36085}, {\"DepDay\": \"2019-03-10T00:00:00\", \"Direction\": \"O\", \"Gender\": \"U\", \"Count\": 11}, {\"DepDay\": \"2019-03-11T00:00:00\", \"Direction\": \"I\", \"Gender\": \"F\", \"Count\": 25430}, {\"DepDay\": \"2019-03-11T00:00:00\", \"Direction\": \"I\", \"Gender\": \"M\", \"Count\": 40673}, {\"DepDay\": \"2019-03-11T00:00:00\", \"Direction\": \"I\", \"Gender\": \"U\", \"Count\": 20}, {\"DepDay\": \"2019-03-11T00:00:00\", \"Direction\": \"O\", \"Gender\": \"F\", \"Count\": 24879}, {\"DepDay\": \"2019-03-11T00:00:00\", \"Direction\": \"O\", \"Gender\": \"M\", \"Count\": 37705}, {\"DepDay\": \"2019-03-11T00:00:00\", \"Direction\": \"O\", \"Gender\": \"U\", \"Count\": 12}, {\"DepDay\": \"2019-03-12T00:00:00\", \"Direction\": \"I\", \"Gender\": \"F\", \"Count\": 24891}, {\"DepDay\": \"2019-03-12T00:00:00\", \"Direction\": \"I\", \"Gender\": \"M\", \"Count\": 38968}, {\"DepDay\": \"2019-03-12T00:00:00\", \"Direction\": \"I\", \"Gender\": \"U\", \"Count\": 28}, {\"DepDay\": \"2019-03-12T00:00:00\", \"Direction\": \"O\", \"Gender\": \"F\", \"Count\": 25312}, {\"DepDay\": \"2019-03-12T00:00:00\", \"Direction\": \"O\", \"Gender\": \"M\", \"Count\": 39552}, {\"DepDay\": \"2019-03-12T00:00:00\", \"Direction\": \"O\", \"Gender\": \"U\", \"Count\": 15}, {\"DepDay\": \"2019-03-13T00:00:00\", \"Direction\": \"I\", \"Gender\": \"F\", \"Count\": 26817}, {\"DepDay\": \"2019-03-13T00:00:00\", \"Direction\": \"I\", \"Gender\": \"M\", \"Count\": 37390}, {\"DepDay\": \"2019-03-13T00:00:00\", \"Direction\": \"I\", \"Gender\": \"U\", \"Count\": 19}, {\"DepDay\": \"2019-03-13T00:00:00\", \"Direction\": \"O\", \"Gender\": \"F\", \"Count\": 25529}, {\"DepDay\": \"2019-03-13T00:00:00\", \"Direction\": \"O\", \"Gender\": \"M\", \"Count\": 39814}, {\"DepDay\": \"2019-03-13T00:00:00\", \"Direction\": \"O\", \"Gender\": \"U\", \"Count\": 11}, {\"DepDay\": \"2019-03-14T00:00:00\", \"Direction\": \"I\", \"Gender\": \"F\", \"Count\": 30248}, {\"DepDay\": \"2019-03-14T00:00:00\", \"Direction\": \"I\", \"Gender\": \"M\", \"Count\": 43665}, {\"DepDay\": \"2019-03-14T00:00:00\", \"Direction\": \"I\", \"Gender\": \"U\", \"Count\": 28}, {\"DepDay\": \"2019-03-14T00:00:00\", \"Direction\": \"O\", \"Gender\": \"F\", \"Count\": 25169}, {\"DepDay\": \"2019-03-14T00:00:00\", \"Direction\": \"O\", \"Gender\": \"M\", \"Count\": 45937}, {\"DepDay\": \"2019-03-14T00:00:00\", \"Direction\": \"O\", \"Gender\": \"U\", \"Count\": 6}, {\"DepDay\": \"2019-03-15T00:00:00\", \"Direction\": \"I\", \"Gender\": \"F\", \"Count\": 21768}, {\"DepDay\": \"2019-03-15T00:00:00\", \"Direction\": \"I\", \"Gender\": \"M\", \"Count\": 35558}, {\"DepDay\": \"2019-03-15T00:00:00\", \"Direction\": \"I\", \"Gender\": \"U\", \"Count\": 14}, {\"DepDay\": \"2019-03-15T00:00:00\", \"Direction\": \"O\", \"Gender\": \"F\", \"Count\": 21898}, {\"DepDay\": \"2019-03-15T00:00:00\", \"Direction\": \"O\", \"Gender\": \"M\", \"Count\": 37839}, {\"DepDay\": \"2019-03-15T00:00:00\", \"Direction\": \"O\", \"Gender\": \"U\", \"Count\": 11}, {\"DepDay\": \"2019-03-16T00:00:00\", \"Direction\": \"I\", \"Gender\": \"F\", \"Count\": 29281}, {\"DepDay\": \"2019-03-16T00:00:00\", \"Direction\": \"I\", \"Gender\": \"M\", \"Count\": 46404}, {\"DepDay\": \"2019-03-16T00:00:00\", \"Direction\": \"I\", \"Gender\": \"U\", \"Count\": 31}, {\"DepDay\": \"2019-03-16T00:00:00\", \"Direction\": \"O\", \"Gender\": \"F\", \"Count\": 27307}, {\"DepDay\": \"2019-03-16T00:00:00\", \"Direction\": \"O\", \"Gender\": \"M\", \"Count\": 37153}, {\"DepDay\": \"2019-03-16T00:00:00\", \"Direction\": \"O\", \"Gender\": \"U\", \"Count\": 3}, {\"DepDay\": \"2019-03-17T00:00:00\", \"Direction\": \"I\", \"Gender\": \"F\", \"Count\": 25629}, {\"DepDay\": \"2019-03-17T00:00:00\", \"Direction\": \"I\", \"Gender\": \"M\", \"Count\": 41831}, {\"DepDay\": \"2019-03-17T00:00:00\", \"Direction\": \"I\", \"Gender\": \"U\", \"Count\": 10}, {\"DepDay\": \"2019-03-17T00:00:00\", \"Direction\": \"O\", \"Gender\": \"F\", \"Count\": 23946}, {\"DepDay\": \"2019-03-17T00:00:00\", \"Direction\": \"O\", \"Gender\": \"M\", \"Count\": 34334}, {\"DepDay\": \"2019-03-17T00:00:00\", \"Direction\": \"O\", \"Gender\": \"U\", \"Count\": 8}, {\"DepDay\": \"2019-03-18T00:00:00\", \"Direction\": \"I\", \"Gender\": \"F\", \"Count\": 27627}, {\"DepDay\": \"2019-03-18T00:00:00\", \"Direction\": \"I\", \"Gender\": \"M\", \"Count\": 41607}, {\"DepDay\": \"2019-03-18T00:00:00\", \"Direction\": \"I\", \"Gender\": \"U\", \"Count\": 25}, {\"DepDay\": \"2019-03-18T00:00:00\", \"Direction\": \"O\", \"Gender\": \"F\", \"Count\": 24857}, {\"DepDay\": \"2019-03-18T00:00:00\", \"Direction\": \"O\", \"Gender\": \"M\", \"Count\": 35556}, {\"DepDay\": \"2019-03-18T00:00:00\", \"Direction\": \"O\", \"Gender\": \"U\", \"Count\": 13}, {\"DepDay\": \"2019-03-19T00:00:00\", \"Direction\": \"I\", \"Gender\": \"F\", \"Count\": 25760}, {\"DepDay\": \"2019-03-19T00:00:00\", \"Direction\": \"I\", \"Gender\": \"M\", \"Count\": 40197}, {\"DepDay\": \"2019-03-19T00:00:00\", \"Direction\": \"I\", \"Gender\": \"U\", \"Count\": 35}, {\"DepDay\": \"2019-03-19T00:00:00\", \"Direction\": \"O\", \"Gender\": \"F\", \"Count\": 24668}, {\"DepDay\": \"2019-03-19T00:00:00\", \"Direction\": \"O\", \"Gender\": \"M\", \"Count\": 37961}, {\"DepDay\": \"2019-03-19T00:00:00\", \"Direction\": \"O\", \"Gender\": \"U\", \"Count\": 13}, {\"DepDay\": \"2019-03-20T00:00:00\", \"Direction\": \"I\", \"Gender\": \"F\", \"Count\": 27741}, {\"DepDay\": \"2019-03-20T00:00:00\", \"Direction\": \"I\", \"Gender\": \"M\", \"Count\": 39096}, {\"DepDay\": \"2019-03-20T00:00:00\", \"Direction\": \"I\", \"Gender\": \"U\", \"Count\": 17}, {\"DepDay\": \"2019-03-20T00:00:00\", \"Direction\": \"O\", \"Gender\": \"F\", \"Count\": 24322}, {\"DepDay\": \"2019-03-20T00:00:00\", \"Direction\": \"O\", \"Gender\": \"M\", \"Count\": 39047}, {\"DepDay\": \"2019-03-20T00:00:00\", \"Direction\": \"O\", \"Gender\": \"U\", \"Count\": 8}, {\"DepDay\": \"2019-03-21T00:00:00\", \"Direction\": \"I\", \"Gender\": \"F\", \"Count\": 31246}, {\"DepDay\": \"2019-03-21T00:00:00\", \"Direction\": \"I\", \"Gender\": \"M\", \"Count\": 43162}, {\"DepDay\": \"2019-03-21T00:00:00\", \"Direction\": \"I\", \"Gender\": \"U\", \"Count\": 35}, {\"DepDay\": \"2019-03-21T00:00:00\", \"Direction\": \"O\", \"Gender\": \"F\", \"Count\": 26098}, {\"DepDay\": \"2019-03-21T00:00:00\", \"Direction\": \"O\", \"Gender\": \"M\", \"Count\": 45161}, {\"DepDay\": \"2019-03-21T00:00:00\", \"Direction\": \"O\", \"Gender\": \"U\", \"Count\": 22}, {\"DepDay\": \"2019-03-22T00:00:00\", \"Direction\": \"I\", \"Gender\": \"F\", \"Count\": 23515}, {\"DepDay\": \"2019-03-22T00:00:00\", \"Direction\": \"I\", \"Gender\": \"M\", \"Count\": 36018}, {\"DepDay\": \"2019-03-22T00:00:00\", \"Direction\": \"I\", \"Gender\": \"U\", \"Count\": 17}, {\"DepDay\": \"2019-03-22T00:00:00\", \"Direction\": \"O\", \"Gender\": \"F\", \"Count\": 22867}, {\"DepDay\": \"2019-03-22T00:00:00\", \"Direction\": \"O\", \"Gender\": \"M\", \"Count\": 36808}, {\"DepDay\": \"2019-03-22T00:00:00\", \"Direction\": \"O\", \"Gender\": \"U\", \"Count\": 15}, {\"DepDay\": \"2019-03-23T00:00:00\", \"Direction\": \"I\", \"Gender\": \"F\", \"Count\": 28454}, {\"DepDay\": \"2019-03-23T00:00:00\", \"Direction\": \"I\", \"Gender\": \"M\", \"Count\": 46077}, {\"DepDay\": \"2019-03-23T00:00:00\", \"Direction\": \"I\", \"Gender\": \"U\", \"Count\": 20}, {\"DepDay\": \"2019-03-23T00:00:00\", \"Direction\": \"O\", \"Gender\": \"F\", \"Count\": 26736}, {\"DepDay\": \"2019-03-23T00:00:00\", \"Direction\": \"O\", \"Gender\": \"M\", \"Count\": 36021}, {\"DepDay\": \"2019-03-23T00:00:00\", \"Direction\": \"O\", \"Gender\": \"U\", \"Count\": 12}, {\"DepDay\": \"2019-03-24T00:00:00\", \"Direction\": \"I\", \"Gender\": \"F\", \"Count\": 25391}, {\"DepDay\": \"2019-03-24T00:00:00\", \"Direction\": \"I\", \"Gender\": \"M\", \"Count\": 41817}, {\"DepDay\": \"2019-03-24T00:00:00\", \"Direction\": \"I\", \"Gender\": \"U\", \"Count\": 15}, {\"DepDay\": \"2019-03-24T00:00:00\", \"Direction\": \"O\", \"Gender\": \"F\", \"Count\": 24116}, {\"DepDay\": \"2019-03-24T00:00:00\", \"Direction\": \"O\", \"Gender\": \"M\", \"Count\": 33191}, {\"DepDay\": \"2019-03-24T00:00:00\", \"Direction\": \"O\", \"Gender\": \"U\", \"Count\": 6}, {\"DepDay\": \"2019-03-25T00:00:00\", \"Direction\": \"I\", \"Gender\": \"F\", \"Count\": 26528}, {\"DepDay\": \"2019-03-25T00:00:00\", \"Direction\": \"I\", \"Gender\": \"M\", \"Count\": 40795}, {\"DepDay\": \"2019-03-25T00:00:00\", \"Direction\": \"I\", \"Gender\": \"U\", \"Count\": 19}, {\"DepDay\": \"2019-03-25T00:00:00\", \"Direction\": \"O\", \"Gender\": \"F\", \"Count\": 25348}, {\"DepDay\": \"2019-03-25T00:00:00\", \"Direction\": \"O\", \"Gender\": \"M\", \"Count\": 35514}, {\"DepDay\": \"2019-03-25T00:00:00\", \"Direction\": \"O\", \"Gender\": \"U\", \"Count\": 12}, {\"DepDay\": \"2019-03-26T00:00:00\", \"Direction\": \"I\", \"Gender\": \"F\", \"Count\": 24678}, {\"DepDay\": \"2019-03-26T00:00:00\", \"Direction\": \"I\", \"Gender\": \"M\", \"Count\": 39101}, {\"DepDay\": \"2019-03-26T00:00:00\", \"Direction\": \"I\", \"Gender\": \"U\", \"Count\": 16}, {\"DepDay\": \"2019-03-26T00:00:00\", \"Direction\": \"O\", \"Gender\": \"F\", \"Count\": 27548}, {\"DepDay\": \"2019-03-26T00:00:00\", \"Direction\": \"O\", \"Gender\": \"M\", \"Count\": 39275}, {\"DepDay\": \"2019-03-26T00:00:00\", \"Direction\": \"O\", \"Gender\": \"U\", \"Count\": 11}, {\"DepDay\": \"2019-03-27T00:00:00\", \"Direction\": \"I\", \"Gender\": \"F\", \"Count\": 29578}, {\"DepDay\": \"2019-03-27T00:00:00\", \"Direction\": \"I\", \"Gender\": \"M\", \"Count\": 39649}, {\"DepDay\": \"2019-03-27T00:00:00\", \"Direction\": \"I\", \"Gender\": \"U\", \"Count\": 22}, {\"DepDay\": \"2019-03-27T00:00:00\", \"Direction\": \"O\", \"Gender\": \"F\", \"Count\": 28373}, {\"DepDay\": \"2019-03-27T00:00:00\", \"Direction\": \"O\", \"Gender\": \"M\", \"Count\": 40805}, {\"DepDay\": \"2019-03-27T00:00:00\", \"Direction\": \"O\", \"Gender\": \"U\", \"Count\": 10}, {\"DepDay\": \"2019-03-28T00:00:00\", \"Direction\": \"I\", \"Gender\": \"F\", \"Count\": 33573}, {\"DepDay\": \"2019-03-28T00:00:00\", \"Direction\": \"I\", \"Gender\": \"M\", \"Count\": 45399}, {\"DepDay\": \"2019-03-28T00:00:00\", \"Direction\": \"I\", \"Gender\": \"U\", \"Count\": 36}, {\"DepDay\": \"2019-03-28T00:00:00\", \"Direction\": \"O\", \"Gender\": \"F\", \"Count\": 29463}, {\"DepDay\": \"2019-03-28T00:00:00\", \"Direction\": \"O\", \"Gender\": \"M\", \"Count\": 49277}, {\"DepDay\": \"2019-03-28T00:00:00\", \"Direction\": \"O\", \"Gender\": \"U\", \"Count\": 17}, {\"DepDay\": \"2019-03-29T00:00:00\", \"Direction\": \"I\", \"Gender\": \"F\", \"Count\": 25457}, {\"DepDay\": \"2019-03-29T00:00:00\", \"Direction\": \"I\", \"Gender\": \"M\", \"Count\": 37088}, {\"DepDay\": \"2019-03-29T00:00:00\", \"Direction\": \"I\", \"Gender\": \"U\", \"Count\": 26}, {\"DepDay\": \"2019-03-29T00:00:00\", \"Direction\": \"O\", \"Gender\": \"F\", \"Count\": 23762}, {\"DepDay\": \"2019-03-29T00:00:00\", \"Direction\": \"O\", \"Gender\": \"M\", \"Count\": 38760}, {\"DepDay\": \"2019-03-29T00:00:00\", \"Direction\": \"O\", \"Gender\": \"U\", \"Count\": 16}, {\"DepDay\": \"2019-03-30T00:00:00\", \"Direction\": \"I\", \"Gender\": \"F\", \"Count\": 31945}, {\"DepDay\": \"2019-03-30T00:00:00\", \"Direction\": \"I\", \"Gender\": \"M\", \"Count\": 45706}, {\"DepDay\": \"2019-03-30T00:00:00\", \"Direction\": \"I\", \"Gender\": \"U\", \"Count\": 24}, {\"DepDay\": \"2019-03-30T00:00:00\", \"Direction\": \"O\", \"Gender\": \"F\", \"Count\": 31809}, {\"DepDay\": \"2019-03-30T00:00:00\", \"Direction\": \"O\", \"Gender\": \"M\", \"Count\": 40220}, {\"DepDay\": \"2019-03-30T00:00:00\", \"Direction\": \"O\", \"Gender\": \"U\", \"Count\": 5}, {\"DepDay\": \"2019-03-31T00:00:00\", \"Direction\": \"I\", \"Gender\": \"F\", \"Count\": 29419}, {\"DepDay\": \"2019-03-31T00:00:00\", \"Direction\": \"I\", \"Gender\": \"M\", \"Count\": 44309}, {\"DepDay\": \"2019-03-31T00:00:00\", \"Direction\": \"I\", \"Gender\": \"U\", \"Count\": 25}, {\"DepDay\": \"2019-03-31T00:00:00\", \"Direction\": \"O\", \"Gender\": \"F\", \"Count\": 28166}, {\"DepDay\": \"2019-03-31T00:00:00\", \"Direction\": \"O\", \"Gender\": \"M\", \"Count\": 38254}, {\"DepDay\": \"2019-03-31T00:00:00\", \"Direction\": \"O\", \"Gender\": \"U\", \"Count\": 1}, {\"DepDay\": \"2019-04-01T00:00:00\", \"Direction\": \"I\", \"Gender\": \"F\", \"Count\": 34283}, {\"DepDay\": \"2019-04-01T00:00:00\", \"Direction\": \"I\", \"Gender\": \"M\", \"Count\": 44716}, {\"DepDay\": \"2019-04-01T00:00:00\", \"Direction\": \"I\", \"Gender\": \"U\", \"Count\": 37}, {\"DepDay\": \"2019-04-01T00:00:00\", \"Direction\": \"O\", \"Gender\": \"F\", \"Count\": 27238}, {\"DepDay\": \"2019-04-01T00:00:00\", \"Direction\": \"O\", \"Gender\": \"M\", \"Count\": 39929}, {\"DepDay\": \"2019-04-01T00:00:00\", \"Direction\": \"O\", \"Gender\": \"U\", \"Count\": 9}, {\"DepDay\": \"2019-04-02T00:00:00\", \"Direction\": \"I\", \"Gender\": \"F\", \"Count\": 28987}, {\"DepDay\": \"2019-04-02T00:00:00\", \"Direction\": \"I\", \"Gender\": \"M\", \"Count\": 40602}, {\"DepDay\": \"2019-04-02T00:00:00\", \"Direction\": \"I\", \"Gender\": \"U\", \"Count\": 22}, {\"DepDay\": \"2019-04-02T00:00:00\", \"Direction\": \"O\", \"Gender\": \"F\", \"Count\": 27570}, {\"DepDay\": \"2019-04-02T00:00:00\", \"Direction\": \"O\", \"Gender\": \"M\", \"Count\": 40348}, {\"DepDay\": \"2019-04-02T00:00:00\", \"Direction\": \"O\", \"Gender\": \"U\", \"Count\": 10}, {\"DepDay\": \"2019-04-03T00:00:00\", \"Direction\": \"I\", \"Gender\": \"F\", \"Count\": 28227}, {\"DepDay\": \"2019-04-03T00:00:00\", \"Direction\": \"I\", \"Gender\": \"M\", \"Count\": 38788}, {\"DepDay\": \"2019-04-03T00:00:00\", \"Direction\": \"I\", \"Gender\": \"U\", \"Count\": 619}, {\"DepDay\": \"2019-04-03T00:00:00\", \"Direction\": \"O\", \"Gender\": \"F\", \"Count\": 27975}, {\"DepDay\": \"2019-04-03T00:00:00\", \"Direction\": \"O\", \"Gender\": \"M\", \"Count\": 42510}, {\"DepDay\": \"2019-04-03T00:00:00\", \"Direction\": \"O\", \"Gender\": \"U\", \"Count\": 356}, {\"DepDay\": \"2019-04-04T00:00:00\", \"Direction\": \"I\", \"Gender\": \"F\", \"Count\": 25784}, {\"DepDay\": \"2019-04-04T00:00:00\", \"Direction\": \"I\", \"Gender\": \"M\", \"Count\": 34044}, {\"DepDay\": \"2019-04-04T00:00:00\", \"Direction\": \"I\", \"Gender\": \"U\", \"Count\": 2426}, {\"DepDay\": \"2019-04-04T00:00:00\", \"Direction\": \"O\", \"Gender\": \"F\", \"Count\": 25249}, {\"DepDay\": \"2019-04-04T00:00:00\", \"Direction\": \"O\", \"Gender\": \"M\", \"Count\": 42298}, {\"DepDay\": \"2019-04-04T00:00:00\", \"Direction\": \"O\", \"Gender\": \"U\", \"Count\": 1712}, {\"DepDay\": \"2019-04-05T00:00:00\", \"Direction\": \"I\", \"Gender\": \"F\", \"Count\": 20861}, {\"DepDay\": \"2019-04-05T00:00:00\", \"Direction\": \"I\", \"Gender\": \"M\", \"Count\": 30687}, {\"DepDay\": \"2019-04-05T00:00:00\", \"Direction\": \"I\", \"Gender\": \"U\", \"Count\": 1263}, {\"DepDay\": \"2019-04-05T00:00:00\", \"Direction\": \"O\", \"Gender\": \"F\", \"Count\": 22100}, {\"DepDay\": \"2019-04-05T00:00:00\", \"Direction\": \"O\", \"Gender\": \"M\", \"Count\": 35682}, {\"DepDay\": \"2019-04-05T00:00:00\", \"Direction\": \"O\", \"Gender\": \"U\", \"Count\": 1458}, {\"DepDay\": \"2019-04-06T00:00:00\", \"Direction\": \"I\", \"Gender\": \"F\", \"Count\": 22650}, {\"DepDay\": \"2019-04-06T00:00:00\", \"Direction\": \"I\", \"Gender\": \"M\", \"Count\": 36432}, {\"DepDay\": \"2019-04-06T00:00:00\", \"Direction\": \"I\", \"Gender\": \"U\", \"Count\": 1757}, {\"DepDay\": \"2019-04-06T00:00:00\", \"Direction\": \"O\", \"Gender\": \"F\", \"Count\": 24868}, {\"DepDay\": \"2019-04-06T00:00:00\", \"Direction\": \"O\", \"Gender\": \"M\", \"Count\": 34153}, {\"DepDay\": \"2019-04-06T00:00:00\", \"Direction\": \"O\", \"Gender\": \"U\", \"Count\": 1186}, {\"DepDay\": \"2019-04-07T00:00:00\", \"Direction\": \"I\", \"Gender\": \"F\", \"Count\": 21164}, {\"DepDay\": \"2019-04-07T00:00:00\", \"Direction\": \"I\", \"Gender\": \"M\", \"Count\": 33582}, {\"DepDay\": \"2019-04-07T00:00:00\", \"Direction\": \"I\", \"Gender\": \"U\", \"Count\": 5495}, {\"DepDay\": \"2019-04-07T00:00:00\", \"Direction\": \"O\", \"Gender\": \"F\", \"Count\": 20966}, {\"DepDay\": \"2019-04-07T00:00:00\", \"Direction\": \"O\", \"Gender\": \"M\", \"Count\": 30298}, {\"DepDay\": \"2019-04-07T00:00:00\", \"Direction\": \"O\", \"Gender\": \"U\", \"Count\": 5301}, {\"DepDay\": \"2019-04-08T00:00:00\", \"Direction\": \"I\", \"Gender\": \"F\", \"Count\": 23486}, {\"DepDay\": \"2019-04-08T00:00:00\", \"Direction\": \"I\", \"Gender\": \"M\", \"Count\": 35937}, {\"DepDay\": \"2019-04-08T00:00:00\", \"Direction\": \"I\", \"Gender\": \"U\", \"Count\": 948}, {\"DepDay\": \"2019-04-08T00:00:00\", \"Direction\": \"O\", \"Gender\": \"F\", \"Count\": 24370}, {\"DepDay\": \"2019-04-08T00:00:00\", \"Direction\": \"O\", \"Gender\": \"M\", \"Count\": 36009}, {\"DepDay\": \"2019-04-08T00:00:00\", \"Direction\": \"O\", \"Gender\": \"U\", \"Count\": 681}, {\"DepDay\": \"2019-04-09T00:00:00\", \"Direction\": \"I\", \"Gender\": \"F\", \"Count\": 21834}, {\"DepDay\": \"2019-04-09T00:00:00\", \"Direction\": \"I\", \"Gender\": \"M\", \"Count\": 32916}, {\"DepDay\": \"2019-04-09T00:00:00\", \"Direction\": \"I\", \"Gender\": \"U\", \"Count\": 3402}, {\"DepDay\": \"2019-04-09T00:00:00\", \"Direction\": \"O\", \"Gender\": \"F\", \"Count\": 24536}, {\"DepDay\": \"2019-04-09T00:00:00\", \"Direction\": \"O\", \"Gender\": \"M\", \"Count\": 34873}, {\"DepDay\": \"2019-04-09T00:00:00\", \"Direction\": \"O\", \"Gender\": \"U\", \"Count\": 2928}, {\"DepDay\": \"2019-04-10T00:00:00\", \"Direction\": \"I\", \"Gender\": \"F\", \"Count\": 23926}, {\"DepDay\": \"2019-04-10T00:00:00\", \"Direction\": \"I\", \"Gender\": \"M\", \"Count\": 34791}, {\"DepDay\": \"2019-04-10T00:00:00\", \"Direction\": \"I\", \"Gender\": \"U\", \"Count\": 683}, {\"DepDay\": \"2019-04-10T00:00:00\", \"Direction\": \"O\", \"Gender\": \"F\", \"Count\": 26753}, {\"DepDay\": \"2019-04-10T00:00:00\", \"Direction\": \"O\", \"Gender\": \"M\", \"Count\": 40067}, {\"DepDay\": \"2019-04-10T00:00:00\", \"Direction\": \"O\", \"Gender\": \"U\", \"Count\": 584}, {\"DepDay\": \"2019-04-11T00:00:00\", \"Direction\": \"I\", \"Gender\": \"F\", \"Count\": 29144}, {\"DepDay\": \"2019-04-11T00:00:00\", \"Direction\": \"I\", \"Gender\": \"M\", \"Count\": 41054}, {\"DepDay\": \"2019-04-11T00:00:00\", \"Direction\": \"I\", \"Gender\": \"U\", \"Count\": 727}, {\"DepDay\": \"2019-04-11T00:00:00\", \"Direction\": \"O\", \"Gender\": \"F\", \"Count\": 29209}, {\"DepDay\": \"2019-04-11T00:00:00\", \"Direction\": \"O\", \"Gender\": \"M\", \"Count\": 47567}, {\"DepDay\": \"2019-04-11T00:00:00\", \"Direction\": \"O\", \"Gender\": \"U\", \"Count\": 489}, {\"DepDay\": \"2019-04-12T00:00:00\", \"Direction\": \"I\", \"Gender\": \"F\", \"Count\": 20667}, {\"DepDay\": \"2019-04-12T00:00:00\", \"Direction\": \"I\", \"Gender\": \"M\", \"Count\": 32684}, {\"DepDay\": \"2019-04-12T00:00:00\", \"Direction\": \"I\", \"Gender\": \"U\", \"Count\": 623}, {\"DepDay\": \"2019-04-12T00:00:00\", \"Direction\": \"O\", \"Gender\": \"F\", \"Count\": 24991}, {\"DepDay\": \"2019-04-12T00:00:00\", \"Direction\": \"O\", \"Gender\": \"M\", \"Count\": 38922}, {\"DepDay\": \"2019-04-12T00:00:00\", \"Direction\": \"O\", \"Gender\": \"U\", \"Count\": 527}, {\"DepDay\": \"2019-04-13T00:00:00\", \"Direction\": \"I\", \"Gender\": \"F\", \"Count\": 26262}, {\"DepDay\": \"2019-04-13T00:00:00\", \"Direction\": \"I\", \"Gender\": \"M\", \"Count\": 42971}, {\"DepDay\": \"2019-04-13T00:00:00\", \"Direction\": \"I\", \"Gender\": \"U\", \"Count\": 518}, {\"DepDay\": \"2019-04-13T00:00:00\", \"Direction\": \"O\", \"Gender\": \"F\", \"Count\": 28800}, {\"DepDay\": \"2019-04-13T00:00:00\", \"Direction\": \"O\", \"Gender\": \"M\", \"Count\": 38658}, {\"DepDay\": \"2019-04-13T00:00:00\", \"Direction\": \"O\", \"Gender\": \"U\", \"Count\": 496}, {\"DepDay\": \"2019-04-14T00:00:00\", \"Direction\": \"I\", \"Gender\": \"F\", \"Count\": 23905}, {\"DepDay\": \"2019-04-14T00:00:00\", \"Direction\": \"I\", \"Gender\": \"M\", \"Count\": 39658}, {\"DepDay\": \"2019-04-14T00:00:00\", \"Direction\": \"I\", \"Gender\": \"U\", \"Count\": 1009}, {\"DepDay\": \"2019-04-14T00:00:00\", \"Direction\": \"O\", \"Gender\": \"F\", \"Count\": 25918}, {\"DepDay\": \"2019-04-14T00:00:00\", \"Direction\": \"O\", \"Gender\": \"M\", \"Count\": 35505}, {\"DepDay\": \"2019-04-14T00:00:00\", \"Direction\": \"O\", \"Gender\": \"U\", \"Count\": 724}, {\"DepDay\": \"2019-04-15T00:00:00\", \"Direction\": \"I\", \"Gender\": \"F\", \"Count\": 25938}, {\"DepDay\": \"2019-04-15T00:00:00\", \"Direction\": \"I\", \"Gender\": \"M\", \"Count\": 40626}, {\"DepDay\": \"2019-04-15T00:00:00\", \"Direction\": \"I\", \"Gender\": \"U\", \"Count\": 706}, {\"DepDay\": \"2019-04-15T00:00:00\", \"Direction\": \"O\", \"Gender\": \"F\", \"Count\": 25688}, {\"DepDay\": \"2019-04-15T00:00:00\", \"Direction\": \"O\", \"Gender\": \"M\", \"Count\": 39475}, {\"DepDay\": \"2019-04-15T00:00:00\", \"Direction\": \"O\", \"Gender\": \"U\", \"Count\": 626}, {\"DepDay\": \"2019-04-16T00:00:00\", \"Direction\": \"I\", \"Gender\": \"F\", \"Count\": 23909}, {\"DepDay\": \"2019-04-16T00:00:00\", \"Direction\": \"I\", \"Gender\": \"M\", \"Count\": 37020}, {\"DepDay\": \"2019-04-16T00:00:00\", \"Direction\": \"I\", \"Gender\": \"U\", \"Count\": 846}, {\"DepDay\": \"2019-04-16T00:00:00\", \"Direction\": \"O\", \"Gender\": \"F\", \"Count\": 25117}, {\"DepDay\": \"2019-04-16T00:00:00\", \"Direction\": \"O\", \"Gender\": \"M\", \"Count\": 38562}, {\"DepDay\": \"2019-04-16T00:00:00\", \"Direction\": \"O\", \"Gender\": \"U\", \"Count\": 627}, {\"DepDay\": \"2019-04-17T00:00:00\", \"Direction\": \"I\", \"Gender\": \"F\", \"Count\": 24927}, {\"DepDay\": \"2019-04-17T00:00:00\", \"Direction\": \"I\", \"Gender\": \"M\", \"Count\": 35858}, {\"DepDay\": \"2019-04-17T00:00:00\", \"Direction\": \"I\", \"Gender\": \"U\", \"Count\": 901}, {\"DepDay\": \"2019-04-17T00:00:00\", \"Direction\": \"O\", \"Gender\": \"F\", \"Count\": 22597}, {\"DepDay\": \"2019-04-17T00:00:00\", \"Direction\": \"O\", \"Gender\": \"M\", \"Count\": 38679}, {\"DepDay\": \"2019-04-17T00:00:00\", \"Direction\": \"O\", \"Gender\": \"U\", \"Count\": 993}, {\"DepDay\": \"2019-04-18T00:00:00\", \"Direction\": \"I\", \"Gender\": \"F\", \"Count\": 28748}, {\"DepDay\": \"2019-04-18T00:00:00\", \"Direction\": \"I\", \"Gender\": \"M\", \"Count\": 41721}, {\"DepDay\": \"2019-04-18T00:00:00\", \"Direction\": \"I\", \"Gender\": \"U\", \"Count\": 1893}, {\"DepDay\": \"2019-04-18T00:00:00\", \"Direction\": \"O\", \"Gender\": \"F\", \"Count\": 22808}, {\"DepDay\": \"2019-04-18T00:00:00\", \"Direction\": \"O\", \"Gender\": \"M\", \"Count\": 43622}, {\"DepDay\": \"2019-04-18T00:00:00\", \"Direction\": \"O\", \"Gender\": \"U\", \"Count\": 1052}, {\"DepDay\": \"2019-04-19T00:00:00\", \"Direction\": \"I\", \"Gender\": \"F\", \"Count\": 23508}, {\"DepDay\": \"2019-04-19T00:00:00\", \"Direction\": \"I\", \"Gender\": \"M\", \"Count\": 36392}, {\"DepDay\": \"2019-04-19T00:00:00\", \"Direction\": \"I\", \"Gender\": \"U\", \"Count\": 764}, {\"DepDay\": \"2019-04-19T00:00:00\", \"Direction\": \"O\", \"Gender\": \"F\", \"Count\": 22644}, {\"DepDay\": \"2019-04-19T00:00:00\", \"Direction\": \"O\", \"Gender\": \"M\", \"Count\": 39468}, {\"DepDay\": \"2019-04-19T00:00:00\", \"Direction\": \"O\", \"Gender\": \"U\", \"Count\": 663}, {\"DepDay\": \"2019-04-20T00:00:00\", \"Direction\": \"I\", \"Gender\": \"F\", \"Count\": 26396}, {\"DepDay\": \"2019-04-20T00:00:00\", \"Direction\": \"I\", \"Gender\": \"M\", \"Count\": 45634}, {\"DepDay\": \"2019-04-20T00:00:00\", \"Direction\": \"I\", \"Gender\": \"U\", \"Count\": 761}, {\"DepDay\": \"2019-04-20T00:00:00\", \"Direction\": \"O\", \"Gender\": \"F\", \"Count\": 29003}, {\"DepDay\": \"2019-04-20T00:00:00\", \"Direction\": \"O\", \"Gender\": \"M\", \"Count\": 41366}, {\"DepDay\": \"2019-04-20T00:00:00\", \"Direction\": \"O\", \"Gender\": \"U\", \"Count\": 675}, {\"DepDay\": \"2019-04-21T00:00:00\", \"Direction\": \"I\", \"Gender\": \"F\", \"Count\": 23405}, {\"DepDay\": \"2019-04-21T00:00:00\", \"Direction\": \"I\", \"Gender\": \"M\", \"Count\": 40013}, {\"DepDay\": \"2019-04-21T00:00:00\", \"Direction\": \"I\", \"Gender\": \"U\", \"Count\": 656}, {\"DepDay\": \"2019-04-21T00:00:00\", \"Direction\": \"O\", \"Gender\": \"F\", \"Count\": 25523}, {\"DepDay\": \"2019-04-21T00:00:00\", \"Direction\": \"O\", \"Gender\": \"M\", \"Count\": 36908}, {\"DepDay\": \"2019-04-21T00:00:00\", \"Direction\": \"O\", \"Gender\": \"U\", \"Count\": 692}, {\"DepDay\": \"2019-04-22T00:00:00\", \"Direction\": \"I\", \"Gender\": \"F\", \"Count\": 25384}, {\"DepDay\": \"2019-04-22T00:00:00\", \"Direction\": \"I\", \"Gender\": \"M\", \"Count\": 40502}, {\"DepDay\": \"2019-04-22T00:00:00\", \"Direction\": \"I\", \"Gender\": \"U\", \"Count\": 931}, {\"DepDay\": \"2019-04-22T00:00:00\", \"Direction\": \"O\", \"Gender\": \"F\", \"Count\": 24791}, {\"DepDay\": \"2019-04-22T00:00:00\", \"Direction\": \"O\", \"Gender\": \"M\", \"Count\": 38281}, {\"DepDay\": \"2019-04-22T00:00:00\", \"Direction\": \"O\", \"Gender\": \"U\", \"Count\": 647}, {\"DepDay\": \"2019-04-23T00:00:00\", \"Direction\": \"I\", \"Gender\": \"F\", \"Count\": 23048}, {\"DepDay\": \"2019-04-23T00:00:00\", \"Direction\": \"I\", \"Gender\": \"M\", \"Count\": 36968}, {\"DepDay\": \"2019-04-23T00:00:00\", \"Direction\": \"I\", \"Gender\": \"U\", \"Count\": 484}, {\"DepDay\": \"2019-04-23T00:00:00\", \"Direction\": \"O\", \"Gender\": \"F\", \"Count\": 23903}, {\"DepDay\": \"2019-04-23T00:00:00\", \"Direction\": \"O\", \"Gender\": \"M\", \"Count\": 38278}, {\"DepDay\": \"2019-04-23T00:00:00\", \"Direction\": \"O\", \"Gender\": \"U\", \"Count\": 426}, {\"DepDay\": \"2019-04-24T00:00:00\", \"Direction\": \"I\", \"Gender\": \"F\", \"Count\": 26511}, {\"DepDay\": \"2019-04-24T00:00:00\", \"Direction\": \"I\", \"Gender\": \"M\", \"Count\": 38092}, {\"DepDay\": \"2019-04-24T00:00:00\", \"Direction\": \"I\", \"Gender\": \"U\", \"Count\": 928}, {\"DepDay\": \"2019-04-24T00:00:00\", \"Direction\": \"O\", \"Gender\": \"F\", \"Count\": 24804}, {\"DepDay\": \"2019-04-24T00:00:00\", \"Direction\": \"O\", \"Gender\": \"M\", \"Count\": 40967}, {\"DepDay\": \"2019-04-24T00:00:00\", \"Direction\": \"O\", \"Gender\": \"U\", \"Count\": 687}, {\"DepDay\": \"2019-04-25T00:00:00\", \"Direction\": \"I\", \"Gender\": \"F\", \"Count\": 33511}, {\"DepDay\": \"2019-04-25T00:00:00\", \"Direction\": \"I\", \"Gender\": \"M\", \"Count\": 44363}, {\"DepDay\": \"2019-04-25T00:00:00\", \"Direction\": \"I\", \"Gender\": \"U\", \"Count\": 1092}, {\"DepDay\": \"2019-04-25T00:00:00\", \"Direction\": \"O\", \"Gender\": \"F\", \"Count\": 26790}, {\"DepDay\": \"2019-04-25T00:00:00\", \"Direction\": \"O\", \"Gender\": \"M\", \"Count\": 48251}, {\"DepDay\": \"2019-04-25T00:00:00\", \"Direction\": \"O\", \"Gender\": \"U\", \"Count\": 925}, {\"DepDay\": \"2019-04-26T00:00:00\", \"Direction\": \"I\", \"Gender\": \"F\", \"Count\": 28999}, {\"DepDay\": \"2019-04-26T00:00:00\", \"Direction\": \"I\", \"Gender\": \"M\", \"Count\": 40180}, {\"DepDay\": \"2019-04-26T00:00:00\", \"Direction\": \"I\", \"Gender\": \"U\", \"Count\": 774}, {\"DepDay\": \"2019-04-26T00:00:00\", \"Direction\": \"O\", \"Gender\": \"F\", \"Count\": 24021}, {\"DepDay\": \"2019-04-26T00:00:00\", \"Direction\": \"O\", \"Gender\": \"M\", \"Count\": 41826}, {\"DepDay\": \"2019-04-26T00:00:00\", \"Direction\": \"O\", \"Gender\": \"U\", \"Count\": 270}, {\"DepDay\": \"2019-04-27T00:00:00\", \"Direction\": \"I\", \"Gender\": \"F\", \"Count\": 29552}, {\"DepDay\": \"2019-04-27T00:00:00\", \"Direction\": \"I\", \"Gender\": \"M\", \"Count\": 45210}, {\"DepDay\": \"2019-04-27T00:00:00\", \"Direction\": \"I\", \"Gender\": \"U\", \"Count\": 1050}, {\"DepDay\": \"2019-04-27T00:00:00\", \"Direction\": \"O\", \"Gender\": \"F\", \"Count\": 28098}, {\"DepDay\": \"2019-04-27T00:00:00\", \"Direction\": \"O\", \"Gender\": \"M\", \"Count\": 39450}, {\"DepDay\": \"2019-04-27T00:00:00\", \"Direction\": \"O\", \"Gender\": \"U\", \"Count\": 343}, {\"DepDay\": \"2019-04-28T00:00:00\", \"Direction\": \"I\", \"Gender\": \"F\", \"Count\": 29430}, {\"DepDay\": \"2019-04-28T00:00:00\", \"Direction\": \"I\", \"Gender\": \"M\", \"Count\": 44730}, {\"DepDay\": \"2019-04-28T00:00:00\", \"Direction\": \"I\", \"Gender\": \"U\", \"Count\": 782}, {\"DepDay\": \"2019-04-28T00:00:00\", \"Direction\": \"O\", \"Gender\": \"F\", \"Count\": 25286}, {\"DepDay\": \"2019-04-28T00:00:00\", \"Direction\": \"O\", \"Gender\": \"M\", \"Count\": 38675}, {\"DepDay\": \"2019-04-28T00:00:00\", \"Direction\": \"O\", \"Gender\": \"U\", \"Count\": 660}, {\"DepDay\": \"2019-04-29T00:00:00\", \"Direction\": \"I\", \"Gender\": \"F\", \"Count\": 30824}, {\"DepDay\": \"2019-04-29T00:00:00\", \"Direction\": \"I\", \"Gender\": \"M\", \"Count\": 45865}, {\"DepDay\": \"2019-04-29T00:00:00\", \"Direction\": \"I\", \"Gender\": \"U\", \"Count\": 365}, {\"DepDay\": \"2019-04-29T00:00:00\", \"Direction\": \"O\", \"Gender\": \"F\", \"Count\": 27703}, {\"DepDay\": \"2019-04-29T00:00:00\", \"Direction\": \"O\", \"Gender\": \"M\", \"Count\": 45362}, {\"DepDay\": \"2019-04-29T00:00:00\", \"Direction\": \"O\", \"Gender\": \"U\", \"Count\": 391}, {\"DepDay\": \"2019-04-30T00:00:00\", \"Direction\": \"I\", \"Gender\": \"F\", \"Count\": 32972}, {\"DepDay\": \"2019-04-30T00:00:00\", \"Direction\": \"I\", \"Gender\": \"M\", \"Count\": 48237}, {\"DepDay\": \"2019-04-30T00:00:00\", \"Direction\": \"I\", \"Gender\": \"U\", \"Count\": 47}, {\"DepDay\": \"2019-04-30T00:00:00\", \"Direction\": \"O\", \"Gender\": \"F\", \"Count\": 28433}, {\"DepDay\": \"2019-04-30T00:00:00\", \"Direction\": \"O\", \"Gender\": \"M\", \"Count\": 47749}, {\"DepDay\": \"2019-04-30T00:00:00\", \"Direction\": \"O\", \"Gender\": \"U\", \"Count\": 50}, {\"DepDay\": \"2019-05-01T00:00:00\", \"Direction\": \"I\", \"Gender\": \"F\", \"Count\": 34249}, {\"DepDay\": \"2019-05-01T00:00:00\", \"Direction\": \"I\", \"Gender\": \"M\", \"Count\": 47257}, {\"DepDay\": \"2019-05-01T00:00:00\", \"Direction\": \"I\", \"Gender\": \"U\", \"Count\": 41}, {\"DepDay\": \"2019-05-01T00:00:00\", \"Direction\": \"O\", \"Gender\": \"F\", \"Count\": 26644}, {\"DepDay\": \"2019-05-01T00:00:00\", \"Direction\": \"O\", \"Gender\": \"M\", \"Count\": 49521}, {\"DepDay\": \"2019-05-01T00:00:00\", \"Direction\": \"O\", \"Gender\": \"U\", \"Count\": 26}, {\"DepDay\": \"2019-05-02T00:00:00\", \"Direction\": \"I\", \"Gender\": \"F\", \"Count\": 37416}, {\"DepDay\": \"2019-05-02T00:00:00\", \"Direction\": \"I\", \"Gender\": \"M\", \"Count\": 49027}, {\"DepDay\": \"2019-05-02T00:00:00\", \"Direction\": \"I\", \"Gender\": \"U\", \"Count\": 29}, {\"DepDay\": \"2019-05-02T00:00:00\", \"Direction\": \"O\", \"Gender\": \"F\", \"Count\": 26506}, {\"DepDay\": \"2019-05-02T00:00:00\", \"Direction\": \"O\", \"Gender\": \"M\", \"Count\": 52415}, {\"DepDay\": \"2019-05-02T00:00:00\", \"Direction\": \"O\", \"Gender\": \"U\", \"Count\": 7}, {\"DepDay\": \"2019-05-03T00:00:00\", \"Direction\": \"I\", \"Gender\": \"F\", \"Count\": 33798}, {\"DepDay\": \"2019-05-03T00:00:00\", \"Direction\": \"I\", \"Gender\": \"M\", \"Count\": 45093}, {\"DepDay\": \"2019-05-03T00:00:00\", \"Direction\": \"I\", \"Gender\": \"U\", \"Count\": 23}, {\"DepDay\": \"2019-05-03T00:00:00\", \"Direction\": \"O\", \"Gender\": \"F\", \"Count\": 22989}, {\"DepDay\": \"2019-05-03T00:00:00\", \"Direction\": \"O\", \"Gender\": \"M\", \"Count\": 44158}, {\"DepDay\": \"2019-05-03T00:00:00\", \"Direction\": \"O\", \"Gender\": \"U\", \"Count\": 18}, {\"DepDay\": \"2019-05-04T00:00:00\", \"Direction\": \"I\", \"Gender\": \"F\", \"Count\": 39444}, {\"DepDay\": \"2019-05-04T00:00:00\", \"Direction\": \"I\", \"Gender\": \"M\", \"Count\": 55419}, {\"DepDay\": \"2019-05-04T00:00:00\", \"Direction\": \"I\", \"Gender\": \"U\", \"Count\": 11}, {\"DepDay\": \"2019-05-04T00:00:00\", \"Direction\": \"O\", \"Gender\": \"F\", \"Count\": 27770}, {\"DepDay\": \"2019-05-04T00:00:00\", \"Direction\": \"O\", \"Gender\": \"M\", \"Count\": 44225}, {\"DepDay\": \"2019-05-04T00:00:00\", \"Direction\": \"O\", \"Gender\": \"U\", \"Count\": 5}, {\"DepDay\": \"2019-05-05T00:00:00\", \"Direction\": \"I\", \"Gender\": \"F\", \"Count\": 36412}, {\"DepDay\": \"2019-05-05T00:00:00\", \"Direction\": \"I\", \"Gender\": \"M\", \"Count\": 50528}, {\"DepDay\": \"2019-05-05T00:00:00\", \"Direction\": \"I\", \"Gender\": \"U\", \"Count\": 26}, {\"DepDay\": \"2019-05-05T00:00:00\", \"Direction\": \"O\", \"Gender\": \"F\", \"Count\": 22199}, {\"DepDay\": \"2019-05-05T00:00:00\", \"Direction\": \"O\", \"Gender\": \"M\", \"Count\": 37869}, {\"DepDay\": \"2019-05-05T00:00:00\", \"Direction\": \"O\", \"Gender\": \"U\", \"Count\": 2}, {\"DepDay\": \"2019-05-06T00:00:00\", \"Direction\": \"I\", \"Gender\": \"F\", \"Count\": 35088}, {\"DepDay\": \"2019-05-06T00:00:00\", \"Direction\": \"I\", \"Gender\": \"M\", \"Count\": 47433}, {\"DepDay\": \"2019-05-06T00:00:00\", \"Direction\": \"I\", \"Gender\": \"U\", \"Count\": 9}, {\"DepDay\": \"2019-05-06T00:00:00\", \"Direction\": \"O\", \"Gender\": \"F\", \"Count\": 19332}, {\"DepDay\": \"2019-05-06T00:00:00\", \"Direction\": \"O\", \"Gender\": \"M\", \"Count\": 35923}, {\"DepDay\": \"2019-05-06T00:00:00\", \"Direction\": \"O\", \"Gender\": \"U\", \"Count\": 8}, {\"DepDay\": \"2019-05-07T00:00:00\", \"Direction\": \"I\", \"Gender\": \"F\", \"Count\": 33332}, {\"DepDay\": \"2019-05-07T00:00:00\", \"Direction\": \"I\", \"Gender\": \"M\", \"Count\": 43931}, {\"DepDay\": \"2019-05-07T00:00:00\", \"Direction\": \"I\", \"Gender\": \"U\", \"Count\": 28}, {\"DepDay\": \"2019-05-07T00:00:00\", \"Direction\": \"O\", \"Gender\": \"F\", \"Count\": 19238}, {\"DepDay\": \"2019-05-07T00:00:00\", \"Direction\": \"O\", \"Gender\": \"M\", \"Count\": 35542}, {\"DepDay\": \"2019-05-07T00:00:00\", \"Direction\": \"O\", \"Gender\": \"U\", \"Count\": 5}, {\"DepDay\": \"2019-05-08T00:00:00\", \"Direction\": \"I\", \"Gender\": \"F\", \"Count\": 33060}, {\"DepDay\": \"2019-05-08T00:00:00\", \"Direction\": \"I\", \"Gender\": \"M\", \"Count\": 43260}, {\"DepDay\": \"2019-05-08T00:00:00\", \"Direction\": \"I\", \"Gender\": \"U\", \"Count\": 24}, {\"DepDay\": \"2019-05-08T00:00:00\", \"Direction\": \"O\", \"Gender\": \"F\", \"Count\": 19955}, {\"DepDay\": \"2019-05-08T00:00:00\", \"Direction\": \"O\", \"Gender\": \"M\", \"Count\": 36369}, {\"DepDay\": \"2019-05-08T00:00:00\", \"Direction\": \"O\", \"Gender\": \"U\", \"Count\": 11}, {\"DepDay\": \"2019-05-09T00:00:00\", \"Direction\": \"I\", \"Gender\": \"F\", \"Count\": 32981}, {\"DepDay\": \"2019-05-09T00:00:00\", \"Direction\": \"I\", \"Gender\": \"M\", \"Count\": 41362}, {\"DepDay\": \"2019-05-09T00:00:00\", \"Direction\": \"I\", \"Gender\": \"U\", \"Count\": 32}, {\"DepDay\": \"2019-05-09T00:00:00\", \"Direction\": \"O\", \"Gender\": \"F\", \"Count\": 23605}, {\"DepDay\": \"2019-05-09T00:00:00\", \"Direction\": \"O\", \"Gender\": \"M\", \"Count\": 40250}, {\"DepDay\": \"2019-05-09T00:00:00\", \"Direction\": \"O\", \"Gender\": \"U\", \"Count\": 19}, {\"DepDay\": \"2019-05-10T00:00:00\", \"Direction\": \"I\", \"Gender\": \"F\", \"Count\": 21758}, {\"DepDay\": \"2019-05-10T00:00:00\", \"Direction\": \"I\", \"Gender\": \"M\", \"Count\": 27405}, {\"DepDay\": \"2019-05-10T00:00:00\", \"Direction\": \"I\", \"Gender\": \"U\", \"Count\": 27}, {\"DepDay\": \"2019-05-10T00:00:00\", \"Direction\": \"O\", \"Gender\": \"F\", \"Count\": 16044}, {\"DepDay\": \"2019-05-10T00:00:00\", \"Direction\": \"O\", \"Gender\": \"M\", \"Count\": 25660}, {\"DepDay\": \"2019-05-10T00:00:00\", \"Direction\": \"O\", \"Gender\": \"U\", \"Count\": 6}, {\"DepDay\": \"2019-05-11T00:00:00\", \"Direction\": \"I\", \"Gender\": \"F\", \"Count\": 31995}, {\"DepDay\": \"2019-05-11T00:00:00\", \"Direction\": \"I\", \"Gender\": \"M\", \"Count\": 44462}, {\"DepDay\": \"2019-05-11T00:00:00\", \"Direction\": \"I\", \"Gender\": \"U\", \"Count\": 14}, {\"DepDay\": \"2019-05-11T00:00:00\", \"Direction\": \"O\", \"Gender\": \"F\", \"Count\": 28540}, {\"DepDay\": \"2019-05-11T00:00:00\", \"Direction\": \"O\", \"Gender\": \"M\", \"Count\": 39048}, {\"DepDay\": \"2019-05-11T00:00:00\", \"Direction\": \"O\", \"Gender\": \"U\", \"Count\": 1}, {\"DepDay\": \"2019-05-12T00:00:00\", \"Direction\": \"I\", \"Gender\": \"F\", \"Count\": 29045}, {\"DepDay\": \"2019-05-12T00:00:00\", \"Direction\": \"I\", \"Gender\": \"M\", \"Count\": 42595}, {\"DepDay\": \"2019-05-12T00:00:00\", \"Direction\": \"I\", \"Gender\": \"U\", \"Count\": 13}, {\"DepDay\": \"2019-05-12T00:00:00\", \"Direction\": \"O\", \"Gender\": \"F\", \"Count\": 25530}, {\"DepDay\": \"2019-05-12T00:00:00\", \"Direction\": \"O\", \"Gender\": \"M\", \"Count\": 35406}, {\"DepDay\": \"2019-05-12T00:00:00\", \"Direction\": \"O\", \"Gender\": \"U\", \"Count\": 2}, {\"DepDay\": \"2019-05-13T00:00:00\", \"Direction\": \"I\", \"Gender\": \"F\", \"Count\": 28330}, {\"DepDay\": \"2019-05-13T00:00:00\", \"Direction\": \"I\", \"Gender\": \"M\", \"Count\": 40855}, {\"DepDay\": \"2019-05-13T00:00:00\", \"Direction\": \"I\", \"Gender\": \"U\", \"Count\": 28}, {\"DepDay\": \"2019-05-13T00:00:00\", \"Direction\": \"O\", \"Gender\": \"F\", \"Count\": 25178}, {\"DepDay\": \"2019-05-13T00:00:00\", \"Direction\": \"O\", \"Gender\": \"M\", \"Count\": 36063}, {\"DepDay\": \"2019-05-13T00:00:00\", \"Direction\": \"O\", \"Gender\": \"U\", \"Count\": 11}, {\"DepDay\": \"2019-05-14T00:00:00\", \"Direction\": \"I\", \"Gender\": \"F\", \"Count\": 25819}, {\"DepDay\": \"2019-05-14T00:00:00\", \"Direction\": \"I\", \"Gender\": \"M\", \"Count\": 37839}, {\"DepDay\": \"2019-05-14T00:00:00\", \"Direction\": \"I\", \"Gender\": \"U\", \"Count\": 11}, {\"DepDay\": \"2019-05-14T00:00:00\", \"Direction\": \"O\", \"Gender\": \"F\", \"Count\": 21156}, {\"DepDay\": \"2019-05-14T00:00:00\", \"Direction\": \"O\", \"Gender\": \"M\", \"Count\": 34549}, {\"DepDay\": \"2019-05-14T00:00:00\", \"Direction\": \"O\", \"Gender\": \"U\", \"Count\": 19}, {\"DepDay\": \"2019-05-15T00:00:00\", \"Direction\": \"I\", \"Gender\": \"F\", \"Count\": 27299}, {\"DepDay\": \"2019-05-15T00:00:00\", \"Direction\": \"I\", \"Gender\": \"M\", \"Count\": 39500}, {\"DepDay\": \"2019-05-15T00:00:00\", \"Direction\": \"I\", \"Gender\": \"U\", \"Count\": 16}, {\"DepDay\": \"2019-05-15T00:00:00\", \"Direction\": \"O\", \"Gender\": \"F\", \"Count\": 21814}, {\"DepDay\": \"2019-05-15T00:00:00\", \"Direction\": \"O\", \"Gender\": \"M\", \"Count\": 38254}, {\"DepDay\": \"2019-05-15T00:00:00\", \"Direction\": \"O\", \"Gender\": \"U\", \"Count\": 14}, {\"DepDay\": \"2019-05-16T00:00:00\", \"Direction\": \"I\", \"Gender\": \"F\", \"Count\": 26646}, {\"DepDay\": \"2019-05-16T00:00:00\", \"Direction\": \"I\", \"Gender\": \"M\", \"Count\": 40072}, {\"DepDay\": \"2019-05-16T00:00:00\", \"Direction\": \"I\", \"Gender\": \"U\", \"Count\": 20}, {\"DepDay\": \"2019-05-16T00:00:00\", \"Direction\": \"O\", \"Gender\": \"F\", \"Count\": 20086}, {\"DepDay\": \"2019-05-16T00:00:00\", \"Direction\": \"O\", \"Gender\": \"M\", \"Count\": 39394}, {\"DepDay\": \"2019-05-16T00:00:00\", \"Direction\": \"O\", \"Gender\": \"U\", \"Count\": 16}, {\"DepDay\": \"2019-05-17T00:00:00\", \"Direction\": \"I\", \"Gender\": \"F\", \"Count\": 24638}, {\"DepDay\": \"2019-05-17T00:00:00\", \"Direction\": \"I\", \"Gender\": \"M\", \"Count\": 36225}, {\"DepDay\": \"2019-05-17T00:00:00\", \"Direction\": \"I\", \"Gender\": \"U\", \"Count\": 9}, {\"DepDay\": \"2019-05-17T00:00:00\", \"Direction\": \"O\", \"Gender\": \"F\", \"Count\": 19222}, {\"DepDay\": \"2019-05-17T00:00:00\", \"Direction\": \"O\", \"Gender\": \"M\", \"Count\": 34402}, {\"DepDay\": \"2019-05-17T00:00:00\", \"Direction\": \"O\", \"Gender\": \"U\", \"Count\": 22}, {\"DepDay\": \"2019-05-18T00:00:00\", \"Direction\": \"I\", \"Gender\": \"F\", \"Count\": 24826}, {\"DepDay\": \"2019-05-18T00:00:00\", \"Direction\": \"I\", \"Gender\": \"M\", \"Count\": 40495}, {\"DepDay\": \"2019-05-18T00:00:00\", \"Direction\": \"I\", \"Gender\": \"U\", \"Count\": 6}, {\"DepDay\": \"2019-05-18T00:00:00\", \"Direction\": \"O\", \"Gender\": \"F\", \"Count\": 24162}, {\"DepDay\": \"2019-05-18T00:00:00\", \"Direction\": \"O\", \"Gender\": \"M\", \"Count\": 36031}, {\"DepDay\": \"2019-05-18T00:00:00\", \"Direction\": \"O\", \"Gender\": \"U\", \"Count\": 10}, {\"DepDay\": \"2019-05-19T00:00:00\", \"Direction\": \"I\", \"Gender\": \"F\", \"Count\": 24343}, {\"DepDay\": \"2019-05-19T00:00:00\", \"Direction\": \"I\", \"Gender\": \"M\", \"Count\": 43063}, {\"DepDay\": \"2019-05-19T00:00:00\", \"Direction\": \"I\", \"Gender\": \"U\", \"Count\": 16}, {\"DepDay\": \"2019-05-19T00:00:00\", \"Direction\": \"O\", \"Gender\": \"F\", \"Count\": 20641}, {\"DepDay\": \"2019-05-19T00:00:00\", \"Direction\": \"O\", \"Gender\": \"M\", \"Count\": 33288}, {\"DepDay\": \"2019-05-19T00:00:00\", \"Direction\": \"O\", \"Gender\": \"U\", \"Count\": 5}, {\"DepDay\": \"2019-05-20T00:00:00\", \"Direction\": \"I\", \"Gender\": \"F\", \"Count\": 29454}, {\"DepDay\": \"2019-05-20T00:00:00\", \"Direction\": \"I\", \"Gender\": \"M\", \"Count\": 48639}, {\"DepDay\": \"2019-05-20T00:00:00\", \"Direction\": \"I\", \"Gender\": \"U\", \"Count\": 20}, {\"DepDay\": \"2019-05-20T00:00:00\", \"Direction\": \"O\", \"Gender\": \"F\", \"Count\": 22098}, {\"DepDay\": \"2019-05-20T00:00:00\", \"Direction\": \"O\", \"Gender\": \"M\", \"Count\": 38358}, {\"DepDay\": \"2019-05-20T00:00:00\", \"Direction\": \"O\", \"Gender\": \"U\", \"Count\": 19}, {\"DepDay\": \"2019-05-21T00:00:00\", \"Direction\": \"I\", \"Gender\": \"F\", \"Count\": 29236}, {\"DepDay\": \"2019-05-21T00:00:00\", \"Direction\": \"I\", \"Gender\": \"M\", \"Count\": 47770}, {\"DepDay\": \"2019-05-21T00:00:00\", \"Direction\": \"I\", \"Gender\": \"U\", \"Count\": 21}, {\"DepDay\": \"2019-05-21T00:00:00\", \"Direction\": \"O\", \"Gender\": \"F\", \"Count\": 20760}, {\"DepDay\": \"2019-05-21T00:00:00\", \"Direction\": \"O\", \"Gender\": \"M\", \"Count\": 36661}, {\"DepDay\": \"2019-05-21T00:00:00\", \"Direction\": \"O\", \"Gender\": \"U\", \"Count\": 8}, {\"DepDay\": \"2019-05-22T00:00:00\", \"Direction\": \"I\", \"Gender\": \"F\", \"Count\": 29741}, {\"DepDay\": \"2019-05-22T00:00:00\", \"Direction\": \"I\", \"Gender\": \"M\", \"Count\": 47395}, {\"DepDay\": \"2019-05-22T00:00:00\", \"Direction\": \"I\", \"Gender\": \"U\", \"Count\": 15}, {\"DepDay\": \"2019-05-22T00:00:00\", \"Direction\": \"O\", \"Gender\": \"F\", \"Count\": 21816}, {\"DepDay\": \"2019-05-22T00:00:00\", \"Direction\": \"O\", \"Gender\": \"M\", \"Count\": 39571}, {\"DepDay\": \"2019-05-22T00:00:00\", \"Direction\": \"O\", \"Gender\": \"U\", \"Count\": 27}, {\"DepDay\": \"2019-05-23T00:00:00\", \"Direction\": \"I\", \"Gender\": \"F\", \"Count\": 30389}, {\"DepDay\": \"2019-05-23T00:00:00\", \"Direction\": \"I\", \"Gender\": \"M\", \"Count\": 49264}, {\"DepDay\": \"2019-05-23T00:00:00\", \"Direction\": \"I\", \"Gender\": \"U\", \"Count\": 20}, {\"DepDay\": \"2019-05-23T00:00:00\", \"Direction\": \"O\", \"Gender\": \"F\", \"Count\": 20241}, {\"DepDay\": \"2019-05-23T00:00:00\", \"Direction\": \"O\", \"Gender\": \"M\", \"Count\": 41969}, {\"DepDay\": \"2019-05-23T00:00:00\", \"Direction\": \"O\", \"Gender\": \"U\", \"Count\": 34}, {\"DepDay\": \"2019-05-24T00:00:00\", \"Direction\": \"I\", \"Gender\": \"F\", \"Count\": 24356}, {\"DepDay\": \"2019-05-24T00:00:00\", \"Direction\": \"I\", \"Gender\": \"M\", \"Count\": 40727}, {\"DepDay\": \"2019-05-24T00:00:00\", \"Direction\": \"I\", \"Gender\": \"U\", \"Count\": 31}, {\"DepDay\": \"2019-05-24T00:00:00\", \"Direction\": \"O\", \"Gender\": \"F\", \"Count\": 20602}, {\"DepDay\": \"2019-05-24T00:00:00\", \"Direction\": \"O\", \"Gender\": \"M\", \"Count\": 38712}, {\"DepDay\": \"2019-05-24T00:00:00\", \"Direction\": \"O\", \"Gender\": \"U\", \"Count\": 11}, {\"DepDay\": \"2019-05-25T00:00:00\", \"Direction\": \"I\", \"Gender\": \"F\", \"Count\": 25876}, {\"DepDay\": \"2019-05-25T00:00:00\", \"Direction\": \"I\", \"Gender\": \"M\", \"Count\": 44734}, {\"DepDay\": \"2019-05-25T00:00:00\", \"Direction\": \"I\", \"Gender\": \"U\", \"Count\": 16}, {\"DepDay\": \"2019-05-25T00:00:00\", \"Direction\": \"O\", \"Gender\": \"F\", \"Count\": 24705}, {\"DepDay\": \"2019-05-25T00:00:00\", \"Direction\": \"O\", \"Gender\": \"M\", \"Count\": 40128}, {\"DepDay\": \"2019-05-25T00:00:00\", \"Direction\": \"O\", \"Gender\": \"U\", \"Count\": 4}, {\"DepDay\": \"2019-05-26T00:00:00\", \"Direction\": \"I\", \"Gender\": \"F\", \"Count\": 21748}, {\"DepDay\": \"2019-05-26T00:00:00\", \"Direction\": \"I\", \"Gender\": \"M\", \"Count\": 38216}, {\"DepDay\": \"2019-05-26T00:00:00\", \"Direction\": \"I\", \"Gender\": \"U\", \"Count\": 17}, {\"DepDay\": \"2019-05-26T00:00:00\", \"Direction\": \"O\", \"Gender\": \"F\", \"Count\": 18938}, {\"DepDay\": \"2019-05-26T00:00:00\", \"Direction\": \"O\", \"Gender\": \"M\", \"Count\": 35723}, {\"DepDay\": \"2019-05-26T00:00:00\", \"Direction\": \"O\", \"Gender\": \"U\", \"Count\": 1}, {\"DepDay\": \"2019-05-27T00:00:00\", \"Direction\": \"I\", \"Gender\": \"F\", \"Count\": 19180}, {\"DepDay\": \"2019-05-27T00:00:00\", \"Direction\": \"I\", \"Gender\": \"M\", \"Count\": 33347}, {\"DepDay\": \"2019-05-27T00:00:00\", \"Direction\": \"I\", \"Gender\": \"U\", \"Count\": 37}, {\"DepDay\": \"2019-05-27T00:00:00\", \"Direction\": \"O\", \"Gender\": \"F\", \"Count\": 18908}, {\"DepDay\": \"2019-05-27T00:00:00\", \"Direction\": \"O\", \"Gender\": \"M\", \"Count\": 38862}, {\"DepDay\": \"2019-05-27T00:00:00\", \"Direction\": \"O\", \"Gender\": \"U\", \"Count\": 17}, {\"DepDay\": \"2019-05-28T00:00:00\", \"Direction\": \"I\", \"Gender\": \"F\", \"Count\": 17376}, {\"DepDay\": \"2019-05-28T00:00:00\", \"Direction\": \"I\", \"Gender\": \"M\", \"Count\": 30540}, {\"DepDay\": \"2019-05-28T00:00:00\", \"Direction\": \"I\", \"Gender\": \"U\", \"Count\": 22}, {\"DepDay\": \"2019-05-28T00:00:00\", \"Direction\": \"O\", \"Gender\": \"F\", \"Count\": 20799}, {\"DepDay\": \"2019-05-28T00:00:00\", \"Direction\": \"O\", \"Gender\": \"M\", \"Count\": 43456}, {\"DepDay\": \"2019-05-28T00:00:00\", \"Direction\": \"O\", \"Gender\": \"U\", \"Count\": 20}, {\"DepDay\": \"2019-05-29T00:00:00\", \"Direction\": \"I\", \"Gender\": \"F\", \"Count\": 16751}, {\"DepDay\": \"2019-05-29T00:00:00\", \"Direction\": \"I\", \"Gender\": \"M\", \"Count\": 28177}, {\"DepDay\": \"2019-05-29T00:00:00\", \"Direction\": \"I\", \"Gender\": \"U\", \"Count\": 20}, {\"DepDay\": \"2019-05-29T00:00:00\", \"Direction\": \"O\", \"Gender\": \"F\", \"Count\": 20678}, {\"DepDay\": \"2019-05-29T00:00:00\", \"Direction\": \"O\", \"Gender\": \"M\", \"Count\": 47040}, {\"DepDay\": \"2019-05-29T00:00:00\", \"Direction\": \"O\", \"Gender\": \"U\", \"Count\": 31}, {\"DepDay\": \"2019-05-30T00:00:00\", \"Direction\": \"I\", \"Gender\": \"F\", \"Count\": 21394}, {\"DepDay\": \"2019-05-30T00:00:00\", \"Direction\": \"I\", \"Gender\": \"M\", \"Count\": 33005}, {\"DepDay\": \"2019-05-30T00:00:00\", \"Direction\": \"I\", \"Gender\": \"U\", \"Count\": 32}, {\"DepDay\": \"2019-05-30T00:00:00\", \"Direction\": \"O\", \"Gender\": \"F\", \"Count\": 22255}, {\"DepDay\": \"2019-05-30T00:00:00\", \"Direction\": \"O\", \"Gender\": \"M\", \"Count\": 56725}, {\"DepDay\": \"2019-05-30T00:00:00\", \"Direction\": \"O\", \"Gender\": \"U\", \"Count\": 13}, {\"DepDay\": \"2019-05-31T00:00:00\", \"Direction\": \"I\", \"Gender\": \"F\", \"Count\": 14201}, {\"DepDay\": \"2019-05-31T00:00:00\", \"Direction\": \"I\", \"Gender\": \"M\", \"Count\": 23456}, {\"DepDay\": \"2019-05-31T00:00:00\", \"Direction\": \"I\", \"Gender\": \"U\", \"Count\": 16}, {\"DepDay\": \"2019-05-31T00:00:00\", \"Direction\": \"O\", \"Gender\": \"F\", \"Count\": 22889}, {\"DepDay\": \"2019-05-31T00:00:00\", \"Direction\": \"O\", \"Gender\": \"M\", \"Count\": 53327}, {\"DepDay\": \"2019-05-31T00:00:00\", \"Direction\": \"O\", \"Gender\": \"U\", \"Count\": 13}, {\"DepDay\": \"2019-06-01T00:00:00\", \"Direction\": \"I\", \"Gender\": \"F\", \"Count\": 14908}, {\"DepDay\": \"2019-06-01T00:00:00\", \"Direction\": \"I\", \"Gender\": \"M\", \"Count\": 23578}, {\"DepDay\": \"2019-06-01T00:00:00\", \"Direction\": \"I\", \"Gender\": \"U\", \"Count\": 19}, {\"DepDay\": \"2019-06-01T00:00:00\", \"Direction\": \"O\", \"Gender\": \"F\", \"Count\": 24246}, {\"DepDay\": \"2019-06-01T00:00:00\", \"Direction\": \"O\", \"Gender\": \"M\", \"Count\": 50006}, {\"DepDay\": \"2019-06-01T00:00:00\", \"Direction\": \"O\", \"Gender\": \"U\", \"Count\": 16}, {\"DepDay\": \"2019-06-02T00:00:00\", \"Direction\": \"I\", \"Gender\": \"F\", \"Count\": 13032}, {\"DepDay\": \"2019-06-02T00:00:00\", \"Direction\": \"I\", \"Gender\": \"M\", \"Count\": 20445}, {\"DepDay\": \"2019-06-02T00:00:00\", \"Direction\": \"I\", \"Gender\": \"U\", \"Count\": 13}, {\"DepDay\": \"2019-06-02T00:00:00\", \"Direction\": \"O\", \"Gender\": \"F\", \"Count\": 23335}, {\"DepDay\": \"2019-06-02T00:00:00\", \"Direction\": \"O\", \"Gender\": \"M\", \"Count\": 48821}, {\"DepDay\": \"2019-06-02T00:00:00\", \"Direction\": \"O\", \"Gender\": \"U\", \"Count\": 12}, {\"DepDay\": \"2019-06-03T00:00:00\", \"Direction\": \"I\", \"Gender\": \"F\", \"Count\": 11414}, {\"DepDay\": \"2019-06-03T00:00:00\", \"Direction\": \"I\", \"Gender\": \"M\", \"Count\": 19179}, {\"DepDay\": \"2019-06-03T00:00:00\", \"Direction\": \"I\", \"Gender\": \"U\", \"Count\": 38}, {\"DepDay\": \"2019-06-03T00:00:00\", \"Direction\": \"O\", \"Gender\": \"F\", \"Count\": 30871}, {\"DepDay\": \"2019-06-03T00:00:00\", \"Direction\": \"O\", \"Gender\": \"M\", \"Count\": 66404}, {\"DepDay\": \"2019-06-03T00:00:00\", \"Direction\": \"O\", \"Gender\": \"U\", \"Count\": 24}, {\"DepDay\": \"2019-06-04T00:00:00\", \"Direction\": \"I\", \"Gender\": \"F\", \"Count\": 7598}, {\"DepDay\": \"2019-06-04T00:00:00\", \"Direction\": \"I\", \"Gender\": \"M\", \"Count\": 12823}, {\"DepDay\": \"2019-06-04T00:00:00\", \"Direction\": \"I\", \"Gender\": \"U\", \"Count\": 31}, {\"DepDay\": \"2019-06-04T00:00:00\", \"Direction\": \"O\", \"Gender\": \"F\", \"Count\": 36316}, {\"DepDay\": \"2019-06-04T00:00:00\", \"Direction\": \"O\", \"Gender\": \"M\", \"Count\": 67124}, {\"DepDay\": \"2019-06-04T00:00:00\", \"Direction\": \"O\", \"Gender\": \"U\", \"Count\": 21}, {\"DepDay\": \"2019-06-05T00:00:00\", \"Direction\": \"I\", \"Gender\": \"F\", \"Count\": 8521}, {\"DepDay\": \"2019-06-05T00:00:00\", \"Direction\": \"I\", \"Gender\": \"M\", \"Count\": 13203}, {\"DepDay\": \"2019-06-05T00:00:00\", \"Direction\": \"I\", \"Gender\": \"U\", \"Count\": 26}, {\"DepDay\": \"2019-06-05T00:00:00\", \"Direction\": \"O\", \"Gender\": \"F\", \"Count\": 45342}, {\"DepDay\": \"2019-06-05T00:00:00\", \"Direction\": \"O\", \"Gender\": \"M\", \"Count\": 68847}, {\"DepDay\": \"2019-06-05T00:00:00\", \"Direction\": \"O\", \"Gender\": \"U\", \"Count\": 9}, {\"DepDay\": \"2019-06-06T00:00:00\", \"Direction\": \"I\", \"Gender\": \"F\", \"Count\": 12327}, {\"DepDay\": \"2019-06-06T00:00:00\", \"Direction\": \"I\", \"Gender\": \"M\", \"Count\": 20205}, {\"DepDay\": \"2019-06-06T00:00:00\", \"Direction\": \"I\", \"Gender\": \"U\", \"Count\": 17}, {\"DepDay\": \"2019-06-06T00:00:00\", \"Direction\": \"O\", \"Gender\": \"F\", \"Count\": 40991}, {\"DepDay\": \"2019-06-06T00:00:00\", \"Direction\": \"O\", \"Gender\": \"M\", \"Count\": 57116}, {\"DepDay\": \"2019-06-06T00:00:00\", \"Direction\": \"O\", \"Gender\": \"U\", \"Count\": 8}, {\"DepDay\": \"2019-06-07T00:00:00\", \"Direction\": \"I\", \"Gender\": \"F\", \"Count\": 14001}, {\"DepDay\": \"2019-06-07T00:00:00\", \"Direction\": \"I\", \"Gender\": \"M\", \"Count\": 27366}, {\"DepDay\": \"2019-06-07T00:00:00\", \"Direction\": \"I\", \"Gender\": \"U\", \"Count\": 25}, {\"DepDay\": \"2019-06-07T00:00:00\", \"Direction\": \"O\", \"Gender\": \"F\", \"Count\": 41132}, {\"DepDay\": \"2019-06-07T00:00:00\", \"Direction\": \"O\", \"Gender\": \"M\", \"Count\": 52771}, {\"DepDay\": \"2019-06-07T00:00:00\", \"Direction\": \"O\", \"Gender\": \"U\", \"Count\": 21}, {\"DepDay\": \"2019-06-08T00:00:00\", \"Direction\": \"I\", \"Gender\": \"F\", \"Count\": 17732}, {\"DepDay\": \"2019-06-08T00:00:00\", \"Direction\": \"I\", \"Gender\": \"M\", \"Count\": 41831}, {\"DepDay\": \"2019-06-08T00:00:00\", \"Direction\": \"I\", \"Gender\": \"U\", \"Count\": 12}, {\"DepDay\": \"2019-06-08T00:00:00\", \"Direction\": \"O\", \"Gender\": \"F\", \"Count\": 43240}, {\"DepDay\": \"2019-06-08T00:00:00\", \"Direction\": \"O\", \"Gender\": \"M\", \"Count\": 53565}, {\"DepDay\": \"2019-06-08T00:00:00\", \"Direction\": \"O\", \"Gender\": \"U\", \"Count\": 7}, {\"DepDay\": \"2019-06-09T00:00:00\", \"Direction\": \"I\", \"Gender\": \"F\", \"Count\": 17627}, {\"DepDay\": \"2019-06-09T00:00:00\", \"Direction\": \"I\", \"Gender\": \"M\", \"Count\": 41067}, {\"DepDay\": \"2019-06-09T00:00:00\", \"Direction\": \"I\", \"Gender\": \"U\", \"Count\": 12}, {\"DepDay\": \"2019-06-09T00:00:00\", \"Direction\": \"O\", \"Gender\": \"F\", \"Count\": 46585}, {\"DepDay\": \"2019-06-09T00:00:00\", \"Direction\": \"O\", \"Gender\": \"M\", \"Count\": 55570}, {\"DepDay\": \"2019-06-09T00:00:00\", \"Direction\": \"O\", \"Gender\": \"U\", \"Count\": 7}, {\"DepDay\": \"2019-06-10T00:00:00\", \"Direction\": \"I\", \"Gender\": \"F\", \"Count\": 15646}, {\"DepDay\": \"2019-06-10T00:00:00\", \"Direction\": \"I\", \"Gender\": \"M\", \"Count\": 38698}, {\"DepDay\": \"2019-06-10T00:00:00\", \"Direction\": \"I\", \"Gender\": \"U\", \"Count\": 16}, {\"DepDay\": \"2019-06-10T00:00:00\", \"Direction\": \"O\", \"Gender\": \"F\", \"Count\": 47897}, {\"DepDay\": \"2019-06-10T00:00:00\", \"Direction\": \"O\", \"Gender\": \"M\", \"Count\": 57383}, {\"DepDay\": \"2019-06-10T00:00:00\", \"Direction\": \"O\", \"Gender\": \"U\", \"Count\": 25}, {\"DepDay\": \"2019-06-11T00:00:00\", \"Direction\": \"I\", \"Gender\": \"F\", \"Count\": 15425}, {\"DepDay\": \"2019-06-11T00:00:00\", \"Direction\": \"I\", \"Gender\": \"M\", \"Count\": 34895}, {\"DepDay\": \"2019-06-11T00:00:00\", \"Direction\": \"I\", \"Gender\": \"U\", \"Count\": 15}, {\"DepDay\": \"2019-06-11T00:00:00\", \"Direction\": \"O\", \"Gender\": \"F\", \"Count\": 47360}, {\"DepDay\": \"2019-06-11T00:00:00\", \"Direction\": \"O\", \"Gender\": \"M\", \"Count\": 56125}, {\"DepDay\": \"2019-06-11T00:00:00\", \"Direction\": \"O\", \"Gender\": \"U\", \"Count\": 29}, {\"DepDay\": \"2019-06-12T00:00:00\", \"Direction\": \"I\", \"Gender\": \"F\", \"Count\": 15642}, {\"DepDay\": \"2019-06-12T00:00:00\", \"Direction\": \"I\", \"Gender\": \"M\", \"Count\": 33438}, {\"DepDay\": \"2019-06-12T00:00:00\", \"Direction\": \"I\", \"Gender\": \"U\", \"Count\": 31}, {\"DepDay\": \"2019-06-12T00:00:00\", \"Direction\": \"O\", \"Gender\": \"F\", \"Count\": 48216}, {\"DepDay\": \"2019-06-12T00:00:00\", \"Direction\": \"O\", \"Gender\": \"M\", \"Count\": 57636}, {\"DepDay\": \"2019-06-12T00:00:00\", \"Direction\": \"O\", \"Gender\": \"U\", \"Count\": 18}, {\"DepDay\": \"2019-06-13T00:00:00\", \"Direction\": \"I\", \"Gender\": \"F\", \"Count\": 18568}, {\"DepDay\": \"2019-06-13T00:00:00\", \"Direction\": \"I\", \"Gender\": \"M\", \"Count\": 37161}, {\"DepDay\": \"2019-06-13T00:00:00\", \"Direction\": \"I\", \"Gender\": \"U\", \"Count\": 24}, {\"DepDay\": \"2019-06-13T00:00:00\", \"Direction\": \"O\", \"Gender\": \"F\", \"Count\": 47906}, {\"DepDay\": \"2019-06-13T00:00:00\", \"Direction\": \"O\", \"Gender\": \"M\", \"Count\": 59004}, {\"DepDay\": \"2019-06-13T00:00:00\", \"Direction\": \"O\", \"Gender\": \"U\", \"Count\": 14}, {\"DepDay\": \"2019-06-14T00:00:00\", \"Direction\": \"I\", \"Gender\": \"F\", \"Count\": 15490}, {\"DepDay\": \"2019-06-14T00:00:00\", \"Direction\": \"I\", \"Gender\": \"M\", \"Count\": 35957}, {\"DepDay\": \"2019-06-14T00:00:00\", \"Direction\": \"I\", \"Gender\": \"U\", \"Count\": 21}, {\"DepDay\": \"2019-06-14T00:00:00\", \"Direction\": \"O\", \"Gender\": \"F\", \"Count\": 45879}, {\"DepDay\": \"2019-06-14T00:00:00\", \"Direction\": \"O\", \"Gender\": \"M\", \"Count\": 53730}, {\"DepDay\": \"2019-06-14T00:00:00\", \"Direction\": \"O\", \"Gender\": \"U\", \"Count\": 22}, {\"DepDay\": \"2019-06-15T00:00:00\", \"Direction\": \"I\", \"Gender\": \"F\", \"Count\": 16796}, {\"DepDay\": \"2019-06-15T00:00:00\", \"Direction\": \"I\", \"Gender\": \"M\", \"Count\": 46845}, {\"DepDay\": \"2019-06-15T00:00:00\", \"Direction\": \"I\", \"Gender\": \"U\", \"Count\": 25}, {\"DepDay\": \"2019-06-15T00:00:00\", \"Direction\": \"O\", \"Gender\": \"F\", \"Count\": 41882}, {\"DepDay\": \"2019-06-15T00:00:00\", \"Direction\": \"O\", \"Gender\": \"M\", \"Count\": 51755}, {\"DepDay\": \"2019-06-15T00:00:00\", \"Direction\": \"O\", \"Gender\": \"U\", \"Count\": 6}, {\"DepDay\": \"2019-06-16T00:00:00\", \"Direction\": \"I\", \"Gender\": \"F\", \"Count\": 14886}, {\"DepDay\": \"2019-06-16T00:00:00\", \"Direction\": \"I\", \"Gender\": \"M\", \"Count\": 39827}, {\"DepDay\": \"2019-06-16T00:00:00\", \"Direction\": \"I\", \"Gender\": \"U\", \"Count\": 14}, {\"DepDay\": \"2019-06-16T00:00:00\", \"Direction\": \"O\", \"Gender\": \"F\", \"Count\": 38350}, {\"DepDay\": \"2019-06-16T00:00:00\", \"Direction\": \"O\", \"Gender\": \"M\", \"Count\": 47958}, {\"DepDay\": \"2019-06-16T00:00:00\", \"Direction\": \"O\", \"Gender\": \"U\", \"Count\": 8}, {\"DepDay\": \"2019-06-17T00:00:00\", \"Direction\": \"I\", \"Gender\": \"F\", \"Count\": 15332}, {\"DepDay\": \"2019-06-17T00:00:00\", \"Direction\": \"I\", \"Gender\": \"M\", \"Count\": 37088}, {\"DepDay\": \"2019-06-17T00:00:00\", \"Direction\": \"I\", \"Gender\": \"U\", \"Count\": 24}, {\"DepDay\": \"2019-06-17T00:00:00\", \"Direction\": \"O\", \"Gender\": \"F\", \"Count\": 34556}, {\"DepDay\": \"2019-06-17T00:00:00\", \"Direction\": \"O\", \"Gender\": \"M\", \"Count\": 45306}, {\"DepDay\": \"2019-06-17T00:00:00\", \"Direction\": \"O\", \"Gender\": \"U\", \"Count\": 22}, {\"DepDay\": \"2019-06-18T00:00:00\", \"Direction\": \"I\", \"Gender\": \"F\", \"Count\": 14045}, {\"DepDay\": \"2019-06-18T00:00:00\", \"Direction\": \"I\", \"Gender\": \"M\", \"Count\": 34659}, {\"DepDay\": \"2019-06-18T00:00:00\", \"Direction\": \"I\", \"Gender\": \"U\", \"Count\": 2}, {\"DepDay\": \"2019-06-18T00:00:00\", \"Direction\": \"O\", \"Gender\": \"F\", \"Count\": 34367}, {\"DepDay\": \"2019-06-18T00:00:00\", \"Direction\": \"O\", \"Gender\": \"M\", \"Count\": 45678}, {\"DepDay\": \"2019-06-18T00:00:00\", \"Direction\": \"O\", \"Gender\": \"U\", \"Count\": 16}, {\"DepDay\": \"2019-06-19T00:00:00\", \"Direction\": \"I\", \"Gender\": \"F\", \"Count\": 14474}, {\"DepDay\": \"2019-06-19T00:00:00\", \"Direction\": \"I\", \"Gender\": \"M\", \"Count\": 31904}, {\"DepDay\": \"2019-06-19T00:00:00\", \"Direction\": \"I\", \"Gender\": \"U\", \"Count\": 27}, {\"DepDay\": \"2019-06-19T00:00:00\", \"Direction\": \"O\", \"Gender\": \"F\", \"Count\": 33790}, {\"DepDay\": \"2019-06-19T00:00:00\", \"Direction\": \"O\", \"Gender\": \"M\", \"Count\": 47046}, {\"DepDay\": \"2019-06-19T00:00:00\", \"Direction\": \"O\", \"Gender\": \"U\", \"Count\": 38}, {\"DepDay\": \"2019-06-20T00:00:00\", \"Direction\": \"I\", \"Gender\": \"F\", \"Count\": 17659}, {\"DepDay\": \"2019-06-20T00:00:00\", \"Direction\": \"I\", \"Gender\": \"M\", \"Count\": 36767}, {\"DepDay\": \"2019-06-20T00:00:00\", \"Direction\": \"I\", \"Gender\": \"U\", \"Count\": 28}, {\"DepDay\": \"2019-06-20T00:00:00\", \"Direction\": \"O\", \"Gender\": \"F\", \"Count\": 33622}, {\"DepDay\": \"2019-06-20T00:00:00\", \"Direction\": \"O\", \"Gender\": \"M\", \"Count\": 49707}, {\"DepDay\": \"2019-06-20T00:00:00\", \"Direction\": \"O\", \"Gender\": \"U\", \"Count\": 38}, {\"DepDay\": \"2019-06-21T00:00:00\", \"Direction\": \"I\", \"Gender\": \"F\", \"Count\": 15438}, {\"DepDay\": \"2019-06-21T00:00:00\", \"Direction\": \"I\", \"Gender\": \"M\", \"Count\": 33932}, {\"DepDay\": \"2019-06-21T00:00:00\", \"Direction\": \"I\", \"Gender\": \"U\", \"Count\": 13}, {\"DepDay\": \"2019-06-21T00:00:00\", \"Direction\": \"O\", \"Gender\": \"F\", \"Count\": 31092}, {\"DepDay\": \"2019-06-21T00:00:00\", \"Direction\": \"O\", \"Gender\": \"M\", \"Count\": 43553}, {\"DepDay\": \"2019-06-21T00:00:00\", \"Direction\": \"O\", \"Gender\": \"U\", \"Count\": 23}, {\"DepDay\": \"2019-06-22T00:00:00\", \"Direction\": \"I\", \"Gender\": \"F\", \"Count\": 15621}, {\"DepDay\": \"2019-06-22T00:00:00\", \"Direction\": \"I\", \"Gender\": \"M\", \"Count\": 40224}, {\"DepDay\": \"2019-06-22T00:00:00\", \"Direction\": \"I\", \"Gender\": \"U\", \"Count\": 18}, {\"DepDay\": \"2019-06-22T00:00:00\", \"Direction\": \"O\", \"Gender\": \"F\", \"Count\": 31771}, {\"DepDay\": \"2019-06-22T00:00:00\", \"Direction\": \"O\", \"Gender\": \"M\", \"Count\": 41495}, {\"DepDay\": \"2019-06-22T00:00:00\", \"Direction\": \"O\", \"Gender\": \"U\", \"Count\": 19}, {\"DepDay\": \"2019-06-23T00:00:00\", \"Direction\": \"I\", \"Gender\": \"F\", \"Count\": 14146}, {\"DepDay\": \"2019-06-23T00:00:00\", \"Direction\": \"I\", \"Gender\": \"M\", \"Count\": 37497}, {\"DepDay\": \"2019-06-23T00:00:00\", \"Direction\": \"I\", \"Gender\": \"U\", \"Count\": 12}, {\"DepDay\": \"2019-06-23T00:00:00\", \"Direction\": \"O\", \"Gender\": \"F\", \"Count\": 30266}, {\"DepDay\": \"2019-06-23T00:00:00\", \"Direction\": \"O\", \"Gender\": \"M\", \"Count\": 39744}, {\"DepDay\": \"2019-06-23T00:00:00\", \"Direction\": \"O\", \"Gender\": \"U\", \"Count\": 9}, {\"DepDay\": \"2019-06-24T00:00:00\", \"Direction\": \"I\", \"Gender\": \"F\", \"Count\": 13786}, {\"DepDay\": \"2019-06-24T00:00:00\", \"Direction\": \"I\", \"Gender\": \"M\", \"Count\": 34748}, {\"DepDay\": \"2019-06-24T00:00:00\", \"Direction\": \"I\", \"Gender\": \"U\", \"Count\": 30}, {\"DepDay\": \"2019-06-24T00:00:00\", \"Direction\": \"O\", \"Gender\": \"F\", \"Count\": 26399}, {\"DepDay\": \"2019-06-24T00:00:00\", \"Direction\": \"O\", \"Gender\": \"M\", \"Count\": 37568}, {\"DepDay\": \"2019-06-24T00:00:00\", \"Direction\": \"O\", \"Gender\": \"U\", \"Count\": 30}, {\"DepDay\": \"2019-06-25T00:00:00\", \"Direction\": \"I\", \"Gender\": \"F\", \"Count\": 13316}, {\"DepDay\": \"2019-06-25T00:00:00\", \"Direction\": \"I\", \"Gender\": \"M\", \"Count\": 33794}, {\"DepDay\": \"2019-06-25T00:00:00\", \"Direction\": \"I\", \"Gender\": \"U\", \"Count\": 19}, {\"DepDay\": \"2019-06-25T00:00:00\", \"Direction\": \"O\", \"Gender\": \"F\", \"Count\": 25605}, {\"DepDay\": \"2019-06-25T00:00:00\", \"Direction\": \"O\", \"Gender\": \"M\", \"Count\": 38575}, {\"DepDay\": \"2019-06-25T00:00:00\", \"Direction\": \"O\", \"Gender\": \"U\", \"Count\": 23}, {\"DepDay\": \"2019-06-26T00:00:00\", \"Direction\": \"I\", \"Gender\": \"F\", \"Count\": 14823}, {\"DepDay\": \"2019-06-26T00:00:00\", \"Direction\": \"I\", \"Gender\": \"M\", \"Count\": 32744}, {\"DepDay\": \"2019-06-26T00:00:00\", \"Direction\": \"I\", \"Gender\": \"U\", \"Count\": 15}, {\"DepDay\": \"2019-06-26T00:00:00\", \"Direction\": \"O\", \"Gender\": \"F\", \"Count\": 25264}, {\"DepDay\": \"2019-06-26T00:00:00\", \"Direction\": \"O\", \"Gender\": \"M\", \"Count\": 39777}, {\"DepDay\": \"2019-06-26T00:00:00\", \"Direction\": \"O\", \"Gender\": \"U\", \"Count\": 30}, {\"DepDay\": \"2019-06-27T00:00:00\", \"Direction\": \"I\", \"Gender\": \"F\", \"Count\": 18021}, {\"DepDay\": \"2019-06-27T00:00:00\", \"Direction\": \"I\", \"Gender\": \"M\", \"Count\": 36107}, {\"DepDay\": \"2019-06-27T00:00:00\", \"Direction\": \"I\", \"Gender\": \"U\", \"Count\": 21}, {\"DepDay\": \"2019-06-27T00:00:00\", \"Direction\": \"O\", \"Gender\": \"F\", \"Count\": 26275}, {\"DepDay\": \"2019-06-27T00:00:00\", \"Direction\": \"O\", \"Gender\": \"M\", \"Count\": 44532}, {\"DepDay\": \"2019-06-27T00:00:00\", \"Direction\": \"O\", \"Gender\": \"U\", \"Count\": 40}, {\"DepDay\": \"2019-06-28T00:00:00\", \"Direction\": \"I\", \"Gender\": \"F\", \"Count\": 17171}, {\"DepDay\": \"2019-06-28T00:00:00\", \"Direction\": \"I\", \"Gender\": \"M\", \"Count\": 35694}, {\"DepDay\": \"2019-06-28T00:00:00\", \"Direction\": \"I\", \"Gender\": \"U\", \"Count\": 22}, {\"DepDay\": \"2019-06-28T00:00:00\", \"Direction\": \"O\", \"Gender\": \"F\", \"Count\": 25980}, {\"DepDay\": \"2019-06-28T00:00:00\", \"Direction\": \"O\", \"Gender\": \"M\", \"Count\": 39445}, {\"DepDay\": \"2019-06-28T00:00:00\", \"Direction\": \"O\", \"Gender\": \"U\", \"Count\": 23}, {\"DepDay\": \"2019-06-29T00:00:00\", \"Direction\": \"I\", \"Gender\": \"F\", \"Count\": 17516}, {\"DepDay\": \"2019-06-29T00:00:00\", \"Direction\": \"I\", \"Gender\": \"M\", \"Count\": 42552}, {\"DepDay\": \"2019-06-29T00:00:00\", \"Direction\": \"I\", \"Gender\": \"U\", \"Count\": 16}, {\"DepDay\": \"2019-06-29T00:00:00\", \"Direction\": \"O\", \"Gender\": \"F\", \"Count\": 27705}, {\"DepDay\": \"2019-06-29T00:00:00\", \"Direction\": \"O\", \"Gender\": \"M\", \"Count\": 37410}, {\"DepDay\": \"2019-06-29T00:00:00\", \"Direction\": \"O\", \"Gender\": \"U\", \"Count\": 12}, {\"DepDay\": \"2019-06-30T00:00:00\", \"Direction\": \"I\", \"Gender\": \"F\", \"Count\": 16325}, {\"DepDay\": \"2019-06-30T00:00:00\", \"Direction\": \"I\", \"Gender\": \"M\", \"Count\": 41925}, {\"DepDay\": \"2019-06-30T00:00:00\", \"Direction\": \"I\", \"Gender\": \"U\", \"Count\": 25}, {\"DepDay\": \"2019-06-30T00:00:00\", \"Direction\": \"O\", \"Gender\": \"F\", \"Count\": 24757}, {\"DepDay\": \"2019-06-30T00:00:00\", \"Direction\": \"O\", \"Gender\": \"M\", \"Count\": 36410}, {\"DepDay\": \"2019-06-30T00:00:00\", \"Direction\": \"O\", \"Gender\": \"U\", \"Count\": 20}, {\"DepDay\": \"2019-07-01T00:00:00\", \"Direction\": \"I\", \"Gender\": \"F\", \"Count\": 15931}, {\"DepDay\": \"2019-07-01T00:00:00\", \"Direction\": \"I\", \"Gender\": \"M\", \"Count\": 37960}, {\"DepDay\": \"2019-07-01T00:00:00\", \"Direction\": \"I\", \"Gender\": \"U\", \"Count\": 27}, {\"DepDay\": \"2019-07-01T00:00:00\", \"Direction\": \"O\", \"Gender\": \"F\", \"Count\": 25702}, {\"DepDay\": \"2019-07-01T00:00:00\", \"Direction\": \"O\", \"Gender\": \"M\", \"Count\": 38608}, {\"DepDay\": \"2019-07-01T00:00:00\", \"Direction\": \"O\", \"Gender\": \"U\", \"Count\": 32}, {\"DepDay\": \"2019-07-02T00:00:00\", \"Direction\": \"I\", \"Gender\": \"F\", \"Count\": 15292}, {\"DepDay\": \"2019-07-02T00:00:00\", \"Direction\": \"I\", \"Gender\": \"M\", \"Count\": 35269}, {\"DepDay\": \"2019-07-02T00:00:00\", \"Direction\": \"I\", \"Gender\": \"U\", \"Count\": 22}, {\"DepDay\": \"2019-07-02T00:00:00\", \"Direction\": \"O\", \"Gender\": \"F\", \"Count\": 24292}, {\"DepDay\": \"2019-07-02T00:00:00\", \"Direction\": \"O\", \"Gender\": \"M\", \"Count\": 37685}, {\"DepDay\": \"2019-07-02T00:00:00\", \"Direction\": \"O\", \"Gender\": \"U\", \"Count\": 11}, {\"DepDay\": \"2019-07-03T00:00:00\", \"Direction\": \"I\", \"Gender\": \"F\", \"Count\": 17068}, {\"DepDay\": \"2019-07-03T00:00:00\", \"Direction\": \"I\", \"Gender\": \"M\", \"Count\": 36344}, {\"DepDay\": \"2019-07-03T00:00:00\", \"Direction\": \"I\", \"Gender\": \"U\", \"Count\": 19}, {\"DepDay\": \"2019-07-03T00:00:00\", \"Direction\": \"O\", \"Gender\": \"F\", \"Count\": 23575}, {\"DepDay\": \"2019-07-03T00:00:00\", \"Direction\": \"O\", \"Gender\": \"M\", \"Count\": 39911}, {\"DepDay\": \"2019-07-03T00:00:00\", \"Direction\": \"O\", \"Gender\": \"U\", \"Count\": 24}, {\"DepDay\": \"2019-07-04T00:00:00\", \"Direction\": \"I\", \"Gender\": \"F\", \"Count\": 24490}, {\"DepDay\": \"2019-07-04T00:00:00\", \"Direction\": \"I\", \"Gender\": \"M\", \"Count\": 42338}, {\"DepDay\": \"2019-07-04T00:00:00\", \"Direction\": \"I\", \"Gender\": \"U\", \"Count\": 13}, {\"DepDay\": \"2019-07-04T00:00:00\", \"Direction\": \"O\", \"Gender\": \"F\", \"Count\": 24324}, {\"DepDay\": \"2019-07-04T00:00:00\", \"Direction\": \"O\", \"Gender\": \"M\", \"Count\": 45429}, {\"DepDay\": \"2019-07-04T00:00:00\", \"Direction\": \"O\", \"Gender\": \"U\", \"Count\": 33}, {\"DepDay\": \"2019-07-05T00:00:00\", \"Direction\": \"I\", \"Gender\": \"F\", \"Count\": 23774}, {\"DepDay\": \"2019-07-05T00:00:00\", \"Direction\": \"I\", \"Gender\": \"M\", \"Count\": 39963}, {\"DepDay\": \"2019-07-05T00:00:00\", \"Direction\": \"I\", \"Gender\": \"U\", \"Count\": 17}, {\"DepDay\": \"2019-07-05T00:00:00\", \"Direction\": \"O\", \"Gender\": \"F\", \"Count\": 24084}, {\"DepDay\": \"2019-07-05T00:00:00\", \"Direction\": \"O\", \"Gender\": \"M\", \"Count\": 39969}, {\"DepDay\": \"2019-07-05T00:00:00\", \"Direction\": \"O\", \"Gender\": \"U\", \"Count\": 28}, {\"DepDay\": \"2019-07-06T00:00:00\", \"Direction\": \"I\", \"Gender\": \"F\", \"Count\": 21618}, {\"DepDay\": \"2019-07-06T00:00:00\", \"Direction\": \"I\", \"Gender\": \"M\", \"Count\": 42817}, {\"DepDay\": \"2019-07-06T00:00:00\", \"Direction\": \"I\", \"Gender\": \"U\", \"Count\": 13}, {\"DepDay\": \"2019-07-06T00:00:00\", \"Direction\": \"O\", \"Gender\": \"F\", \"Count\": 22911}, {\"DepDay\": \"2019-07-06T00:00:00\", \"Direction\": \"O\", \"Gender\": \"M\", \"Count\": 33329}, {\"DepDay\": \"2019-07-06T00:00:00\", \"Direction\": \"O\", \"Gender\": \"U\", \"Count\": 7}, {\"DepDay\": \"2019-07-07T00:00:00\", \"Direction\": \"I\", \"Gender\": \"F\", \"Count\": 27140}, {\"DepDay\": \"2019-07-07T00:00:00\", \"Direction\": \"I\", \"Gender\": \"M\", \"Count\": 47646}, {\"DepDay\": \"2019-07-07T00:00:00\", \"Direction\": \"I\", \"Gender\": \"U\", \"Count\": 9}, {\"DepDay\": \"2019-07-07T00:00:00\", \"Direction\": \"O\", \"Gender\": \"F\", \"Count\": 23007}, {\"DepDay\": \"2019-07-07T00:00:00\", \"Direction\": \"O\", \"Gender\": \"M\", \"Count\": 34525}, {\"DepDay\": \"2019-07-07T00:00:00\", \"Direction\": \"O\", \"Gender\": \"U\", \"Count\": 9}, {\"DepDay\": \"2019-07-08T00:00:00\", \"Direction\": \"I\", \"Gender\": \"F\", \"Count\": 27440}, {\"DepDay\": \"2019-07-08T00:00:00\", \"Direction\": \"I\", \"Gender\": \"M\", \"Count\": 45352}, {\"DepDay\": \"2019-07-08T00:00:00\", \"Direction\": \"I\", \"Gender\": \"U\", \"Count\": 14}, {\"DepDay\": \"2019-07-08T00:00:00\", \"Direction\": \"O\", \"Gender\": \"F\", \"Count\": 19830}, {\"DepDay\": \"2019-07-08T00:00:00\", \"Direction\": \"O\", \"Gender\": \"M\", \"Count\": 31310}, {\"DepDay\": \"2019-07-08T00:00:00\", \"Direction\": \"O\", \"Gender\": \"U\", \"Count\": 26}, {\"DepDay\": \"2019-07-09T00:00:00\", \"Direction\": \"I\", \"Gender\": \"F\", \"Count\": 27122}, {\"DepDay\": \"2019-07-09T00:00:00\", \"Direction\": \"I\", \"Gender\": \"M\", \"Count\": 45011}, {\"DepDay\": \"2019-07-09T00:00:00\", \"Direction\": \"I\", \"Gender\": \"U\", \"Count\": 13}, {\"DepDay\": \"2019-07-09T00:00:00\", \"Direction\": \"O\", \"Gender\": \"F\", \"Count\": 20000}, {\"DepDay\": \"2019-07-09T00:00:00\", \"Direction\": \"O\", \"Gender\": \"M\", \"Count\": 32549}, {\"DepDay\": \"2019-07-09T00:00:00\", \"Direction\": \"O\", \"Gender\": \"U\", \"Count\": 12}, {\"DepDay\": \"2019-07-10T00:00:00\", \"Direction\": \"I\", \"Gender\": \"F\", \"Count\": 29185}, {\"DepDay\": \"2019-07-10T00:00:00\", \"Direction\": \"I\", \"Gender\": \"M\", \"Count\": 47361}, {\"DepDay\": \"2019-07-10T00:00:00\", \"Direction\": \"I\", \"Gender\": \"U\", \"Count\": 10}, {\"DepDay\": \"2019-07-10T00:00:00\", \"Direction\": \"O\", \"Gender\": \"F\", \"Count\": 21012}, {\"DepDay\": \"2019-07-10T00:00:00\", \"Direction\": \"O\", \"Gender\": \"M\", \"Count\": 37410}, {\"DepDay\": \"2019-07-10T00:00:00\", \"Direction\": \"O\", \"Gender\": \"U\", \"Count\": 29}, {\"DepDay\": \"2019-07-11T00:00:00\", \"Direction\": \"I\", \"Gender\": \"F\", \"Count\": 35675}, {\"DepDay\": \"2019-07-11T00:00:00\", \"Direction\": \"I\", \"Gender\": \"M\", \"Count\": 52785}, {\"DepDay\": \"2019-07-11T00:00:00\", \"Direction\": \"I\", \"Gender\": \"U\", \"Count\": 24}, {\"DepDay\": \"2019-07-11T00:00:00\", \"Direction\": \"O\", \"Gender\": \"F\", \"Count\": 20389}, {\"DepDay\": \"2019-07-11T00:00:00\", \"Direction\": \"O\", \"Gender\": \"M\", \"Count\": 41732}, {\"DepDay\": \"2019-07-11T00:00:00\", \"Direction\": \"O\", \"Gender\": \"U\", \"Count\": 28}, {\"DepDay\": \"2019-07-12T00:00:00\", \"Direction\": \"I\", \"Gender\": \"F\", \"Count\": 32331}, {\"DepDay\": \"2019-07-12T00:00:00\", \"Direction\": \"I\", \"Gender\": \"M\", \"Count\": 50049}, {\"DepDay\": \"2019-07-12T00:00:00\", \"Direction\": \"I\", \"Gender\": \"U\", \"Count\": 15}, {\"DepDay\": \"2019-07-12T00:00:00\", \"Direction\": \"O\", \"Gender\": \"F\", \"Count\": 20979}, {\"DepDay\": \"2019-07-12T00:00:00\", \"Direction\": \"O\", \"Gender\": \"M\", \"Count\": 36144}, {\"DepDay\": \"2019-07-12T00:00:00\", \"Direction\": \"O\", \"Gender\": \"U\", \"Count\": 19}, {\"DepDay\": \"2019-07-13T00:00:00\", \"Direction\": \"I\", \"Gender\": \"F\", \"Count\": 35083}, {\"DepDay\": \"2019-07-13T00:00:00\", \"Direction\": \"I\", \"Gender\": \"M\", \"Count\": 59297}, {\"DepDay\": \"2019-07-13T00:00:00\", \"Direction\": \"I\", \"Gender\": \"U\", \"Count\": 7}, {\"DepDay\": \"2019-07-13T00:00:00\", \"Direction\": \"O\", \"Gender\": \"F\", \"Count\": 22726}, {\"DepDay\": \"2019-07-13T00:00:00\", \"Direction\": \"O\", \"Gender\": \"M\", \"Count\": 33971}, {\"DepDay\": \"2019-07-13T00:00:00\", \"Direction\": \"O\", \"Gender\": \"U\", \"Count\": 9}, {\"DepDay\": \"2019-07-14T00:00:00\", \"Direction\": \"I\", \"Gender\": \"F\", \"Count\": 32640}, {\"DepDay\": \"2019-07-14T00:00:00\", \"Direction\": \"I\", \"Gender\": \"M\", \"Count\": 54092}, {\"DepDay\": \"2019-07-14T00:00:00\", \"Direction\": \"I\", \"Gender\": \"U\", \"Count\": 2}, {\"DepDay\": \"2019-07-14T00:00:00\", \"Direction\": \"O\", \"Gender\": \"F\", \"Count\": 19271}, {\"DepDay\": \"2019-07-14T00:00:00\", \"Direction\": \"O\", \"Gender\": \"M\", \"Count\": 31013}, {\"DepDay\": \"2019-07-14T00:00:00\", \"Direction\": \"O\", \"Gender\": \"U\", \"Count\": 9}, {\"DepDay\": \"2019-07-15T00:00:00\", \"Direction\": \"I\", \"Gender\": \"F\", \"Count\": 34238}, {\"DepDay\": \"2019-07-15T00:00:00\", \"Direction\": \"I\", \"Gender\": \"M\", \"Count\": 56508}, {\"DepDay\": \"2019-07-15T00:00:00\", \"Direction\": \"I\", \"Gender\": \"U\", \"Count\": 15}, {\"DepDay\": \"2019-07-15T00:00:00\", \"Direction\": \"O\", \"Gender\": \"F\", \"Count\": 19711}, {\"DepDay\": \"2019-07-15T00:00:00\", \"Direction\": \"O\", \"Gender\": \"M\", \"Count\": 32900}, {\"DepDay\": \"2019-07-15T00:00:00\", \"Direction\": \"O\", \"Gender\": \"U\", \"Count\": 31}, {\"DepDay\": \"2019-07-16T00:00:00\", \"Direction\": \"I\", \"Gender\": \"F\", \"Count\": 33914}, {\"DepDay\": \"2019-07-16T00:00:00\", \"Direction\": \"I\", \"Gender\": \"M\", \"Count\": 54351}, {\"DepDay\": \"2019-07-16T00:00:00\", \"Direction\": \"I\", \"Gender\": \"U\", \"Count\": 11}, {\"DepDay\": \"2019-07-16T00:00:00\", \"Direction\": \"O\", \"Gender\": \"F\", \"Count\": 18378}, {\"DepDay\": \"2019-07-16T00:00:00\", \"Direction\": \"O\", \"Gender\": \"M\", \"Count\": 32219}, {\"DepDay\": \"2019-07-16T00:00:00\", \"Direction\": \"O\", \"Gender\": \"U\", \"Count\": 14}, {\"DepDay\": \"2019-07-17T00:00:00\", \"Direction\": \"I\", \"Gender\": \"F\", \"Count\": 35300}, {\"DepDay\": \"2019-07-17T00:00:00\", \"Direction\": \"I\", \"Gender\": \"M\", \"Count\": 53340}, {\"DepDay\": \"2019-07-17T00:00:00\", \"Direction\": \"I\", \"Gender\": \"U\", \"Count\": 19}, {\"DepDay\": \"2019-07-17T00:00:00\", \"Direction\": \"O\", \"Gender\": \"F\", \"Count\": 18362}, {\"DepDay\": \"2019-07-17T00:00:00\", \"Direction\": \"O\", \"Gender\": \"M\", \"Count\": 33331}, {\"DepDay\": \"2019-07-17T00:00:00\", \"Direction\": \"O\", \"Gender\": \"U\", \"Count\": 10}, {\"DepDay\": \"2019-07-18T00:00:00\", \"Direction\": \"I\", \"Gender\": \"F\", \"Count\": 37095}, {\"DepDay\": \"2019-07-18T00:00:00\", \"Direction\": \"I\", \"Gender\": \"M\", \"Count\": 57124}, {\"DepDay\": \"2019-07-18T00:00:00\", \"Direction\": \"I\", \"Gender\": \"U\", \"Count\": 24}, {\"DepDay\": \"2019-07-18T00:00:00\", \"Direction\": \"O\", \"Gender\": \"F\", \"Count\": 19415}, {\"DepDay\": \"2019-07-18T00:00:00\", \"Direction\": \"O\", \"Gender\": \"M\", \"Count\": 40022}, {\"DepDay\": \"2019-07-18T00:00:00\", \"Direction\": \"O\", \"Gender\": \"U\", \"Count\": 28}, {\"DepDay\": \"2019-07-19T00:00:00\", \"Direction\": \"I\", \"Gender\": \"F\", \"Count\": 35961}, {\"DepDay\": \"2019-07-19T00:00:00\", \"Direction\": \"I\", \"Gender\": \"M\", \"Count\": 52159}, {\"DepDay\": \"2019-07-19T00:00:00\", \"Direction\": \"I\", \"Gender\": \"U\", \"Count\": 22}, {\"DepDay\": \"2019-07-19T00:00:00\", \"Direction\": \"O\", \"Gender\": \"F\", \"Count\": 20051}, {\"DepDay\": \"2019-07-19T00:00:00\", \"Direction\": \"O\", \"Gender\": \"M\", \"Count\": 35227}, {\"DepDay\": \"2019-07-19T00:00:00\", \"Direction\": \"O\", \"Gender\": \"U\", \"Count\": 22}, {\"DepDay\": \"2019-07-20T00:00:00\", \"Direction\": \"I\", \"Gender\": \"F\", \"Count\": 38123}, {\"DepDay\": \"2019-07-20T00:00:00\", \"Direction\": \"I\", \"Gender\": \"M\", \"Count\": 60458}, {\"DepDay\": \"2019-07-20T00:00:00\", \"Direction\": \"I\", \"Gender\": \"U\", \"Count\": 9}, {\"DepDay\": \"2019-07-20T00:00:00\", \"Direction\": \"O\", \"Gender\": \"F\", \"Count\": 20535}, {\"DepDay\": \"2019-07-20T00:00:00\", \"Direction\": \"O\", \"Gender\": \"M\", \"Count\": 32081}, {\"DepDay\": \"2019-07-20T00:00:00\", \"Direction\": \"O\", \"Gender\": \"U\", \"Count\": 6}, {\"DepDay\": \"2019-07-21T00:00:00\", \"Direction\": \"I\", \"Gender\": \"F\", \"Count\": 37246}, {\"DepDay\": \"2019-07-21T00:00:00\", \"Direction\": \"I\", \"Gender\": \"M\", \"Count\": 58834}, {\"DepDay\": \"2019-07-21T00:00:00\", \"Direction\": \"I\", \"Gender\": \"U\", \"Count\": 8}, {\"DepDay\": \"2019-07-21T00:00:00\", \"Direction\": \"O\", \"Gender\": \"F\", \"Count\": 16686}, {\"DepDay\": \"2019-07-21T00:00:00\", \"Direction\": \"O\", \"Gender\": \"M\", \"Count\": 29151}, {\"DepDay\": \"2019-07-21T00:00:00\", \"Direction\": \"O\", \"Gender\": \"U\", \"Count\": 28}, {\"DepDay\": \"2019-07-22T00:00:00\", \"Direction\": \"I\", \"Gender\": \"F\", \"Count\": 36805}, {\"DepDay\": \"2019-07-22T00:00:00\", \"Direction\": \"I\", \"Gender\": \"M\", \"Count\": 57280}, {\"DepDay\": \"2019-07-22T00:00:00\", \"Direction\": \"I\", \"Gender\": \"U\", \"Count\": 13}, {\"DepDay\": \"2019-07-22T00:00:00\", \"Direction\": \"O\", \"Gender\": \"F\", \"Count\": 15910}, {\"DepDay\": \"2019-07-22T00:00:00\", \"Direction\": \"O\", \"Gender\": \"M\", \"Count\": 28583}, {\"DepDay\": \"2019-07-22T00:00:00\", \"Direction\": \"O\", \"Gender\": \"U\", \"Count\": 30}, {\"DepDay\": \"2019-07-23T00:00:00\", \"Direction\": \"I\", \"Gender\": \"F\", \"Count\": 40601}, {\"DepDay\": \"2019-07-23T00:00:00\", \"Direction\": \"I\", \"Gender\": \"M\", \"Count\": 60588}, {\"DepDay\": \"2019-07-23T00:00:00\", \"Direction\": \"I\", \"Gender\": \"U\", \"Count\": 11}, {\"DepDay\": \"2019-07-23T00:00:00\", \"Direction\": \"O\", \"Gender\": \"F\", \"Count\": 16730}, {\"DepDay\": \"2019-07-23T00:00:00\", \"Direction\": \"O\", \"Gender\": \"M\", \"Count\": 30574}, {\"DepDay\": \"2019-07-23T00:00:00\", \"Direction\": \"O\", \"Gender\": \"U\", \"Count\": 14}, {\"DepDay\": \"2019-07-24T00:00:00\", \"Direction\": \"I\", \"Gender\": \"F\", \"Count\": 43180}, {\"DepDay\": \"2019-07-24T00:00:00\", \"Direction\": \"I\", \"Gender\": \"M\", \"Count\": 59514}, {\"DepDay\": \"2019-07-24T00:00:00\", \"Direction\": \"I\", \"Gender\": \"U\", \"Count\": 17}, {\"DepDay\": \"2019-07-24T00:00:00\", \"Direction\": \"O\", \"Gender\": \"F\", \"Count\": 16804}, {\"DepDay\": \"2019-07-24T00:00:00\", \"Direction\": \"O\", \"Gender\": \"M\", \"Count\": 32897}, {\"DepDay\": \"2019-07-24T00:00:00\", \"Direction\": \"O\", \"Gender\": \"U\", \"Count\": 23}, {\"DepDay\": \"2019-07-25T00:00:00\", \"Direction\": \"I\", \"Gender\": \"F\", \"Count\": 44489}, {\"DepDay\": \"2019-07-25T00:00:00\", \"Direction\": \"I\", \"Gender\": \"M\", \"Count\": 62669}, {\"DepDay\": \"2019-07-25T00:00:00\", \"Direction\": \"I\", \"Gender\": \"U\", \"Count\": 16}, {\"DepDay\": \"2019-07-25T00:00:00\", \"Direction\": \"O\", \"Gender\": \"F\", \"Count\": 17956}, {\"DepDay\": \"2019-07-25T00:00:00\", \"Direction\": \"O\", \"Gender\": \"M\", \"Count\": 39794}, {\"DepDay\": \"2019-07-25T00:00:00\", \"Direction\": \"O\", \"Gender\": \"U\", \"Count\": 37}, {\"DepDay\": \"2019-07-26T00:00:00\", \"Direction\": \"I\", \"Gender\": \"F\", \"Count\": 44909}, {\"DepDay\": \"2019-07-26T00:00:00\", \"Direction\": \"I\", \"Gender\": \"M\", \"Count\": 61522}, {\"DepDay\": \"2019-07-26T00:00:00\", \"Direction\": \"I\", \"Gender\": \"U\", \"Count\": 9}, {\"DepDay\": \"2019-07-26T00:00:00\", \"Direction\": \"O\", \"Gender\": \"F\", \"Count\": 18630}, {\"DepDay\": \"2019-07-26T00:00:00\", \"Direction\": \"O\", \"Gender\": \"M\", \"Count\": 35559}, {\"DepDay\": \"2019-07-26T00:00:00\", \"Direction\": \"O\", \"Gender\": \"U\", \"Count\": 26}, {\"DepDay\": \"2019-07-27T00:00:00\", \"Direction\": \"I\", \"Gender\": \"F\", \"Count\": 46032}, {\"DepDay\": \"2019-07-27T00:00:00\", \"Direction\": \"I\", \"Gender\": \"M\", \"Count\": 67532}, {\"DepDay\": \"2019-07-27T00:00:00\", \"Direction\": \"I\", \"Gender\": \"U\", \"Count\": 4}, {\"DepDay\": \"2019-07-27T00:00:00\", \"Direction\": \"O\", \"Gender\": \"F\", \"Count\": 19454}, {\"DepDay\": \"2019-07-27T00:00:00\", \"Direction\": \"O\", \"Gender\": \"M\", \"Count\": 31547}, {\"DepDay\": \"2019-07-27T00:00:00\", \"Direction\": \"O\", \"Gender\": \"U\", \"Count\": 8}, {\"DepDay\": \"2019-07-28T00:00:00\", \"Direction\": \"I\", \"Gender\": \"F\", \"Count\": 50292}, {\"DepDay\": \"2019-07-28T00:00:00\", \"Direction\": \"I\", \"Gender\": \"M\", \"Count\": 68416}, {\"DepDay\": \"2019-07-28T00:00:00\", \"Direction\": \"I\", \"Gender\": \"U\", \"Count\": 16}, {\"DepDay\": \"2019-07-28T00:00:00\", \"Direction\": \"O\", \"Gender\": \"F\", \"Count\": 17136}, {\"DepDay\": \"2019-07-28T00:00:00\", \"Direction\": \"O\", \"Gender\": \"M\", \"Count\": 29891}, {\"DepDay\": \"2019-07-28T00:00:00\", \"Direction\": \"O\", \"Gender\": \"U\", \"Count\": 12}, {\"DepDay\": \"2019-07-29T00:00:00\", \"Direction\": \"I\", \"Gender\": \"F\", \"Count\": 50669}, {\"DepDay\": \"2019-07-29T00:00:00\", \"Direction\": \"I\", \"Gender\": \"M\", \"Count\": 70218}, {\"DepDay\": \"2019-07-29T00:00:00\", \"Direction\": \"I\", \"Gender\": \"U\", \"Count\": 28}, {\"DepDay\": \"2019-07-29T00:00:00\", \"Direction\": \"O\", \"Gender\": \"F\", \"Count\": 18103}, {\"DepDay\": \"2019-07-29T00:00:00\", \"Direction\": \"O\", \"Gender\": \"M\", \"Count\": 34516}, {\"DepDay\": \"2019-07-29T00:00:00\", \"Direction\": \"O\", \"Gender\": \"U\", \"Count\": 27}, {\"DepDay\": \"2019-07-30T00:00:00\", \"Direction\": \"I\", \"Gender\": \"F\", \"Count\": 51758}, {\"DepDay\": \"2019-07-30T00:00:00\", \"Direction\": \"I\", \"Gender\": \"M\", \"Count\": 69574}, {\"DepDay\": \"2019-07-30T00:00:00\", \"Direction\": \"I\", \"Gender\": \"U\", \"Count\": 5}, {\"DepDay\": \"2019-07-30T00:00:00\", \"Direction\": \"O\", \"Gender\": \"F\", \"Count\": 19257}, {\"DepDay\": \"2019-07-30T00:00:00\", \"Direction\": \"O\", \"Gender\": \"M\", \"Count\": 37427}, {\"DepDay\": \"2019-07-30T00:00:00\", \"Direction\": \"O\", \"Gender\": \"U\", \"Count\": 18}, {\"DepDay\": \"2019-07-31T00:00:00\", \"Direction\": \"I\", \"Gender\": \"F\", \"Count\": 52563}, {\"DepDay\": \"2019-07-31T00:00:00\", \"Direction\": \"I\", \"Gender\": \"M\", \"Count\": 70800}, {\"DepDay\": \"2019-07-31T00:00:00\", \"Direction\": \"I\", \"Gender\": \"U\", \"Count\": 16}, {\"DepDay\": \"2019-07-31T00:00:00\", \"Direction\": \"O\", \"Gender\": \"F\", \"Count\": 19989}, {\"DepDay\": \"2019-07-31T00:00:00\", \"Direction\": \"O\", \"Gender\": \"M\", \"Count\": 43126}, {\"DepDay\": \"2019-07-31T00:00:00\", \"Direction\": \"O\", \"Gender\": \"U\", \"Count\": 17}, {\"DepDay\": \"2019-08-01T00:00:00\", \"Direction\": \"I\", \"Gender\": \"F\", \"Count\": 53985}, {\"DepDay\": \"2019-08-01T00:00:00\", \"Direction\": \"I\", \"Gender\": \"M\", \"Count\": 71870}, {\"DepDay\": \"2019-08-01T00:00:00\", \"Direction\": \"I\", \"Gender\": \"U\", \"Count\": 15}, {\"DepDay\": \"2019-08-01T00:00:00\", \"Direction\": \"O\", \"Gender\": \"F\", \"Count\": 21664}, {\"DepDay\": \"2019-08-01T00:00:00\", \"Direction\": \"O\", \"Gender\": \"M\", \"Count\": 49683}, {\"DepDay\": \"2019-08-01T00:00:00\", \"Direction\": \"O\", \"Gender\": \"U\", \"Count\": 27}, {\"DepDay\": \"2019-08-02T00:00:00\", \"Direction\": \"I\", \"Gender\": \"F\", \"Count\": 57400}, {\"DepDay\": \"2019-08-02T00:00:00\", \"Direction\": \"I\", \"Gender\": \"M\", \"Count\": 73176}, {\"DepDay\": \"2019-08-02T00:00:00\", \"Direction\": \"I\", \"Gender\": \"U\", \"Count\": 15}, {\"DepDay\": \"2019-08-02T00:00:00\", \"Direction\": \"O\", \"Gender\": \"F\", \"Count\": 21126}, {\"DepDay\": \"2019-08-02T00:00:00\", \"Direction\": \"O\", \"Gender\": \"M\", \"Count\": 45572}, {\"DepDay\": \"2019-08-02T00:00:00\", \"Direction\": \"O\", \"Gender\": \"U\", \"Count\": 19}, {\"DepDay\": \"2019-08-03T00:00:00\", \"Direction\": \"I\", \"Gender\": \"F\", \"Count\": 54476}, {\"DepDay\": \"2019-08-03T00:00:00\", \"Direction\": \"I\", \"Gender\": \"M\", \"Count\": 73180}, {\"DepDay\": \"2019-08-03T00:00:00\", \"Direction\": \"I\", \"Gender\": \"U\", \"Count\": 17}, {\"DepDay\": \"2019-08-03T00:00:00\", \"Direction\": \"O\", \"Gender\": \"F\", \"Count\": 21973}, {\"DepDay\": \"2019-08-03T00:00:00\", \"Direction\": \"O\", \"Gender\": \"M\", \"Count\": 42077}, {\"DepDay\": \"2019-08-03T00:00:00\", \"Direction\": \"O\", \"Gender\": \"U\", \"Count\": 19}, {\"DepDay\": \"2019-08-04T00:00:00\", \"Direction\": \"I\", \"Gender\": \"F\", \"Count\": 50439}, {\"DepDay\": \"2019-08-04T00:00:00\", \"Direction\": \"I\", \"Gender\": \"M\", \"Count\": 69915}, {\"DepDay\": \"2019-08-04T00:00:00\", \"Direction\": \"I\", \"Gender\": \"U\", \"Count\": 1}, {\"DepDay\": \"2019-08-04T00:00:00\", \"Direction\": \"O\", \"Gender\": \"F\", \"Count\": 19020}, {\"DepDay\": \"2019-08-04T00:00:00\", \"Direction\": \"O\", \"Gender\": \"M\", \"Count\": 40903}, {\"DepDay\": \"2019-08-04T00:00:00\", \"Direction\": \"O\", \"Gender\": \"U\", \"Count\": 13}, {\"DepDay\": \"2019-08-05T00:00:00\", \"Direction\": \"I\", \"Gender\": \"F\", \"Count\": 50800}, {\"DepDay\": \"2019-08-05T00:00:00\", \"Direction\": \"I\", \"Gender\": \"M\", \"Count\": 69127}, {\"DepDay\": \"2019-08-05T00:00:00\", \"Direction\": \"I\", \"Gender\": \"U\", \"Count\": 9}, {\"DepDay\": \"2019-08-05T00:00:00\", \"Direction\": \"O\", \"Gender\": \"F\", \"Count\": 20603}, {\"DepDay\": \"2019-08-05T00:00:00\", \"Direction\": \"O\", \"Gender\": \"M\", \"Count\": 47383}, {\"DepDay\": \"2019-08-05T00:00:00\", \"Direction\": \"O\", \"Gender\": \"U\", \"Count\": 27}, {\"DepDay\": \"2019-08-06T00:00:00\", \"Direction\": \"I\", \"Gender\": \"F\", \"Count\": 35803}, {\"DepDay\": \"2019-08-06T00:00:00\", \"Direction\": \"I\", \"Gender\": \"M\", \"Count\": 53042}, {\"DepDay\": \"2019-08-06T00:00:00\", \"Direction\": \"I\", \"Gender\": \"U\", \"Count\": 29}, {\"DepDay\": \"2019-08-06T00:00:00\", \"Direction\": \"O\", \"Gender\": \"F\", \"Count\": 20592}, {\"DepDay\": \"2019-08-06T00:00:00\", \"Direction\": \"O\", \"Gender\": \"M\", \"Count\": 47852}, {\"DepDay\": \"2019-08-06T00:00:00\", \"Direction\": \"O\", \"Gender\": \"U\", \"Count\": 8}, {\"DepDay\": \"2019-08-07T00:00:00\", \"Direction\": \"I\", \"Gender\": \"F\", \"Count\": 29835}, {\"DepDay\": \"2019-08-07T00:00:00\", \"Direction\": \"I\", \"Gender\": \"M\", \"Count\": 44813}, {\"DepDay\": \"2019-08-07T00:00:00\", \"Direction\": \"I\", \"Gender\": \"U\", \"Count\": 18}, {\"DepDay\": \"2019-08-07T00:00:00\", \"Direction\": \"O\", \"Gender\": \"F\", \"Count\": 18386}, {\"DepDay\": \"2019-08-07T00:00:00\", \"Direction\": \"O\", \"Gender\": \"M\", \"Count\": 49177}, {\"DepDay\": \"2019-08-07T00:00:00\", \"Direction\": \"O\", \"Gender\": \"U\", \"Count\": 14}, {\"DepDay\": \"2019-08-08T00:00:00\", \"Direction\": \"I\", \"Gender\": \"F\", \"Count\": 25105}, {\"DepDay\": \"2019-08-08T00:00:00\", \"Direction\": \"I\", \"Gender\": \"M\", \"Count\": 38303}, {\"DepDay\": \"2019-08-08T00:00:00\", \"Direction\": \"I\", \"Gender\": \"U\", \"Count\": 20}, {\"DepDay\": \"2019-08-08T00:00:00\", \"Direction\": \"O\", \"Gender\": \"F\", \"Count\": 16883}, {\"DepDay\": \"2019-08-08T00:00:00\", \"Direction\": \"O\", \"Gender\": \"M\", \"Count\": 55292}, {\"DepDay\": \"2019-08-08T00:00:00\", \"Direction\": \"O\", \"Gender\": \"U\", \"Count\": 21}, {\"DepDay\": \"2019-08-09T00:00:00\", \"Direction\": \"I\", \"Gender\": \"F\", \"Count\": 21591}, {\"DepDay\": \"2019-08-09T00:00:00\", \"Direction\": \"I\", \"Gender\": \"M\", \"Count\": 30491}, {\"DepDay\": \"2019-08-09T00:00:00\", \"Direction\": \"I\", \"Gender\": \"U\", \"Count\": 18}, {\"DepDay\": \"2019-08-09T00:00:00\", \"Direction\": \"O\", \"Gender\": \"F\", \"Count\": 17779}, {\"DepDay\": \"2019-08-09T00:00:00\", \"Direction\": \"O\", \"Gender\": \"M\", \"Count\": 52850}, {\"DepDay\": \"2019-08-09T00:00:00\", \"Direction\": \"O\", \"Gender\": \"U\", \"Count\": 9}, {\"DepDay\": \"2019-08-10T00:00:00\", \"Direction\": \"I\", \"Gender\": \"F\", \"Count\": 8451}, {\"DepDay\": \"2019-08-10T00:00:00\", \"Direction\": \"I\", \"Gender\": \"M\", \"Count\": 12590}, {\"DepDay\": \"2019-08-10T00:00:00\", \"Direction\": \"I\", \"Gender\": \"U\", \"Count\": 10}, {\"DepDay\": \"2019-08-10T00:00:00\", \"Direction\": \"O\", \"Gender\": \"F\", \"Count\": 11291}, {\"DepDay\": \"2019-08-10T00:00:00\", \"Direction\": \"O\", \"Gender\": \"M\", \"Count\": 29997}, {\"DepDay\": \"2019-08-10T00:00:00\", \"Direction\": \"O\", \"Gender\": \"U\", \"Count\": 13}, {\"DepDay\": \"2019-08-11T00:00:00\", \"Direction\": \"I\", \"Gender\": \"F\", \"Count\": 10503}, {\"DepDay\": \"2019-08-11T00:00:00\", \"Direction\": \"I\", \"Gender\": \"M\", \"Count\": 13145}, {\"DepDay\": \"2019-08-11T00:00:00\", \"Direction\": \"I\", \"Gender\": \"U\", \"Count\": 9}, {\"DepDay\": \"2019-08-11T00:00:00\", \"Direction\": \"O\", \"Gender\": \"F\", \"Count\": 5737}, {\"DepDay\": \"2019-08-11T00:00:00\", \"Direction\": \"O\", \"Gender\": \"M\", \"Count\": 14284}, {\"DepDay\": \"2019-08-11T00:00:00\", \"Direction\": \"O\", \"Gender\": \"U\", \"Count\": 2}, {\"DepDay\": \"2019-08-12T00:00:00\", \"Direction\": \"I\", \"Gender\": \"F\", \"Count\": 18852}, {\"DepDay\": \"2019-08-12T00:00:00\", \"Direction\": \"I\", \"Gender\": \"M\", \"Count\": 25130}, {\"DepDay\": \"2019-08-12T00:00:00\", \"Direction\": \"I\", \"Gender\": \"U\", \"Count\": 20}, {\"DepDay\": \"2019-08-12T00:00:00\", \"Direction\": \"O\", \"Gender\": \"F\", \"Count\": 19757}, {\"DepDay\": \"2019-08-12T00:00:00\", \"Direction\": \"O\", \"Gender\": \"M\", \"Count\": 35178}, {\"DepDay\": \"2019-08-12T00:00:00\", \"Direction\": \"O\", \"Gender\": \"U\", \"Count\": 28}, {\"DepDay\": \"2019-08-13T00:00:00\", \"Direction\": \"I\", \"Gender\": \"F\", \"Count\": 4549}, {\"DepDay\": \"2019-08-13T00:00:00\", \"Direction\": \"I\", \"Gender\": \"M\", \"Count\": 7807}, {\"DepDay\": \"2019-08-13T00:00:00\", \"Direction\": \"I\", \"Gender\": \"U\", \"Count\": 9}, {\"DepDay\": \"2019-08-13T00:00:00\", \"Direction\": \"O\", \"Gender\": \"F\", \"Count\": 11794}, {\"DepDay\": \"2019-08-13T00:00:00\", \"Direction\": \"O\", \"Gender\": \"M\", \"Count\": 18068}, {\"DepDay\": \"2019-08-13T00:00:00\", \"Direction\": \"O\", \"Gender\": \"U\", \"Count\": 6}, {\"DepDay\": \"2019-08-14T00:00:00\", \"Direction\": \"I\", \"Gender\": \"F\", \"Count\": 18145}, {\"DepDay\": \"2019-08-14T00:00:00\", \"Direction\": \"I\", \"Gender\": \"M\", \"Count\": 26041}, {\"DepDay\": \"2019-08-14T00:00:00\", \"Direction\": \"I\", \"Gender\": \"U\", \"Count\": 57}, {\"DepDay\": \"2019-08-14T00:00:00\", \"Direction\": \"O\", \"Gender\": \"F\", \"Count\": 7479}, {\"DepDay\": \"2019-08-14T00:00:00\", \"Direction\": \"O\", \"Gender\": \"M\", \"Count\": 12886}, {\"DepDay\": \"2019-08-14T00:00:00\", \"Direction\": \"O\", \"Gender\": \"U\", \"Count\": 6}, {\"DepDay\": \"2019-08-15T00:00:00\", \"Direction\": \"I\", \"Gender\": \"F\", \"Count\": 29431}, {\"DepDay\": \"2019-08-15T00:00:00\", \"Direction\": \"I\", \"Gender\": \"M\", \"Count\": 46907}, {\"DepDay\": \"2019-08-15T00:00:00\", \"Direction\": \"I\", \"Gender\": \"U\", \"Count\": 121}, {\"DepDay\": \"2019-08-15T00:00:00\", \"Direction\": \"O\", \"Gender\": \"F\", \"Count\": 27441}, {\"DepDay\": \"2019-08-15T00:00:00\", \"Direction\": \"O\", \"Gender\": \"M\", \"Count\": 41862}, {\"DepDay\": \"2019-08-15T00:00:00\", \"Direction\": \"O\", \"Gender\": \"U\", \"Count\": 12}, {\"DepDay\": \"2019-08-16T00:00:00\", \"Direction\": \"I\", \"Gender\": \"F\", \"Count\": 27617}, {\"DepDay\": \"2019-08-16T00:00:00\", \"Direction\": \"I\", \"Gender\": \"M\", \"Count\": 45046}, {\"DepDay\": \"2019-08-16T00:00:00\", \"Direction\": \"I\", \"Gender\": \"U\", \"Count\": 49}, {\"DepDay\": \"2019-08-16T00:00:00\", \"Direction\": \"O\", \"Gender\": \"F\", \"Count\": 35655}, {\"DepDay\": \"2019-08-16T00:00:00\", \"Direction\": \"O\", \"Gender\": \"M\", \"Count\": 47985}, {\"DepDay\": \"2019-08-16T00:00:00\", \"Direction\": \"O\", \"Gender\": \"U\", \"Count\": 20}, {\"DepDay\": \"2019-08-17T00:00:00\", \"Direction\": \"I\", \"Gender\": \"F\", \"Count\": 28383}, {\"DepDay\": \"2019-08-17T00:00:00\", \"Direction\": \"I\", \"Gender\": \"M\", \"Count\": 55092}, {\"DepDay\": \"2019-08-17T00:00:00\", \"Direction\": \"I\", \"Gender\": \"U\", \"Count\": 114}, {\"DepDay\": \"2019-08-17T00:00:00\", \"Direction\": \"O\", \"Gender\": \"F\", \"Count\": 49760}, {\"DepDay\": \"2019-08-17T00:00:00\", \"Direction\": \"O\", \"Gender\": \"M\", \"Count\": 62308}, {\"DepDay\": \"2019-08-17T00:00:00\", \"Direction\": \"O\", \"Gender\": \"U\", \"Count\": 16}, {\"DepDay\": \"2019-08-18T00:00:00\", \"Direction\": \"I\", \"Gender\": \"F\", \"Count\": 23610}, {\"DepDay\": \"2019-08-18T00:00:00\", \"Direction\": \"I\", \"Gender\": \"M\", \"Count\": 49513}, {\"DepDay\": \"2019-08-18T00:00:00\", \"Direction\": \"I\", \"Gender\": \"U\", \"Count\": 93}, {\"DepDay\": \"2019-08-18T00:00:00\", \"Direction\": \"O\", \"Gender\": \"F\", \"Count\": 54391}, {\"DepDay\": \"2019-08-18T00:00:00\", \"Direction\": \"O\", \"Gender\": \"M\", \"Count\": 65355}, {\"DepDay\": \"2019-08-18T00:00:00\", \"Direction\": \"O\", \"Gender\": \"U\", \"Count\": 7}, {\"DepDay\": \"2019-08-19T00:00:00\", \"Direction\": \"I\", \"Gender\": \"F\", \"Count\": 24837}, {\"DepDay\": \"2019-08-19T00:00:00\", \"Direction\": \"I\", \"Gender\": \"M\", \"Count\": 49070}, {\"DepDay\": \"2019-08-19T00:00:00\", \"Direction\": \"I\", \"Gender\": \"U\", \"Count\": 136}, {\"DepDay\": \"2019-08-19T00:00:00\", \"Direction\": \"O\", \"Gender\": \"F\", \"Count\": 55768}, {\"DepDay\": \"2019-08-19T00:00:00\", \"Direction\": \"O\", \"Gender\": \"M\", \"Count\": 68074}, {\"DepDay\": \"2019-08-19T00:00:00\", \"Direction\": \"O\", \"Gender\": \"U\", \"Count\": 14}, {\"DepDay\": \"2019-08-20T00:00:00\", \"Direction\": \"I\", \"Gender\": \"F\", \"Count\": 22282}, {\"DepDay\": \"2019-08-20T00:00:00\", \"Direction\": \"I\", \"Gender\": \"M\", \"Count\": 42689}, {\"DepDay\": \"2019-08-20T00:00:00\", \"Direction\": \"I\", \"Gender\": \"U\", \"Count\": 52}, {\"DepDay\": \"2019-08-20T00:00:00\", \"Direction\": \"O\", \"Gender\": \"F\", \"Count\": 51111}, {\"DepDay\": \"2019-08-20T00:00:00\", \"Direction\": \"O\", \"Gender\": \"M\", \"Count\": 61587}, {\"DepDay\": \"2019-08-20T00:00:00\", \"Direction\": \"O\", \"Gender\": \"U\", \"Count\": 13}, {\"DepDay\": \"2019-08-21T00:00:00\", \"Direction\": \"I\", \"Gender\": \"F\", \"Count\": 24593}, {\"DepDay\": \"2019-08-21T00:00:00\", \"Direction\": \"I\", \"Gender\": \"M\", \"Count\": 42796}, {\"DepDay\": \"2019-08-21T00:00:00\", \"Direction\": \"I\", \"Gender\": \"U\", \"Count\": 50}, {\"DepDay\": \"2019-08-21T00:00:00\", \"Direction\": \"O\", \"Gender\": \"F\", \"Count\": 53023}, {\"DepDay\": \"2019-08-21T00:00:00\", \"Direction\": \"O\", \"Gender\": \"M\", \"Count\": 64542}, {\"DepDay\": \"2019-08-21T00:00:00\", \"Direction\": \"O\", \"Gender\": \"U\", \"Count\": 11}, {\"DepDay\": \"2019-08-22T00:00:00\", \"Direction\": \"I\", \"Gender\": \"F\", \"Count\": 27625}, {\"DepDay\": \"2019-08-22T00:00:00\", \"Direction\": \"I\", \"Gender\": \"M\", \"Count\": 45908}, {\"DepDay\": \"2019-08-22T00:00:00\", \"Direction\": \"I\", \"Gender\": \"U\", \"Count\": 117}, {\"DepDay\": \"2019-08-22T00:00:00\", \"Direction\": \"O\", \"Gender\": \"F\", \"Count\": 56104}, {\"DepDay\": \"2019-08-22T00:00:00\", \"Direction\": \"O\", \"Gender\": \"M\", \"Count\": 70692}, {\"DepDay\": \"2019-08-22T00:00:00\", \"Direction\": \"O\", \"Gender\": \"U\", \"Count\": 18}, {\"DepDay\": \"2019-08-23T00:00:00\", \"Direction\": \"I\", \"Gender\": \"F\", \"Count\": 26165}, {\"DepDay\": \"2019-08-23T00:00:00\", \"Direction\": \"I\", \"Gender\": \"M\", \"Count\": 43703}, {\"DepDay\": \"2019-08-23T00:00:00\", \"Direction\": \"I\", \"Gender\": \"U\", \"Count\": 121}, {\"DepDay\": \"2019-08-23T00:00:00\", \"Direction\": \"O\", \"Gender\": \"F\", \"Count\": 54464}, {\"DepDay\": \"2019-08-23T00:00:00\", \"Direction\": \"O\", \"Gender\": \"M\", \"Count\": 67124}, {\"DepDay\": \"2019-08-23T00:00:00\", \"Direction\": \"O\", \"Gender\": \"U\", \"Count\": 18}, {\"DepDay\": \"2019-08-24T00:00:00\", \"Direction\": \"I\", \"Gender\": \"F\", \"Count\": 25262}, {\"DepDay\": \"2019-08-24T00:00:00\", \"Direction\": \"I\", \"Gender\": \"M\", \"Count\": 48813}, {\"DepDay\": \"2019-08-24T00:00:00\", \"Direction\": \"I\", \"Gender\": \"U\", \"Count\": 99}, {\"DepDay\": \"2019-08-24T00:00:00\", \"Direction\": \"O\", \"Gender\": \"F\", \"Count\": 51095}, {\"DepDay\": \"2019-08-24T00:00:00\", \"Direction\": \"O\", \"Gender\": \"M\", \"Count\": 60854}, {\"DepDay\": \"2019-08-24T00:00:00\", \"Direction\": \"O\", \"Gender\": \"U\", \"Count\": 9}, {\"DepDay\": \"2019-08-25T00:00:00\", \"Direction\": \"I\", \"Gender\": \"F\", \"Count\": 22606}, {\"DepDay\": \"2019-08-25T00:00:00\", \"Direction\": \"I\", \"Gender\": \"M\", \"Count\": 46207}, {\"DepDay\": \"2019-08-25T00:00:00\", \"Direction\": \"I\", \"Gender\": \"U\", \"Count\": 54}, {\"DepDay\": \"2019-08-25T00:00:00\", \"Direction\": \"O\", \"Gender\": \"F\", \"Count\": 49541}, {\"DepDay\": \"2019-08-25T00:00:00\", \"Direction\": \"O\", \"Gender\": \"M\", \"Count\": 62683}, {\"DepDay\": \"2019-08-25T00:00:00\", \"Direction\": \"O\", \"Gender\": \"U\", \"Count\": 14}, {\"DepDay\": \"2019-08-26T00:00:00\", \"Direction\": \"I\", \"Gender\": \"F\", \"Count\": 23371}, {\"DepDay\": \"2019-08-26T00:00:00\", \"Direction\": \"I\", \"Gender\": \"M\", \"Count\": 43448}, {\"DepDay\": \"2019-08-26T00:00:00\", \"Direction\": \"I\", \"Gender\": \"U\", \"Count\": 59}, {\"DepDay\": \"2019-08-26T00:00:00\", \"Direction\": \"O\", \"Gender\": \"F\", \"Count\": 45313}, {\"DepDay\": \"2019-08-26T00:00:00\", \"Direction\": \"O\", \"Gender\": \"M\", \"Count\": 58013}, {\"DepDay\": \"2019-08-26T00:00:00\", \"Direction\": \"O\", \"Gender\": \"U\", \"Count\": 15}, {\"DepDay\": \"2019-08-27T00:00:00\", \"Direction\": \"I\", \"Gender\": \"F\", \"Count\": 24002}, {\"DepDay\": \"2019-08-27T00:00:00\", \"Direction\": \"I\", \"Gender\": \"M\", \"Count\": 42534}, {\"DepDay\": \"2019-08-27T00:00:00\", \"Direction\": \"I\", \"Gender\": \"U\", \"Count\": 92}, {\"DepDay\": \"2019-08-27T00:00:00\", \"Direction\": \"O\", \"Gender\": \"F\", \"Count\": 44932}, {\"DepDay\": \"2019-08-27T00:00:00\", \"Direction\": \"O\", \"Gender\": \"M\", \"Count\": 58747}, {\"DepDay\": \"2019-08-27T00:00:00\", \"Direction\": \"O\", \"Gender\": \"U\", \"Count\": 8}, {\"DepDay\": \"2019-08-28T00:00:00\", \"Direction\": \"I\", \"Gender\": \"F\", \"Count\": 24913}, {\"DepDay\": \"2019-08-28T00:00:00\", \"Direction\": \"I\", \"Gender\": \"M\", \"Count\": 42648}, {\"DepDay\": \"2019-08-28T00:00:00\", \"Direction\": \"I\", \"Gender\": \"U\", \"Count\": 42}, {\"DepDay\": \"2019-08-28T00:00:00\", \"Direction\": \"O\", \"Gender\": \"F\", \"Count\": 41185}, {\"DepDay\": \"2019-08-28T00:00:00\", \"Direction\": \"O\", \"Gender\": \"M\", \"Count\": 57177}, {\"DepDay\": \"2019-08-28T00:00:00\", \"Direction\": \"O\", \"Gender\": \"U\", \"Count\": 23}, {\"DepDay\": \"2019-08-29T00:00:00\", \"Direction\": \"I\", \"Gender\": \"F\", \"Count\": 29433}, {\"DepDay\": \"2019-08-29T00:00:00\", \"Direction\": \"I\", \"Gender\": \"M\", \"Count\": 46333}, {\"DepDay\": \"2019-08-29T00:00:00\", \"Direction\": \"I\", \"Gender\": \"U\", \"Count\": 59}, {\"DepDay\": \"2019-08-29T00:00:00\", \"Direction\": \"O\", \"Gender\": \"F\", \"Count\": 37505}, {\"DepDay\": \"2019-08-29T00:00:00\", \"Direction\": \"O\", \"Gender\": \"M\", \"Count\": 57632}, {\"DepDay\": \"2019-08-29T00:00:00\", \"Direction\": \"O\", \"Gender\": \"U\", \"Count\": 29}, {\"DepDay\": \"2019-08-30T00:00:00\", \"Direction\": \"I\", \"Gender\": \"F\", \"Count\": 26887}, {\"DepDay\": \"2019-08-30T00:00:00\", \"Direction\": \"I\", \"Gender\": \"M\", \"Count\": 42420}, {\"DepDay\": \"2019-08-30T00:00:00\", \"Direction\": \"I\", \"Gender\": \"U\", \"Count\": 95}, {\"DepDay\": \"2019-08-30T00:00:00\", \"Direction\": \"O\", \"Gender\": \"F\", \"Count\": 38798}, {\"DepDay\": \"2019-08-30T00:00:00\", \"Direction\": \"O\", \"Gender\": \"M\", \"Count\": 55666}, {\"DepDay\": \"2019-08-30T00:00:00\", \"Direction\": \"O\", \"Gender\": \"U\", \"Count\": 15}, {\"DepDay\": \"2019-08-31T00:00:00\", \"Direction\": \"I\", \"Gender\": \"F\", \"Count\": 25772}, {\"DepDay\": \"2019-08-31T00:00:00\", \"Direction\": \"I\", \"Gender\": \"M\", \"Count\": 46216}, {\"DepDay\": \"2019-08-31T00:00:00\", \"Direction\": \"I\", \"Gender\": \"U\", \"Count\": 52}, {\"DepDay\": \"2019-08-31T00:00:00\", \"Direction\": \"O\", \"Gender\": \"F\", \"Count\": 38436}, {\"DepDay\": \"2019-08-31T00:00:00\", \"Direction\": \"O\", \"Gender\": \"M\", \"Count\": 51616}, {\"DepDay\": \"2019-08-31T00:00:00\", \"Direction\": \"O\", \"Gender\": \"U\", \"Count\": 2}, {\"DepDay\": \"2019-09-01T00:00:00\", \"Direction\": \"I\", \"Gender\": \"F\", \"Count\": 19842}, {\"DepDay\": \"2019-09-01T00:00:00\", \"Direction\": \"I\", \"Gender\": \"M\", \"Count\": 39114}, {\"DepDay\": \"2019-09-01T00:00:00\", \"Direction\": \"I\", \"Gender\": \"U\", \"Count\": 20}, {\"DepDay\": \"2019-09-01T00:00:00\", \"Direction\": \"O\", \"Gender\": \"F\", \"Count\": 34489}, {\"DepDay\": \"2019-09-01T00:00:00\", \"Direction\": \"O\", \"Gender\": \"M\", \"Count\": 51442}, {\"DepDay\": \"2019-09-01T00:00:00\", \"Direction\": \"O\", \"Gender\": \"U\", \"Count\": 9}, {\"DepDay\": \"2019-09-02T00:00:00\", \"Direction\": \"I\", \"Gender\": \"F\", \"Count\": 18724}, {\"DepDay\": \"2019-09-02T00:00:00\", \"Direction\": \"I\", \"Gender\": \"M\", \"Count\": 36876}, {\"DepDay\": \"2019-09-02T00:00:00\", \"Direction\": \"I\", \"Gender\": \"U\", \"Count\": 21}, {\"DepDay\": \"2019-09-02T00:00:00\", \"Direction\": \"O\", \"Gender\": \"F\", \"Count\": 31856}, {\"DepDay\": \"2019-09-02T00:00:00\", \"Direction\": \"O\", \"Gender\": \"M\", \"Count\": 48905}, {\"DepDay\": \"2019-09-02T00:00:00\", \"Direction\": \"O\", \"Gender\": \"U\", \"Count\": 19}, {\"DepDay\": \"2019-09-03T00:00:00\", \"Direction\": \"I\", \"Gender\": \"F\", \"Count\": 17535}, {\"DepDay\": \"2019-09-03T00:00:00\", \"Direction\": \"I\", \"Gender\": \"M\", \"Count\": 34628}, {\"DepDay\": \"2019-09-03T00:00:00\", \"Direction\": \"I\", \"Gender\": \"U\", \"Count\": 13}, {\"DepDay\": \"2019-09-03T00:00:00\", \"Direction\": \"O\", \"Gender\": \"F\", \"Count\": 30171}, {\"DepDay\": \"2019-09-03T00:00:00\", \"Direction\": \"O\", \"Gender\": \"M\", \"Count\": 48021}, {\"DepDay\": \"2019-09-03T00:00:00\", \"Direction\": \"O\", \"Gender\": \"U\", \"Count\": 11}, {\"DepDay\": \"2019-09-04T00:00:00\", \"Direction\": \"I\", \"Gender\": \"F\", \"Count\": 18420}, {\"DepDay\": \"2019-09-04T00:00:00\", \"Direction\": \"I\", \"Gender\": \"M\", \"Count\": 34316}, {\"DepDay\": \"2019-09-04T00:00:00\", \"Direction\": \"I\", \"Gender\": \"U\", \"Count\": 30}, {\"DepDay\": \"2019-09-04T00:00:00\", \"Direction\": \"O\", \"Gender\": \"F\", \"Count\": 30309}, {\"DepDay\": \"2019-09-04T00:00:00\", \"Direction\": \"O\", \"Gender\": \"M\", \"Count\": 51869}, {\"DepDay\": \"2019-09-04T00:00:00\", \"Direction\": \"O\", \"Gender\": \"U\", \"Count\": 11}, {\"DepDay\": \"2019-09-05T00:00:00\", \"Direction\": \"I\", \"Gender\": \"F\", \"Count\": 22185}, {\"DepDay\": \"2019-09-05T00:00:00\", \"Direction\": \"I\", \"Gender\": \"M\", \"Count\": 36836}, {\"DepDay\": \"2019-09-05T00:00:00\", \"Direction\": \"I\", \"Gender\": \"U\", \"Count\": 31}, {\"DepDay\": \"2019-09-05T00:00:00\", \"Direction\": \"O\", \"Gender\": \"F\", \"Count\": 29153}, {\"DepDay\": \"2019-09-05T00:00:00\", \"Direction\": \"O\", \"Gender\": \"M\", \"Count\": 54037}, {\"DepDay\": \"2019-09-05T00:00:00\", \"Direction\": \"O\", \"Gender\": \"U\", \"Count\": 18}, {\"DepDay\": \"2019-09-06T00:00:00\", \"Direction\": \"I\", \"Gender\": \"F\", \"Count\": 18446}, {\"DepDay\": \"2019-09-06T00:00:00\", \"Direction\": \"I\", \"Gender\": \"M\", \"Count\": 33525}, {\"DepDay\": \"2019-09-06T00:00:00\", \"Direction\": \"I\", \"Gender\": \"U\", \"Count\": 42}, {\"DepDay\": \"2019-09-06T00:00:00\", \"Direction\": \"O\", \"Gender\": \"F\", \"Count\": 27238}, {\"DepDay\": \"2019-09-06T00:00:00\", \"Direction\": \"O\", \"Gender\": \"M\", \"Count\": 47466}, {\"DepDay\": \"2019-09-06T00:00:00\", \"Direction\": \"O\", \"Gender\": \"U\", \"Count\": 18}, {\"DepDay\": \"2019-09-07T00:00:00\", \"Direction\": \"I\", \"Gender\": \"F\", \"Count\": 18621}, {\"DepDay\": \"2019-09-07T00:00:00\", \"Direction\": \"I\", \"Gender\": \"M\", \"Count\": 39138}, {\"DepDay\": \"2019-09-07T00:00:00\", \"Direction\": \"I\", \"Gender\": \"U\", \"Count\": 19}, {\"DepDay\": \"2019-09-07T00:00:00\", \"Direction\": \"O\", \"Gender\": \"F\", \"Count\": 27677}, {\"DepDay\": \"2019-09-07T00:00:00\", \"Direction\": \"O\", \"Gender\": \"M\", \"Count\": 41995}, {\"DepDay\": \"2019-09-07T00:00:00\", \"Direction\": \"O\", \"Gender\": \"U\", \"Count\": 9}, {\"DepDay\": \"2019-09-08T00:00:00\", \"Direction\": \"I\", \"Gender\": \"F\", \"Count\": 14749}, {\"DepDay\": \"2019-09-08T00:00:00\", \"Direction\": \"I\", \"Gender\": \"M\", \"Count\": 35459}, {\"DepDay\": \"2019-09-08T00:00:00\", \"Direction\": \"I\", \"Gender\": \"U\", \"Count\": 20}, {\"DepDay\": \"2019-09-08T00:00:00\", \"Direction\": \"O\", \"Gender\": \"F\", \"Count\": 21987}, {\"DepDay\": \"2019-09-08T00:00:00\", \"Direction\": \"O\", \"Gender\": \"M\", \"Count\": 36908}, {\"DepDay\": \"2019-09-08T00:00:00\", \"Direction\": \"O\", \"Gender\": \"U\", \"Count\": 9}, {\"DepDay\": \"2019-09-09T00:00:00\", \"Direction\": \"I\", \"Gender\": \"F\", \"Count\": 13584}, {\"DepDay\": \"2019-09-09T00:00:00\", \"Direction\": \"I\", \"Gender\": \"M\", \"Count\": 31694}, {\"DepDay\": \"2019-09-09T00:00:00\", \"Direction\": \"I\", \"Gender\": \"U\", \"Count\": 21}, {\"DepDay\": \"2019-09-09T00:00:00\", \"Direction\": \"O\", \"Gender\": \"F\", \"Count\": 21858}, {\"DepDay\": \"2019-09-09T00:00:00\", \"Direction\": \"O\", \"Gender\": \"M\", \"Count\": 37291}, {\"DepDay\": \"2019-09-09T00:00:00\", \"Direction\": \"O\", \"Gender\": \"U\", \"Count\": 25}, {\"DepDay\": \"2019-09-10T00:00:00\", \"Direction\": \"I\", \"Gender\": \"F\", \"Count\": 13310}, {\"DepDay\": \"2019-09-10T00:00:00\", \"Direction\": \"I\", \"Gender\": \"M\", \"Count\": 31472}, {\"DepDay\": \"2019-09-10T00:00:00\", \"Direction\": \"I\", \"Gender\": \"U\", \"Count\": 17}, {\"DepDay\": \"2019-09-10T00:00:00\", \"Direction\": \"O\", \"Gender\": \"F\", \"Count\": 23902}, {\"DepDay\": \"2019-09-10T00:00:00\", \"Direction\": \"O\", \"Gender\": \"M\", \"Count\": 41632}, {\"DepDay\": \"2019-09-10T00:00:00\", \"Direction\": \"O\", \"Gender\": \"U\", \"Count\": 19}, {\"DepDay\": \"2019-09-11T00:00:00\", \"Direction\": \"I\", \"Gender\": \"F\", \"Count\": 14575}, {\"DepDay\": \"2019-09-11T00:00:00\", \"Direction\": \"I\", \"Gender\": \"M\", \"Count\": 29805}, {\"DepDay\": \"2019-09-11T00:00:00\", \"Direction\": \"I\", \"Gender\": \"U\", \"Count\": 23}, {\"DepDay\": \"2019-09-11T00:00:00\", \"Direction\": \"O\", \"Gender\": \"F\", \"Count\": 23913}, {\"DepDay\": \"2019-09-11T00:00:00\", \"Direction\": \"O\", \"Gender\": \"M\", \"Count\": 42030}, {\"DepDay\": \"2019-09-11T00:00:00\", \"Direction\": \"O\", \"Gender\": \"U\", \"Count\": 10}, {\"DepDay\": \"2019-09-12T00:00:00\", \"Direction\": \"I\", \"Gender\": \"F\", \"Count\": 17901}, {\"DepDay\": \"2019-09-12T00:00:00\", \"Direction\": \"I\", \"Gender\": \"M\", \"Count\": 33905}, {\"DepDay\": \"2019-09-12T00:00:00\", \"Direction\": \"I\", \"Gender\": \"U\", \"Count\": 24}, {\"DepDay\": \"2019-09-12T00:00:00\", \"Direction\": \"O\", \"Gender\": \"F\", \"Count\": 24469}, {\"DepDay\": \"2019-09-12T00:00:00\", \"Direction\": \"O\", \"Gender\": \"M\", \"Count\": 46760}, {\"DepDay\": \"2019-09-12T00:00:00\", \"Direction\": \"O\", \"Gender\": \"U\", \"Count\": 19}, {\"DepDay\": \"2019-09-13T00:00:00\", \"Direction\": \"I\", \"Gender\": \"F\", \"Count\": 14268}, {\"DepDay\": \"2019-09-13T00:00:00\", \"Direction\": \"I\", \"Gender\": \"M\", \"Count\": 30763}, {\"DepDay\": \"2019-09-13T00:00:00\", \"Direction\": \"I\", \"Gender\": \"U\", \"Count\": 10}, {\"DepDay\": \"2019-09-13T00:00:00\", \"Direction\": \"O\", \"Gender\": \"F\", \"Count\": 24935}, {\"DepDay\": \"2019-09-13T00:00:00\", \"Direction\": \"O\", \"Gender\": \"M\", \"Count\": 41723}, {\"DepDay\": \"2019-09-13T00:00:00\", \"Direction\": \"O\", \"Gender\": \"U\", \"Count\": 20}, {\"DepDay\": \"2019-09-14T00:00:00\", \"Direction\": \"I\", \"Gender\": \"F\", \"Count\": 15890}, {\"DepDay\": \"2019-09-14T00:00:00\", \"Direction\": \"I\", \"Gender\": \"M\", \"Count\": 38066}, {\"DepDay\": \"2019-09-14T00:00:00\", \"Direction\": \"I\", \"Gender\": \"U\", \"Count\": 21}, {\"DepDay\": \"2019-09-14T00:00:00\", \"Direction\": \"O\", \"Gender\": \"F\", \"Count\": 26272}, {\"DepDay\": \"2019-09-14T00:00:00\", \"Direction\": \"O\", \"Gender\": \"M\", \"Count\": 38657}, {\"DepDay\": \"2019-09-14T00:00:00\", \"Direction\": \"O\", \"Gender\": \"U\", \"Count\": 11}, {\"DepDay\": \"2019-09-15T00:00:00\", \"Direction\": \"I\", \"Gender\": \"F\", \"Count\": 13107}, {\"DepDay\": \"2019-09-15T00:00:00\", \"Direction\": \"I\", \"Gender\": \"M\", \"Count\": 34602}, {\"DepDay\": \"2019-09-15T00:00:00\", \"Direction\": \"I\", \"Gender\": \"U\", \"Count\": 8}, {\"DepDay\": \"2019-09-15T00:00:00\", \"Direction\": \"O\", \"Gender\": \"F\", \"Count\": 14308}, {\"DepDay\": \"2019-09-15T00:00:00\", \"Direction\": \"O\", \"Gender\": \"M\", \"Count\": 27741}, {\"DepDay\": \"2019-09-15T00:00:00\", \"Direction\": \"O\", \"Gender\": \"U\", \"Count\": 4}, {\"DepDay\": \"2019-09-16T00:00:00\", \"Direction\": \"I\", \"Gender\": \"F\", \"Count\": 11282}, {\"DepDay\": \"2019-09-16T00:00:00\", \"Direction\": \"I\", \"Gender\": \"M\", \"Count\": 29971}, {\"DepDay\": \"2019-09-16T00:00:00\", \"Direction\": \"I\", \"Gender\": \"U\", \"Count\": 14}, {\"DepDay\": \"2019-09-16T00:00:00\", \"Direction\": \"O\", \"Gender\": \"F\", \"Count\": 11109}, {\"DepDay\": \"2019-09-16T00:00:00\", \"Direction\": \"O\", \"Gender\": \"M\", \"Count\": 26149}, {\"DepDay\": \"2019-09-16T00:00:00\", \"Direction\": \"O\", \"Gender\": \"U\", \"Count\": 10}, {\"DepDay\": \"2019-09-17T00:00:00\", \"Direction\": \"I\", \"Gender\": \"F\", \"Count\": 11652}, {\"DepDay\": \"2019-09-17T00:00:00\", \"Direction\": \"I\", \"Gender\": \"M\", \"Count\": 29568}, {\"DepDay\": \"2019-09-17T00:00:00\", \"Direction\": \"I\", \"Gender\": \"U\", \"Count\": 7}, {\"DepDay\": \"2019-09-17T00:00:00\", \"Direction\": \"O\", \"Gender\": \"F\", \"Count\": 11211}, {\"DepDay\": \"2019-09-17T00:00:00\", \"Direction\": \"O\", \"Gender\": \"M\", \"Count\": 26722}, {\"DepDay\": \"2019-09-17T00:00:00\", \"Direction\": \"O\", \"Gender\": \"U\", \"Count\": 4}, {\"DepDay\": \"2019-09-18T00:00:00\", \"Direction\": \"I\", \"Gender\": \"F\", \"Count\": 14447}, {\"DepDay\": \"2019-09-18T00:00:00\", \"Direction\": \"I\", \"Gender\": \"M\", \"Count\": 30497}, {\"DepDay\": \"2019-09-18T00:00:00\", \"Direction\": \"I\", \"Gender\": \"U\", \"Count\": 20}, {\"DepDay\": \"2019-09-18T00:00:00\", \"Direction\": \"O\", \"Gender\": \"F\", \"Count\": 15752}, {\"DepDay\": \"2019-09-18T00:00:00\", \"Direction\": \"O\", \"Gender\": \"M\", \"Count\": 31490}, {\"DepDay\": \"2019-09-18T00:00:00\", \"Direction\": \"O\", \"Gender\": \"U\", \"Count\": 22}, {\"DepDay\": \"2019-09-19T00:00:00\", \"Direction\": \"I\", \"Gender\": \"F\", \"Count\": 18198}, {\"DepDay\": \"2019-09-19T00:00:00\", \"Direction\": \"I\", \"Gender\": \"M\", \"Count\": 36174}, {\"DepDay\": \"2019-09-19T00:00:00\", \"Direction\": \"I\", \"Gender\": \"U\", \"Count\": 21}, {\"DepDay\": \"2019-09-19T00:00:00\", \"Direction\": \"O\", \"Gender\": \"F\", \"Count\": 21855}, {\"DepDay\": \"2019-09-19T00:00:00\", \"Direction\": \"O\", \"Gender\": \"M\", \"Count\": 42890}, {\"DepDay\": \"2019-09-19T00:00:00\", \"Direction\": \"O\", \"Gender\": \"U\", \"Count\": 13}, {\"DepDay\": \"2019-09-20T00:00:00\", \"Direction\": \"I\", \"Gender\": \"F\", \"Count\": 13179}, {\"DepDay\": \"2019-09-20T00:00:00\", \"Direction\": \"I\", \"Gender\": \"M\", \"Count\": 30900}, {\"DepDay\": \"2019-09-20T00:00:00\", \"Direction\": \"I\", \"Gender\": \"U\", \"Count\": 27}, {\"DepDay\": \"2019-09-20T00:00:00\", \"Direction\": \"O\", \"Gender\": \"F\", \"Count\": 19460}, {\"DepDay\": \"2019-09-20T00:00:00\", \"Direction\": \"O\", \"Gender\": \"M\", \"Count\": 36860}, {\"DepDay\": \"2019-09-20T00:00:00\", \"Direction\": \"O\", \"Gender\": \"U\", \"Count\": 14}, {\"DepDay\": \"2019-09-21T00:00:00\", \"Direction\": \"I\", \"Gender\": \"F\", \"Count\": 15031}, {\"DepDay\": \"2019-09-21T00:00:00\", \"Direction\": \"I\", \"Gender\": \"M\", \"Count\": 34363}, {\"DepDay\": \"2019-09-21T00:00:00\", \"Direction\": \"I\", \"Gender\": \"U\", \"Count\": 6}, {\"DepDay\": \"2019-09-21T00:00:00\", \"Direction\": \"O\", \"Gender\": \"F\", \"Count\": 17750}, {\"DepDay\": \"2019-09-21T00:00:00\", \"Direction\": \"O\", \"Gender\": \"M\", \"Count\": 31421}, {\"DepDay\": \"2019-09-21T00:00:00\", \"Direction\": \"O\", \"Gender\": \"U\", \"Count\": 7}, {\"DepDay\": \"2019-09-22T00:00:00\", \"Direction\": \"I\", \"Gender\": \"F\", \"Count\": 17803}, {\"DepDay\": \"2019-09-22T00:00:00\", \"Direction\": \"I\", \"Gender\": \"M\", \"Count\": 35273}, {\"DepDay\": \"2019-09-22T00:00:00\", \"Direction\": \"I\", \"Gender\": \"U\", \"Count\": 10}, {\"DepDay\": \"2019-09-22T00:00:00\", \"Direction\": \"O\", \"Gender\": \"F\", \"Count\": 11204}, {\"DepDay\": \"2019-09-22T00:00:00\", \"Direction\": \"O\", \"Gender\": \"M\", \"Count\": 22323}, {\"DepDay\": \"2019-09-22T00:00:00\", \"Direction\": \"O\", \"Gender\": \"U\", \"Count\": 5}, {\"DepDay\": \"2019-09-23T00:00:00\", \"Direction\": \"I\", \"Gender\": \"F\", \"Count\": 23111}, {\"DepDay\": \"2019-09-23T00:00:00\", \"Direction\": \"I\", \"Gender\": \"M\", \"Count\": 41850}, {\"DepDay\": \"2019-09-23T00:00:00\", \"Direction\": \"I\", \"Gender\": \"U\", \"Count\": 17}, {\"DepDay\": \"2019-09-23T00:00:00\", \"Direction\": \"O\", \"Gender\": \"F\", \"Count\": 8869}, {\"DepDay\": \"2019-09-23T00:00:00\", \"Direction\": \"O\", \"Gender\": \"M\", \"Count\": 19130}, {\"DepDay\": \"2019-09-23T00:00:00\", \"Direction\": \"O\", \"Gender\": \"U\", \"Count\": 11}, {\"DepDay\": \"2019-09-24T00:00:00\", \"Direction\": \"I\", \"Gender\": \"F\", \"Count\": 20346}, {\"DepDay\": \"2019-09-24T00:00:00\", \"Direction\": \"I\", \"Gender\": \"M\", \"Count\": 41088}, {\"DepDay\": \"2019-09-24T00:00:00\", \"Direction\": \"I\", \"Gender\": \"U\", \"Count\": 10}, {\"DepDay\": \"2019-09-24T00:00:00\", \"Direction\": \"O\", \"Gender\": \"F\", \"Count\": 8283}, {\"DepDay\": \"2019-09-24T00:00:00\", \"Direction\": \"O\", \"Gender\": \"M\", \"Count\": 17585}, {\"DepDay\": \"2019-09-24T00:00:00\", \"Direction\": \"O\", \"Gender\": \"U\", \"Count\": 5}, {\"DepDay\": \"2019-09-25T00:00:00\", \"Direction\": \"I\", \"Gender\": \"F\", \"Count\": 18109}, {\"DepDay\": \"2019-09-25T00:00:00\", \"Direction\": \"I\", \"Gender\": \"M\", \"Count\": 37121}, {\"DepDay\": \"2019-09-25T00:00:00\", \"Direction\": \"I\", \"Gender\": \"U\", \"Count\": 9}, {\"DepDay\": \"2019-09-25T00:00:00\", \"Direction\": \"O\", \"Gender\": \"F\", \"Count\": 10436}, {\"DepDay\": \"2019-09-25T00:00:00\", \"Direction\": \"O\", \"Gender\": \"M\", \"Count\": 23172}, {\"DepDay\": \"2019-09-25T00:00:00\", \"Direction\": \"O\", \"Gender\": \"U\", \"Count\": 18}, {\"DepDay\": \"2019-09-26T00:00:00\", \"Direction\": \"I\", \"Gender\": \"F\", \"Count\": 19912}, {\"DepDay\": \"2019-09-26T00:00:00\", \"Direction\": \"I\", \"Gender\": \"M\", \"Count\": 38316}, {\"DepDay\": \"2019-09-26T00:00:00\", \"Direction\": \"I\", \"Gender\": \"U\", \"Count\": 14}, {\"DepDay\": \"2019-09-26T00:00:00\", \"Direction\": \"O\", \"Gender\": \"F\", \"Count\": 11293}, {\"DepDay\": \"2019-09-26T00:00:00\", \"Direction\": \"O\", \"Gender\": \"M\", \"Count\": 28611}, {\"DepDay\": \"2019-09-26T00:00:00\", \"Direction\": \"O\", \"Gender\": \"U\", \"Count\": 24}, {\"DepDay\": \"2019-09-27T00:00:00\", \"Direction\": \"I\", \"Gender\": \"F\", \"Count\": 16620}, {\"DepDay\": \"2019-09-27T00:00:00\", \"Direction\": \"I\", \"Gender\": \"M\", \"Count\": 34701}, {\"DepDay\": \"2019-09-27T00:00:00\", \"Direction\": \"I\", \"Gender\": \"U\", \"Count\": 46}, {\"DepDay\": \"2019-09-27T00:00:00\", \"Direction\": \"O\", \"Gender\": \"F\", \"Count\": 11366}, {\"DepDay\": \"2019-09-27T00:00:00\", \"Direction\": \"O\", \"Gender\": \"M\", \"Count\": 25023}, {\"DepDay\": \"2019-09-27T00:00:00\", \"Direction\": \"O\", \"Gender\": \"U\", \"Count\": 36}, {\"DepDay\": \"2019-09-28T00:00:00\", \"Direction\": \"I\", \"Gender\": \"F\", \"Count\": 19796}, {\"DepDay\": \"2019-09-28T00:00:00\", \"Direction\": \"I\", \"Gender\": \"M\", \"Count\": 43098}, {\"DepDay\": \"2019-09-28T00:00:00\", \"Direction\": \"I\", \"Gender\": \"U\", \"Count\": 47}, {\"DepDay\": \"2019-09-28T00:00:00\", \"Direction\": \"O\", \"Gender\": \"F\", \"Count\": 15719}, {\"DepDay\": \"2019-09-28T00:00:00\", \"Direction\": \"O\", \"Gender\": \"M\", \"Count\": 24317}, {\"DepDay\": \"2019-09-28T00:00:00\", \"Direction\": \"O\", \"Gender\": \"U\", \"Count\": 9}, {\"DepDay\": \"2019-09-29T00:00:00\", \"Direction\": \"I\", \"Gender\": \"F\", \"Count\": 16255}, {\"DepDay\": \"2019-09-29T00:00:00\", \"Direction\": \"I\", \"Gender\": \"M\", \"Count\": 37596}, {\"DepDay\": \"2019-09-29T00:00:00\", \"Direction\": \"I\", \"Gender\": \"U\", \"Count\": 47}, {\"DepDay\": \"2019-09-29T00:00:00\", \"Direction\": \"O\", \"Gender\": \"F\", \"Count\": 11948}, {\"DepDay\": \"2019-09-29T00:00:00\", \"Direction\": \"O\", \"Gender\": \"M\", \"Count\": 21447}, {\"DepDay\": \"2019-09-29T00:00:00\", \"Direction\": \"O\", \"Gender\": \"U\", \"Count\": 9}, {\"DepDay\": \"2019-09-30T00:00:00\", \"Direction\": \"I\", \"Gender\": \"F\", \"Count\": 14615}, {\"DepDay\": \"2019-09-30T00:00:00\", \"Direction\": \"I\", \"Gender\": \"M\", \"Count\": 35613}, {\"DepDay\": \"2019-09-30T00:00:00\", \"Direction\": \"I\", \"Gender\": \"U\", \"Count\": 38}, {\"DepDay\": \"2019-09-30T00:00:00\", \"Direction\": \"O\", \"Gender\": \"F\", \"Count\": 12341}, {\"DepDay\": \"2019-09-30T00:00:00\", \"Direction\": \"O\", \"Gender\": \"M\", \"Count\": 26392}, {\"DepDay\": \"2019-09-30T00:00:00\", \"Direction\": \"O\", \"Gender\": \"U\", \"Count\": 18}, {\"DepDay\": \"2019-10-01T00:00:00\", \"Direction\": \"I\", \"Gender\": \"F\", \"Count\": 14920}, {\"DepDay\": \"2019-10-01T00:00:00\", \"Direction\": \"I\", \"Gender\": \"M\", \"Count\": 32157}, {\"DepDay\": \"2019-10-01T00:00:00\", \"Direction\": \"I\", \"Gender\": \"U\", \"Count\": 56}, {\"DepDay\": \"2019-10-01T00:00:00\", \"Direction\": \"O\", \"Gender\": \"F\", \"Count\": 12458}, {\"DepDay\": \"2019-10-01T00:00:00\", \"Direction\": \"O\", \"Gender\": \"M\", \"Count\": 28902}, {\"DepDay\": \"2019-10-01T00:00:00\", \"Direction\": \"O\", \"Gender\": \"U\", \"Count\": 92}, {\"DepDay\": \"2019-10-02T00:00:00\", \"Direction\": \"I\", \"Gender\": \"F\", \"Count\": 15504}, {\"DepDay\": \"2019-10-02T00:00:00\", \"Direction\": \"I\", \"Gender\": \"M\", \"Count\": 30079}, {\"DepDay\": \"2019-10-02T00:00:00\", \"Direction\": \"I\", \"Gender\": \"U\", \"Count\": 59}, {\"DepDay\": \"2019-10-02T00:00:00\", \"Direction\": \"O\", \"Gender\": \"F\", \"Count\": 13243}, {\"DepDay\": \"2019-10-02T00:00:00\", \"Direction\": \"O\", \"Gender\": \"M\", \"Count\": 31062}, {\"DepDay\": \"2019-10-02T00:00:00\", \"Direction\": \"O\", \"Gender\": \"U\", \"Count\": 16}, {\"DepDay\": \"2019-10-03T00:00:00\", \"Direction\": \"I\", \"Gender\": \"F\", \"Count\": 19764}, {\"DepDay\": \"2019-10-03T00:00:00\", \"Direction\": \"I\", \"Gender\": \"M\", \"Count\": 34329}, {\"DepDay\": \"2019-10-03T00:00:00\", \"Direction\": \"I\", \"Gender\": \"U\", \"Count\": 111}, {\"DepDay\": \"2019-10-03T00:00:00\", \"Direction\": \"O\", \"Gender\": \"F\", \"Count\": 13587}, {\"DepDay\": \"2019-10-03T00:00:00\", \"Direction\": \"O\", \"Gender\": \"M\", \"Count\": 36788}, {\"DepDay\": \"2019-10-03T00:00:00\", \"Direction\": \"O\", \"Gender\": \"U\", \"Count\": 28}, {\"DepDay\": \"2019-10-04T00:00:00\", \"Direction\": \"I\", \"Gender\": \"F\", \"Count\": 13772}, {\"DepDay\": \"2019-10-04T00:00:00\", \"Direction\": \"I\", \"Gender\": \"M\", \"Count\": 28968}, {\"DepDay\": \"2019-10-04T00:00:00\", \"Direction\": \"I\", \"Gender\": \"U\", \"Count\": 63}, {\"DepDay\": \"2019-10-04T00:00:00\", \"Direction\": \"O\", \"Gender\": \"F\", \"Count\": 12853}, {\"DepDay\": \"2019-10-04T00:00:00\", \"Direction\": \"O\", \"Gender\": \"M\", \"Count\": 32061}, {\"DepDay\": \"2019-10-04T00:00:00\", \"Direction\": \"O\", \"Gender\": \"U\", \"Count\": 18}, {\"DepDay\": \"2019-10-05T00:00:00\", \"Direction\": \"I\", \"Gender\": \"F\", \"Count\": 19197}, {\"DepDay\": \"2019-10-05T00:00:00\", \"Direction\": \"I\", \"Gender\": \"M\", \"Count\": 39837}, {\"DepDay\": \"2019-10-05T00:00:00\", \"Direction\": \"I\", \"Gender\": \"U\", \"Count\": 52}, {\"DepDay\": \"2019-10-05T00:00:00\", \"Direction\": \"O\", \"Gender\": \"F\", \"Count\": 18400}, {\"DepDay\": \"2019-10-05T00:00:00\", \"Direction\": \"O\", \"Gender\": \"M\", \"Count\": 33282}, {\"DepDay\": \"2019-10-05T00:00:00\", \"Direction\": \"O\", \"Gender\": \"U\", \"Count\": 14}, {\"DepDay\": \"2019-10-06T00:00:00\", \"Direction\": \"I\", \"Gender\": \"F\", \"Count\": 15385}, {\"DepDay\": \"2019-10-06T00:00:00\", \"Direction\": \"I\", \"Gender\": \"M\", \"Count\": 33886}, {\"DepDay\": \"2019-10-06T00:00:00\", \"Direction\": \"I\", \"Gender\": \"U\", \"Count\": 42}, {\"DepDay\": \"2019-10-06T00:00:00\", \"Direction\": \"O\", \"Gender\": \"F\", \"Count\": 12450}, {\"DepDay\": \"2019-10-06T00:00:00\", \"Direction\": \"O\", \"Gender\": \"M\", \"Count\": 25811}, {\"DepDay\": \"2019-10-06T00:00:00\", \"Direction\": \"O\", \"Gender\": \"U\", \"Count\": 11}, {\"DepDay\": \"2019-10-07T00:00:00\", \"Direction\": \"I\", \"Gender\": \"F\", \"Count\": 15357}, {\"DepDay\": \"2019-10-07T00:00:00\", \"Direction\": \"I\", \"Gender\": \"M\", \"Count\": 32343}, {\"DepDay\": \"2019-10-07T00:00:00\", \"Direction\": \"I\", \"Gender\": \"U\", \"Count\": 74}, {\"DepDay\": \"2019-10-07T00:00:00\", \"Direction\": \"O\", \"Gender\": \"F\", \"Count\": 12438}, {\"DepDay\": \"2019-10-07T00:00:00\", \"Direction\": \"O\", \"Gender\": \"M\", \"Count\": 27393}, {\"DepDay\": \"2019-10-07T00:00:00\", \"Direction\": \"O\", \"Gender\": \"U\", \"Count\": 15}, {\"DepDay\": \"2019-10-08T00:00:00\", \"Direction\": \"I\", \"Gender\": \"F\", \"Count\": 15705}, {\"DepDay\": \"2019-10-08T00:00:00\", \"Direction\": \"I\", \"Gender\": \"M\", \"Count\": 31199}, {\"DepDay\": \"2019-10-08T00:00:00\", \"Direction\": \"I\", \"Gender\": \"U\", \"Count\": 64}, {\"DepDay\": \"2019-10-08T00:00:00\", \"Direction\": \"O\", \"Gender\": \"F\", \"Count\": 12214}, {\"DepDay\": \"2019-10-08T00:00:00\", \"Direction\": \"O\", \"Gender\": \"M\", \"Count\": 26946}, {\"DepDay\": \"2019-10-08T00:00:00\", \"Direction\": \"O\", \"Gender\": \"U\", \"Count\": 13}, {\"DepDay\": \"2019-10-09T00:00:00\", \"Direction\": \"I\", \"Gender\": \"F\", \"Count\": 17736}, {\"DepDay\": \"2019-10-09T00:00:00\", \"Direction\": \"I\", \"Gender\": \"M\", \"Count\": 32280}, {\"DepDay\": \"2019-10-09T00:00:00\", \"Direction\": \"I\", \"Gender\": \"U\", \"Count\": 70}, {\"DepDay\": \"2019-10-09T00:00:00\", \"Direction\": \"O\", \"Gender\": \"F\", \"Count\": 13021}, {\"DepDay\": \"2019-10-09T00:00:00\", \"Direction\": \"O\", \"Gender\": \"M\", \"Count\": 29063}, {\"DepDay\": \"2019-10-09T00:00:00\", \"Direction\": \"O\", \"Gender\": \"U\", \"Count\": 19}, {\"DepDay\": \"2019-10-10T00:00:00\", \"Direction\": \"I\", \"Gender\": \"F\", \"Count\": 22309}, {\"DepDay\": \"2019-10-10T00:00:00\", \"Direction\": \"I\", \"Gender\": \"M\", \"Count\": 38469}, {\"DepDay\": \"2019-10-10T00:00:00\", \"Direction\": \"I\", \"Gender\": \"U\", \"Count\": 129}, {\"DepDay\": \"2019-10-10T00:00:00\", \"Direction\": \"O\", \"Gender\": \"F\", \"Count\": 14419}, {\"DepDay\": \"2019-10-10T00:00:00\", \"Direction\": \"O\", \"Gender\": \"M\", \"Count\": 36823}, {\"DepDay\": \"2019-10-10T00:00:00\", \"Direction\": \"O\", \"Gender\": \"U\", \"Count\": 23}, {\"DepDay\": \"2019-10-11T00:00:00\", \"Direction\": \"I\", \"Gender\": \"F\", \"Count\": 16348}, {\"DepDay\": \"2019-10-11T00:00:00\", \"Direction\": \"I\", \"Gender\": \"M\", \"Count\": 31805}, {\"DepDay\": \"2019-10-11T00:00:00\", \"Direction\": \"I\", \"Gender\": \"U\", \"Count\": 73}, {\"DepDay\": \"2019-10-11T00:00:00\", \"Direction\": \"O\", \"Gender\": \"F\", \"Count\": 12701}, {\"DepDay\": \"2019-10-11T00:00:00\", \"Direction\": \"O\", \"Gender\": \"M\", \"Count\": 29324}, {\"DepDay\": \"2019-10-11T00:00:00\", \"Direction\": \"O\", \"Gender\": \"U\", \"Count\": 20}, {\"DepDay\": \"2019-10-12T00:00:00\", \"Direction\": \"I\", \"Gender\": \"F\", \"Count\": 21016}, {\"DepDay\": \"2019-10-12T00:00:00\", \"Direction\": \"I\", \"Gender\": \"M\", \"Count\": 42037}, {\"DepDay\": \"2019-10-12T00:00:00\", \"Direction\": \"I\", \"Gender\": \"U\", \"Count\": 71}, {\"DepDay\": \"2019-10-12T00:00:00\", \"Direction\": \"O\", \"Gender\": \"F\", \"Count\": 18209}, {\"DepDay\": \"2019-10-12T00:00:00\", \"Direction\": \"O\", \"Gender\": \"M\", \"Count\": 28882}, {\"DepDay\": \"2019-10-12T00:00:00\", \"Direction\": \"O\", \"Gender\": \"U\", \"Count\": 22}, {\"DepDay\": \"2019-10-13T00:00:00\", \"Direction\": \"I\", \"Gender\": \"F\", \"Count\": 18149}, {\"DepDay\": \"2019-10-13T00:00:00\", \"Direction\": \"I\", \"Gender\": \"M\", \"Count\": 37086}, {\"DepDay\": \"2019-10-13T00:00:00\", \"Direction\": \"I\", \"Gender\": \"U\", \"Count\": 51}, {\"DepDay\": \"2019-10-13T00:00:00\", \"Direction\": \"O\", \"Gender\": \"F\", \"Count\": 13001}, {\"DepDay\": \"2019-10-13T00:00:00\", \"Direction\": \"O\", \"Gender\": \"M\", \"Count\": 23826}, {\"DepDay\": \"2019-10-13T00:00:00\", \"Direction\": \"O\", \"Gender\": \"U\", \"Count\": 12}, {\"DepDay\": \"2019-10-14T00:00:00\", \"Direction\": \"I\", \"Gender\": \"F\", \"Count\": 17627}, {\"DepDay\": \"2019-10-14T00:00:00\", \"Direction\": \"I\", \"Gender\": \"M\", \"Count\": 33596}, {\"DepDay\": \"2019-10-14T00:00:00\", \"Direction\": \"I\", \"Gender\": \"U\", \"Count\": 101}, {\"DepDay\": \"2019-10-14T00:00:00\", \"Direction\": \"O\", \"Gender\": \"F\", \"Count\": 12626}, {\"DepDay\": \"2019-10-14T00:00:00\", \"Direction\": \"O\", \"Gender\": \"M\", \"Count\": 26148}, {\"DepDay\": \"2019-10-14T00:00:00\", \"Direction\": \"O\", \"Gender\": \"U\", \"Count\": 11}, {\"DepDay\": \"2019-10-15T00:00:00\", \"Direction\": \"I\", \"Gender\": \"F\", \"Count\": 19994}, {\"DepDay\": \"2019-10-15T00:00:00\", \"Direction\": \"I\", \"Gender\": \"M\", \"Count\": 35391}, {\"DepDay\": \"2019-10-15T00:00:00\", \"Direction\": \"I\", \"Gender\": \"U\", \"Count\": 84}, {\"DepDay\": \"2019-10-15T00:00:00\", \"Direction\": \"O\", \"Gender\": \"F\", \"Count\": 14673}, {\"DepDay\": \"2019-10-15T00:00:00\", \"Direction\": \"O\", \"Gender\": \"M\", \"Count\": 29651}, {\"DepDay\": \"2019-10-15T00:00:00\", \"Direction\": \"O\", \"Gender\": \"U\", \"Count\": 14}, {\"DepDay\": \"2019-10-16T00:00:00\", \"Direction\": \"I\", \"Gender\": \"F\", \"Count\": 19974}, {\"DepDay\": \"2019-10-16T00:00:00\", \"Direction\": \"I\", \"Gender\": \"M\", \"Count\": 34395}, {\"DepDay\": \"2019-10-16T00:00:00\", \"Direction\": \"I\", \"Gender\": \"U\", \"Count\": 85}, {\"DepDay\": \"2019-10-16T00:00:00\", \"Direction\": \"O\", \"Gender\": \"F\", \"Count\": 13876}, {\"DepDay\": \"2019-10-16T00:00:00\", \"Direction\": \"O\", \"Gender\": \"M\", \"Count\": 31383}, {\"DepDay\": \"2019-10-16T00:00:00\", \"Direction\": \"O\", \"Gender\": \"U\", \"Count\": 21}, {\"DepDay\": \"2019-10-17T00:00:00\", \"Direction\": \"I\", \"Gender\": \"F\", \"Count\": 24458}, {\"DepDay\": \"2019-10-17T00:00:00\", \"Direction\": \"I\", \"Gender\": \"M\", \"Count\": 38483}, {\"DepDay\": \"2019-10-17T00:00:00\", \"Direction\": \"I\", \"Gender\": \"U\", \"Count\": 196}, {\"DepDay\": \"2019-10-17T00:00:00\", \"Direction\": \"O\", \"Gender\": \"F\", \"Count\": 15697}, {\"DepDay\": \"2019-10-17T00:00:00\", \"Direction\": \"O\", \"Gender\": \"M\", \"Count\": 36233}, {\"DepDay\": \"2019-10-17T00:00:00\", \"Direction\": \"O\", \"Gender\": \"U\", \"Count\": 26}, {\"DepDay\": \"2019-10-18T00:00:00\", \"Direction\": \"I\", \"Gender\": \"F\", \"Count\": 17751}, {\"DepDay\": \"2019-10-18T00:00:00\", \"Direction\": \"I\", \"Gender\": \"M\", \"Count\": 32082}, {\"DepDay\": \"2019-10-18T00:00:00\", \"Direction\": \"I\", \"Gender\": \"U\", \"Count\": 75}, {\"DepDay\": \"2019-10-18T00:00:00\", \"Direction\": \"O\", \"Gender\": \"F\", \"Count\": 13625}, {\"DepDay\": \"2019-10-18T00:00:00\", \"Direction\": \"O\", \"Gender\": \"M\", \"Count\": 29749}, {\"DepDay\": \"2019-10-18T00:00:00\", \"Direction\": \"O\", \"Gender\": \"U\", \"Count\": 18}, {\"DepDay\": \"2019-10-19T00:00:00\", \"Direction\": \"I\", \"Gender\": \"F\", \"Count\": 22959}, {\"DepDay\": \"2019-10-19T00:00:00\", \"Direction\": \"I\", \"Gender\": \"M\", \"Count\": 42442}, {\"DepDay\": \"2019-10-19T00:00:00\", \"Direction\": \"I\", \"Gender\": \"U\", \"Count\": 95}, {\"DepDay\": \"2019-10-19T00:00:00\", \"Direction\": \"O\", \"Gender\": \"F\", \"Count\": 17957}, {\"DepDay\": \"2019-10-19T00:00:00\", \"Direction\": \"O\", \"Gender\": \"M\", \"Count\": 29039}, {\"DepDay\": \"2019-10-19T00:00:00\", \"Direction\": \"O\", \"Gender\": \"U\", \"Count\": 10}, {\"DepDay\": \"2019-10-20T00:00:00\", \"Direction\": \"I\", \"Gender\": \"F\", \"Count\": 19716}, {\"DepDay\": \"2019-10-20T00:00:00\", \"Direction\": \"I\", \"Gender\": \"M\", \"Count\": 39035}, {\"DepDay\": \"2019-10-20T00:00:00\", \"Direction\": \"I\", \"Gender\": \"U\", \"Count\": 118}, {\"DepDay\": \"2019-10-20T00:00:00\", \"Direction\": \"O\", \"Gender\": \"F\", \"Count\": 14670}, {\"DepDay\": \"2019-10-20T00:00:00\", \"Direction\": \"O\", \"Gender\": \"M\", \"Count\": 25985}, {\"DepDay\": \"2019-10-20T00:00:00\", \"Direction\": \"O\", \"Gender\": \"U\", \"Count\": 13}, {\"DepDay\": \"2019-10-21T00:00:00\", \"Direction\": \"I\", \"Gender\": \"F\", \"Count\": 19001}, {\"DepDay\": \"2019-10-21T00:00:00\", \"Direction\": \"I\", \"Gender\": \"M\", \"Count\": 35990}, {\"DepDay\": \"2019-10-21T00:00:00\", \"Direction\": \"I\", \"Gender\": \"U\", \"Count\": 53}, {\"DepDay\": \"2019-10-21T00:00:00\", \"Direction\": \"O\", \"Gender\": \"F\", \"Count\": 13137}, {\"DepDay\": \"2019-10-21T00:00:00\", \"Direction\": \"O\", \"Gender\": \"M\", \"Count\": 25711}, {\"DepDay\": \"2019-10-21T00:00:00\", \"Direction\": \"O\", \"Gender\": \"U\", \"Count\": 22}, {\"DepDay\": \"2019-10-22T00:00:00\", \"Direction\": \"I\", \"Gender\": \"F\", \"Count\": 18572}, {\"DepDay\": \"2019-10-22T00:00:00\", \"Direction\": \"I\", \"Gender\": \"M\", \"Count\": 33604}, {\"DepDay\": \"2019-10-22T00:00:00\", \"Direction\": \"I\", \"Gender\": \"U\", \"Count\": 56}, {\"DepDay\": \"2019-10-22T00:00:00\", \"Direction\": \"O\", \"Gender\": \"F\", \"Count\": 14166}, {\"DepDay\": \"2019-10-22T00:00:00\", \"Direction\": \"O\", \"Gender\": \"M\", \"Count\": 27410}, {\"DepDay\": \"2019-10-22T00:00:00\", \"Direction\": \"O\", \"Gender\": \"U\", \"Count\": 18}, {\"DepDay\": \"2019-10-23T00:00:00\", \"Direction\": \"I\", \"Gender\": \"F\", \"Count\": 20255}, {\"DepDay\": \"2019-10-23T00:00:00\", \"Direction\": \"I\", \"Gender\": \"M\", \"Count\": 34457}, {\"DepDay\": \"2019-10-23T00:00:00\", \"Direction\": \"I\", \"Gender\": \"U\", \"Count\": 138}, {\"DepDay\": \"2019-10-23T00:00:00\", \"Direction\": \"O\", \"Gender\": \"F\", \"Count\": 15446}, {\"DepDay\": \"2019-10-23T00:00:00\", \"Direction\": \"O\", \"Gender\": \"M\", \"Count\": 31310}, {\"DepDay\": \"2019-10-23T00:00:00\", \"Direction\": \"O\", \"Gender\": \"U\", \"Count\": 6}, {\"DepDay\": \"2019-10-24T00:00:00\", \"Direction\": \"I\", \"Gender\": \"F\", \"Count\": 21270}, {\"DepDay\": \"2019-10-24T00:00:00\", \"Direction\": \"I\", \"Gender\": \"M\", \"Count\": 36392}, {\"DepDay\": \"2019-10-24T00:00:00\", \"Direction\": \"I\", \"Gender\": \"U\", \"Count\": 96}, {\"DepDay\": \"2019-10-24T00:00:00\", \"Direction\": \"O\", \"Gender\": \"F\", \"Count\": 16627}, {\"DepDay\": \"2019-10-24T00:00:00\", \"Direction\": \"O\", \"Gender\": \"M\", \"Count\": 36613}, {\"DepDay\": \"2019-10-24T00:00:00\", \"Direction\": \"O\", \"Gender\": \"U\", \"Count\": 23}, {\"DepDay\": \"2019-10-25T00:00:00\", \"Direction\": \"I\", \"Gender\": \"F\", \"Count\": 18045}, {\"DepDay\": \"2019-10-25T00:00:00\", \"Direction\": \"I\", \"Gender\": \"M\", \"Count\": 32771}, {\"DepDay\": \"2019-10-25T00:00:00\", \"Direction\": \"I\", \"Gender\": \"U\", \"Count\": 63}, {\"DepDay\": \"2019-10-25T00:00:00\", \"Direction\": \"O\", \"Gender\": \"F\", \"Count\": 14390}, {\"DepDay\": \"2019-10-25T00:00:00\", \"Direction\": \"O\", \"Gender\": \"M\", \"Count\": 28483}, {\"DepDay\": \"2019-10-25T00:00:00\", \"Direction\": \"O\", \"Gender\": \"U\", \"Count\": 25}, {\"DepDay\": \"2019-10-26T00:00:00\", \"Direction\": \"I\", \"Gender\": \"F\", \"Count\": 22946}, {\"DepDay\": \"2019-10-26T00:00:00\", \"Direction\": \"I\", \"Gender\": \"M\", \"Count\": 43100}, {\"DepDay\": \"2019-10-26T00:00:00\", \"Direction\": \"I\", \"Gender\": \"U\", \"Count\": 110}, {\"DepDay\": \"2019-10-26T00:00:00\", \"Direction\": \"O\", \"Gender\": \"F\", \"Count\": 20158}, {\"DepDay\": \"2019-10-26T00:00:00\", \"Direction\": \"O\", \"Gender\": \"M\", \"Count\": 30012}, {\"DepDay\": \"2019-10-26T00:00:00\", \"Direction\": \"O\", \"Gender\": \"U\", \"Count\": 44}, {\"DepDay\": \"2019-10-27T00:00:00\", \"Direction\": \"I\", \"Gender\": \"F\", \"Count\": 18949}, {\"DepDay\": \"2019-10-27T00:00:00\", \"Direction\": \"I\", \"Gender\": \"M\", \"Count\": 38080}, {\"DepDay\": \"2019-10-27T00:00:00\", \"Direction\": \"I\", \"Gender\": \"U\", \"Count\": 53}, {\"DepDay\": \"2019-10-27T00:00:00\", \"Direction\": \"O\", \"Gender\": \"F\", \"Count\": 17128}, {\"DepDay\": \"2019-10-27T00:00:00\", \"Direction\": \"O\", \"Gender\": \"M\", \"Count\": 26648}, {\"DepDay\": \"2019-10-27T00:00:00\", \"Direction\": \"O\", \"Gender\": \"U\", \"Count\": 7}, {\"DepDay\": \"2019-10-28T00:00:00\", \"Direction\": \"I\", \"Gender\": \"F\", \"Count\": 19984}, {\"DepDay\": \"2019-10-28T00:00:00\", \"Direction\": \"I\", \"Gender\": \"M\", \"Count\": 37657}, {\"DepDay\": \"2019-10-28T00:00:00\", \"Direction\": \"I\", \"Gender\": \"U\", \"Count\": 51}, {\"DepDay\": \"2019-10-28T00:00:00\", \"Direction\": \"O\", \"Gender\": \"F\", \"Count\": 16807}, {\"DepDay\": \"2019-10-28T00:00:00\", \"Direction\": \"O\", \"Gender\": \"M\", \"Count\": 29748}, {\"DepDay\": \"2019-10-28T00:00:00\", \"Direction\": \"O\", \"Gender\": \"U\", \"Count\": 20}, {\"DepDay\": \"2019-10-29T00:00:00\", \"Direction\": \"I\", \"Gender\": \"F\", \"Count\": 20369}, {\"DepDay\": \"2019-10-29T00:00:00\", \"Direction\": \"I\", \"Gender\": \"M\", \"Count\": 35836}, {\"DepDay\": \"2019-10-29T00:00:00\", \"Direction\": \"I\", \"Gender\": \"U\", \"Count\": 72}, {\"DepDay\": \"2019-10-29T00:00:00\", \"Direction\": \"O\", \"Gender\": \"F\", \"Count\": 18138}, {\"DepDay\": \"2019-10-29T00:00:00\", \"Direction\": \"O\", \"Gender\": \"M\", \"Count\": 31692}, {\"DepDay\": \"2019-10-29T00:00:00\", \"Direction\": \"O\", \"Gender\": \"U\", \"Count\": 36}, {\"DepDay\": \"2019-10-30T00:00:00\", \"Direction\": \"I\", \"Gender\": \"F\", \"Count\": 21638}, {\"DepDay\": \"2019-10-30T00:00:00\", \"Direction\": \"I\", \"Gender\": \"M\", \"Count\": 35550}, {\"DepDay\": \"2019-10-30T00:00:00\", \"Direction\": \"I\", \"Gender\": \"U\", \"Count\": 147}, {\"DepDay\": \"2019-10-30T00:00:00\", \"Direction\": \"O\", \"Gender\": \"F\", \"Count\": 18858}, {\"DepDay\": \"2019-10-30T00:00:00\", \"Direction\": \"O\", \"Gender\": \"M\", \"Count\": 35803}, {\"DepDay\": \"2019-10-30T00:00:00\", \"Direction\": \"O\", \"Gender\": \"U\", \"Count\": 57}, {\"DepDay\": \"2019-10-31T00:00:00\", \"Direction\": \"I\", \"Gender\": \"F\", \"Count\": 25963}, {\"DepDay\": \"2019-10-31T00:00:00\", \"Direction\": \"I\", \"Gender\": \"M\", \"Count\": 40820}, {\"DepDay\": \"2019-10-31T00:00:00\", \"Direction\": \"I\", \"Gender\": \"U\", \"Count\": 116}, {\"DepDay\": \"2019-10-31T00:00:00\", \"Direction\": \"O\", \"Gender\": \"F\", \"Count\": 20394}, {\"DepDay\": \"2019-10-31T00:00:00\", \"Direction\": \"O\", \"Gender\": \"M\", \"Count\": 43228}, {\"DepDay\": \"2019-10-31T00:00:00\", \"Direction\": \"O\", \"Gender\": \"U\", \"Count\": 42}, {\"DepDay\": \"2019-11-01T00:00:00\", \"Direction\": \"I\", \"Gender\": \"F\", \"Count\": 18436}, {\"DepDay\": \"2019-11-01T00:00:00\", \"Direction\": \"I\", \"Gender\": \"M\", \"Count\": 32901}, {\"DepDay\": \"2019-11-01T00:00:00\", \"Direction\": \"I\", \"Gender\": \"U\", \"Count\": 64}, {\"DepDay\": \"2019-11-01T00:00:00\", \"Direction\": \"O\", \"Gender\": \"F\", \"Count\": 18001}, {\"DepDay\": \"2019-11-01T00:00:00\", \"Direction\": \"O\", \"Gender\": \"M\", \"Count\": 37901}, {\"DepDay\": \"2019-11-01T00:00:00\", \"Direction\": \"O\", \"Gender\": \"U\", \"Count\": 21}, {\"DepDay\": \"2019-11-02T00:00:00\", \"Direction\": \"I\", \"Gender\": \"F\", \"Count\": 23835}, {\"DepDay\": \"2019-11-02T00:00:00\", \"Direction\": \"I\", \"Gender\": \"M\", \"Count\": 42272}, {\"DepDay\": \"2019-11-02T00:00:00\", \"Direction\": \"I\", \"Gender\": \"U\", \"Count\": 71}, {\"DepDay\": \"2019-11-02T00:00:00\", \"Direction\": \"O\", \"Gender\": \"F\", \"Count\": 22996}, {\"DepDay\": \"2019-11-02T00:00:00\", \"Direction\": \"O\", \"Gender\": \"M\", \"Count\": 36638}, {\"DepDay\": \"2019-11-02T00:00:00\", \"Direction\": \"O\", \"Gender\": \"U\", \"Count\": 24}, {\"DepDay\": \"2019-11-03T00:00:00\", \"Direction\": \"I\", \"Gender\": \"F\", \"Count\": 20519}, {\"DepDay\": \"2019-11-03T00:00:00\", \"Direction\": \"I\", \"Gender\": \"M\", \"Count\": 38510}, {\"DepDay\": \"2019-11-03T00:00:00\", \"Direction\": \"I\", \"Gender\": \"U\", \"Count\": 94}, {\"DepDay\": \"2019-11-03T00:00:00\", \"Direction\": \"O\", \"Gender\": \"F\", \"Count\": 19854}, {\"DepDay\": \"2019-11-03T00:00:00\", \"Direction\": \"O\", \"Gender\": \"M\", \"Count\": 32436}, {\"DepDay\": \"2019-11-03T00:00:00\", \"Direction\": \"O\", \"Gender\": \"U\", \"Count\": 14}, {\"DepDay\": \"2019-11-04T00:00:00\", \"Direction\": \"I\", \"Gender\": \"F\", \"Count\": 20600}, {\"DepDay\": \"2019-11-04T00:00:00\", \"Direction\": \"I\", \"Gender\": \"M\", \"Count\": 36423}, {\"DepDay\": \"2019-11-04T00:00:00\", \"Direction\": \"I\", \"Gender\": \"U\", \"Count\": 79}, {\"DepDay\": \"2019-11-04T00:00:00\", \"Direction\": \"O\", \"Gender\": \"F\", \"Count\": 19602}, {\"DepDay\": \"2019-11-04T00:00:00\", \"Direction\": \"O\", \"Gender\": \"M\", \"Count\": 34668}, {\"DepDay\": \"2019-11-04T00:00:00\", \"Direction\": \"O\", \"Gender\": \"U\", \"Count\": 58}, {\"DepDay\": \"2019-11-05T00:00:00\", \"Direction\": \"I\", \"Gender\": \"F\", \"Count\": 20983}, {\"DepDay\": \"2019-11-05T00:00:00\", \"Direction\": \"I\", \"Gender\": \"M\", \"Count\": 37902}, {\"DepDay\": \"2019-11-05T00:00:00\", \"Direction\": \"I\", \"Gender\": \"U\", \"Count\": 98}, {\"DepDay\": \"2019-11-05T00:00:00\", \"Direction\": \"O\", \"Gender\": \"F\", \"Count\": 19802}, {\"DepDay\": \"2019-11-05T00:00:00\", \"Direction\": \"O\", \"Gender\": \"M\", \"Count\": 36621}, {\"DepDay\": \"2019-11-05T00:00:00\", \"Direction\": \"O\", \"Gender\": \"U\", \"Count\": 24}, {\"DepDay\": \"2019-11-06T00:00:00\", \"Direction\": \"I\", \"Gender\": \"F\", \"Count\": 22856}, {\"DepDay\": \"2019-11-06T00:00:00\", \"Direction\": \"I\", \"Gender\": \"M\", \"Count\": 36967}, {\"DepDay\": \"2019-11-06T00:00:00\", \"Direction\": \"I\", \"Gender\": \"U\", \"Count\": 132}, {\"DepDay\": \"2019-11-06T00:00:00\", \"Direction\": \"O\", \"Gender\": \"F\", \"Count\": 19963}, {\"DepDay\": \"2019-11-06T00:00:00\", \"Direction\": \"O\", \"Gender\": \"M\", \"Count\": 37953}, {\"DepDay\": \"2019-11-06T00:00:00\", \"Direction\": \"O\", \"Gender\": \"U\", \"Count\": 10}, {\"DepDay\": \"2019-11-07T00:00:00\", \"Direction\": \"I\", \"Gender\": \"F\", \"Count\": 28283}, {\"DepDay\": \"2019-11-07T00:00:00\", \"Direction\": \"I\", \"Gender\": \"M\", \"Count\": 42636}, {\"DepDay\": \"2019-11-07T00:00:00\", \"Direction\": \"I\", \"Gender\": \"U\", \"Count\": 232}, {\"DepDay\": \"2019-11-07T00:00:00\", \"Direction\": \"O\", \"Gender\": \"F\", \"Count\": 20272}, {\"DepDay\": \"2019-11-07T00:00:00\", \"Direction\": \"O\", \"Gender\": \"M\", \"Count\": 42703}, {\"DepDay\": \"2019-11-07T00:00:00\", \"Direction\": \"O\", \"Gender\": \"U\", \"Count\": 35}, {\"DepDay\": \"2019-11-08T00:00:00\", \"Direction\": \"I\", \"Gender\": \"F\", \"Count\": 19502}, {\"DepDay\": \"2019-11-08T00:00:00\", \"Direction\": \"I\", \"Gender\": \"M\", \"Count\": 35491}, {\"DepDay\": \"2019-11-08T00:00:00\", \"Direction\": \"I\", \"Gender\": \"U\", \"Count\": 74}, {\"DepDay\": \"2019-11-08T00:00:00\", \"Direction\": \"O\", \"Gender\": \"F\", \"Count\": 16616}, {\"DepDay\": \"2019-11-08T00:00:00\", \"Direction\": \"O\", \"Gender\": \"M\", \"Count\": 35820}, {\"DepDay\": \"2019-11-08T00:00:00\", \"Direction\": \"O\", \"Gender\": \"U\", \"Count\": 27}, {\"DepDay\": \"2019-11-09T00:00:00\", \"Direction\": \"I\", \"Gender\": \"F\", \"Count\": 23913}, {\"DepDay\": \"2019-11-09T00:00:00\", \"Direction\": \"I\", \"Gender\": \"M\", \"Count\": 43972}, {\"DepDay\": \"2019-11-09T00:00:00\", \"Direction\": \"I\", \"Gender\": \"U\", \"Count\": 64}, {\"DepDay\": \"2019-11-09T00:00:00\", \"Direction\": \"O\", \"Gender\": \"F\", \"Count\": 22074}, {\"DepDay\": \"2019-11-09T00:00:00\", \"Direction\": \"O\", \"Gender\": \"M\", \"Count\": 34197}, {\"DepDay\": \"2019-11-09T00:00:00\", \"Direction\": \"O\", \"Gender\": \"U\", \"Count\": 12}, {\"DepDay\": \"2019-11-10T00:00:00\", \"Direction\": \"I\", \"Gender\": \"F\", \"Count\": 19409}, {\"DepDay\": \"2019-11-10T00:00:00\", \"Direction\": \"I\", \"Gender\": \"M\", \"Count\": 39605}, {\"DepDay\": \"2019-11-10T00:00:00\", \"Direction\": \"I\", \"Gender\": \"U\", \"Count\": 53}, {\"DepDay\": \"2019-11-10T00:00:00\", \"Direction\": \"O\", \"Gender\": \"F\", \"Count\": 20502}, {\"DepDay\": \"2019-11-10T00:00:00\", \"Direction\": \"O\", \"Gender\": \"M\", \"Count\": 33146}, {\"DepDay\": \"2019-11-10T00:00:00\", \"Direction\": \"O\", \"Gender\": \"U\", \"Count\": 29}, {\"DepDay\": \"2019-11-11T00:00:00\", \"Direction\": \"I\", \"Gender\": \"F\", \"Count\": 18670}, {\"DepDay\": \"2019-11-11T00:00:00\", \"Direction\": \"I\", \"Gender\": \"M\", \"Count\": 36556}, {\"DepDay\": \"2019-11-11T00:00:00\", \"Direction\": \"I\", \"Gender\": \"U\", \"Count\": 48}, {\"DepDay\": \"2019-11-11T00:00:00\", \"Direction\": \"O\", \"Gender\": \"F\", \"Count\": 18199}, {\"DepDay\": \"2019-11-11T00:00:00\", \"Direction\": \"O\", \"Gender\": \"M\", \"Count\": 31950}, {\"DepDay\": \"2019-11-11T00:00:00\", \"Direction\": \"O\", \"Gender\": \"U\", \"Count\": 17}, {\"DepDay\": \"2019-11-12T00:00:00\", \"Direction\": \"I\", \"Gender\": \"F\", \"Count\": 18620}, {\"DepDay\": \"2019-11-12T00:00:00\", \"Direction\": \"I\", \"Gender\": \"M\", \"Count\": 36199}, {\"DepDay\": \"2019-11-12T00:00:00\", \"Direction\": \"I\", \"Gender\": \"U\", \"Count\": 45}, {\"DepDay\": \"2019-11-12T00:00:00\", \"Direction\": \"O\", \"Gender\": \"F\", \"Count\": 20233}, {\"DepDay\": \"2019-11-12T00:00:00\", \"Direction\": \"O\", \"Gender\": \"M\", \"Count\": 34120}, {\"DepDay\": \"2019-11-12T00:00:00\", \"Direction\": \"O\", \"Gender\": \"U\", \"Count\": 60}, {\"DepDay\": \"2019-11-13T00:00:00\", \"Direction\": \"I\", \"Gender\": \"F\", \"Count\": 21562}, {\"DepDay\": \"2019-11-13T00:00:00\", \"Direction\": \"I\", \"Gender\": \"M\", \"Count\": 36215}, {\"DepDay\": \"2019-11-13T00:00:00\", \"Direction\": \"I\", \"Gender\": \"U\", \"Count\": 105}, {\"DepDay\": \"2019-11-13T00:00:00\", \"Direction\": \"O\", \"Gender\": \"F\", \"Count\": 21230}, {\"DepDay\": \"2019-11-13T00:00:00\", \"Direction\": \"O\", \"Gender\": \"M\", \"Count\": 36065}, {\"DepDay\": \"2019-11-13T00:00:00\", \"Direction\": \"O\", \"Gender\": \"U\", \"Count\": 8}, {\"DepDay\": \"2019-11-14T00:00:00\", \"Direction\": \"I\", \"Gender\": \"F\", \"Count\": 27848}, {\"DepDay\": \"2019-11-14T00:00:00\", \"Direction\": \"I\", \"Gender\": \"M\", \"Count\": 42967}, {\"DepDay\": \"2019-11-14T00:00:00\", \"Direction\": \"I\", \"Gender\": \"U\", \"Count\": 81}, {\"DepDay\": \"2019-11-14T00:00:00\", \"Direction\": \"O\", \"Gender\": \"F\", \"Count\": 22206}, {\"DepDay\": \"2019-11-14T00:00:00\", \"Direction\": \"O\", \"Gender\": \"M\", \"Count\": 41636}, {\"DepDay\": \"2019-11-14T00:00:00\", \"Direction\": \"O\", \"Gender\": \"U\", \"Count\": 15}, {\"DepDay\": \"2019-11-15T00:00:00\", \"Direction\": \"I\", \"Gender\": \"F\", \"Count\": 18636}, {\"DepDay\": \"2019-11-15T00:00:00\", \"Direction\": \"I\", \"Gender\": \"M\", \"Count\": 36121}, {\"DepDay\": \"2019-11-15T00:00:00\", \"Direction\": \"I\", \"Gender\": \"U\", \"Count\": 12}, {\"DepDay\": \"2019-11-15T00:00:00\", \"Direction\": \"O\", \"Gender\": \"F\", \"Count\": 18746}, {\"DepDay\": \"2019-11-15T00:00:00\", \"Direction\": \"O\", \"Gender\": \"M\", \"Count\": 35894}, {\"DepDay\": \"2019-11-15T00:00:00\", \"Direction\": \"O\", \"Gender\": \"U\", \"Count\": 22}, {\"DepDay\": \"2019-11-16T00:00:00\", \"Direction\": \"I\", \"Gender\": \"F\", \"Count\": 25285}, {\"DepDay\": \"2019-11-16T00:00:00\", \"Direction\": \"I\", \"Gender\": \"M\", \"Count\": 45750}, {\"DepDay\": \"2019-11-16T00:00:00\", \"Direction\": \"I\", \"Gender\": \"U\", \"Count\": 24}, {\"DepDay\": \"2019-11-16T00:00:00\", \"Direction\": \"O\", \"Gender\": \"F\", \"Count\": 24133}, {\"DepDay\": \"2019-11-16T00:00:00\", \"Direction\": \"O\", \"Gender\": \"M\", \"Count\": 36177}, {\"DepDay\": \"2019-11-16T00:00:00\", \"Direction\": \"O\", \"Gender\": \"U\", \"Count\": 5}, {\"DepDay\": \"2019-11-17T00:00:00\", \"Direction\": \"I\", \"Gender\": \"F\", \"Count\": 20640}, {\"DepDay\": \"2019-11-17T00:00:00\", \"Direction\": \"I\", \"Gender\": \"M\", \"Count\": 41054}, {\"DepDay\": \"2019-11-17T00:00:00\", \"Direction\": \"I\", \"Gender\": \"U\", \"Count\": 80}, {\"DepDay\": \"2019-11-17T00:00:00\", \"Direction\": \"O\", \"Gender\": \"F\", \"Count\": 19426}, {\"DepDay\": \"2019-11-17T00:00:00\", \"Direction\": \"O\", \"Gender\": \"M\", \"Count\": 30840}, {\"DepDay\": \"2019-11-17T00:00:00\", \"Direction\": \"O\", \"Gender\": \"U\", \"Count\": 4}, {\"DepDay\": \"2019-11-18T00:00:00\", \"Direction\": \"I\", \"Gender\": \"F\", \"Count\": 20797}, {\"DepDay\": \"2019-11-18T00:00:00\", \"Direction\": \"I\", \"Gender\": \"M\", \"Count\": 38516}, {\"DepDay\": \"2019-11-18T00:00:00\", \"Direction\": \"I\", \"Gender\": \"U\", \"Count\": 18}, {\"DepDay\": \"2019-11-18T00:00:00\", \"Direction\": \"O\", \"Gender\": \"F\", \"Count\": 17883}, {\"DepDay\": \"2019-11-18T00:00:00\", \"Direction\": \"O\", \"Gender\": \"M\", \"Count\": 29918}, {\"DepDay\": \"2019-11-18T00:00:00\", \"Direction\": \"O\", \"Gender\": \"U\", \"Count\": 15}, {\"DepDay\": \"2019-11-19T00:00:00\", \"Direction\": \"I\", \"Gender\": \"F\", \"Count\": 21517}, {\"DepDay\": \"2019-11-19T00:00:00\", \"Direction\": \"I\", \"Gender\": \"M\", \"Count\": 39274}, {\"DepDay\": \"2019-11-19T00:00:00\", \"Direction\": \"I\", \"Gender\": \"U\", \"Count\": 28}, {\"DepDay\": \"2019-11-19T00:00:00\", \"Direction\": \"O\", \"Gender\": \"F\", \"Count\": 20590}, {\"DepDay\": \"2019-11-19T00:00:00\", \"Direction\": \"O\", \"Gender\": \"M\", \"Count\": 32425}, {\"DepDay\": \"2019-11-19T00:00:00\", \"Direction\": \"O\", \"Gender\": \"U\", \"Count\": 20}, {\"DepDay\": \"2019-11-20T00:00:00\", \"Direction\": \"I\", \"Gender\": \"F\", \"Count\": 23036}, {\"DepDay\": \"2019-11-20T00:00:00\", \"Direction\": \"I\", \"Gender\": \"M\", \"Count\": 39308}, {\"DepDay\": \"2019-11-20T00:00:00\", \"Direction\": \"I\", \"Gender\": \"U\", \"Count\": 18}, {\"DepDay\": \"2019-11-20T00:00:00\", \"Direction\": \"O\", \"Gender\": \"F\", \"Count\": 20531}, {\"DepDay\": \"2019-11-20T00:00:00\", \"Direction\": \"O\", \"Gender\": \"M\", \"Count\": 35900}, {\"DepDay\": \"2019-11-20T00:00:00\", \"Direction\": \"O\", \"Gender\": \"U\", \"Count\": 6}, {\"DepDay\": \"2019-11-21T00:00:00\", \"Direction\": \"I\", \"Gender\": \"F\", \"Count\": 26921}, {\"DepDay\": \"2019-11-21T00:00:00\", \"Direction\": \"I\", \"Gender\": \"M\", \"Count\": 42389}, {\"DepDay\": \"2019-11-21T00:00:00\", \"Direction\": \"I\", \"Gender\": \"U\", \"Count\": 87}, {\"DepDay\": \"2019-11-21T00:00:00\", \"Direction\": \"O\", \"Gender\": \"F\", \"Count\": 21293}, {\"DepDay\": \"2019-11-21T00:00:00\", \"Direction\": \"O\", \"Gender\": \"M\", \"Count\": 40886}, {\"DepDay\": \"2019-11-21T00:00:00\", \"Direction\": \"O\", \"Gender\": \"U\", \"Count\": 17}, {\"DepDay\": \"2019-11-22T00:00:00\", \"Direction\": \"I\", \"Gender\": \"F\", \"Count\": 17567}, {\"DepDay\": \"2019-11-22T00:00:00\", \"Direction\": \"I\", \"Gender\": \"M\", \"Count\": 34531}, {\"DepDay\": \"2019-11-22T00:00:00\", \"Direction\": \"I\", \"Gender\": \"U\", \"Count\": 17}, {\"DepDay\": \"2019-11-22T00:00:00\", \"Direction\": \"O\", \"Gender\": \"F\", \"Count\": 18129}, {\"DepDay\": \"2019-11-22T00:00:00\", \"Direction\": \"O\", \"Gender\": \"M\", \"Count\": 33933}, {\"DepDay\": \"2019-11-22T00:00:00\", \"Direction\": \"O\", \"Gender\": \"U\", \"Count\": 18}, {\"DepDay\": \"2019-11-23T00:00:00\", \"Direction\": \"I\", \"Gender\": \"F\", \"Count\": 24070}, {\"DepDay\": \"2019-11-23T00:00:00\", \"Direction\": \"I\", \"Gender\": \"M\", \"Count\": 44852}, {\"DepDay\": \"2019-11-23T00:00:00\", \"Direction\": \"I\", \"Gender\": \"U\", \"Count\": 45}, {\"DepDay\": \"2019-11-23T00:00:00\", \"Direction\": \"O\", \"Gender\": \"F\", \"Count\": 23981}, {\"DepDay\": \"2019-11-23T00:00:00\", \"Direction\": \"O\", \"Gender\": \"M\", \"Count\": 33384}, {\"DepDay\": \"2019-11-23T00:00:00\", \"Direction\": \"O\", \"Gender\": \"U\", \"Count\": 8}, {\"DepDay\": \"2019-11-24T00:00:00\", \"Direction\": \"I\", \"Gender\": \"F\", \"Count\": 20510}, {\"DepDay\": \"2019-11-24T00:00:00\", \"Direction\": \"I\", \"Gender\": \"M\", \"Count\": 40230}, {\"DepDay\": \"2019-11-24T00:00:00\", \"Direction\": \"I\", \"Gender\": \"U\", \"Count\": 59}, {\"DepDay\": \"2019-11-24T00:00:00\", \"Direction\": \"O\", \"Gender\": \"F\", \"Count\": 20230}, {\"DepDay\": \"2019-11-24T00:00:00\", \"Direction\": \"O\", \"Gender\": \"M\", \"Count\": 31706}, {\"DepDay\": \"2019-11-24T00:00:00\", \"Direction\": \"O\", \"Gender\": \"U\", \"Count\": 6}, {\"DepDay\": \"2019-11-25T00:00:00\", \"Direction\": \"I\", \"Gender\": \"F\", \"Count\": 21354}, {\"DepDay\": \"2019-11-25T00:00:00\", \"Direction\": \"I\", \"Gender\": \"M\", \"Count\": 39916}, {\"DepDay\": \"2019-11-25T00:00:00\", \"Direction\": \"I\", \"Gender\": \"U\", \"Count\": 25}, {\"DepDay\": \"2019-11-25T00:00:00\", \"Direction\": \"O\", \"Gender\": \"F\", \"Count\": 19423}, {\"DepDay\": \"2019-11-25T00:00:00\", \"Direction\": \"O\", \"Gender\": \"M\", \"Count\": 31547}, {\"DepDay\": \"2019-11-25T00:00:00\", \"Direction\": \"O\", \"Gender\": \"U\", \"Count\": 12}, {\"DepDay\": \"2019-11-26T00:00:00\", \"Direction\": \"I\", \"Gender\": \"F\", \"Count\": 20985}, {\"DepDay\": \"2019-11-26T00:00:00\", \"Direction\": \"I\", \"Gender\": \"M\", \"Count\": 39352}, {\"DepDay\": \"2019-11-26T00:00:00\", \"Direction\": \"I\", \"Gender\": \"U\", \"Count\": 55}, {\"DepDay\": \"2019-11-26T00:00:00\", \"Direction\": \"O\", \"Gender\": \"F\", \"Count\": 20505}, {\"DepDay\": \"2019-11-26T00:00:00\", \"Direction\": \"O\", \"Gender\": \"M\", \"Count\": 33327}, {\"DepDay\": \"2019-11-26T00:00:00\", \"Direction\": \"O\", \"Gender\": \"U\", \"Count\": 11}, {\"DepDay\": \"2019-11-27T00:00:00\", \"Direction\": \"I\", \"Gender\": \"F\", \"Count\": 23241}, {\"DepDay\": \"2019-11-27T00:00:00\", \"Direction\": \"I\", \"Gender\": \"M\", \"Count\": 39444}, {\"DepDay\": \"2019-11-27T00:00:00\", \"Direction\": \"I\", \"Gender\": \"U\", \"Count\": 25}, {\"DepDay\": \"2019-11-27T00:00:00\", \"Direction\": \"O\", \"Gender\": \"F\", \"Count\": 22607}, {\"DepDay\": \"2019-11-27T00:00:00\", \"Direction\": \"O\", \"Gender\": \"M\", \"Count\": 36984}, {\"DepDay\": \"2019-11-27T00:00:00\", \"Direction\": \"O\", \"Gender\": \"U\", \"Count\": 8}, {\"DepDay\": \"2019-11-28T00:00:00\", \"Direction\": \"I\", \"Gender\": \"F\", \"Count\": 29407}, {\"DepDay\": \"2019-11-28T00:00:00\", \"Direction\": \"I\", \"Gender\": \"M\", \"Count\": 43538}, {\"DepDay\": \"2019-11-28T00:00:00\", \"Direction\": \"I\", \"Gender\": \"U\", \"Count\": 41}, {\"DepDay\": \"2019-11-28T00:00:00\", \"Direction\": \"O\", \"Gender\": \"F\", \"Count\": 22467}, {\"DepDay\": \"2019-11-28T00:00:00\", \"Direction\": \"O\", \"Gender\": \"M\", \"Count\": 42454}, {\"DepDay\": \"2019-11-28T00:00:00\", \"Direction\": \"O\", \"Gender\": \"U\", \"Count\": 20}, {\"DepDay\": \"2019-11-29T00:00:00\", \"Direction\": \"I\", \"Gender\": \"F\", \"Count\": 20658}, {\"DepDay\": \"2019-11-29T00:00:00\", \"Direction\": \"I\", \"Gender\": \"M\", \"Count\": 36679}, {\"DepDay\": \"2019-11-29T00:00:00\", \"Direction\": \"I\", \"Gender\": \"U\", \"Count\": 28}, {\"DepDay\": \"2019-11-29T00:00:00\", \"Direction\": \"O\", \"Gender\": \"F\", \"Count\": 19443}, {\"DepDay\": \"2019-11-29T00:00:00\", \"Direction\": \"O\", \"Gender\": \"M\", \"Count\": 35262}, {\"DepDay\": \"2019-11-29T00:00:00\", \"Direction\": \"O\", \"Gender\": \"U\", \"Count\": 11}, {\"DepDay\": \"2019-11-30T00:00:00\", \"Direction\": \"I\", \"Gender\": \"F\", \"Count\": 25958}, {\"DepDay\": \"2019-11-30T00:00:00\", \"Direction\": \"I\", \"Gender\": \"M\", \"Count\": 47194}, {\"DepDay\": \"2019-11-30T00:00:00\", \"Direction\": \"I\", \"Gender\": \"U\", \"Count\": 30}, {\"DepDay\": \"2019-11-30T00:00:00\", \"Direction\": \"O\", \"Gender\": \"F\", \"Count\": 25383}, {\"DepDay\": \"2019-11-30T00:00:00\", \"Direction\": \"O\", \"Gender\": \"M\", \"Count\": 37066}, {\"DepDay\": \"2019-11-30T00:00:00\", \"Direction\": \"O\", \"Gender\": \"U\", \"Count\": 16}, {\"DepDay\": \"2019-12-01T00:00:00\", \"Direction\": \"I\", \"Gender\": \"F\", \"Count\": 21280}, {\"DepDay\": \"2019-12-01T00:00:00\", \"Direction\": \"I\", \"Gender\": \"M\", \"Count\": 40584}, {\"DepDay\": \"2019-12-01T00:00:00\", \"Direction\": \"I\", \"Gender\": \"U\", \"Count\": 20}, {\"DepDay\": \"2019-12-01T00:00:00\", \"Direction\": \"O\", \"Gender\": \"F\", \"Count\": 22160}, {\"DepDay\": \"2019-12-01T00:00:00\", \"Direction\": \"O\", \"Gender\": \"M\", \"Count\": 34368}, {\"DepDay\": \"2019-12-01T00:00:00\", \"Direction\": \"O\", \"Gender\": \"U\", \"Count\": 6}, {\"DepDay\": \"2019-12-02T00:00:00\", \"Direction\": \"I\", \"Gender\": \"F\", \"Count\": 20942}, {\"DepDay\": \"2019-12-02T00:00:00\", \"Direction\": \"I\", \"Gender\": \"M\", \"Count\": 37566}, {\"DepDay\": \"2019-12-02T00:00:00\", \"Direction\": \"I\", \"Gender\": \"U\", \"Count\": 30}, {\"DepDay\": \"2019-12-02T00:00:00\", \"Direction\": \"O\", \"Gender\": \"F\", \"Count\": 20740}, {\"DepDay\": \"2019-12-02T00:00:00\", \"Direction\": \"O\", \"Gender\": \"M\", \"Count\": 34418}, {\"DepDay\": \"2019-12-02T00:00:00\", \"Direction\": \"O\", \"Gender\": \"U\", \"Count\": 13}, {\"DepDay\": \"2019-12-03T00:00:00\", \"Direction\": \"I\", \"Gender\": \"F\", \"Count\": 21390}, {\"DepDay\": \"2019-12-03T00:00:00\", \"Direction\": \"I\", \"Gender\": \"M\", \"Count\": 35328}, {\"DepDay\": \"2019-12-03T00:00:00\", \"Direction\": \"I\", \"Gender\": \"U\", \"Count\": 37}, {\"DepDay\": \"2019-12-03T00:00:00\", \"Direction\": \"O\", \"Gender\": \"F\", \"Count\": 23559}, {\"DepDay\": \"2019-12-03T00:00:00\", \"Direction\": \"O\", \"Gender\": \"M\", \"Count\": 38658}, {\"DepDay\": \"2019-12-03T00:00:00\", \"Direction\": \"O\", \"Gender\": \"U\", \"Count\": 14}, {\"DepDay\": \"2019-12-04T00:00:00\", \"Direction\": \"I\", \"Gender\": \"F\", \"Count\": 24295}, {\"DepDay\": \"2019-12-04T00:00:00\", \"Direction\": \"I\", \"Gender\": \"M\", \"Count\": 38136}, {\"DepDay\": \"2019-12-04T00:00:00\", \"Direction\": \"I\", \"Gender\": \"U\", \"Count\": 28}, {\"DepDay\": \"2019-12-04T00:00:00\", \"Direction\": \"O\", \"Gender\": \"F\", \"Count\": 23035}, {\"DepDay\": \"2019-12-04T00:00:00\", \"Direction\": \"O\", \"Gender\": \"M\", \"Count\": 40380}, {\"DepDay\": \"2019-12-04T00:00:00\", \"Direction\": \"O\", \"Gender\": \"U\", \"Count\": 14}, {\"DepDay\": \"2019-12-05T00:00:00\", \"Direction\": \"I\", \"Gender\": \"F\", \"Count\": 29009}, {\"DepDay\": \"2019-12-05T00:00:00\", \"Direction\": \"I\", \"Gender\": \"M\", \"Count\": 42611}, {\"DepDay\": \"2019-12-05T00:00:00\", \"Direction\": \"I\", \"Gender\": \"U\", \"Count\": 38}, {\"DepDay\": \"2019-12-05T00:00:00\", \"Direction\": \"O\", \"Gender\": \"F\", \"Count\": 22477}, {\"DepDay\": \"2019-12-05T00:00:00\", \"Direction\": \"O\", \"Gender\": \"M\", \"Count\": 44901}, {\"DepDay\": \"2019-12-05T00:00:00\", \"Direction\": \"O\", \"Gender\": \"U\", \"Count\": 25}, {\"DepDay\": \"2019-12-06T00:00:00\", \"Direction\": \"I\", \"Gender\": \"F\", \"Count\": 19987}, {\"DepDay\": \"2019-12-06T00:00:00\", \"Direction\": \"I\", \"Gender\": \"M\", \"Count\": 35911}, {\"DepDay\": \"2019-12-06T00:00:00\", \"Direction\": \"I\", \"Gender\": \"U\", \"Count\": 30}, {\"DepDay\": \"2019-12-06T00:00:00\", \"Direction\": \"O\", \"Gender\": \"F\", \"Count\": 18710}, {\"DepDay\": \"2019-12-06T00:00:00\", \"Direction\": \"O\", \"Gender\": \"M\", \"Count\": 36818}, {\"DepDay\": \"2019-12-06T00:00:00\", \"Direction\": \"O\", \"Gender\": \"U\", \"Count\": 16}, {\"DepDay\": \"2019-12-07T00:00:00\", \"Direction\": \"I\", \"Gender\": \"F\", \"Count\": 26159}, {\"DepDay\": \"2019-12-07T00:00:00\", \"Direction\": \"I\", \"Gender\": \"M\", \"Count\": 46035}, {\"DepDay\": \"2019-12-07T00:00:00\", \"Direction\": \"I\", \"Gender\": \"U\", \"Count\": 33}, {\"DepDay\": \"2019-12-07T00:00:00\", \"Direction\": \"O\", \"Gender\": \"F\", \"Count\": 24125}, {\"DepDay\": \"2019-12-07T00:00:00\", \"Direction\": \"O\", \"Gender\": \"M\", \"Count\": 36352}, {\"DepDay\": \"2019-12-07T00:00:00\", \"Direction\": \"O\", \"Gender\": \"U\", \"Count\": 23}, {\"DepDay\": \"2019-12-08T00:00:00\", \"Direction\": \"I\", \"Gender\": \"F\", \"Count\": 23117}, {\"DepDay\": \"2019-12-08T00:00:00\", \"Direction\": \"I\", \"Gender\": \"M\", \"Count\": 42461}, {\"DepDay\": \"2019-12-08T00:00:00\", \"Direction\": \"I\", \"Gender\": \"U\", \"Count\": 90}, {\"DepDay\": \"2019-12-08T00:00:00\", \"Direction\": \"O\", \"Gender\": \"F\", \"Count\": 20551}, {\"DepDay\": \"2019-12-08T00:00:00\", \"Direction\": \"O\", \"Gender\": \"M\", \"Count\": 32574}, {\"DepDay\": \"2019-12-08T00:00:00\", \"Direction\": \"O\", \"Gender\": \"U\", \"Count\": 3}, {\"DepDay\": \"2019-12-09T00:00:00\", \"Direction\": \"I\", \"Gender\": \"F\", \"Count\": 24720}, {\"DepDay\": \"2019-12-09T00:00:00\", \"Direction\": \"I\", \"Gender\": \"M\", \"Count\": 41115}, {\"DepDay\": \"2019-12-09T00:00:00\", \"Direction\": \"I\", \"Gender\": \"U\", \"Count\": 16}, {\"DepDay\": \"2019-12-09T00:00:00\", \"Direction\": \"O\", \"Gender\": \"F\", \"Count\": 20091}, {\"DepDay\": \"2019-12-09T00:00:00\", \"Direction\": \"O\", \"Gender\": \"M\", \"Count\": 33380}, {\"DepDay\": \"2019-12-09T00:00:00\", \"Direction\": \"O\", \"Gender\": \"U\", \"Count\": 7}, {\"DepDay\": \"2019-12-10T00:00:00\", \"Direction\": \"I\", \"Gender\": \"F\", \"Count\": 25470}, {\"DepDay\": \"2019-12-10T00:00:00\", \"Direction\": \"I\", \"Gender\": \"M\", \"Count\": 41579}, {\"DepDay\": \"2019-12-10T00:00:00\", \"Direction\": \"I\", \"Gender\": \"U\", \"Count\": 27}, {\"DepDay\": \"2019-12-10T00:00:00\", \"Direction\": \"O\", \"Gender\": \"F\", \"Count\": 21414}, {\"DepDay\": \"2019-12-10T00:00:00\", \"Direction\": \"O\", \"Gender\": \"M\", \"Count\": 37704}, {\"DepDay\": \"2019-12-10T00:00:00\", \"Direction\": \"O\", \"Gender\": \"U\", \"Count\": 10}, {\"DepDay\": \"2019-12-11T00:00:00\", \"Direction\": \"I\", \"Gender\": \"F\", \"Count\": 28138}, {\"DepDay\": \"2019-12-11T00:00:00\", \"Direction\": \"I\", \"Gender\": \"M\", \"Count\": 40864}, {\"DepDay\": \"2019-12-11T00:00:00\", \"Direction\": \"I\", \"Gender\": \"U\", \"Count\": 22}, {\"DepDay\": \"2019-12-11T00:00:00\", \"Direction\": \"O\", \"Gender\": \"F\", \"Count\": 22606}, {\"DepDay\": \"2019-12-11T00:00:00\", \"Direction\": \"O\", \"Gender\": \"M\", \"Count\": 37892}, {\"DepDay\": \"2019-12-11T00:00:00\", \"Direction\": \"O\", \"Gender\": \"U\", \"Count\": 3}, {\"DepDay\": \"2019-12-12T00:00:00\", \"Direction\": \"I\", \"Gender\": \"F\", \"Count\": 32935}, {\"DepDay\": \"2019-12-12T00:00:00\", \"Direction\": \"I\", \"Gender\": \"M\", \"Count\": 44892}, {\"DepDay\": \"2019-12-12T00:00:00\", \"Direction\": \"I\", \"Gender\": \"U\", \"Count\": 83}, {\"DepDay\": \"2019-12-12T00:00:00\", \"Direction\": \"O\", \"Gender\": \"F\", \"Count\": 21575}, {\"DepDay\": \"2019-12-12T00:00:00\", \"Direction\": \"O\", \"Gender\": \"M\", \"Count\": 41958}, {\"DepDay\": \"2019-12-12T00:00:00\", \"Direction\": \"O\", \"Gender\": \"U\", \"Count\": 13}, {\"DepDay\": \"2019-12-13T00:00:00\", \"Direction\": \"I\", \"Gender\": \"F\", \"Count\": 22408}, {\"DepDay\": \"2019-12-13T00:00:00\", \"Direction\": \"I\", \"Gender\": \"M\", \"Count\": 37424}, {\"DepDay\": \"2019-12-13T00:00:00\", \"Direction\": \"I\", \"Gender\": \"U\", \"Count\": 18}, {\"DepDay\": \"2019-12-13T00:00:00\", \"Direction\": \"O\", \"Gender\": \"F\", \"Count\": 20352}, {\"DepDay\": \"2019-12-13T00:00:00\", \"Direction\": \"O\", \"Gender\": \"M\", \"Count\": 35269}, {\"DepDay\": \"2019-12-13T00:00:00\", \"Direction\": \"O\", \"Gender\": \"U\", \"Count\": 12}, {\"DepDay\": \"2019-12-14T00:00:00\", \"Direction\": \"I\", \"Gender\": \"F\", \"Count\": 30395}, {\"DepDay\": \"2019-12-14T00:00:00\", \"Direction\": \"I\", \"Gender\": \"M\", \"Count\": 48512}, {\"DepDay\": \"2019-12-14T00:00:00\", \"Direction\": \"I\", \"Gender\": \"U\", \"Count\": 41}, {\"DepDay\": \"2019-12-14T00:00:00\", \"Direction\": \"O\", \"Gender\": \"F\", \"Count\": 24737}, {\"DepDay\": \"2019-12-14T00:00:00\", \"Direction\": \"O\", \"Gender\": \"M\", \"Count\": 35515}, {\"DepDay\": \"2019-12-14T00:00:00\", \"Direction\": \"O\", \"Gender\": \"U\", \"Count\": 18}, {\"DepDay\": \"2019-12-15T00:00:00\", \"Direction\": \"I\", \"Gender\": \"F\", \"Count\": 27910}, {\"DepDay\": \"2019-12-15T00:00:00\", \"Direction\": \"I\", \"Gender\": \"M\", \"Count\": 46891}, {\"DepDay\": \"2019-12-15T00:00:00\", \"Direction\": \"I\", \"Gender\": \"U\", \"Count\": 29}, {\"DepDay\": \"2019-12-15T00:00:00\", \"Direction\": \"O\", \"Gender\": \"F\", \"Count\": 22093}, {\"DepDay\": \"2019-12-15T00:00:00\", \"Direction\": \"O\", \"Gender\": \"M\", \"Count\": 33647}, {\"DepDay\": \"2019-12-15T00:00:00\", \"Direction\": \"O\", \"Gender\": \"U\", \"Count\": 7}, {\"DepDay\": \"2019-12-16T00:00:00\", \"Direction\": \"I\", \"Gender\": \"F\", \"Count\": 27139}, {\"DepDay\": \"2019-12-16T00:00:00\", \"Direction\": \"I\", \"Gender\": \"M\", \"Count\": 43564}, {\"DepDay\": \"2019-12-16T00:00:00\", \"Direction\": \"I\", \"Gender\": \"U\", \"Count\": 21}, {\"DepDay\": \"2019-12-16T00:00:00\", \"Direction\": \"O\", \"Gender\": \"F\", \"Count\": 21498}, {\"DepDay\": \"2019-12-16T00:00:00\", \"Direction\": \"O\", \"Gender\": \"M\", \"Count\": 34118}, {\"DepDay\": \"2019-12-16T00:00:00\", \"Direction\": \"O\", \"Gender\": \"U\", \"Count\": 18}, {\"DepDay\": \"2019-12-17T00:00:00\", \"Direction\": \"I\", \"Gender\": \"F\", \"Count\": 28832}, {\"DepDay\": \"2019-12-17T00:00:00\", \"Direction\": \"I\", \"Gender\": \"M\", \"Count\": 43799}, {\"DepDay\": \"2019-12-17T00:00:00\", \"Direction\": \"I\", \"Gender\": \"U\", \"Count\": 29}, {\"DepDay\": \"2019-12-17T00:00:00\", \"Direction\": \"O\", \"Gender\": \"F\", \"Count\": 24708}, {\"DepDay\": \"2019-12-17T00:00:00\", \"Direction\": \"O\", \"Gender\": \"M\", \"Count\": 38178}, {\"DepDay\": \"2019-12-17T00:00:00\", \"Direction\": \"O\", \"Gender\": \"U\", \"Count\": 14}, {\"DepDay\": \"2019-12-18T00:00:00\", \"Direction\": \"I\", \"Gender\": \"F\", \"Count\": 30365}, {\"DepDay\": \"2019-12-18T00:00:00\", \"Direction\": \"I\", \"Gender\": \"M\", \"Count\": 43291}, {\"DepDay\": \"2019-12-18T00:00:00\", \"Direction\": \"I\", \"Gender\": \"U\", \"Count\": 24}, {\"DepDay\": \"2019-12-18T00:00:00\", \"Direction\": \"O\", \"Gender\": \"F\", \"Count\": 24006}, {\"DepDay\": \"2019-12-18T00:00:00\", \"Direction\": \"O\", \"Gender\": \"M\", \"Count\": 39817}, {\"DepDay\": \"2019-12-18T00:00:00\", \"Direction\": \"O\", \"Gender\": \"U\", \"Count\": 14}, {\"DepDay\": \"2019-12-19T00:00:00\", \"Direction\": \"I\", \"Gender\": \"F\", \"Count\": 37803}, {\"DepDay\": \"2019-12-19T00:00:00\", \"Direction\": \"I\", \"Gender\": \"M\", \"Count\": 49275}, {\"DepDay\": \"2019-12-19T00:00:00\", \"Direction\": \"I\", \"Gender\": \"U\", \"Count\": 51}, {\"DepDay\": \"2019-12-19T00:00:00\", \"Direction\": \"O\", \"Gender\": \"F\", \"Count\": 24119}, {\"DepDay\": \"2019-12-19T00:00:00\", \"Direction\": \"O\", \"Gender\": \"M\", \"Count\": 45394}, {\"DepDay\": \"2019-12-19T00:00:00\", \"Direction\": \"O\", \"Gender\": \"U\", \"Count\": 19}, {\"DepDay\": \"2019-12-20T00:00:00\", \"Direction\": \"I\", \"Gender\": \"F\", \"Count\": 27132}, {\"DepDay\": \"2019-12-20T00:00:00\", \"Direction\": \"I\", \"Gender\": \"M\", \"Count\": 41193}, {\"DepDay\": \"2019-12-20T00:00:00\", \"Direction\": \"I\", \"Gender\": \"U\", \"Count\": 20}, {\"DepDay\": \"2019-12-20T00:00:00\", \"Direction\": \"O\", \"Gender\": \"F\", \"Count\": 25518}, {\"DepDay\": \"2019-12-20T00:00:00\", \"Direction\": \"O\", \"Gender\": \"M\", \"Count\": 42076}, {\"DepDay\": \"2019-12-20T00:00:00\", \"Direction\": \"O\", \"Gender\": \"U\", \"Count\": 13}, {\"DepDay\": \"2019-12-21T00:00:00\", \"Direction\": \"I\", \"Gender\": \"F\", \"Count\": 32169}, {\"DepDay\": \"2019-12-21T00:00:00\", \"Direction\": \"I\", \"Gender\": \"M\", \"Count\": 48905}, {\"DepDay\": \"2019-12-21T00:00:00\", \"Direction\": \"I\", \"Gender\": \"U\", \"Count\": 37}, {\"DepDay\": \"2019-12-21T00:00:00\", \"Direction\": \"O\", \"Gender\": \"F\", \"Count\": 27939}, {\"DepDay\": \"2019-12-21T00:00:00\", \"Direction\": \"O\", \"Gender\": \"M\", \"Count\": 39055}, {\"DepDay\": \"2019-12-21T00:00:00\", \"Direction\": \"O\", \"Gender\": \"U\", \"Count\": 14}, {\"DepDay\": \"2019-12-22T00:00:00\", \"Direction\": \"I\", \"Gender\": \"F\", \"Count\": 29568}, {\"DepDay\": \"2019-12-22T00:00:00\", \"Direction\": \"I\", \"Gender\": \"M\", \"Count\": 44357}, {\"DepDay\": \"2019-12-22T00:00:00\", \"Direction\": \"I\", \"Gender\": \"U\", \"Count\": 26}, {\"DepDay\": \"2019-12-22T00:00:00\", \"Direction\": \"O\", \"Gender\": \"F\", \"Count\": 24951}, {\"DepDay\": \"2019-12-22T00:00:00\", \"Direction\": \"O\", \"Gender\": \"M\", \"Count\": 36625}, {\"DepDay\": \"2019-12-22T00:00:00\", \"Direction\": \"O\", \"Gender\": \"U\", \"Count\": 3}, {\"DepDay\": \"2019-12-23T00:00:00\", \"Direction\": \"I\", \"Gender\": \"F\", \"Count\": 31415}, {\"DepDay\": \"2019-12-23T00:00:00\", \"Direction\": \"I\", \"Gender\": \"M\", \"Count\": 44549}, {\"DepDay\": \"2019-12-23T00:00:00\", \"Direction\": \"I\", \"Gender\": \"U\", \"Count\": 36}, {\"DepDay\": \"2019-12-23T00:00:00\", \"Direction\": \"O\", \"Gender\": \"F\", \"Count\": 26561}, {\"DepDay\": \"2019-12-23T00:00:00\", \"Direction\": \"O\", \"Gender\": \"M\", \"Count\": 39346}, {\"DepDay\": \"2019-12-23T00:00:00\", \"Direction\": \"O\", \"Gender\": \"U\", \"Count\": 10}, {\"DepDay\": \"2019-12-24T00:00:00\", \"Direction\": \"I\", \"Gender\": \"F\", \"Count\": 29683}, {\"DepDay\": \"2019-12-24T00:00:00\", \"Direction\": \"I\", \"Gender\": \"M\", \"Count\": 43095}, {\"DepDay\": \"2019-12-24T00:00:00\", \"Direction\": \"I\", \"Gender\": \"U\", \"Count\": 32}, {\"DepDay\": \"2019-12-24T00:00:00\", \"Direction\": \"O\", \"Gender\": \"F\", \"Count\": 27598}, {\"DepDay\": \"2019-12-24T00:00:00\", \"Direction\": \"O\", \"Gender\": \"M\", \"Count\": 40763}, {\"DepDay\": \"2019-12-24T00:00:00\", \"Direction\": \"O\", \"Gender\": \"U\", \"Count\": 15}, {\"DepDay\": \"2019-12-25T00:00:00\", \"Direction\": \"I\", \"Gender\": \"F\", \"Count\": 30257}, {\"DepDay\": \"2019-12-25T00:00:00\", \"Direction\": \"I\", \"Gender\": \"M\", \"Count\": 42901}, {\"DepDay\": \"2019-12-25T00:00:00\", \"Direction\": \"I\", \"Gender\": \"U\", \"Count\": 74}, {\"DepDay\": \"2019-12-25T00:00:00\", \"Direction\": \"O\", \"Gender\": \"F\", \"Count\": 29077}, {\"DepDay\": \"2019-12-25T00:00:00\", \"Direction\": \"O\", \"Gender\": \"M\", \"Count\": 42009}, {\"DepDay\": \"2019-12-25T00:00:00\", \"Direction\": \"O\", \"Gender\": \"U\", \"Count\": 15}, {\"DepDay\": \"2019-12-26T00:00:00\", \"Direction\": \"I\", \"Gender\": \"F\", \"Count\": 32673}, {\"DepDay\": \"2019-12-26T00:00:00\", \"Direction\": \"I\", \"Gender\": \"M\", \"Count\": 45629}, {\"DepDay\": \"2019-12-26T00:00:00\", \"Direction\": \"I\", \"Gender\": \"U\", \"Count\": 22}, {\"DepDay\": \"2019-12-26T00:00:00\", \"Direction\": \"O\", \"Gender\": \"F\", \"Count\": 29259}, {\"DepDay\": \"2019-12-26T00:00:00\", \"Direction\": \"O\", \"Gender\": \"M\", \"Count\": 47601}, {\"DepDay\": \"2019-12-26T00:00:00\", \"Direction\": \"O\", \"Gender\": \"U\", \"Count\": 30}, {\"DepDay\": \"2019-12-27T00:00:00\", \"Direction\": \"I\", \"Gender\": \"F\", \"Count\": 24100}, {\"DepDay\": \"2019-12-27T00:00:00\", \"Direction\": \"I\", \"Gender\": \"M\", \"Count\": 39309}, {\"DepDay\": \"2019-12-27T00:00:00\", \"Direction\": \"I\", \"Gender\": \"U\", \"Count\": 26}, {\"DepDay\": \"2019-12-27T00:00:00\", \"Direction\": \"O\", \"Gender\": \"F\", \"Count\": 27325}, {\"DepDay\": \"2019-12-27T00:00:00\", \"Direction\": \"O\", \"Gender\": \"M\", \"Count\": 41368}, {\"DepDay\": \"2019-12-27T00:00:00\", \"Direction\": \"O\", \"Gender\": \"U\", \"Count\": 23}, {\"DepDay\": \"2019-12-28T00:00:00\", \"Direction\": \"I\", \"Gender\": \"F\", \"Count\": 27465}, {\"DepDay\": \"2019-12-28T00:00:00\", \"Direction\": \"I\", \"Gender\": \"M\", \"Count\": 46123}, {\"DepDay\": \"2019-12-28T00:00:00\", \"Direction\": \"I\", \"Gender\": \"U\", \"Count\": 23}, {\"DepDay\": \"2019-12-28T00:00:00\", \"Direction\": \"O\", \"Gender\": \"F\", \"Count\": 34622}, {\"DepDay\": \"2019-12-28T00:00:00\", \"Direction\": \"O\", \"Gender\": \"M\", \"Count\": 44253}, {\"DepDay\": \"2019-12-28T00:00:00\", \"Direction\": \"O\", \"Gender\": \"U\", \"Count\": 19}, {\"DepDay\": \"2019-12-29T00:00:00\", \"Direction\": \"I\", \"Gender\": \"F\", \"Count\": 23237}, {\"DepDay\": \"2019-12-29T00:00:00\", \"Direction\": \"I\", \"Gender\": \"M\", \"Count\": 39573}, {\"DepDay\": \"2019-12-29T00:00:00\", \"Direction\": \"I\", \"Gender\": \"U\", \"Count\": 56}, {\"DepDay\": \"2019-12-29T00:00:00\", \"Direction\": \"O\", \"Gender\": \"F\", \"Count\": 34907}, {\"DepDay\": \"2019-12-29T00:00:00\", \"Direction\": \"O\", \"Gender\": \"M\", \"Count\": 44593}, {\"DepDay\": \"2019-12-29T00:00:00\", \"Direction\": \"O\", \"Gender\": \"U\", \"Count\": 7}, {\"DepDay\": \"2019-12-30T00:00:00\", \"Direction\": \"I\", \"Gender\": \"F\", \"Count\": 23515}, {\"DepDay\": \"2019-12-30T00:00:00\", \"Direction\": \"I\", \"Gender\": \"M\", \"Count\": 37191}, {\"DepDay\": \"2019-12-30T00:00:00\", \"Direction\": \"I\", \"Gender\": \"U\", \"Count\": 20}, {\"DepDay\": \"2019-12-30T00:00:00\", \"Direction\": \"O\", \"Gender\": \"F\", \"Count\": 36096}, {\"DepDay\": \"2019-12-30T00:00:00\", \"Direction\": \"O\", \"Gender\": \"M\", \"Count\": 47693}, {\"DepDay\": \"2019-12-30T00:00:00\", \"Direction\": \"O\", \"Gender\": \"U\", \"Count\": 9}, {\"DepDay\": \"2019-12-31T00:00:00\", \"Direction\": \"I\", \"Gender\": \"F\", \"Count\": 18267}, {\"DepDay\": \"2019-12-31T00:00:00\", \"Direction\": \"I\", \"Gender\": \"M\", \"Count\": 30828}, {\"DepDay\": \"2019-12-31T00:00:00\", \"Direction\": \"I\", \"Gender\": \"U\", \"Count\": 55}, {\"DepDay\": \"2019-12-31T00:00:00\", \"Direction\": \"O\", \"Gender\": \"F\", \"Count\": 39453}, {\"DepDay\": \"2019-12-31T00:00:00\", \"Direction\": \"O\", \"Gender\": \"M\", \"Count\": 51198}, {\"DepDay\": \"2019-12-31T00:00:00\", \"Direction\": \"O\", \"Gender\": \"U\", \"Count\": 21}]}}, {\"mode\": \"vega-lite\"});\n",
       "</script>"
      ],
      "text/plain": [
       "alt.Chart(...)"
      ]
     },
     "execution_count": 414,
     "metadata": {},
     "output_type": "execute_result"
    }
   ],
   "source": [
    "alt.Chart(trv_per_day).mark_circle().encode(\n",
    "x='DepDay',\n",
    "    y='Count',\n",
    "    color='Direction',\n",
    "    size=alt.Size('Count:Q',\n",
    "         scale=alt.Scale(range=[1, 250]),\n",
    "         legend=alt.Legend(title='Trav Count'))\n",
    ").properties(\n",
    "width=800,\n",
    "    height=450\n",
    ")\n",
    "\n"
   ]
  },
  {
   "cell_type": "code",
   "execution_count": 13,
   "metadata": {
    "ExecuteTime": {
     "end_time": "2020-06-14T19:16:23.431813Z",
     "start_time": "2020-06-14T19:16:23.424834Z"
    }
   },
   "outputs": [
    {
     "data": {
      "text/plain": [
       "Index(['2G', '2J', '3J', '3T', '4J', '4Q', '5A', '5E', '6B', '6D',\n",
       "       ...\n",
       "       'XT', 'XX', 'XXX', 'XY', 'Y8', 'YL', 'YX', 'Z1', 'Z4', 'ZQ'],\n",
       "      dtype='object', length=216)"
      ]
     },
     "execution_count": 13,
     "metadata": {},
     "output_type": "execute_result"
    }
   ],
   "source": [
    "pax_2019.Carrier.cat.codes.head(10)\n",
    "pax_2019.Carrier.cat.categories"
   ]
  },
  {
   "cell_type": "code",
   "execution_count": 322,
   "metadata": {
    "ExecuteTime": {
     "end_time": "2020-06-19T00:03:08.251238Z",
     "start_time": "2020-06-19T00:03:08.236242Z"
    }
   },
   "outputs": [
    {
     "data": {
      "text/plain": [
       "DepDay\n",
       "2019-09-23     92988\n",
       "2019-09-24     87317\n",
       "2019-09-25     88865\n",
       "2019-09-26     98170\n",
       "2019-09-27     87792\n",
       "               ...  \n",
       "2019-12-27    132151\n",
       "2019-12-28    152505\n",
       "2019-12-29    142373\n",
       "2019-12-30    144524\n",
       "2019-12-31    139822\n",
       "Name: Nationality, Length: 100, dtype: int64"
      ]
     },
     "execution_count": 322,
     "metadata": {},
     "output_type": "execute_result"
    }
   ],
   "source": [
    "pd.set_option('display.max_rows',30)\n",
    "xx.tail(100)\n",
    "\n",
    "# 2016-11-05         1\n",
    "# 2018-08-09         1\n",
    "# 2018-10-11         1\n",
    "# 2018-11-21         1\n",
    "# 2018-12-25         1\n",
    "# 2018-12-29         1\n",
    "# 2018-12-30         1"
   ]
  },
  {
   "cell_type": "code",
   "execution_count": 312,
   "metadata": {
    "ExecuteTime": {
     "end_time": "2020-06-18T23:59:11.015710Z",
     "start_time": "2020-06-18T23:59:06.321269Z"
    }
   },
   "outputs": [],
   "source": []
  },
  {
   "cell_type": "code",
   "execution_count": 317,
   "metadata": {
    "ExecuteTime": {
     "end_time": "2020-06-19T00:00:29.911373Z",
     "start_time": "2020-06-19T00:00:29.761754Z"
    }
   },
   "outputs": [
    {
     "data": {
      "text/html": [
       "<div>\n",
       "<style scoped>\n",
       "    .dataframe tbody tr th:only-of-type {\n",
       "        vertical-align: middle;\n",
       "    }\n",
       "\n",
       "    .dataframe tbody tr th {\n",
       "        vertical-align: top;\n",
       "    }\n",
       "\n",
       "    .dataframe thead th {\n",
       "        text-align: right;\n",
       "    }\n",
       "</style>\n",
       "<table border=\"1\" class=\"dataframe\">\n",
       "  <thead>\n",
       "    <tr style=\"text-align: right;\">\n",
       "      <th></th>\n",
       "      <th>DepDate</th>\n",
       "      <th>ArrDate</th>\n",
       "      <th>Carrier</th>\n",
       "      <th>Flight</th>\n",
       "      <th>Direction</th>\n",
       "      <th>DepPort</th>\n",
       "      <th>ArrPort</th>\n",
       "      <th>DepCountry</th>\n",
       "      <th>ArrCountry</th>\n",
       "      <th>Gender</th>\n",
       "      <th>Nationality</th>\n",
       "      <th>CrossingLoc</th>\n",
       "      <th>Exp_MVMT_FS</th>\n",
       "      <th>Exp_MVMT_Event</th>\n",
       "      <th>UNK_FS</th>\n",
       "      <th>Age</th>\n",
       "      <th>AgeGroup</th>\n",
       "      <th>DepDay</th>\n",
       "    </tr>\n",
       "  </thead>\n",
       "  <tbody>\n",
       "  </tbody>\n",
       "</table>\n",
       "</div>"
      ],
      "text/plain": [
       "Empty DataFrame\n",
       "Columns: [DepDate, ArrDate, Carrier, Flight, Direction, DepPort, ArrPort, DepCountry, ArrCountry, Gender, Nationality, CrossingLoc, Exp_MVMT_FS, Exp_MVMT_Event, UNK_FS, Age, AgeGroup, DepDay]\n",
       "Index: []"
      ]
     },
     "execution_count": 317,
     "metadata": {},
     "output_type": "execute_result"
    }
   ],
   "source": [
    "pax_2019[pax_2019['DepDate'] == '2020-05-31']"
   ]
  },
  {
   "cell_type": "code",
   "execution_count": 16,
   "metadata": {
    "ExecuteTime": {
     "end_time": "2020-06-14T19:19:12.186854Z",
     "start_time": "2020-06-14T19:19:12.073074Z"
    }
   },
   "outputs": [
    {
     "data": {
      "text/plain": [
       "Age\n",
       "121    3\n",
       "122    2\n",
       "123    2\n",
       "132    1\n",
       "134    3\n",
       "135    4\n",
       "242    1\n",
       "Name: Age, dtype: int64"
      ]
     },
     "execution_count": 16,
     "metadata": {},
     "output_type": "execute_result"
    }
   ],
   "source": [
    "pax_2019[pax_2019.Age > 120].groupby('Age')['Age'].count()"
   ]
  },
  {
   "cell_type": "code",
   "execution_count": 566,
   "metadata": {
    "ExecuteTime": {
     "end_time": "2020-06-22T17:23:09.328219Z",
     "start_time": "2020-06-22T17:23:09.272366Z"
    }
   },
   "outputs": [
    {
     "data": {
      "text/html": [
       "<div>\n",
       "<style scoped>\n",
       "    .dataframe tbody tr th:only-of-type {\n",
       "        vertical-align: middle;\n",
       "    }\n",
       "\n",
       "    .dataframe tbody tr th {\n",
       "        vertical-align: top;\n",
       "    }\n",
       "\n",
       "    .dataframe thead th {\n",
       "        text-align: right;\n",
       "    }\n",
       "</style>\n",
       "<table border=\"1\" class=\"dataframe\">\n",
       "  <thead>\n",
       "    <tr style=\"text-align: right;\">\n",
       "      <th></th>\n",
       "      <th>DepDate</th>\n",
       "      <th>ArrDate</th>\n",
       "      <th>Carrier</th>\n",
       "      <th>Flight</th>\n",
       "      <th>Direction</th>\n",
       "      <th>DepPort</th>\n",
       "      <th>ArrPort</th>\n",
       "      <th>DepCountry</th>\n",
       "      <th>ArrCountry</th>\n",
       "      <th>Gender</th>\n",
       "      <th>Nationality</th>\n",
       "      <th>CrossingLoc</th>\n",
       "      <th>Exp_MVMT_FS</th>\n",
       "      <th>Exp_MVMT_Event</th>\n",
       "      <th>UNK_FS</th>\n",
       "      <th>Age</th>\n",
       "      <th>AgeGroup</th>\n",
       "      <th>DepDay</th>\n",
       "    </tr>\n",
       "  </thead>\n",
       "  <tbody>\n",
       "    <tr>\n",
       "      <td>0</td>\n",
       "      <td>2019-01-05 07:00:00</td>\n",
       "      <td>2019-01-05 12:50:00</td>\n",
       "      <td>PK</td>\n",
       "      <td>0754</td>\n",
       "      <td>O</td>\n",
       "      <td>RUH</td>\n",
       "      <td>ISB</td>\n",
       "      <td>SAU</td>\n",
       "      <td>PAK</td>\n",
       "      <td>M</td>\n",
       "      <td>PAK</td>\n",
       "      <td>RUH</td>\n",
       "      <td>1</td>\n",
       "      <td>1</td>\n",
       "      <td>0</td>\n",
       "      <td>37</td>\n",
       "      <td>25 to 40</td>\n",
       "      <td>2019-01-05</td>\n",
       "    </tr>\n",
       "    <tr>\n",
       "      <td>1</td>\n",
       "      <td>2019-01-14 06:25:00</td>\n",
       "      <td>2019-01-14 12:20:00</td>\n",
       "      <td>SV</td>\n",
       "      <td>0037</td>\n",
       "      <td>O</td>\n",
       "      <td>RUH</td>\n",
       "      <td>IAD</td>\n",
       "      <td>SAU</td>\n",
       "      <td>USA</td>\n",
       "      <td>M</td>\n",
       "      <td>SAU</td>\n",
       "      <td>RUH</td>\n",
       "      <td>1</td>\n",
       "      <td>1</td>\n",
       "      <td>0</td>\n",
       "      <td>33</td>\n",
       "      <td>25 to 40</td>\n",
       "      <td>2019-01-14</td>\n",
       "    </tr>\n",
       "    <tr>\n",
       "      <td>2</td>\n",
       "      <td>2019-01-14 06:25:00</td>\n",
       "      <td>2019-01-14 12:20:00</td>\n",
       "      <td>SV</td>\n",
       "      <td>0037</td>\n",
       "      <td>O</td>\n",
       "      <td>RUH</td>\n",
       "      <td>IAD</td>\n",
       "      <td>SAU</td>\n",
       "      <td>USA</td>\n",
       "      <td>F</td>\n",
       "      <td>SAU</td>\n",
       "      <td>RUH</td>\n",
       "      <td>1</td>\n",
       "      <td>1</td>\n",
       "      <td>0</td>\n",
       "      <td>10</td>\n",
       "      <td>02 to 12</td>\n",
       "      <td>2019-01-14</td>\n",
       "    </tr>\n",
       "    <tr>\n",
       "      <td>3</td>\n",
       "      <td>2019-01-14 06:25:00</td>\n",
       "      <td>2019-01-14 12:20:00</td>\n",
       "      <td>SV</td>\n",
       "      <td>0037</td>\n",
       "      <td>O</td>\n",
       "      <td>RUH</td>\n",
       "      <td>IAD</td>\n",
       "      <td>SAU</td>\n",
       "      <td>USA</td>\n",
       "      <td>F</td>\n",
       "      <td>SAU</td>\n",
       "      <td>RUH</td>\n",
       "      <td>1</td>\n",
       "      <td>1</td>\n",
       "      <td>0</td>\n",
       "      <td>68</td>\n",
       "      <td>60 to 70</td>\n",
       "      <td>2019-01-14</td>\n",
       "    </tr>\n",
       "    <tr>\n",
       "      <td>4</td>\n",
       "      <td>2019-01-14 06:25:00</td>\n",
       "      <td>2019-01-14 12:20:00</td>\n",
       "      <td>SV</td>\n",
       "      <td>0037</td>\n",
       "      <td>O</td>\n",
       "      <td>RUH</td>\n",
       "      <td>IAD</td>\n",
       "      <td>SAU</td>\n",
       "      <td>USA</td>\n",
       "      <td>M</td>\n",
       "      <td>SAU</td>\n",
       "      <td>RUH</td>\n",
       "      <td>1</td>\n",
       "      <td>1</td>\n",
       "      <td>0</td>\n",
       "      <td>1</td>\n",
       "      <td>00 to 02</td>\n",
       "      <td>2019-01-14</td>\n",
       "    </tr>\n",
       "    <tr>\n",
       "      <td>...</td>\n",
       "      <td>...</td>\n",
       "      <td>...</td>\n",
       "      <td>...</td>\n",
       "      <td>...</td>\n",
       "      <td>...</td>\n",
       "      <td>...</td>\n",
       "      <td>...</td>\n",
       "      <td>...</td>\n",
       "      <td>...</td>\n",
       "      <td>...</td>\n",
       "      <td>...</td>\n",
       "      <td>...</td>\n",
       "      <td>...</td>\n",
       "      <td>...</td>\n",
       "      <td>...</td>\n",
       "      <td>...</td>\n",
       "      <td>...</td>\n",
       "      <td>...</td>\n",
       "    </tr>\n",
       "    <tr>\n",
       "      <td>47282815</td>\n",
       "      <td>2019-12-30 03:45:00</td>\n",
       "      <td>2019-12-30 07:10:00</td>\n",
       "      <td>ET</td>\n",
       "      <td>0413</td>\n",
       "      <td>O</td>\n",
       "      <td>RUH</td>\n",
       "      <td>ADD</td>\n",
       "      <td>SAU</td>\n",
       "      <td>ETH</td>\n",
       "      <td>F</td>\n",
       "      <td>ERI</td>\n",
       "      <td>RUH</td>\n",
       "      <td>1</td>\n",
       "      <td>0</td>\n",
       "      <td>0</td>\n",
       "      <td>75</td>\n",
       "      <td>70+</td>\n",
       "      <td>2019-12-30</td>\n",
       "    </tr>\n",
       "    <tr>\n",
       "      <td>47282816</td>\n",
       "      <td>2019-12-29 16:25:00</td>\n",
       "      <td>2019-12-29 16:45:00</td>\n",
       "      <td>E5</td>\n",
       "      <td>0590</td>\n",
       "      <td>O</td>\n",
       "      <td>TUU</td>\n",
       "      <td>CAI</td>\n",
       "      <td>SAU</td>\n",
       "      <td>EGY</td>\n",
       "      <td>M</td>\n",
       "      <td>CHN</td>\n",
       "      <td>TUU</td>\n",
       "      <td>1</td>\n",
       "      <td>1</td>\n",
       "      <td>0</td>\n",
       "      <td>36</td>\n",
       "      <td>25 to 40</td>\n",
       "      <td>2019-12-29</td>\n",
       "    </tr>\n",
       "    <tr>\n",
       "      <td>47282817</td>\n",
       "      <td>2019-12-30 02:10:00</td>\n",
       "      <td>2019-12-30 02:40:00</td>\n",
       "      <td>EY</td>\n",
       "      <td>0323</td>\n",
       "      <td>I</td>\n",
       "      <td>AUH</td>\n",
       "      <td>DMM</td>\n",
       "      <td>ARE</td>\n",
       "      <td>SAU</td>\n",
       "      <td>M</td>\n",
       "      <td>IND</td>\n",
       "      <td>DMM</td>\n",
       "      <td>1</td>\n",
       "      <td>1</td>\n",
       "      <td>0</td>\n",
       "      <td>49</td>\n",
       "      <td>40 to 50</td>\n",
       "      <td>2019-12-30</td>\n",
       "    </tr>\n",
       "    <tr>\n",
       "      <td>47282818</td>\n",
       "      <td>2019-12-30 05:30:00</td>\n",
       "      <td>2019-12-30 11:00:00</td>\n",
       "      <td>SV</td>\n",
       "      <td>0041</td>\n",
       "      <td>O</td>\n",
       "      <td>JED</td>\n",
       "      <td>LAX</td>\n",
       "      <td>SAU</td>\n",
       "      <td>USA</td>\n",
       "      <td>M</td>\n",
       "      <td>USA</td>\n",
       "      <td>JED</td>\n",
       "      <td>1</td>\n",
       "      <td>1</td>\n",
       "      <td>0</td>\n",
       "      <td>13</td>\n",
       "      <td>12 to 18</td>\n",
       "      <td>2019-12-30</td>\n",
       "    </tr>\n",
       "    <tr>\n",
       "      <td>47282819</td>\n",
       "      <td>2019-12-29 18:45:00</td>\n",
       "      <td>2019-12-30 00:50:00</td>\n",
       "      <td>TU</td>\n",
       "      <td>0713</td>\n",
       "      <td>I</td>\n",
       "      <td>TUN</td>\n",
       "      <td>MED</td>\n",
       "      <td>TUN</td>\n",
       "      <td>SAU</td>\n",
       "      <td>F</td>\n",
       "      <td>TUN</td>\n",
       "      <td>MED</td>\n",
       "      <td>1</td>\n",
       "      <td>1</td>\n",
       "      <td>0</td>\n",
       "      <td>42</td>\n",
       "      <td>40 to 50</td>\n",
       "      <td>2019-12-29</td>\n",
       "    </tr>\n",
       "  </tbody>\n",
       "</table>\n",
       "<p>47023431 rows × 18 columns</p>\n",
       "</div>"
      ],
      "text/plain": [
       "                     DepDate             ArrDate Carrier Flight Direction  \\\n",
       "0        2019-01-05 07:00:00 2019-01-05 12:50:00      PK   0754         O   \n",
       "1        2019-01-14 06:25:00 2019-01-14 12:20:00      SV   0037         O   \n",
       "2        2019-01-14 06:25:00 2019-01-14 12:20:00      SV   0037         O   \n",
       "3        2019-01-14 06:25:00 2019-01-14 12:20:00      SV   0037         O   \n",
       "4        2019-01-14 06:25:00 2019-01-14 12:20:00      SV   0037         O   \n",
       "...                      ...                 ...     ...    ...       ...   \n",
       "47282815 2019-12-30 03:45:00 2019-12-30 07:10:00      ET   0413         O   \n",
       "47282816 2019-12-29 16:25:00 2019-12-29 16:45:00      E5   0590         O   \n",
       "47282817 2019-12-30 02:10:00 2019-12-30 02:40:00      EY   0323         I   \n",
       "47282818 2019-12-30 05:30:00 2019-12-30 11:00:00      SV   0041         O   \n",
       "47282819 2019-12-29 18:45:00 2019-12-30 00:50:00      TU   0713         I   \n",
       "\n",
       "         DepPort ArrPort DepCountry ArrCountry Gender Nationality CrossingLoc  \\\n",
       "0            RUH     ISB        SAU        PAK      M         PAK         RUH   \n",
       "1            RUH     IAD        SAU        USA      M         SAU         RUH   \n",
       "2            RUH     IAD        SAU        USA      F         SAU         RUH   \n",
       "3            RUH     IAD        SAU        USA      F         SAU         RUH   \n",
       "4            RUH     IAD        SAU        USA      M         SAU         RUH   \n",
       "...          ...     ...        ...        ...    ...         ...         ...   \n",
       "47282815     RUH     ADD        SAU        ETH      F         ERI         RUH   \n",
       "47282816     TUU     CAI        SAU        EGY      M         CHN         TUU   \n",
       "47282817     AUH     DMM        ARE        SAU      M         IND         DMM   \n",
       "47282818     JED     LAX        SAU        USA      M         USA         JED   \n",
       "47282819     TUN     MED        TUN        SAU      F         TUN         MED   \n",
       "\n",
       "          Exp_MVMT_FS  Exp_MVMT_Event  UNK_FS  Age  AgeGroup     DepDay  \n",
       "0                   1               1       0   37  25 to 40 2019-01-05  \n",
       "1                   1               1       0   33  25 to 40 2019-01-14  \n",
       "2                   1               1       0   10  02 to 12 2019-01-14  \n",
       "3                   1               1       0   68  60 to 70 2019-01-14  \n",
       "4                   1               1       0    1  00 to 02 2019-01-14  \n",
       "...               ...             ...     ...  ...       ...        ...  \n",
       "47282815            1               0       0   75       70+ 2019-12-30  \n",
       "47282816            1               1       0   36  25 to 40 2019-12-29  \n",
       "47282817            1               1       0   49  40 to 50 2019-12-30  \n",
       "47282818            1               1       0   13  12 to 18 2019-12-30  \n",
       "47282819            1               1       0   42  40 to 50 2019-12-29  \n",
       "\n",
       "[47023431 rows x 18 columns]"
      ]
     },
     "execution_count": 566,
     "metadata": {},
     "output_type": "execute_result"
    }
   ],
   "source": [
    "pax_2019"
   ]
  },
  {
   "cell_type": "code",
   "execution_count": 19,
   "metadata": {
    "ExecuteTime": {
     "end_time": "2020-06-14T19:25:46.118620Z",
     "start_time": "2020-06-14T19:25:46.006920Z"
    }
   },
   "outputs": [
    {
     "data": {
      "text/html": [
       "<div>\n",
       "<style scoped>\n",
       "    .dataframe tbody tr th:only-of-type {\n",
       "        vertical-align: middle;\n",
       "    }\n",
       "\n",
       "    .dataframe tbody tr th {\n",
       "        vertical-align: top;\n",
       "    }\n",
       "\n",
       "    .dataframe thead th {\n",
       "        text-align: right;\n",
       "    }\n",
       "</style>\n",
       "<table border=\"1\" class=\"dataframe\">\n",
       "  <thead>\n",
       "    <tr style=\"text-align: right;\">\n",
       "      <th></th>\n",
       "      <th>DepDate</th>\n",
       "      <th>Carrier</th>\n",
       "      <th>Flight</th>\n",
       "      <th>Nationality</th>\n",
       "      <th>Gender</th>\n",
       "      <th>BD</th>\n",
       "      <th>Age</th>\n",
       "    </tr>\n",
       "  </thead>\n",
       "  <tbody>\n",
       "    <tr>\n",
       "      <td>9237287</td>\n",
       "      <td>2019-03-01 15:35:00</td>\n",
       "      <td>SV</td>\n",
       "      <td>0564</td>\n",
       "      <td>SAU</td>\n",
       "      <td>F</td>\n",
       "      <td>1899-04-30</td>\n",
       "      <td>121</td>\n",
       "    </tr>\n",
       "    <tr>\n",
       "      <td>9560937</td>\n",
       "      <td>2019-03-06 14:00:00</td>\n",
       "      <td>SV</td>\n",
       "      <td>0565</td>\n",
       "      <td>SAU</td>\n",
       "      <td>F</td>\n",
       "      <td>1899-05-01</td>\n",
       "      <td>121</td>\n",
       "    </tr>\n",
       "    <tr>\n",
       "      <td>13027476</td>\n",
       "      <td>2019-04-28 13:25:00</td>\n",
       "      <td>J9</td>\n",
       "      <td>0222</td>\n",
       "      <td>SAU</td>\n",
       "      <td>F</td>\n",
       "      <td>1899-06-02</td>\n",
       "      <td>121</td>\n",
       "    </tr>\n",
       "    <tr>\n",
       "      <td>16678932</td>\n",
       "      <td>2019-05-30 10:55:00</td>\n",
       "      <td>FZ</td>\n",
       "      <td>5351</td>\n",
       "      <td>ARE</td>\n",
       "      <td>M</td>\n",
       "      <td>1897-01-01</td>\n",
       "      <td>123</td>\n",
       "    </tr>\n",
       "    <tr>\n",
       "      <td>20243493</td>\n",
       "      <td>2019-06-11 00:00:59</td>\n",
       "      <td>XX</td>\n",
       "      <td>0001</td>\n",
       "      <td>PAK</td>\n",
       "      <td>M</td>\n",
       "      <td>1884-12-25</td>\n",
       "      <td>135</td>\n",
       "    </tr>\n",
       "    <tr>\n",
       "      <td>20624565</td>\n",
       "      <td>2019-06-02 23:50:00</td>\n",
       "      <td>FZ</td>\n",
       "      <td>0878</td>\n",
       "      <td>ARE</td>\n",
       "      <td>M</td>\n",
       "      <td>1897-01-01</td>\n",
       "      <td>123</td>\n",
       "    </tr>\n",
       "    <tr>\n",
       "      <td>20817192</td>\n",
       "      <td>2019-06-29 00:00:54</td>\n",
       "      <td>XX</td>\n",
       "      <td>0001</td>\n",
       "      <td>PAK</td>\n",
       "      <td>M</td>\n",
       "      <td>1884-12-25</td>\n",
       "      <td>135</td>\n",
       "    </tr>\n",
       "    <tr>\n",
       "      <td>20819329</td>\n",
       "      <td>2019-06-28 06:00:06</td>\n",
       "      <td>PRV</td>\n",
       "      <td>PAF101</td>\n",
       "      <td>PAK</td>\n",
       "      <td>M</td>\n",
       "      <td>1884-12-25</td>\n",
       "      <td>135</td>\n",
       "    </tr>\n",
       "    <tr>\n",
       "      <td>20966935</td>\n",
       "      <td>2019-06-10 10:00:04</td>\n",
       "      <td>XX</td>\n",
       "      <td>0004</td>\n",
       "      <td>PAK</td>\n",
       "      <td>M</td>\n",
       "      <td>1884-12-25</td>\n",
       "      <td>135</td>\n",
       "    </tr>\n",
       "    <tr>\n",
       "      <td>21102596</td>\n",
       "      <td>2019-06-29 15:55:00</td>\n",
       "      <td>SV</td>\n",
       "      <td>0500</td>\n",
       "      <td>KWT</td>\n",
       "      <td>M</td>\n",
       "      <td>1898-01-26</td>\n",
       "      <td>122</td>\n",
       "    </tr>\n",
       "    <tr>\n",
       "      <td>22201917</td>\n",
       "      <td>2019-06-26 23:45:00</td>\n",
       "      <td>SV</td>\n",
       "      <td>0503</td>\n",
       "      <td>KWT</td>\n",
       "      <td>M</td>\n",
       "      <td>1898-01-26</td>\n",
       "      <td>122</td>\n",
       "    </tr>\n",
       "    <tr>\n",
       "      <td>32939835</td>\n",
       "      <td>2019-08-02 22:50:00</td>\n",
       "      <td>XY</td>\n",
       "      <td>0496</td>\n",
       "      <td>OMN</td>\n",
       "      <td>F</td>\n",
       "      <td>1777-09-12</td>\n",
       "      <td>242</td>\n",
       "    </tr>\n",
       "    <tr>\n",
       "      <td>36545614</td>\n",
       "      <td>2019-10-01 07:50:00</td>\n",
       "      <td>FZ</td>\n",
       "      <td>0847</td>\n",
       "      <td>GBR</td>\n",
       "      <td>F</td>\n",
       "      <td>1885-06-27</td>\n",
       "      <td>134</td>\n",
       "    </tr>\n",
       "    <tr>\n",
       "      <td>40917481</td>\n",
       "      <td>2019-11-13 13:00:46</td>\n",
       "      <td>PRV</td>\n",
       "      <td>MOOSE89</td>\n",
       "      <td>USA</td>\n",
       "      <td>M</td>\n",
       "      <td>1887-09-26</td>\n",
       "      <td>132</td>\n",
       "    </tr>\n",
       "    <tr>\n",
       "      <td>43724031</td>\n",
       "      <td>2019-12-10 10:00:31</td>\n",
       "      <td>PRV</td>\n",
       "      <td>MAJAN57</td>\n",
       "      <td>OMN</td>\n",
       "      <td>M</td>\n",
       "      <td>1885-08-05</td>\n",
       "      <td>134</td>\n",
       "    </tr>\n",
       "    <tr>\n",
       "      <td>44089332</td>\n",
       "      <td>2019-12-10 13:00:11</td>\n",
       "      <td>PRV</td>\n",
       "      <td>MAJAN</td>\n",
       "      <td>OMN</td>\n",
       "      <td>M</td>\n",
       "      <td>1885-08-05</td>\n",
       "      <td>134</td>\n",
       "    </tr>\n",
       "  </tbody>\n",
       "</table>\n",
       "</div>"
      ],
      "text/plain": [
       "                     DepDate Carrier   Flight Nationality Gender         BD  \\\n",
       "9237287  2019-03-01 15:35:00      SV     0564         SAU      F 1899-04-30   \n",
       "9560937  2019-03-06 14:00:00      SV     0565         SAU      F 1899-05-01   \n",
       "13027476 2019-04-28 13:25:00      J9     0222         SAU      F 1899-06-02   \n",
       "16678932 2019-05-30 10:55:00      FZ     5351         ARE      M 1897-01-01   \n",
       "20243493 2019-06-11 00:00:59      XX     0001         PAK      M 1884-12-25   \n",
       "20624565 2019-06-02 23:50:00      FZ     0878         ARE      M 1897-01-01   \n",
       "20817192 2019-06-29 00:00:54      XX     0001         PAK      M 1884-12-25   \n",
       "20819329 2019-06-28 06:00:06     PRV  PAF101          PAK      M 1884-12-25   \n",
       "20966935 2019-06-10 10:00:04      XX     0004         PAK      M 1884-12-25   \n",
       "21102596 2019-06-29 15:55:00      SV     0500         KWT      M 1898-01-26   \n",
       "22201917 2019-06-26 23:45:00      SV     0503         KWT      M 1898-01-26   \n",
       "32939835 2019-08-02 22:50:00      XY     0496         OMN      F 1777-09-12   \n",
       "36545614 2019-10-01 07:50:00      FZ     0847         GBR      F 1885-06-27   \n",
       "40917481 2019-11-13 13:00:46     PRV  MOOSE89         USA      M 1887-09-26   \n",
       "43724031 2019-12-10 10:00:31     PRV  MAJAN57         OMN      M 1885-08-05   \n",
       "44089332 2019-12-10 13:00:11     PRV    MAJAN         OMN      M 1885-08-05   \n",
       "\n",
       "          Age  \n",
       "9237287   121  \n",
       "9560937   121  \n",
       "13027476  121  \n",
       "16678932  123  \n",
       "20243493  135  \n",
       "20624565  123  \n",
       "20817192  135  \n",
       "20819329  135  \n",
       "20966935  135  \n",
       "21102596  122  \n",
       "22201917  122  \n",
       "32939835  242  \n",
       "36545614  134  \n",
       "40917481  132  \n",
       "43724031  134  \n",
       "44089332  134  "
      ]
     },
     "execution_count": 19,
     "metadata": {},
     "output_type": "execute_result"
    }
   ],
   "source": [
    "pax_2019.loc[pax_2019.Age > 120,  ['DepDate','Carrier','Flight','Nationality','Gender','BD','Age']]"
   ]
  },
  {
   "cell_type": "code",
   "execution_count": 250,
   "metadata": {
    "ExecuteTime": {
     "end_time": "2020-06-18T19:51:15.757523Z",
     "start_time": "2020-06-18T19:51:15.750542Z"
    }
   },
   "outputs": [],
   "source": [
    "def age_group(age):\n",
    "    if (0 < age <= 2):\n",
    "        return '00 to 02'\n",
    "    elif (2 < age <= 12): \n",
    "        return '02 to 12'\n",
    "    elif (12 < age <= 18): \n",
    "        return '12 to 18'\n",
    "    elif (18 < age <= 25):\n",
    "        return '18 to 25'\n",
    "    elif (25 < age <= 40):\n",
    "        return '25 to 40'\n",
    "    elif (40 < age <= 50):\n",
    "        return '40 to 50'\n",
    "    elif (50 < age <= 60):\n",
    "        return '50 to 60'\n",
    "    elif (60 < age <= 70):\n",
    "        return '60 to 70'\n",
    "    else :\n",
    "        return '70+'\n",
    "    \n",
    "     \n",
    "        "
   ]
  },
  {
   "cell_type": "code",
   "execution_count": 251,
   "metadata": {
    "ExecuteTime": {
     "end_time": "2020-06-18T19:51:39.359455Z",
     "start_time": "2020-06-18T19:51:19.865581Z"
    }
   },
   "outputs": [
    {
     "name": "stdout",
     "output_type": "stream",
     "text": [
      "Wall time: 19.5 s\n"
     ]
    }
   ],
   "source": [
    "%%time\n",
    "pax_2019['AgeGroup'] = pax_2019['Age'].apply(age_group).astype('category')"
   ]
  },
  {
   "cell_type": "code",
   "execution_count": 261,
   "metadata": {
    "ExecuteTime": {
     "end_time": "2020-06-18T20:20:53.350604Z",
     "start_time": "2020-06-18T20:20:38.036942Z"
    }
   },
   "outputs": [
    {
     "data": {
      "text/html": [
       "<div>\n",
       "<style scoped>\n",
       "    .dataframe tbody tr th:only-of-type {\n",
       "        vertical-align: middle;\n",
       "    }\n",
       "\n",
       "    .dataframe tbody tr th {\n",
       "        vertical-align: top;\n",
       "    }\n",
       "\n",
       "    .dataframe thead th {\n",
       "        text-align: right;\n",
       "    }\n",
       "</style>\n",
       "<table border=\"1\" class=\"dataframe\">\n",
       "  <thead>\n",
       "    <tr style=\"text-align: right;\">\n",
       "      <th></th>\n",
       "      <th>DepDate</th>\n",
       "      <th>ArrDate</th>\n",
       "      <th>Carrier</th>\n",
       "      <th>Flight</th>\n",
       "      <th>Direction</th>\n",
       "      <th>DepPort</th>\n",
       "      <th>ArrPort</th>\n",
       "      <th>DepCountry</th>\n",
       "      <th>ArrCountry</th>\n",
       "      <th>Gender</th>\n",
       "      <th>Nationality</th>\n",
       "      <th>CrossingLoc</th>\n",
       "      <th>Exp_MVMT_FS</th>\n",
       "      <th>Exp_MVMT_Event</th>\n",
       "      <th>UNK_FS</th>\n",
       "      <th>Age</th>\n",
       "      <th>AgeGroup</th>\n",
       "    </tr>\n",
       "  </thead>\n",
       "  <tbody>\n",
       "    <tr>\n",
       "      <td>0</td>\n",
       "      <td>2019-01-05 07:00:00</td>\n",
       "      <td>2019-01-05 12:50:00</td>\n",
       "      <td>PK</td>\n",
       "      <td>0754</td>\n",
       "      <td>O</td>\n",
       "      <td>RUH</td>\n",
       "      <td>ISB</td>\n",
       "      <td>SAU</td>\n",
       "      <td>PAK</td>\n",
       "      <td>M</td>\n",
       "      <td>PAK</td>\n",
       "      <td>RUH</td>\n",
       "      <td>1</td>\n",
       "      <td>1</td>\n",
       "      <td>0</td>\n",
       "      <td>37</td>\n",
       "      <td>25 to 40</td>\n",
       "    </tr>\n",
       "    <tr>\n",
       "      <td>1</td>\n",
       "      <td>2019-01-14 06:25:00</td>\n",
       "      <td>2019-01-14 12:20:00</td>\n",
       "      <td>SV</td>\n",
       "      <td>0037</td>\n",
       "      <td>O</td>\n",
       "      <td>RUH</td>\n",
       "      <td>IAD</td>\n",
       "      <td>SAU</td>\n",
       "      <td>USA</td>\n",
       "      <td>M</td>\n",
       "      <td>SAU</td>\n",
       "      <td>RUH</td>\n",
       "      <td>1</td>\n",
       "      <td>1</td>\n",
       "      <td>0</td>\n",
       "      <td>33</td>\n",
       "      <td>25 to 40</td>\n",
       "    </tr>\n",
       "    <tr>\n",
       "      <td>2</td>\n",
       "      <td>2019-01-14 06:25:00</td>\n",
       "      <td>2019-01-14 12:20:00</td>\n",
       "      <td>SV</td>\n",
       "      <td>0037</td>\n",
       "      <td>O</td>\n",
       "      <td>RUH</td>\n",
       "      <td>IAD</td>\n",
       "      <td>SAU</td>\n",
       "      <td>USA</td>\n",
       "      <td>F</td>\n",
       "      <td>SAU</td>\n",
       "      <td>RUH</td>\n",
       "      <td>1</td>\n",
       "      <td>1</td>\n",
       "      <td>0</td>\n",
       "      <td>10</td>\n",
       "      <td>02 to 12</td>\n",
       "    </tr>\n",
       "    <tr>\n",
       "      <td>3</td>\n",
       "      <td>2019-01-14 06:25:00</td>\n",
       "      <td>2019-01-14 12:20:00</td>\n",
       "      <td>SV</td>\n",
       "      <td>0037</td>\n",
       "      <td>O</td>\n",
       "      <td>RUH</td>\n",
       "      <td>IAD</td>\n",
       "      <td>SAU</td>\n",
       "      <td>USA</td>\n",
       "      <td>F</td>\n",
       "      <td>SAU</td>\n",
       "      <td>RUH</td>\n",
       "      <td>1</td>\n",
       "      <td>1</td>\n",
       "      <td>0</td>\n",
       "      <td>68</td>\n",
       "      <td>60 to 70</td>\n",
       "    </tr>\n",
       "    <tr>\n",
       "      <td>4</td>\n",
       "      <td>2019-01-14 06:25:00</td>\n",
       "      <td>2019-01-14 12:20:00</td>\n",
       "      <td>SV</td>\n",
       "      <td>0037</td>\n",
       "      <td>O</td>\n",
       "      <td>RUH</td>\n",
       "      <td>IAD</td>\n",
       "      <td>SAU</td>\n",
       "      <td>USA</td>\n",
       "      <td>M</td>\n",
       "      <td>SAU</td>\n",
       "      <td>RUH</td>\n",
       "      <td>1</td>\n",
       "      <td>1</td>\n",
       "      <td>0</td>\n",
       "      <td>1</td>\n",
       "      <td>00 to 02</td>\n",
       "    </tr>\n",
       "    <tr>\n",
       "      <td>...</td>\n",
       "      <td>...</td>\n",
       "      <td>...</td>\n",
       "      <td>...</td>\n",
       "      <td>...</td>\n",
       "      <td>...</td>\n",
       "      <td>...</td>\n",
       "      <td>...</td>\n",
       "      <td>...</td>\n",
       "      <td>...</td>\n",
       "      <td>...</td>\n",
       "      <td>...</td>\n",
       "      <td>...</td>\n",
       "      <td>...</td>\n",
       "      <td>...</td>\n",
       "      <td>...</td>\n",
       "      <td>...</td>\n",
       "      <td>...</td>\n",
       "    </tr>\n",
       "    <tr>\n",
       "      <td>47282815</td>\n",
       "      <td>2019-12-30 03:45:00</td>\n",
       "      <td>2019-12-30 07:10:00</td>\n",
       "      <td>ET</td>\n",
       "      <td>0413</td>\n",
       "      <td>O</td>\n",
       "      <td>RUH</td>\n",
       "      <td>ADD</td>\n",
       "      <td>SAU</td>\n",
       "      <td>ETH</td>\n",
       "      <td>F</td>\n",
       "      <td>ERI</td>\n",
       "      <td>RUH</td>\n",
       "      <td>1</td>\n",
       "      <td>0</td>\n",
       "      <td>0</td>\n",
       "      <td>75</td>\n",
       "      <td>70+</td>\n",
       "    </tr>\n",
       "    <tr>\n",
       "      <td>47282816</td>\n",
       "      <td>2019-12-29 16:25:00</td>\n",
       "      <td>2019-12-29 16:45:00</td>\n",
       "      <td>E5</td>\n",
       "      <td>0590</td>\n",
       "      <td>O</td>\n",
       "      <td>TUU</td>\n",
       "      <td>CAI</td>\n",
       "      <td>SAU</td>\n",
       "      <td>EGY</td>\n",
       "      <td>M</td>\n",
       "      <td>CHN</td>\n",
       "      <td>TUU</td>\n",
       "      <td>1</td>\n",
       "      <td>1</td>\n",
       "      <td>0</td>\n",
       "      <td>36</td>\n",
       "      <td>25 to 40</td>\n",
       "    </tr>\n",
       "    <tr>\n",
       "      <td>47282817</td>\n",
       "      <td>2019-12-30 02:10:00</td>\n",
       "      <td>2019-12-30 02:40:00</td>\n",
       "      <td>EY</td>\n",
       "      <td>0323</td>\n",
       "      <td>I</td>\n",
       "      <td>AUH</td>\n",
       "      <td>DMM</td>\n",
       "      <td>ARE</td>\n",
       "      <td>SAU</td>\n",
       "      <td>M</td>\n",
       "      <td>IND</td>\n",
       "      <td>DMM</td>\n",
       "      <td>1</td>\n",
       "      <td>1</td>\n",
       "      <td>0</td>\n",
       "      <td>49</td>\n",
       "      <td>40 to 50</td>\n",
       "    </tr>\n",
       "    <tr>\n",
       "      <td>47282818</td>\n",
       "      <td>2019-12-30 05:30:00</td>\n",
       "      <td>2019-12-30 11:00:00</td>\n",
       "      <td>SV</td>\n",
       "      <td>0041</td>\n",
       "      <td>O</td>\n",
       "      <td>JED</td>\n",
       "      <td>LAX</td>\n",
       "      <td>SAU</td>\n",
       "      <td>USA</td>\n",
       "      <td>M</td>\n",
       "      <td>USA</td>\n",
       "      <td>JED</td>\n",
       "      <td>1</td>\n",
       "      <td>1</td>\n",
       "      <td>0</td>\n",
       "      <td>13</td>\n",
       "      <td>12 to 18</td>\n",
       "    </tr>\n",
       "    <tr>\n",
       "      <td>47282819</td>\n",
       "      <td>2019-12-29 18:45:00</td>\n",
       "      <td>2019-12-30 00:50:00</td>\n",
       "      <td>TU</td>\n",
       "      <td>0713</td>\n",
       "      <td>I</td>\n",
       "      <td>TUN</td>\n",
       "      <td>MED</td>\n",
       "      <td>TUN</td>\n",
       "      <td>SAU</td>\n",
       "      <td>F</td>\n",
       "      <td>TUN</td>\n",
       "      <td>MED</td>\n",
       "      <td>1</td>\n",
       "      <td>1</td>\n",
       "      <td>0</td>\n",
       "      <td>42</td>\n",
       "      <td>40 to 50</td>\n",
       "    </tr>\n",
       "  </tbody>\n",
       "</table>\n",
       "<p>47030656 rows × 17 columns</p>\n",
       "</div>"
      ],
      "text/plain": [
       "                     DepDate             ArrDate Carrier Flight Direction  \\\n",
       "0        2019-01-05 07:00:00 2019-01-05 12:50:00      PK   0754         O   \n",
       "1        2019-01-14 06:25:00 2019-01-14 12:20:00      SV   0037         O   \n",
       "2        2019-01-14 06:25:00 2019-01-14 12:20:00      SV   0037         O   \n",
       "3        2019-01-14 06:25:00 2019-01-14 12:20:00      SV   0037         O   \n",
       "4        2019-01-14 06:25:00 2019-01-14 12:20:00      SV   0037         O   \n",
       "...                      ...                 ...     ...    ...       ...   \n",
       "47282815 2019-12-30 03:45:00 2019-12-30 07:10:00      ET   0413         O   \n",
       "47282816 2019-12-29 16:25:00 2019-12-29 16:45:00      E5   0590         O   \n",
       "47282817 2019-12-30 02:10:00 2019-12-30 02:40:00      EY   0323         I   \n",
       "47282818 2019-12-30 05:30:00 2019-12-30 11:00:00      SV   0041         O   \n",
       "47282819 2019-12-29 18:45:00 2019-12-30 00:50:00      TU   0713         I   \n",
       "\n",
       "         DepPort ArrPort DepCountry ArrCountry Gender Nationality CrossingLoc  \\\n",
       "0            RUH     ISB        SAU        PAK      M         PAK         RUH   \n",
       "1            RUH     IAD        SAU        USA      M         SAU         RUH   \n",
       "2            RUH     IAD        SAU        USA      F         SAU         RUH   \n",
       "3            RUH     IAD        SAU        USA      F         SAU         RUH   \n",
       "4            RUH     IAD        SAU        USA      M         SAU         RUH   \n",
       "...          ...     ...        ...        ...    ...         ...         ...   \n",
       "47282815     RUH     ADD        SAU        ETH      F         ERI         RUH   \n",
       "47282816     TUU     CAI        SAU        EGY      M         CHN         TUU   \n",
       "47282817     AUH     DMM        ARE        SAU      M         IND         DMM   \n",
       "47282818     JED     LAX        SAU        USA      M         USA         JED   \n",
       "47282819     TUN     MED        TUN        SAU      F         TUN         MED   \n",
       "\n",
       "          Exp_MVMT_FS  Exp_MVMT_Event  UNK_FS  Age  AgeGroup  \n",
       "0                   1               1       0   37  25 to 40  \n",
       "1                   1               1       0   33  25 to 40  \n",
       "2                   1               1       0   10  02 to 12  \n",
       "3                   1               1       0   68  60 to 70  \n",
       "4                   1               1       0    1  00 to 02  \n",
       "...               ...             ...     ...  ...       ...  \n",
       "47282815            1               0       0   75       70+  \n",
       "47282816            1               1       0   36  25 to 40  \n",
       "47282817            1               1       0   49  40 to 50  \n",
       "47282818            1               1       0   13  12 to 18  \n",
       "47282819            1               1       0   42  40 to 50  \n",
       "\n",
       "[47030656 rows x 17 columns]"
      ]
     },
     "execution_count": 261,
     "metadata": {},
     "output_type": "execute_result"
    }
   ],
   "source": []
  },
  {
   "cell_type": "code",
   "execution_count": null,
   "metadata": {},
   "outputs": [],
   "source": [
    "pax_2019.to_pickle('../data/pax_2019.pkl',compression='gzip')"
   ]
  },
  {
   "cell_type": "code",
   "execution_count": 238,
   "metadata": {
    "ExecuteTime": {
     "end_time": "2020-06-18T19:47:29.237557Z",
     "start_time": "2020-06-18T19:47:24.557031Z"
    },
    "scrolled": true
   },
   "outputs": [],
   "source": [
    "AgesByGender = pax_2019.groupby(['AgeGroup','Gender'])['Gender'].count()"
   ]
  },
  {
   "cell_type": "code",
   "execution_count": 239,
   "metadata": {
    "ExecuteTime": {
     "end_time": "2020-06-18T19:47:31.388268Z",
     "start_time": "2020-06-18T19:47:31.379280Z"
    }
   },
   "outputs": [],
   "source": [
    "AgesByGender = AgesByGender.to_frame()\n",
    "AgesByGender.index = AgesByGender.index.set_names(['AgeRange','gender'])\n",
    "AgesByGender.reset_index(inplace=True)\n",
    "AgesByGender.rename({'Gender':'Count'},axis=1,inplace=True)"
   ]
  },
  {
   "cell_type": "code",
   "execution_count": 240,
   "metadata": {
    "ExecuteTime": {
     "end_time": "2020-06-18T19:47:34.623465Z",
     "start_time": "2020-06-18T19:47:34.578584Z"
    }
   },
   "outputs": [
    {
     "data": {
      "text/html": [
       "\n",
       "<div id=\"altair-viz-bc2257f725df4742ae1a20a81d11e40d\"></div>\n",
       "<script type=\"text/javascript\">\n",
       "  (function(spec, embedOpt){\n",
       "    let outputDiv = document.currentScript.previousElementSibling;\n",
       "    if (outputDiv.id !== \"altair-viz-bc2257f725df4742ae1a20a81d11e40d\") {\n",
       "      outputDiv = document.getElementById(\"altair-viz-bc2257f725df4742ae1a20a81d11e40d\");\n",
       "    }\n",
       "    const paths = {\n",
       "      \"vega\": \"https://cdn.jsdelivr.net/npm//vega@5?noext\",\n",
       "      \"vega-lib\": \"https://cdn.jsdelivr.net/npm//vega-lib?noext\",\n",
       "      \"vega-lite\": \"https://cdn.jsdelivr.net/npm//vega-lite@4.8.1?noext\",\n",
       "      \"vega-embed\": \"https://cdn.jsdelivr.net/npm//vega-embed@6?noext\",\n",
       "    };\n",
       "\n",
       "    function loadScript(lib) {\n",
       "      return new Promise(function(resolve, reject) {\n",
       "        var s = document.createElement('script');\n",
       "        s.src = paths[lib];\n",
       "        s.async = true;\n",
       "        s.onload = () => resolve(paths[lib]);\n",
       "        s.onerror = () => reject(`Error loading script: ${paths[lib]}`);\n",
       "        document.getElementsByTagName(\"head\")[0].appendChild(s);\n",
       "      });\n",
       "    }\n",
       "\n",
       "    function showError(err) {\n",
       "      outputDiv.innerHTML = `<div class=\"error\" style=\"color:red;\">${err}</div>`;\n",
       "      throw err;\n",
       "    }\n",
       "\n",
       "    function displayChart(vegaEmbed) {\n",
       "      vegaEmbed(outputDiv, spec, embedOpt)\n",
       "        .catch(err => showError(`Javascript Error: ${err.message}<br>This usually means there's a typo in your chart specification. See the javascript console for the full traceback.`));\n",
       "    }\n",
       "\n",
       "    if(typeof define === \"function\" && define.amd) {\n",
       "      requirejs.config({paths});\n",
       "      require([\"vega-embed\"], displayChart, err => showError(`Error loading script: ${err.message}`));\n",
       "    } else if (typeof vegaEmbed === \"function\") {\n",
       "      displayChart(vegaEmbed);\n",
       "    } else {\n",
       "      loadScript(\"vega\")\n",
       "        .then(() => loadScript(\"vega-lite\"))\n",
       "        .then(() => loadScript(\"vega-embed\"))\n",
       "        .catch(showError)\n",
       "        .then(() => displayChart(vegaEmbed));\n",
       "    }\n",
       "  })({\"config\": {\"view\": {\"continuousWidth\": 400, \"continuousHeight\": 300}}, \"data\": {\"name\": \"data-f707164479e130c9f8072d1d5fc9057c\"}, \"mark\": \"bar\", \"encoding\": {\"color\": {\"type\": \"nominal\", \"field\": \"gender\"}, \"tooltip\": [{\"type\": \"nominal\", \"field\": \"gender\"}, {\"type\": \"quantitative\", \"field\": \"Count\"}], \"x\": {\"type\": \"nominal\", \"field\": \"AgeRange\"}, \"y\": {\"type\": \"quantitative\", \"field\": \"Count\"}}, \"height\": 360, \"width\": 750, \"$schema\": \"https://vega.github.io/schema/vega-lite/v4.8.1.json\", \"datasets\": {\"data-f707164479e130c9f8072d1d5fc9057c\": [{\"AgeRange\": \"00-02\", \"gender\": \"F\", \"Count\": 277783}, {\"AgeRange\": \"00-02\", \"gender\": \"M\", \"Count\": 298179}, {\"AgeRange\": \"00-02\", \"gender\": \"U\", \"Count\": 5411}, {\"AgeRange\": \"02-12\", \"gender\": \"F\", \"Count\": 1304524}, {\"AgeRange\": \"02-12\", \"gender\": \"M\", \"Count\": 1410437}, {\"AgeRange\": \"02-12\", \"gender\": \"U\", \"Count\": 11123}, {\"AgeRange\": \"12-18\", \"gender\": \"F\", \"Count\": 663910}, {\"AgeRange\": \"12-18\", \"gender\": \"M\", \"Count\": 735033}, {\"AgeRange\": \"12-18\", \"gender\": \"U\", \"Count\": 1873}, {\"AgeRange\": \"18-25\", \"gender\": \"F\", \"Count\": 1368256}, {\"AgeRange\": \"18-25\", \"gender\": \"M\", \"Count\": 1953047}, {\"AgeRange\": \"18-25\", \"gender\": \"U\", \"Count\": 6052}, {\"AgeRange\": \"25-40\", \"gender\": \"F\", \"Count\": 5335615}, {\"AgeRange\": \"25-40\", \"gender\": \"M\", \"Count\": 11494846}, {\"AgeRange\": \"25-40\", \"gender\": \"U\", \"Count\": 28308}, {\"AgeRange\": \"40-50\", \"gender\": \"F\", \"Count\": 2830858}, {\"AgeRange\": \"40-50\", \"gender\": \"M\", \"Count\": 5953550}, {\"AgeRange\": \"40-50\", \"gender\": \"U\", \"Count\": 12341}, {\"AgeRange\": \"50-60\", \"gender\": \"F\", \"Count\": 3097281}, {\"AgeRange\": \"50-60\", \"gender\": \"M\", \"Count\": 4113065}, {\"AgeRange\": \"50-60\", \"gender\": \"U\", \"Count\": 6324}, {\"AgeRange\": \"60-70\", \"gender\": \"F\", \"Count\": 2121221}, {\"AgeRange\": \"60-70\", \"gender\": \"M\", \"Count\": 2295212}, {\"AgeRange\": \"60-70\", \"gender\": \"U\", \"Count\": 2799}, {\"AgeRange\": \"70+\", \"gender\": \"F\", \"Count\": 844651}, {\"AgeRange\": \"70+\", \"gender\": \"M\", \"Count\": 857370}, {\"AgeRange\": \"70+\", \"gender\": \"U\", \"Count\": 1587}]}}, {\"mode\": \"vega-lite\"});\n",
       "</script>"
      ],
      "text/plain": [
       "alt.Chart(...)"
      ]
     },
     "execution_count": 240,
     "metadata": {},
     "output_type": "execute_result"
    }
   ],
   "source": [
    "alt.Chart(AgesByGender).mark_bar().encode(\n",
    "y = 'Count',\n",
    "x = 'AgeRange',\n",
    "color = 'gender',\n",
    "tooltip=['gender','Count']).properties(\n",
    "            width = 750,height=360)"
   ]
  },
  {
   "cell_type": "code",
   "execution_count": 207,
   "metadata": {
    "ExecuteTime": {
     "end_time": "2020-06-15T21:25:59.542616Z",
     "start_time": "2020-06-15T21:25:59.539597Z"
    }
   },
   "outputs": [],
   "source": [
    "# import plotly.graph_objects as go\n",
    "# fig2 = go.Figure()\n",
    "\n",
    "# fig2.add_trace( go.Bar(x=AgesByGender['AgeRange'],y=AgesByGender['Count'],hoverinfo='all'))\n",
    "# # fig2.add_trace( go.Bar(x=AgesByGender['AgeRange'],y=AgesByGender['Count'],mode=\"markers+lines\", ))\n",
    "\n",
    "# fig2.show()"
   ]
  },
  {
   "cell_type": "code",
   "execution_count": 209,
   "metadata": {
    "ExecuteTime": {
     "end_time": "2020-06-15T21:27:46.941767Z",
     "start_time": "2020-06-15T21:27:46.937779Z"
    }
   },
   "outputs": [],
   "source": [
    "# fig = px.line(AgesByGender, x=\"AgeRange\", y=\"Count\", color=\"gender\", title=\"layout.hovermode='closest' (the default)\")\n",
    "# fig.update_traces(mode=\"markers+lines\")\n",
    "\n",
    "# # \n",
    "# fig.show()"
   ]
  },
  {
   "cell_type": "code",
   "execution_count": 244,
   "metadata": {
    "ExecuteTime": {
     "end_time": "2020-06-18T19:48:40.629404Z",
     "start_time": "2020-06-18T19:48:36.022723Z"
    }
   },
   "outputs": [],
   "source": [
    "AgesByGender2 = pax_2019.groupby(['AgeGroup','Gender'])['Gender'].count()"
   ]
  },
  {
   "cell_type": "code",
   "execution_count": 245,
   "metadata": {
    "ExecuteTime": {
     "end_time": "2020-06-18T19:48:42.078786Z",
     "start_time": "2020-06-18T19:48:42.071805Z"
    },
    "scrolled": true
   },
   "outputs": [],
   "source": [
    "xx = AgesByGender2.unstack()"
   ]
  },
  {
   "cell_type": "code",
   "execution_count": 235,
   "metadata": {
    "ExecuteTime": {
     "end_time": "2020-06-18T19:41:29.294108Z",
     "start_time": "2020-06-18T19:41:29.242281Z"
    },
    "scrolled": true
   },
   "outputs": [
    {
     "data": {
      "text/html": [
       "\n",
       "<div id=\"altair-viz-bd7b30539f77442dbc9efe1b835a9f2c\"></div>\n",
       "<script type=\"text/javascript\">\n",
       "  (function(spec, embedOpt){\n",
       "    let outputDiv = document.currentScript.previousElementSibling;\n",
       "    if (outputDiv.id !== \"altair-viz-bd7b30539f77442dbc9efe1b835a9f2c\") {\n",
       "      outputDiv = document.getElementById(\"altair-viz-bd7b30539f77442dbc9efe1b835a9f2c\");\n",
       "    }\n",
       "    const paths = {\n",
       "      \"vega\": \"https://cdn.jsdelivr.net/npm//vega@5?noext\",\n",
       "      \"vega-lib\": \"https://cdn.jsdelivr.net/npm//vega-lib?noext\",\n",
       "      \"vega-lite\": \"https://cdn.jsdelivr.net/npm//vega-lite@4.8.1?noext\",\n",
       "      \"vega-embed\": \"https://cdn.jsdelivr.net/npm//vega-embed@6?noext\",\n",
       "    };\n",
       "\n",
       "    function loadScript(lib) {\n",
       "      return new Promise(function(resolve, reject) {\n",
       "        var s = document.createElement('script');\n",
       "        s.src = paths[lib];\n",
       "        s.async = true;\n",
       "        s.onload = () => resolve(paths[lib]);\n",
       "        s.onerror = () => reject(`Error loading script: ${paths[lib]}`);\n",
       "        document.getElementsByTagName(\"head\")[0].appendChild(s);\n",
       "      });\n",
       "    }\n",
       "\n",
       "    function showError(err) {\n",
       "      outputDiv.innerHTML = `<div class=\"error\" style=\"color:red;\">${err}</div>`;\n",
       "      throw err;\n",
       "    }\n",
       "\n",
       "    function displayChart(vegaEmbed) {\n",
       "      vegaEmbed(outputDiv, spec, embedOpt)\n",
       "        .catch(err => showError(`Javascript Error: ${err.message}<br>This usually means there's a typo in your chart specification. See the javascript console for the full traceback.`));\n",
       "    }\n",
       "\n",
       "    if(typeof define === \"function\" && define.amd) {\n",
       "      requirejs.config({paths});\n",
       "      require([\"vega-embed\"], displayChart, err => showError(`Error loading script: ${err.message}`));\n",
       "    } else if (typeof vegaEmbed === \"function\") {\n",
       "      displayChart(vegaEmbed);\n",
       "    } else {\n",
       "      loadScript(\"vega\")\n",
       "        .then(() => loadScript(\"vega-lite\"))\n",
       "        .then(() => loadScript(\"vega-embed\"))\n",
       "        .catch(showError)\n",
       "        .then(() => displayChart(vegaEmbed));\n",
       "    }\n",
       "  })({\"config\": {\"view\": {\"continuousWidth\": 400, \"continuousHeight\": 300}}, \"data\": {\"name\": \"data-9dfc899be6a8a0876cfd24f5bfd2d11b\"}, \"mark\": \"circle\", \"encoding\": {\"color\": {\"type\": \"nominal\", \"field\": \"gender\"}, \"size\": {\"type\": \"quantitative\", \"field\": \"Count\", \"legend\": {\"title\": \"Daily new cases\"}, \"scale\": {\"range\": [100, 2000]}}, \"tooltip\": [{\"type\": \"nominal\", \"field\": \"AgeRange\"}, {\"type\": \"nominal\", \"field\": \"gender\"}, {\"type\": \"nominal\", \"field\": \"gender\"}], \"x\": {\"type\": \"ordinal\", \"field\": \"AgeRange\"}, \"y\": {\"type\": \"quantitative\", \"field\": \"Count\"}}, \"height\": 300, \"selection\": {\"selector008\": {\"type\": \"interval\", \"bind\": \"scales\", \"encodings\": [\"x\", \"y\"]}}, \"width\": 800, \"$schema\": \"https://vega.github.io/schema/vega-lite/v4.8.1.json\", \"datasets\": {\"data-9dfc899be6a8a0876cfd24f5bfd2d11b\": [{\"AgeRange\": \"00 to 02\", \"gender\": \"F\", \"Count\": 277783}, {\"AgeRange\": \"00 to 02\", \"gender\": \"M\", \"Count\": 298179}, {\"AgeRange\": \"00 to 02\", \"gender\": \"U\", \"Count\": 5411}, {\"AgeRange\": \"02 to 12\", \"gender\": \"F\", \"Count\": 1304524}, {\"AgeRange\": \"02 to 12\", \"gender\": \"M\", \"Count\": 1410437}, {\"AgeRange\": \"02 to 12\", \"gender\": \"U\", \"Count\": 11123}, {\"AgeRange\": \"12 to 18\", \"gender\": \"F\", \"Count\": 663910}, {\"AgeRange\": \"12 to 18\", \"gender\": \"M\", \"Count\": 735033}, {\"AgeRange\": \"12 to 18\", \"gender\": \"U\", \"Count\": 1873}, {\"AgeRange\": \"18 to 25\", \"gender\": \"F\", \"Count\": 1368256}, {\"AgeRange\": \"18 to 25\", \"gender\": \"M\", \"Count\": 1953047}, {\"AgeRange\": \"18 to 25\", \"gender\": \"U\", \"Count\": 6052}, {\"AgeRange\": \"25 to 40\", \"gender\": \"F\", \"Count\": 5335615}, {\"AgeRange\": \"25 to 40\", \"gender\": \"M\", \"Count\": 11494846}, {\"AgeRange\": \"25 to 40\", \"gender\": \"U\", \"Count\": 28308}, {\"AgeRange\": \"40 to 50\", \"gender\": \"F\", \"Count\": 2830858}, {\"AgeRange\": \"40 to 50\", \"gender\": \"M\", \"Count\": 5953550}, {\"AgeRange\": \"40 to 50\", \"gender\": \"U\", \"Count\": 12341}, {\"AgeRange\": \"50 to 60\", \"gender\": \"F\", \"Count\": 3097281}, {\"AgeRange\": \"50 to 60\", \"gender\": \"M\", \"Count\": 4113065}, {\"AgeRange\": \"50 to 60\", \"gender\": \"U\", \"Count\": 6324}, {\"AgeRange\": \"60 to 70\", \"gender\": \"F\", \"Count\": 2121221}, {\"AgeRange\": \"60 to 70\", \"gender\": \"M\", \"Count\": 2295212}, {\"AgeRange\": \"60 to 70\", \"gender\": \"U\", \"Count\": 2799}, {\"AgeRange\": \"70+\", \"gender\": \"F\", \"Count\": 844651}, {\"AgeRange\": \"70+\", \"gender\": \"M\", \"Count\": 857370}, {\"AgeRange\": \"70+\", \"gender\": \"U\", \"Count\": 1587}]}}, {\"mode\": \"vega-lite\"});\n",
       "</script>"
      ],
      "text/plain": [
       "alt.Chart(...)"
      ]
     },
     "execution_count": 235,
     "metadata": {},
     "output_type": "execute_result"
    }
   ],
   "source": [
    "alt.Chart(AgesByGender).mark_circle().encode(\n",
    "    x='AgeRange:O',\n",
    "    y='Count',\n",
    "    color='gender',\n",
    "    tooltip = ['AgeRange', 'gender','gender'],\n",
    "    size=alt.Size('Count:Q',\n",
    "        scale=alt.Scale(range=[100, 2000]),\n",
    "        legend=alt.Legend(title='Daily new cases')\n",
    "    ) \n",
    ").properties(\n",
    "    width=800,\n",
    "    height=300\n",
    ").interactive()"
   ]
  },
  {
   "cell_type": "code",
   "execution_count": 460,
   "metadata": {
    "ExecuteTime": {
     "end_time": "2020-06-22T14:10:31.539886Z",
     "start_time": "2020-06-22T14:10:26.332869Z"
    },
    "scrolled": true
   },
   "outputs": [
    {
     "data": {
      "text/html": [
       "<div>\n",
       "<style scoped>\n",
       "    .dataframe tbody tr th:only-of-type {\n",
       "        vertical-align: middle;\n",
       "    }\n",
       "\n",
       "    .dataframe tbody tr th {\n",
       "        vertical-align: top;\n",
       "    }\n",
       "\n",
       "    .dataframe thead th {\n",
       "        text-align: right;\n",
       "    }\n",
       "</style>\n",
       "<table border=\"1\" class=\"dataframe\">\n",
       "  <thead>\n",
       "    <tr style=\"text-align: right;\">\n",
       "      <th></th>\n",
       "      <th>Nationality</th>\n",
       "      <th>Direction</th>\n",
       "      <th>Total</th>\n",
       "    </tr>\n",
       "  </thead>\n",
       "  <tbody>\n",
       "    <tr>\n",
       "      <td>0</td>\n",
       "      <td>009</td>\n",
       "      <td>I</td>\n",
       "      <td>NaN</td>\n",
       "    </tr>\n",
       "    <tr>\n",
       "      <td>1</td>\n",
       "      <td>009</td>\n",
       "      <td>O</td>\n",
       "      <td>1.0</td>\n",
       "    </tr>\n",
       "    <tr>\n",
       "      <td>2</td>\n",
       "      <td>012</td>\n",
       "      <td>I</td>\n",
       "      <td>1.0</td>\n",
       "    </tr>\n",
       "    <tr>\n",
       "      <td>3</td>\n",
       "      <td>012</td>\n",
       "      <td>O</td>\n",
       "      <td>1.0</td>\n",
       "    </tr>\n",
       "    <tr>\n",
       "      <td>4</td>\n",
       "      <td>016</td>\n",
       "      <td>I</td>\n",
       "      <td>1.0</td>\n",
       "    </tr>\n",
       "    <tr>\n",
       "      <td>...</td>\n",
       "      <td>...</td>\n",
       "      <td>...</td>\n",
       "      <td>...</td>\n",
       "    </tr>\n",
       "    <tr>\n",
       "      <td>499</td>\n",
       "      <td>ZAF</td>\n",
       "      <td>O</td>\n",
       "      <td>57538.0</td>\n",
       "    </tr>\n",
       "    <tr>\n",
       "      <td>500</td>\n",
       "      <td>ZMB</td>\n",
       "      <td>I</td>\n",
       "      <td>1063.0</td>\n",
       "    </tr>\n",
       "    <tr>\n",
       "      <td>501</td>\n",
       "      <td>ZMB</td>\n",
       "      <td>O</td>\n",
       "      <td>1035.0</td>\n",
       "    </tr>\n",
       "    <tr>\n",
       "      <td>502</td>\n",
       "      <td>ZWE</td>\n",
       "      <td>I</td>\n",
       "      <td>1181.0</td>\n",
       "    </tr>\n",
       "    <tr>\n",
       "      <td>503</td>\n",
       "      <td>ZWE</td>\n",
       "      <td>O</td>\n",
       "      <td>1166.0</td>\n",
       "    </tr>\n",
       "  </tbody>\n",
       "</table>\n",
       "<p>504 rows × 3 columns</p>\n",
       "</div>"
      ],
      "text/plain": [
       "    Nationality Direction    Total\n",
       "0           009         I      NaN\n",
       "1           009         O      1.0\n",
       "2           012         I      1.0\n",
       "3           012         O      1.0\n",
       "4           016         I      1.0\n",
       "..          ...       ...      ...\n",
       "499         ZAF         O  57538.0\n",
       "500         ZMB         I   1063.0\n",
       "501         ZMB         O   1035.0\n",
       "502         ZWE         I   1181.0\n",
       "503         ZWE         O   1166.0\n",
       "\n",
       "[504 rows x 3 columns]"
      ]
     },
     "execution_count": 460,
     "metadata": {},
     "output_type": "execute_result"
    }
   ],
   "source": [
    "trv_per_day = pax_2019.groupby(['DepDay','Direction','Nationality'])['Gender'].count()\n",
    "trv_per_day = trv_per_day.reset_index()\n",
    "\n",
    "trav_by_nat_Direction  = trv_per_day.groupby(['Nationality','Direction']).sum().reset_index().rename({'Gender':'Total'},axis=1) "
   ]
  },
  {
   "cell_type": "code",
   "execution_count": 472,
   "metadata": {
    "ExecuteTime": {
     "end_time": "2020-06-22T14:26:32.660477Z",
     "start_time": "2020-06-22T14:26:32.654493Z"
    }
   },
   "outputs": [],
   "source": [
    "trav_by_nat_Direction['Total'].fillna(value=0,inplace=True)"
   ]
  },
  {
   "cell_type": "code",
   "execution_count": 474,
   "metadata": {
    "ExecuteTime": {
     "end_time": "2020-06-22T14:27:18.432970Z",
     "start_time": "2020-06-22T14:27:18.427977Z"
    }
   },
   "outputs": [],
   "source": [
    "trav_by_nat_Direction['Total'] = trav_by_nat_Direction['Total'].astype('int32')"
   ]
  },
  {
   "cell_type": "code",
   "execution_count": 477,
   "metadata": {
    "ExecuteTime": {
     "end_time": "2020-06-22T14:29:40.674724Z",
     "start_time": "2020-06-22T14:29:40.662792Z"
    }
   },
   "outputs": [],
   "source": [
    "# Top 10  Nationalities by Direction\n",
    "\n",
    "Top_10_I_Nats = trav_by_nat_Direction[trav_by_nat_Direction['Direction'] == 'I'].sort_values('Total',ascending=False).head(10)\n",
    "\n",
    "Top_10_O_Nats = trav_by_nat_Direction[trav_by_nat_Direction['Direction'] == 'O'].sort_values('Total',ascending=False).head(10)"
   ]
  },
  {
   "cell_type": "code",
   "execution_count": 478,
   "metadata": {
    "ExecuteTime": {
     "end_time": "2020-06-22T14:29:53.298842Z",
     "start_time": "2020-06-22T14:29:53.288869Z"
    },
    "scrolled": true
   },
   "outputs": [
    {
     "data": {
      "text/html": [
       "<div>\n",
       "<style scoped>\n",
       "    .dataframe tbody tr th:only-of-type {\n",
       "        vertical-align: middle;\n",
       "    }\n",
       "\n",
       "    .dataframe tbody tr th {\n",
       "        vertical-align: top;\n",
       "    }\n",
       "\n",
       "    .dataframe thead th {\n",
       "        text-align: right;\n",
       "    }\n",
       "</style>\n",
       "<table border=\"1\" class=\"dataframe\">\n",
       "  <thead>\n",
       "    <tr style=\"text-align: right;\">\n",
       "      <th></th>\n",
       "      <th>Nationality</th>\n",
       "      <th>Direction</th>\n",
       "      <th>Total</th>\n",
       "    </tr>\n",
       "  </thead>\n",
       "  <tbody>\n",
       "    <tr>\n",
       "      <td>383</td>\n",
       "      <td>SAU</td>\n",
       "      <td>O</td>\n",
       "      <td>4296244</td>\n",
       "    </tr>\n",
       "    <tr>\n",
       "      <td>217</td>\n",
       "      <td>IND</td>\n",
       "      <td>O</td>\n",
       "      <td>3025770</td>\n",
       "    </tr>\n",
       "    <tr>\n",
       "      <td>345</td>\n",
       "      <td>PAK</td>\n",
       "      <td>O</td>\n",
       "      <td>3015564</td>\n",
       "    </tr>\n",
       "    <tr>\n",
       "      <td>149</td>\n",
       "      <td>EGY</td>\n",
       "      <td>O</td>\n",
       "      <td>2484322</td>\n",
       "    </tr>\n",
       "    <tr>\n",
       "      <td>215</td>\n",
       "      <td>IDN</td>\n",
       "      <td>O</td>\n",
       "      <td>1483875</td>\n",
       "    </tr>\n",
       "    <tr>\n",
       "      <td>75</td>\n",
       "      <td>BGD</td>\n",
       "      <td>O</td>\n",
       "      <td>908988</td>\n",
       "    </tr>\n",
       "    <tr>\n",
       "      <td>353</td>\n",
       "      <td>PHL</td>\n",
       "      <td>O</td>\n",
       "      <td>685366</td>\n",
       "    </tr>\n",
       "    <tr>\n",
       "      <td>387</td>\n",
       "      <td>SDN</td>\n",
       "      <td>O</td>\n",
       "      <td>564206</td>\n",
       "    </tr>\n",
       "    <tr>\n",
       "      <td>447</td>\n",
       "      <td>TUR</td>\n",
       "      <td>O</td>\n",
       "      <td>554745</td>\n",
       "    </tr>\n",
       "    <tr>\n",
       "      <td>145</td>\n",
       "      <td>DZA</td>\n",
       "      <td>O</td>\n",
       "      <td>436080</td>\n",
       "    </tr>\n",
       "  </tbody>\n",
       "</table>\n",
       "</div>"
      ],
      "text/plain": [
       "    Nationality Direction    Total\n",
       "383         SAU         O  4296244\n",
       "217         IND         O  3025770\n",
       "345         PAK         O  3015564\n",
       "149         EGY         O  2484322\n",
       "215         IDN         O  1483875\n",
       "75          BGD         O   908988\n",
       "353         PHL         O   685366\n",
       "387         SDN         O   564206\n",
       "447         TUR         O   554745\n",
       "145         DZA         O   436080"
      ]
     },
     "execution_count": 478,
     "metadata": {},
     "output_type": "execute_result"
    }
   ],
   "source": [
    "Top_10_O_Nats"
   ]
  },
  {
   "cell_type": "code",
   "execution_count": 483,
   "metadata": {
    "ExecuteTime": {
     "end_time": "2020-06-22T14:33:03.949930Z",
     "start_time": "2020-06-22T14:33:03.774366Z"
    }
   },
   "outputs": [
    {
     "data": {
      "text/plain": [
       "<matplotlib.axes._subplots.AxesSubplot at 0x24aaa104808>"
      ]
     },
     "execution_count": 483,
     "metadata": {},
     "output_type": "execute_result"
    },
    {
     "data": {
      "image/png": "[encoded data removed]",
      "text/plain": [
       "<Figure size 432x288 with 1 Axes>"
      ]
     },
     "metadata": {
      "needs_background": "light"
     },
     "output_type": "display_data"
    }
   ],
   "source": [
    "Top_10_O_Nats.plot(x='Nationality',y='Total',kind='bar', title='Top outbound Nationalities in 2019')"
   ]
  },
  {
   "cell_type": "code",
   "execution_count": 482,
   "metadata": {
    "ExecuteTime": {
     "end_time": "2020-06-22T14:32:54.947265Z",
     "start_time": "2020-06-22T14:32:54.765732Z"
    },
    "scrolled": true
   },
   "outputs": [
    {
     "data": {
      "text/plain": [
       "<matplotlib.axes._subplots.AxesSubplot at 0x24aaa08ec88>"
      ]
     },
     "execution_count": 482,
     "metadata": {},
     "output_type": "execute_result"
    },
    {
     "data": {
      "image/png": "[encoded data removed]",
      "text/plain": [
       "<Figure size 432x288 with 1 Axes>"
      ]
     },
     "metadata": {
      "needs_background": "light"
     },
     "output_type": "display_data"
    }
   ],
   "source": [
    "Top_10_I_Nats.plot(x='Nationality',y='Total',kind='bar', title='Top Inbound Nationalities in 2019')"
   ]
  },
  {
   "cell_type": "code",
   "execution_count": 485,
   "metadata": {
    "ExecuteTime": {
     "end_time": "2020-06-22T14:34:19.908916Z",
     "start_time": "2020-06-22T14:34:19.893954Z"
    },
    "scrolled": true
   },
   "outputs": [
    {
     "data": {
      "text/html": [
       "<div>\n",
       "<style scoped>\n",
       "    .dataframe tbody tr th:only-of-type {\n",
       "        vertical-align: middle;\n",
       "    }\n",
       "\n",
       "    .dataframe tbody tr th {\n",
       "        vertical-align: top;\n",
       "    }\n",
       "\n",
       "    .dataframe thead th {\n",
       "        text-align: right;\n",
       "    }\n",
       "</style>\n",
       "<table border=\"1\" class=\"dataframe\">\n",
       "  <thead>\n",
       "    <tr style=\"text-align: right;\">\n",
       "      <th></th>\n",
       "      <th>Nationality</th>\n",
       "      <th>Direction</th>\n",
       "      <th>Total</th>\n",
       "    </tr>\n",
       "  </thead>\n",
       "  <tbody>\n",
       "    <tr>\n",
       "      <td>382</td>\n",
       "      <td>SAU</td>\n",
       "      <td>I</td>\n",
       "      <td>4378575</td>\n",
       "    </tr>\n",
       "    <tr>\n",
       "      <td>383</td>\n",
       "      <td>SAU</td>\n",
       "      <td>O</td>\n",
       "      <td>4296244</td>\n",
       "    </tr>\n",
       "    <tr>\n",
       "      <td>344</td>\n",
       "      <td>PAK</td>\n",
       "      <td>I</td>\n",
       "      <td>3181434</td>\n",
       "    </tr>\n",
       "    <tr>\n",
       "      <td>217</td>\n",
       "      <td>IND</td>\n",
       "      <td>O</td>\n",
       "      <td>3025770</td>\n",
       "    </tr>\n",
       "    <tr>\n",
       "      <td>216</td>\n",
       "      <td>IND</td>\n",
       "      <td>I</td>\n",
       "      <td>3025374</td>\n",
       "    </tr>\n",
       "    <tr>\n",
       "      <td>345</td>\n",
       "      <td>PAK</td>\n",
       "      <td>O</td>\n",
       "      <td>3015564</td>\n",
       "    </tr>\n",
       "    <tr>\n",
       "      <td>148</td>\n",
       "      <td>EGY</td>\n",
       "      <td>I</td>\n",
       "      <td>2570563</td>\n",
       "    </tr>\n",
       "    <tr>\n",
       "      <td>149</td>\n",
       "      <td>EGY</td>\n",
       "      <td>O</td>\n",
       "      <td>2484322</td>\n",
       "    </tr>\n",
       "    <tr>\n",
       "      <td>214</td>\n",
       "      <td>IDN</td>\n",
       "      <td>I</td>\n",
       "      <td>1508156</td>\n",
       "    </tr>\n",
       "    <tr>\n",
       "      <td>215</td>\n",
       "      <td>IDN</td>\n",
       "      <td>O</td>\n",
       "      <td>1483875</td>\n",
       "    </tr>\n",
       "    <tr>\n",
       "      <td>74</td>\n",
       "      <td>BGD</td>\n",
       "      <td>I</td>\n",
       "      <td>1141788</td>\n",
       "    </tr>\n",
       "    <tr>\n",
       "      <td>75</td>\n",
       "      <td>BGD</td>\n",
       "      <td>O</td>\n",
       "      <td>908988</td>\n",
       "    </tr>\n",
       "    <tr>\n",
       "      <td>352</td>\n",
       "      <td>PHL</td>\n",
       "      <td>I</td>\n",
       "      <td>693205</td>\n",
       "    </tr>\n",
       "    <tr>\n",
       "      <td>353</td>\n",
       "      <td>PHL</td>\n",
       "      <td>O</td>\n",
       "      <td>685366</td>\n",
       "    </tr>\n",
       "    <tr>\n",
       "      <td>387</td>\n",
       "      <td>SDN</td>\n",
       "      <td>O</td>\n",
       "      <td>564206</td>\n",
       "    </tr>\n",
       "    <tr>\n",
       "      <td>446</td>\n",
       "      <td>TUR</td>\n",
       "      <td>I</td>\n",
       "      <td>556719</td>\n",
       "    </tr>\n",
       "    <tr>\n",
       "      <td>447</td>\n",
       "      <td>TUR</td>\n",
       "      <td>O</td>\n",
       "      <td>554745</td>\n",
       "    </tr>\n",
       "    <tr>\n",
       "      <td>386</td>\n",
       "      <td>SDN</td>\n",
       "      <td>I</td>\n",
       "      <td>550398</td>\n",
       "    </tr>\n",
       "    <tr>\n",
       "      <td>144</td>\n",
       "      <td>DZA</td>\n",
       "      <td>I</td>\n",
       "      <td>436928</td>\n",
       "    </tr>\n",
       "    <tr>\n",
       "      <td>145</td>\n",
       "      <td>DZA</td>\n",
       "      <td>O</td>\n",
       "      <td>436080</td>\n",
       "    </tr>\n",
       "  </tbody>\n",
       "</table>\n",
       "</div>"
      ],
      "text/plain": [
       "    Nationality Direction    Total\n",
       "382         SAU         I  4378575\n",
       "383         SAU         O  4296244\n",
       "344         PAK         I  3181434\n",
       "217         IND         O  3025770\n",
       "216         IND         I  3025374\n",
       "345         PAK         O  3015564\n",
       "148         EGY         I  2570563\n",
       "149         EGY         O  2484322\n",
       "214         IDN         I  1508156\n",
       "215         IDN         O  1483875\n",
       "74          BGD         I  1141788\n",
       "75          BGD         O   908988\n",
       "352         PHL         I   693205\n",
       "353         PHL         O   685366\n",
       "387         SDN         O   564206\n",
       "446         TUR         I   556719\n",
       "447         TUR         O   554745\n",
       "386         SDN         I   550398\n",
       "144         DZA         I   436928\n",
       "145         DZA         O   436080"
      ]
     },
     "execution_count": 485,
     "metadata": {},
     "output_type": "execute_result"
    }
   ],
   "source": [
    "Top_10_Nats = trav_by_nat_Direction.sort_values('Total',ascending=False).head(20)\n",
    "\n",
    "Top_10_Nats"
   ]
  },
  {
   "cell_type": "code",
   "execution_count": 561,
   "metadata": {
    "ExecuteTime": {
     "end_time": "2020-06-22T15:24:14.886738Z",
     "start_time": "2020-06-22T15:24:14.843817Z"
    },
    "scrolled": false
   },
   "outputs": [
    {
     "data": {
      "text/html": [
       "\n",
       "<div id=\"altair-viz-649cb86e74e54dbeba1bbb73007985da\"></div>\n",
       "<script type=\"text/javascript\">\n",
       "  (function(spec, embedOpt){\n",
       "    let outputDiv = document.currentScript.previousElementSibling;\n",
       "    if (outputDiv.id !== \"altair-viz-649cb86e74e54dbeba1bbb73007985da\") {\n",
       "      outputDiv = document.getElementById(\"altair-viz-649cb86e74e54dbeba1bbb73007985da\");\n",
       "    }\n",
       "    const paths = {\n",
       "      \"vega\": \"https://cdn.jsdelivr.net/npm//vega@5?noext\",\n",
       "      \"vega-lib\": \"https://cdn.jsdelivr.net/npm//vega-lib?noext\",\n",
       "      \"vega-lite\": \"https://cdn.jsdelivr.net/npm//vega-lite@4.8.1?noext\",\n",
       "      \"vega-embed\": \"https://cdn.jsdelivr.net/npm//vega-embed@6?noext\",\n",
       "    };\n",
       "\n",
       "    function loadScript(lib) {\n",
       "      return new Promise(function(resolve, reject) {\n",
       "        var s = document.createElement('script');\n",
       "        s.src = paths[lib];\n",
       "        s.async = true;\n",
       "        s.onload = () => resolve(paths[lib]);\n",
       "        s.onerror = () => reject(`Error loading script: ${paths[lib]}`);\n",
       "        document.getElementsByTagName(\"head\")[0].appendChild(s);\n",
       "      });\n",
       "    }\n",
       "\n",
       "    function showError(err) {\n",
       "      outputDiv.innerHTML = `<div class=\"error\" style=\"color:red;\">${err}</div>`;\n",
       "      throw err;\n",
       "    }\n",
       "\n",
       "    function displayChart(vegaEmbed) {\n",
       "      vegaEmbed(outputDiv, spec, embedOpt)\n",
       "        .catch(err => showError(`Javascript Error: ${err.message}<br>This usually means there's a typo in your chart specification. See the javascript console for the full traceback.`));\n",
       "    }\n",
       "\n",
       "    if(typeof define === \"function\" && define.amd) {\n",
       "      requirejs.config({paths});\n",
       "      require([\"vega-embed\"], displayChart, err => showError(`Error loading script: ${err.message}`));\n",
       "    } else if (typeof vegaEmbed === \"function\") {\n",
       "      displayChart(vegaEmbed);\n",
       "    } else {\n",
       "      loadScript(\"vega\")\n",
       "        .then(() => loadScript(\"vega-lite\"))\n",
       "        .then(() => loadScript(\"vega-embed\"))\n",
       "        .catch(showError)\n",
       "        .then(() => displayChart(vegaEmbed));\n",
       "    }\n",
       "  })({\"config\": {\"view\": {\"continuousWidth\": 400, \"continuousHeight\": 300, \"stroke\": \"transparent\"}, \"facet\": {\"spacing\": 5}, \"header\": {\"labelOrient\": \"bottom\", \"labelPadding\": 3}}, \"data\": {\"name\": \"data-4f2fb0e32f5a99a505c3fc3f867a3b11\"}, \"mark\": \"bar\", \"encoding\": {\"color\": {\"type\": \"nominal\", \"field\": \"Direction\"}, \"column\": {\"type\": \"nominal\", \"field\": \"Nationality\", \"header\": {\"labelOrient\": \"bottom\", \"title\": null}}, \"tooltip\": [{\"type\": \"nominal\", \"field\": \"Nationality\"}, {\"type\": \"nominal\", \"field\": \"Direction\"}, {\"type\": \"quantitative\", \"field\": \"Total\"}], \"x\": {\"type\": \"ordinal\", \"axis\": {\"labels\": false, \"ticks\": false, \"title\": null}, \"field\": \"Direction\"}, \"y\": {\"type\": \"quantitative\", \"axis\": {\"grid\": false}, \"field\": \"Total\"}}, \"height\": 250, \"width\": 60, \"$schema\": \"https://vega.github.io/schema/vega-lite/v4.8.1.json\", \"datasets\": {\"data-4f2fb0e32f5a99a505c3fc3f867a3b11\": [{\"Nationality\": \"SAU\", \"Direction\": \"I\", \"Total\": 4378575}, {\"Nationality\": \"SAU\", \"Direction\": \"O\", \"Total\": 4296244}, {\"Nationality\": \"PAK\", \"Direction\": \"I\", \"Total\": 3181434}, {\"Nationality\": \"IND\", \"Direction\": \"O\", \"Total\": 3025770}, {\"Nationality\": \"IND\", \"Direction\": \"I\", \"Total\": 3025374}, {\"Nationality\": \"PAK\", \"Direction\": \"O\", \"Total\": 3015564}, {\"Nationality\": \"EGY\", \"Direction\": \"I\", \"Total\": 2570563}, {\"Nationality\": \"EGY\", \"Direction\": \"O\", \"Total\": 2484322}, {\"Nationality\": \"IDN\", \"Direction\": \"I\", \"Total\": 1508156}, {\"Nationality\": \"IDN\", \"Direction\": \"O\", \"Total\": 1483875}, {\"Nationality\": \"BGD\", \"Direction\": \"I\", \"Total\": 1141788}, {\"Nationality\": \"BGD\", \"Direction\": \"O\", \"Total\": 908988}, {\"Nationality\": \"PHL\", \"Direction\": \"I\", \"Total\": 693205}, {\"Nationality\": \"PHL\", \"Direction\": \"O\", \"Total\": 685366}, {\"Nationality\": \"SDN\", \"Direction\": \"O\", \"Total\": 564206}, {\"Nationality\": \"TUR\", \"Direction\": \"I\", \"Total\": 556719}, {\"Nationality\": \"TUR\", \"Direction\": \"O\", \"Total\": 554745}, {\"Nationality\": \"SDN\", \"Direction\": \"I\", \"Total\": 550398}, {\"Nationality\": \"DZA\", \"Direction\": \"I\", \"Total\": 436928}, {\"Nationality\": \"DZA\", \"Direction\": \"O\", \"Total\": 436080}]}}, {\"mode\": \"vega-lite\"});\n",
       "</script>"
      ],
      "text/plain": [
       "alt.Chart(...)"
      ]
     },
     "execution_count": 561,
     "metadata": {},
     "output_type": "execute_result"
    }
   ],
   "source": [
    "alt.Chart(Top_10_Nats).mark_bar().encode(\n",
    "    x=alt.X('Direction:O',axis=alt.Axis(title=None, labels=False, ticks=False)) ,\n",
    "    y=alt.Y('Total:Q',axis = alt.Axis(grid=False)) ,\n",
    "    color='Direction:N',\n",
    "     column=alt.Column('Nationality:N', header=alt.Header(title=None, labelOrient='bottom')),\n",
    "    tooltip=['Nationality','Direction','Total']).configure_view(\n",
    "    stroke='transparent', \n",
    ").properties(height=250, width=60).configure_header(labelOrient='bottom',\n",
    "                   labelPadding = 3).configure_facet(spacing=5\n",
    ")"
   ]
  },
  {
   "cell_type": "code",
   "execution_count": 570,
   "metadata": {
    "ExecuteTime": {
     "end_time": "2020-06-22T18:00:35.515019Z",
     "start_time": "2020-06-22T18:00:35.475116Z"
    },
    "scrolled": true
   },
   "outputs": [
    {
     "data": {
      "text/html": [
       "\n",
       "<div id=\"altair-viz-b8f253fe3761495aa5e2b7279b42d13d\"></div>\n",
       "<script type=\"text/javascript\">\n",
       "  (function(spec, embedOpt){\n",
       "    let outputDiv = document.currentScript.previousElementSibling;\n",
       "    if (outputDiv.id !== \"altair-viz-b8f253fe3761495aa5e2b7279b42d13d\") {\n",
       "      outputDiv = document.getElementById(\"altair-viz-b8f253fe3761495aa5e2b7279b42d13d\");\n",
       "    }\n",
       "    const paths = {\n",
       "      \"vega\": \"https://cdn.jsdelivr.net/npm//vega@5?noext\",\n",
       "      \"vega-lib\": \"https://cdn.jsdelivr.net/npm//vega-lib?noext\",\n",
       "      \"vega-lite\": \"https://cdn.jsdelivr.net/npm//vega-lite@4.8.1?noext\",\n",
       "      \"vega-embed\": \"https://cdn.jsdelivr.net/npm//vega-embed@6?noext\",\n",
       "    };\n",
       "\n",
       "    function loadScript(lib) {\n",
       "      return new Promise(function(resolve, reject) {\n",
       "        var s = document.createElement('script');\n",
       "        s.src = paths[lib];\n",
       "        s.async = true;\n",
       "        s.onload = () => resolve(paths[lib]);\n",
       "        s.onerror = () => reject(`Error loading script: ${paths[lib]}`);\n",
       "        document.getElementsByTagName(\"head\")[0].appendChild(s);\n",
       "      });\n",
       "    }\n",
       "\n",
       "    function showError(err) {\n",
       "      outputDiv.innerHTML = `<div class=\"error\" style=\"color:red;\">${err}</div>`;\n",
       "      throw err;\n",
       "    }\n",
       "\n",
       "    function displayChart(vegaEmbed) {\n",
       "      vegaEmbed(outputDiv, spec, embedOpt)\n",
       "        .catch(err => showError(`Javascript Error: ${err.message}<br>This usually means there's a typo in your chart specification. See the javascript console for the full traceback.`));\n",
       "    }\n",
       "\n",
       "    if(typeof define === \"function\" && define.amd) {\n",
       "      requirejs.config({paths});\n",
       "      require([\"vega-embed\"], displayChart, err => showError(`Error loading script: ${err.message}`));\n",
       "    } else if (typeof vegaEmbed === \"function\") {\n",
       "      displayChart(vegaEmbed);\n",
       "    } else {\n",
       "      loadScript(\"vega\")\n",
       "        .then(() => loadScript(\"vega-lite\"))\n",
       "        .then(() => loadScript(\"vega-embed\"))\n",
       "        .catch(showError)\n",
       "        .then(() => displayChart(vegaEmbed));\n",
       "    }\n",
       "  })({\"config\": {\"view\": {\"continuousWidth\": 400, \"continuousHeight\": 300, \"stroke\": \"transparent\"}, \"facet\": {\"spacing\": 5}, \"header\": {\"labelOrient\": \"bottom\", \"labelPadding\": 3}}, \"data\": {\"name\": \"data-07c7b8221ba4a50a02130838240168d7\"}, \"mark\": \"bar\", \"encoding\": {\"column\": {\"type\": \"nominal\", \"field\": \"Nationality\", \"header\": {\"labelOrient\": \"bottom\", \"title\": null}}, \"order\": {\"type\": \"nominal\", \"field\": \"Nationality\", \"sort\": \"ascending\"}, \"tooltip\": [{\"type\": \"nominal\", \"field\": \"Nationality\"}, {\"type\": \"nominal\", \"field\": \"Direction\"}, {\"type\": \"quantitative\", \"field\": \"Total\"}], \"x\": {\"type\": \"ordinal\", \"axis\": {\"labels\": false, \"ticks\": false, \"title\": null}, \"field\": \"Direction\"}, \"y\": {\"type\": \"quantitative\", \"axis\": {\"grid\": false}, \"field\": \"Total\"}}, \"height\": 250, \"width\": 60, \"$schema\": \"https://vega.github.io/schema/vega-lite/v4.8.1.json\", \"datasets\": {\"data-07c7b8221ba4a50a02130838240168d7\": [{\"Nationality\": \"SAU\", \"Direction\": \"I\", \"Total\": 4378575}, {\"Nationality\": \"PAK\", \"Direction\": \"I\", \"Total\": 3181434}, {\"Nationality\": \"IND\", \"Direction\": \"I\", \"Total\": 3025374}, {\"Nationality\": \"EGY\", \"Direction\": \"I\", \"Total\": 2570563}, {\"Nationality\": \"IDN\", \"Direction\": \"I\", \"Total\": 1508156}, {\"Nationality\": \"BGD\", \"Direction\": \"I\", \"Total\": 1141788}, {\"Nationality\": \"PHL\", \"Direction\": \"I\", \"Total\": 693205}, {\"Nationality\": \"TUR\", \"Direction\": \"I\", \"Total\": 556719}, {\"Nationality\": \"SDN\", \"Direction\": \"I\", \"Total\": 550398}, {\"Nationality\": \"DZA\", \"Direction\": \"I\", \"Total\": 436928}]}}, {\"mode\": \"vega-lite\"});\n",
       "</script>"
      ],
      "text/plain": [
       "alt.Chart(...)"
      ]
     },
     "execution_count": 570,
     "metadata": {},
     "output_type": "execute_result"
    }
   ],
   "source": [
    "alt.Chart(Top_10_I_Nats).mark_bar().encode(\n",
    "    x=alt.X('Direction:O',axis=alt.Axis(title=None, labels=False, ticks=False)) ,\n",
    "    y=alt.Y('Total:Q',axis = alt.Axis(grid=False)) ,\n",
    "#     color='Direction:N',\n",
    "     column=alt.Column('Nationality:N', header=alt.Header(title=None, labelOrient='bottom')),\n",
    "    tooltip=['Nationality','Direction','Total'],\n",
    "     order=alt.Order('Nationality',sort='ascending')\n",
    ").configure_view(\n",
    "    stroke='transparent', \n",
    ").properties(height=250, width=60).configure_header(labelOrient='bottom',\n",
    "                   labelPadding = 3).configure_facet(spacing=5\n",
    ")"
   ]
  },
  {
   "cell_type": "code",
   "execution_count": 625,
   "metadata": {
    "ExecuteTime": {
     "end_time": "2020-06-22T19:29:55.206443Z",
     "start_time": "2020-06-22T19:29:54.985992Z"
    }
   },
   "outputs": [
    {
     "data": {
      "image/png": "[encoded data removed]",
      "text/plain": [
       "<Figure size 640x480 with 1 Axes>"
      ]
     },
     "metadata": {},
     "output_type": "display_data"
    }
   ],
   "source": [
    "plt.style.use('dark_background')\n",
    "# plt.style.use('fivethirtyeight')\n",
    "# plt.style.use('ggplot')\n",
    "# plt.style.use('seaborn-bright')\n",
    "# plt.style.use('classic')\n",
    "# plt.style.use('bmh')\n",
    "\n",
    "width = 0.35 \n",
    "fig , ax = plt.subplots()\n",
    "\n",
    "ax.set_title('Top 10 Nationalities Travelled in 2019')\n",
    "\n",
    "x = np.arange(len(Top_10_I_Nats['Nationality'])) \n",
    "inbound = ax.bar(x - width/2 ,Top_10_I_Nats['Total'],width,label='Inbound')\n",
    "plt.xlabel('Nationalities')\n",
    "\n",
    "\n",
    "# plt.yticks(ticks=range(100000,5000000,100000))\n",
    "outbound = ax.bar(x + width/2 ,Top_10_O_Nats['Total'],width,label='Outbound')\n",
    "\n",
    "ax.set_xticks(x)\n",
    "ax.set_xticklabels(Top_10_I_Nats['Nationality'].values,)\n",
    "\n",
    "ax.legend()\n",
    "def autolabel(rects):\n",
    "    \"\"\"Attach a text label above each bar in *rects*, displaying its height.\"\"\"\n",
    "    for rect in rects:\n",
    "        height = rect.get_height()\n",
    "        ax.annotate('{}'.format(height),\n",
    "                    xy=(rect.get_x() + rect.get_width() / 2, height),\n",
    "                    xytext=(0, 6),  # 3 points vertical offset\n",
    "                    textcoords=\"offset points\",\n",
    "                    ha='center', va='bottom')\n",
    "\n",
    "\n",
    "# autolabel(inbound)\n",
    "# autolabel(outbound)\n",
    "\n",
    "fig.tight_layout()"
   ]
  },
  {
   "cell_type": "code",
   "execution_count": 602,
   "metadata": {
    "ExecuteTime": {
     "end_time": "2020-06-22T18:44:37.117137Z",
     "start_time": "2020-06-22T18:44:37.101181Z"
    }
   },
   "outputs": [
    {
     "ename": "AttributeError",
     "evalue": "'Rectangle' object has no attribute 'get_hight'",
     "output_type": "error",
     "traceback": [
      "\u001b[1;31m---------------------------------------------------------------------------\u001b[0m",
      "\u001b[1;31mAttributeError\u001b[0m                            Traceback (most recent call last)",
      "\u001b[1;32m<ipython-input-602-b3e38f80bbd6>\u001b[0m in \u001b[0;36m<module>\u001b[1;34m\u001b[0m\n\u001b[0;32m      1\u001b[0m \u001b[1;32mfor\u001b[0m \u001b[0mi\u001b[0m \u001b[1;32min\u001b[0m \u001b[0moutbound\u001b[0m\u001b[1;33m:\u001b[0m\u001b[1;33m\u001b[0m\u001b[1;33m\u001b[0m\u001b[0m\n\u001b[1;32m----> 2\u001b[1;33m     \u001b[0mprint\u001b[0m\u001b[1;33m(\u001b[0m\u001b[0mi\u001b[0m\u001b[1;33m.\u001b[0m\u001b[0mget_hight\u001b[0m\u001b[1;33m(\u001b[0m\u001b[1;33m)\u001b[0m\u001b[1;33m)\u001b[0m\u001b[1;33m\u001b[0m\u001b[1;33m\u001b[0m\u001b[0m\n\u001b[0m",
      "\u001b[1;31mAttributeError\u001b[0m: 'Rectangle' object has no attribute 'get_hight'"
     ]
    }
   ],
   "source": [
    "trv_per_day = pax_2019.groupby(['DepDay','AgeRange','Nationality'])['Gender'].count()\n",
    "trv_per_day = trv_per_day.reset_index()\n",
    "\n",
    "trav_by_nat_Direction  = trv_per_day.groupby(['Nationality','Direction']).sum().reset_index().rename({'Gender':'Total'},axis=1) "
   ]
  }
 ],
 "metadata": {
  "kernelspec": {
   "display_name": "Python 3",
   "language": "python",
   "name": "python3"
  },
  "language_info": {
   "codemirror_mode": {
    "name": "ipython",
    "version": 3
   },
   "file_extension": ".py",
   "mimetype": "text/x-python",
   "name": "python",
   "nbconvert_exporter": "python",
   "pygments_lexer": "ipython3",
   "version": "3.7.4"
  },
  "varInspector": {
   "cols": {
    "lenName": 16,
    "lenType": 16,
    "lenVar": 40
   },
   "kernels_config": {
    "python": {
     "delete_cmd_postfix": "",
     "delete_cmd_prefix": "del ",
     "library": "var_list.py",
     "varRefreshCmd": "print(var_dic_list())"
    },
    "r": {
     "delete_cmd_postfix": ") ",
     "delete_cmd_prefix": "rm(",
     "library": "var_list.r",
     "varRefreshCmd": "cat(var_dic_list()) "
    }
   },
   "types_to_exclude": [
    "module",
    "function",
    "builtin_function_or_method",
    "instance",
    "_Feature"
   ],
   "window_display": false
  }
 },
 "nbformat": 4,
 "nbformat_minor": 2
}
